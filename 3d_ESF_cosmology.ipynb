{
 "cells": [
  {
   "cell_type": "markdown",
   "metadata": {},
   "source": [
    "Package loading"
   ]
  },
  {
   "cell_type": "code",
   "execution_count": 1,
   "metadata": {},
   "outputs": [
    {
     "data": {
      "text/plain": [
       "wynn (generic function with 1 method)"
      ]
     },
     "metadata": {},
     "output_type": "display_data"
    }
   ],
   "source": [
    "using Plots\n",
    "using Combinatorics\n",
    "using LinearAlgebra\n",
    "using Cuba\n",
    "using Symbolics\n",
    "using DelimitedFiles\n",
    "using QuadGK\n",
    "using BenchmarkTools\n",
    "using FastGaussQuadrature\n",
    "using Interpolations\n",
    "using HomotopyContinuation\n",
    "include(\"definitions.jl\")\n",
    "include(\"1slice.jl\")\n",
    "include(\"wynn.jl\")"
   ]
  },
  {
   "cell_type": "markdown",
   "metadata": {},
   "source": [
    "# Integration in Sector I"
   ]
  },
  {
   "cell_type": "markdown",
   "metadata": {},
   "source": [
    "## Plots of the integrand"
   ]
  },
  {
   "cell_type": "code",
   "execution_count": null,
   "metadata": {},
   "outputs": [],
   "source": [
    "bsI = [range(-sqrt((10-10*a1)^2/2), -sqrt((10-10*a1)^2/4), 100) for a1 in 2:4]\n",
    "#scatter(bsI, [real(InvSqtDet_SL_ϑ_simpl_10_30(-b)) for b in bsI],yscale=:ln)\n",
    "#scatter(bsI, [real(Ampl_vertex_I_simpl_10_30(-b, 2.0, 4.0, 0.05)) for b in bsI])\n",
    "#scatter(bsI, [real((-b)*Ampl_vertex_I_simpl_10_30(-b, 2.0, 4.0, 0.05)) for b in bsI])"
   ]
  },
  {
   "cell_type": "code",
   "execution_count": null,
   "metadata": {},
   "outputs": [],
   "source": [
    "det_hess = [[Det_SL_ϑ(10.0, 10.0*(n), -b) for b in bsI[n]] for n in 1:3]"
   ]
  },
  {
   "cell_type": "code",
   "execution_count": null,
   "metadata": {},
   "outputs": [],
   "source": [
    "#plot(bsI[3:100], [real(10.0^(-25.5) * b^2 * (sqrt(complex((10 - 30)^2/4 - b^2)))^(15.5) * (sqrt(complex((10 - 30)^2/2 - b^2)))^(-5)) for b in bsI[3:100]])\n",
    "#scatter(bsI[1][2:100], [real(1/sqrt(complex(det_hess[1][i]))) for i in 2:100])\n",
    "#scatter!(bsI[1][2:100], [imag(1/sqrt(complex(det_hess[1][i]))) for i in 2:100])\n",
    "scatter(bsI[2][2:100], [real(1/sqrt(complex(det_hess[2][i]))) for i in 2:100])\n",
    "#scatter!(bsI[2][2:100], [imag(1/sqrt(complex(det_hess[2][i]))) for i in 2:100])\n",
    "#scatter(bsI[3][1:100], [real(1/sqrt(complex(det_hess[3][i]))) for i in 1:100], yscale=:ln)\n",
    "#scatter!(bsI[3:100], [abs(imag(1/sqrt(complex(det_hess[i])))) for i in 3:100])"
   ]
  },
  {
   "cell_type": "code",
   "execution_count": null,
   "metadata": {},
   "outputs": [],
   "source": [
    "bsI = range(sqrt((10-30)^2/4) + 1e9*eps(Float64), sqrt((10-30)^2/2) - 6*eps(Float64), 400)\n",
    "det_hess = [Det_SL_ϑ(10.0, 30.0, b) for b in bsI]"
   ]
  },
  {
   "cell_type": "code",
   "execution_count": null,
   "metadata": {},
   "outputs": [],
   "source": [
    "bsI[2]"
   ]
  },
  {
   "cell_type": "code",
   "execution_count": null,
   "metadata": {},
   "outputs": [],
   "source": [
    "det_hess[150:400]"
   ]
  },
  {
   "cell_type": "code",
   "execution_count": null,
   "metadata": {},
   "outputs": [],
   "source": [
    "HessianSLϑ_gf(10.0, 30.0, 14.14)[1:3,1:3]"
   ]
  },
  {
   "cell_type": "code",
   "execution_count": null,
   "metadata": {},
   "outputs": [],
   "source": [
    "scatter(bsI[150:400], [real(det_hess[i]) for i in 150:400],ylims=(-5e21,5e21))\n",
    "scatter!(bsI[150:400], [imag(det_hess[i]) for i in 150:400])"
   ]
  },
  {
   "cell_type": "code",
   "execution_count": null,
   "metadata": {},
   "outputs": [],
   "source": [
    "scatter(bsI[1:399], [real(1/sqrt(complex(det_hess[i]))) for i in 1:399])\n",
    "scatter!(bsI[1:399], [imag(1/sqrt(complex(det_hess[i]))) for i in 1:399])"
   ]
  },
  {
   "cell_type": "markdown",
   "metadata": {},
   "source": [
    "## Simplification of integrand"
   ]
  },
  {
   "cell_type": "code",
   "execution_count": null,
   "metadata": {},
   "outputs": [],
   "source": [
    "function InvSqtDet_SL_ϑ_simpl_10_30(b::Float64)\n",
    "\n",
    "    res =  10.0^(-20.0) * b^2 * (sqrt(complex((10 - 30)^2/4 - b^2)))^(15.5) * (sqrt(complex((10 - 30)^2/2 - b^2)))^(-5)\n",
    "\n",
    "    real(res)\n",
    "    \n",
    "end\n",
    "\n",
    "function Ampl_vertex_I_simpl_10_30(b::Float64, ϕ0::Float64, ϕ1::Float64, m::Float64)\n",
    "\n",
    "    res = Ampl_face_SL(10.0) * Ampl_face_SL(30.0) * Ampl_face_SL(b) * (exp(im * (S_Regge_I(10.0, 30.0, b) + S_phi_SL(10.0, 30.0, b, ϕ0, ϕ1, m)))/sqrt(complex(Det_SL_Id(10.0, 30.0, b))) \n",
    "        + ϑb(10.0, 30.0, b)^4 * exp(-im * S_Regge_I(10.0, 30.0, b) - S_phi_SL(10.0, 30.0, b, ϕ0, ϕ1, m))*InvSqtDet_SL_ϑ_simpl_10_30(b))\n",
    "    \n",
    "end"
   ]
  },
  {
   "cell_type": "code",
   "execution_count": null,
   "metadata": {},
   "outputs": [],
   "source": [
    "function Z_I_simpl_10_30_vegas(ϕ0::Float64, ϕ1::Float64, m::Float64)\n",
    "\n",
    "    b0 = sqrt((10 - 30)^2/4)\n",
    "    b1 = sqrt((10 - 30)^2/2)\n",
    "\n",
    "    res_R = vegas( (x,f) -> f[1] = real(Ampl_vertex_I_simpl_10_30((b1 - b0) * x[1] + b0, ϕ0, ϕ1, m)), 1, 1, minevals=1e7, maxevals=1e8)\n",
    "    \n",
    "    res_I = vegas( (x,f) -> f[1] = imag(Ampl_vertex_I_simpl_10_30((b1 - b0) * x[1] + b0, ϕ0, ϕ1, m)), 1, 1, minevals=1e7, maxevals=1e8)\n",
    "\n",
    "    [res_R, res_I] #factor of 1/(b1 - b0) needs to be added!\n",
    "\n",
    "end\n",
    "\n",
    "function Z_I_simpl_10_30_suave(ϕ0::Float64, ϕ1::Float64, m::Float64)\n",
    "\n",
    "    b0 = sqrt((10 - 30)^2/4)\n",
    "    b1 = sqrt((10 - 30)^2/2)\n",
    "\n",
    "    res_R = suave( (x,f) -> f[1] = real(Ampl_vertex_I_simpl_10_30((b1 - b0) * x[1] + b0, ϕ0, ϕ1, m)), 1, 1, minevals=1e7, maxevals=1e8)\n",
    "    \n",
    "    res_I = suave( (x,f) -> f[1] = imag(Ampl_vertex_I_simpl_10_30((b1 - b0) * x[1] + b0, ϕ0, ϕ1, m)), 1, 1, minevals=1e7, maxevals=1e8)\n",
    "\n",
    "    [res_R, res_I] #factor of 1/(b1 - b0) needs to be added!\n",
    "\n",
    "end\n",
    "\n",
    "function Zb_I_simpl_10_30_vegas(ϕ0::Float64, ϕ1::Float64, m::Float64)\n",
    "\n",
    "    b0 = sqrt((10 - 30)^2/4)\n",
    "    b1 = sqrt((10 - 30)^2/2)\n",
    "\n",
    "    res_R = vegas( (x,f) -> f[1] = real(((b1 - b0) * x[1] + b0) * Ampl_vertex_I_simpl_10_30((b1 - b0) * x[1] + b0, ϕ0, ϕ1, m)), 1, 1, minevals=1e7, maxevals=1e8)\n",
    "    \n",
    "    res_I = vegas( (x,f) -> f[1] = imag(((b1 - b0) * x[1] + b0) * Ampl_vertex_I_simpl_10_30((b1 - b0) * x[1] + b0, ϕ0, ϕ1, m)), 1, 1, minevals=1e7, maxevals=1e8)\n",
    "\n",
    "    [res_R, res_I] #factor of 1/(b1 - b0) needs to be added!\n",
    "\n",
    "end\n",
    "\n",
    "function Zb_I_simpl_10_30_suave(ϕ0::Float64, ϕ1::Float64, m::Float64)\n",
    "\n",
    "    b0 = sqrt((10 - 30)^2/4)\n",
    "    b1 = sqrt((10 - 30)^2/2)\n",
    "\n",
    "    res_R = suave( (x,f) -> f[1] = real(((b1 - b0) * x[1] + b0) * Ampl_vertex_I_simpl_10_30((b1 - b0) * x[1] + b0, ϕ0, ϕ1, m)), 1, 1, minevals=1e7, maxevals=1e8)\n",
    "    \n",
    "    res_I = suave( (x,f) -> f[1] = imag(((b1 - b0) * x[1] + b0) * Ampl_vertex_I_simpl_10_30((b1 - b0) * x[1] + b0, ϕ0, ϕ1, m)), 1, 1, minevals=1e7, maxevals=1e8)\n",
    "\n",
    "    [res_R, res_I] #factor of 1/(b1 - b0) needs to be added!\n",
    "\n",
    "end"
   ]
  },
  {
   "cell_type": "code",
   "execution_count": null,
   "metadata": {},
   "outputs": [],
   "source": [
    "bsI = range(sqrt((10-30)^2/4), sqrt((10-30)^2/2), 400)\n",
    "μ_10_30 = [1/sqrt(complex(Det_SL_ϑ(10.0, 30.0, b0))) for b0 in bsI[2:400]];\n",
    "interp_μ_10_30 = linear_interpolation(bsI[2:400], μ_10_30);"
   ]
  },
  {
   "cell_type": "markdown",
   "metadata": {},
   "source": [
    "Amplitude in Sector I for l0 = 10 and l1 = 30"
   ]
  },
  {
   "cell_type": "code",
   "execution_count": null,
   "metadata": {},
   "outputs": [],
   "source": [
    "function AmplI_10_30(b::Float64, ϕ0::Float64, ϕ1::Float64, m::Float64)\n",
    "    \n",
    "    Ampl_face_SL(b) * (exp(im * (S_Regge_I(10.0, 30.0, b) + S_phi_SL(10.0, 30.0, b, ϕ0, ϕ1, m)))/sqrt(complex(Det_SL_Id(10.0, 30.0, b))) + ϑb(10.0, 30.0, b)^4 * interp_μ_10_30(b) * exp(-im * (S_Regge_I(10.0, 30.0, b) + S_phi_SL(10.0, 30.0, b, ϕ0, ϕ1, m))))\n",
    "\n",
    "end "
   ]
  },
  {
   "cell_type": "markdown",
   "metadata": {},
   "source": [
    "Using quadrature integration for computing Z and Z_bsq in Sector I and II for varying scalar field"
   ]
  },
  {
   "cell_type": "code",
   "execution_count": null,
   "metadata": {},
   "outputs": [],
   "source": [
    "quadgk(x -> AmplI_10_30(x, 2.0, 4.0, 91 * 1e-3), bsI[2], bsI[400], rtol=1e-3)"
   ]
  },
  {
   "cell_type": "code",
   "execution_count": 89,
   "metadata": {},
   "outputs": [],
   "source": [
    "Z_II_phi = [quadgk(x -> Ampl_vertex_II(10.0, 30.0, x) * exp(im * S_phi_SL(10.0, 30.0, x, 2.0, 2.0 + 0.2*(i - 1), 0.05)), 0, 10.0)[1] for i in 1:21]\n",
    "Z_bsq_II_phi = [quadgk(x -> -x^2 * Ampl_vertex_II(10.0, 30.0, x) * exp(im * S_phi_SL(10.0, 30.0, x, 2.0, 2.0 + 0.2*(i - 1), 0.05)), 0, 10.0)[1] for i in 1:21];"
   ]
  },
  {
   "cell_type": "code",
   "execution_count": 83,
   "metadata": {},
   "outputs": [],
   "source": [
    "Z_I_phi = [quadgk(x -> AmplI_10_30(x, 2.0, 2.0 + 0.2*(i - 1), 0.05), bsI[2], bsI[400], rtol=1e-3)[1] for i in 1:21];\n",
    "Z_bsq_I_phi = [quadgk(x -> -x^2 * AmplI_10_30(x, 2.0, 2.0 + 0.2*(i - 1), 0.05), bsI[2], bsI[400], rtol=1e-3)[1] for i in 1:21];"
   ]
  },
  {
   "cell_type": "code",
   "execution_count": 85,
   "metadata": {},
   "outputs": [],
   "source": [
    "writedlm(\"/home/jercheal/Documents/Physics/Articles/3d csomology/code/data/Z_I_phi_Re.txt\", real(Z_I_phi))\n",
    "writedlm(\"/home/jercheal/Documents/Physics/Articles/3d csomology/code/data/Z_I_phi_Im.txt\", imag(Z_I_phi))\n",
    "writedlm(\"/home/jercheal/Documents/Physics/Articles/3d csomology/code/data/Z_bsq_I_phi_Re.txt\", real(Z_bsq_I_phi))\n",
    "writedlm(\"/home/jercheal/Documents/Physics/Articles/3d csomology/code/data/Z_bsq_I_phi_Im.txt\", imag(Z_bsq_I_phi))\n",
    "writedlm(\"/home/jercheal/Documents/Physics/Articles/3d csomology/code/data/Z_II_phi_Re.txt\", real(Z_II_phi))\n",
    "writedlm(\"/home/jercheal/Documents/Physics/Articles/3d csomology/code/data/Z_II_phi_Im.txt\", imag(Z_II_phi))\n",
    "writedlm(\"/home/jercheal/Documents/Physics/Articles/3d csomology/code/data/Z_bsq_II_phi_Re.txt\", real(Z_bsq_II_phi))\n",
    "writedlm(\"/home/jercheal/Documents/Physics/Articles/3d csomology/code/data/Z_bsq_II_phi_Im.txt\", imag(Z_bsq_II_phi))"
   ]
  },
  {
   "cell_type": "markdown",
   "metadata": {},
   "source": [
    "Using quadrature integration for computing Z and Z_bsq in Sector I and II for varying mass"
   ]
  },
  {
   "cell_type": "code",
   "execution_count": 90,
   "metadata": {},
   "outputs": [],
   "source": [
    "Z_II_m = [quadgk(x -> Ampl_vertex_II(10.0, 30.0, x) * exp(im * S_phi_SL(10.0, 30.0, x, 2.0, 4.0, 1e-3 * (1 + 4*i))), 0, 10.0)[1] for i in 0:20]\n",
    "Z_bsq_II_m = [quadgk(x -> -x^2 * Ampl_vertex_II(10.0, 30.0, x) * exp(im * S_phi_SL(10.0, 30.0, x, 2.0, 4.0, 1e-3 * (1 + 4*i))), 0, 10.0)[1] for i in 0:20];"
   ]
  },
  {
   "cell_type": "code",
   "execution_count": 93,
   "metadata": {},
   "outputs": [],
   "source": [
    "Z_I_m = [quadgk(x -> AmplI_10_30(x, 2.0, 4.0, 1e-3 * (1 + 4*i)), bsI[2], bsI[400], rtol=1e-3)[1] for i in 0:20];\n",
    "Z_bsq_I_m = [quadgk(x -> -x^2 * AmplI_10_30(x, 2.0, 4.0, 1e-3 * (1 + 4*i)), bsI[2], bsI[400], rtol=1e-3)[1] for i in 0:20];"
   ]
  },
  {
   "cell_type": "code",
   "execution_count": 94,
   "metadata": {},
   "outputs": [],
   "source": [
    "writedlm(\"/home/jercheal/Documents/Physics/Articles/3d csomology/code/data/Z_I_m_Re.txt\", real(Z_I_m))\n",
    "writedlm(\"/home/jercheal/Documents/Physics/Articles/3d csomology/code/data/Z_I_m_Im.txt\", imag(Z_I_m))\n",
    "writedlm(\"/home/jercheal/Documents/Physics/Articles/3d csomology/code/data/Z_bsq_I_m_Re.txt\", real(Z_bsq_I_m))\n",
    "writedlm(\"/home/jercheal/Documents/Physics/Articles/3d csomology/code/data/Z_bsq_I_m_Im.txt\", imag(Z_bsq_I_m))\n",
    "writedlm(\"/home/jercheal/Documents/Physics/Articles/3d csomology/code/data/Z_II_m_Re.txt\", real(Z_II_m))\n",
    "writedlm(\"/home/jercheal/Documents/Physics/Articles/3d csomology/code/data/Z_II_m_Im.txt\", imag(Z_II_m))\n",
    "writedlm(\"/home/jercheal/Documents/Physics/Articles/3d csomology/code/data/Z_bsq_II_m_Re.txt\", real(Z_bsq_II_m))\n",
    "writedlm(\"/home/jercheal/Documents/Physics/Articles/3d csomology/code/data/Z_bsq_II_m_Im.txt\", imag(Z_bsq_II_m))"
   ]
  },
  {
   "cell_type": "markdown",
   "metadata": {},
   "source": [
    "And finally for varying edge lenth"
   ]
  },
  {
   "cell_type": "code",
   "execution_count": 41,
   "metadata": {},
   "outputs": [],
   "source": [
    "#l1s = [10.0 + 4.0 * i for i in 1:20]\n",
    "#bsIrange = [range(sqrt((10-l1s[n])^2/4), sqrt((10-l1s[n])^2/2), 400) for n in 1:20]\n",
    "#μ_10_l1 = [[1/sqrt(complex(Det_SL_ϑ(10.0, l1s[n], b0))) for b0 in bsIrange[n][2:400]] for n in 1:1];\n",
    "\n",
    "### Importing data from the Cluster:\n",
    "μ_10_l1_Re =  readdlm(\"/home/jercheal/Documents/Physics/Articles/3d csomology/code/data/mu_10_l1_Re.txt\")\n",
    "μ_10_l1_Im =  readdlm(\"/home/jercheal/Documents/Physics/Articles/3d csomology/code/data/mu_10_l1_Im.txt\")\n",
    "μ_10_l1 = [[μ_10_l1_Re[n,i] + im * μ_10_l1_Im[n,i] for i in 1:399] for n in 1:20]\n",
    "interp_μ_10_l1 = [linear_interpolation(bsIrange[n][2:400], μ_10_l1[n]) for n in 1:20];"
   ]
  },
  {
   "cell_type": "code",
   "execution_count": null,
   "metadata": {},
   "outputs": [],
   "source": [
    "function AmplI_10_l1(b::Float64, ϕ0::Float64, ϕ1::Float64, m::Float64, ind::Int64)\n",
    "    \n",
    "    Ampl_face_SL(b) * (exp(im * (S_Regge_I(10.0, 10.0 + 4.0 * ind, b) + S_phi_SL(10.0, 10.0 + 4.0 * ind, b, ϕ0, ϕ1, m)))/sqrt(complex(Det_SL_Id(10.0, 10.0 + 4.0 * ind, b))) + ϑb(10.0, 10.0 + 4.0 * ind, b)^4 * interp_μ_10_l1[ind](b) * exp(-im * (S_Regge_I(10.0, 10.0 + 4.0 * ind, b) + S_phi_SL(10.0, 10.0 + 4.0 * ind, b, ϕ0, ϕ1, m))))\n",
    "\n",
    "end "
   ]
  },
  {
   "cell_type": "code",
   "execution_count": null,
   "metadata": {},
   "outputs": [],
   "source": [
    "AmplI_10_l1(2.3, 2.0, 4.0, 0.05, 1)"
   ]
  },
  {
   "cell_type": "code",
   "execution_count": 52,
   "metadata": {},
   "outputs": [],
   "source": [
    "Z_I_l1 = [quadgk(x -> AmplI_10_l1(x, 2.0, 4.0, 0.05, n), bsIrange[n][2], bsIrange[n][400], rtol=1e-3)[1] for n in 1:20];\n",
    "Z_bsq_I_l1 = [quadgk(x -> -x^2 * AmplI_10_l1(x, 2.0, 4.0, 0.05, n), bsIrange[n][2], bsIrange[n][400], rtol=1e-3)[1] for n in 1:20];"
   ]
  },
  {
   "cell_type": "code",
   "execution_count": 55,
   "metadata": {},
   "outputs": [],
   "source": [
    "Z_II_l1 = [quadgk(x -> Ampl_vertex_II(10.0, 10.0 + 4.0 * i, x) * exp(im * S_phi_SL(10.0, 10.0 + 4.0 * i, x, 2.0, 4.0, 0.05)), 0.0, bsIrange[i][1])[1] for i in 1:20]\n",
    "Z_bsq_II_l1 = [quadgk(x -> -x^2 * Ampl_vertex_II(10.0, 10.0 + 4.0 * i, x) * exp(im * S_phi_SL(10.0, 10.0 + 4.0 * i, x, 2.0, 4.0, 0.05)), 0.0, bsIrange[i][1])[1] for i in 1:20];"
   ]
  },
  {
   "cell_type": "code",
   "execution_count": 57,
   "metadata": {},
   "outputs": [],
   "source": [
    "writedlm(\"/home/jercheal/Documents/Physics/Articles/3d csomology/code/data/Z_I_l1_Re.txt\", real(Z_I_l1))\n",
    "writedlm(\"/home/jercheal/Documents/Physics/Articles/3d csomology/code/data/Z_I_l1_Im.txt\", imag(Z_I_l1))\n",
    "writedlm(\"/home/jercheal/Documents/Physics/Articles/3d csomology/code/data/Z_bsq_I_l1_Re.txt\", real(Z_bsq_I_l1))\n",
    "writedlm(\"/home/jercheal/Documents/Physics/Articles/3d csomology/code/data/Z_bsq_I_l1_Im.txt\", imag(Z_bsq_I_l1))\n",
    "writedlm(\"/home/jercheal/Documents/Physics/Articles/3d csomology/code/data/Z_II_l1_Re.txt\", real(Z_II_l1))\n",
    "writedlm(\"/home/jercheal/Documents/Physics/Articles/3d csomology/code/data/Z_II_l1_Im.txt\", imag(Z_II_l1))\n",
    "writedlm(\"/home/jercheal/Documents/Physics/Articles/3d csomology/code/data/Z_bsq_II_l1_Re.txt\", real(Z_bsq_II_l1))\n",
    "writedlm(\"/home/jercheal/Documents/Physics/Articles/3d csomology/code/data/Z_bsq_II_l1_Im.txt\", imag(Z_bsq_II_l1))"
   ]
  },
  {
   "cell_type": "markdown",
   "metadata": {},
   "source": [
    "# Effective spin foam computation in Sector I"
   ]
  },
  {
   "cell_type": "code",
   "execution_count": null,
   "metadata": {},
   "outputs": [],
   "source": [
    "function Z_I_ESF_suave(a0::Float64, a1::Float64, ϕ0::Float64, ϕ1::Float64, m::Float64)\n",
    "\n",
    "    b0 = sqrt((a0 - a1)^2/4)\n",
    "    b1 = sqrt((a0 - a1)^2/2)\n",
    "\n",
    "    res_R = suave( (x,f) -> f[1] = real(Ampl_vertex_I_ESF((b1 - b0) * x[1] + b0, a0, a1) * exp(im * S_phi_SL(a0, a1, (b1 - b0) * x[1] + b0, ϕ0, ϕ1, m))), 1, 1, minevals=1e6, maxevals=1e7)\n",
    "    \n",
    "    res_I = suave( (x,f) -> f[1] = imag(Ampl_vertex_I_ESF((b1 - b0) * x[1] + b0, a0, a1) * exp(im * S_phi_SL(a0, a1, (b1 - b0) * x[1] + b0, ϕ0, ϕ1, m))), 1, 1, minevals=1e6, maxevals=1e7)\n",
    "\n",
    "    [res_R, res_I] #factor of 1/(b1 - b0) needs to be added!\n",
    "\n",
    "end\n",
    "\n",
    "function Z_I_ESF_vegas(a0::Float64, a1::Float64, ϕ0::Float64, ϕ1::Float64, m::Float64)\n",
    "\n",
    "    b0 = sqrt((a0 - a1)^2/4)\n",
    "    b1 = sqrt((a0 - a1)^2/2)\n",
    "\n",
    "    res_R = vegas( (x,f) -> f[1] = real(Ampl_vertex_I_ESF((b1 - b0) * x[1] + b0, a0, a1) * exp(im * S_phi_SL(a0, a1, (b1 - b0) * x[1] + b0, ϕ0, ϕ1, m))), 1, 1, minevals=1e6, maxevals=1e7)\n",
    "    \n",
    "    res_I = vegas( (x,f) -> f[1] = imag(Ampl_vertex_I_ESF((b1 - b0) * x[1] + b0, a0, a1) * exp(im * S_phi_SL(a0, a1, (b1 - b0) * x[1] + b0, ϕ0, ϕ1, m))), 1, 1, minevals=1e6, maxevals=1e7)\n",
    "\n",
    "    #[res_R, res_I] #factor of 1/(b1 - b0) needs to be added!\n",
    "\n",
    "    res = 1/(b1 - b0) * [res_R[1][1], res_I[1][1]]\n",
    "\n",
    "\n",
    "end\n",
    "\n",
    "function Zb_I_ESF_vegas(a0::Float64, a1::Float64, ϕ0::Float64, ϕ1::Float64, m::Float64)\n",
    "\n",
    "    b0 = sqrt((a0 - a1)^2/4)\n",
    "    b1 = sqrt((a0 - a1)^2/2)\n",
    "\n",
    "    res_R = vegas( (x,f) -> f[1] = real(((b1 - b0) * x[1] + b0) * Ampl_vertex_I_ESF((b1 - b0) * x[1] + b0, a0, a1) * exp(im * S_phi_SL(a0, a1, (b1 - b0) * x[1] + b0, ϕ0, ϕ1, m))), 1, 1, minevals=1e6, maxevals=1e7)\n",
    "    \n",
    "    res_I = vegas( (x,f) -> f[1] = imag(((b1 - b0) * x[1] + b0) * Ampl_vertex_I_ESF((b1 - b0) * x[1] + b0, a0, a1) * exp(im * S_phi_SL(a0, a1, (b1 - b0) * x[1] + b0, ϕ0, ϕ1, m))), 1, 1, minevals=1e6, maxevals=1e7)\n",
    "\n",
    "    #[res_R, res_I] #factor of 1/(b1 - b0) needs to be added!\n",
    "\n",
    "    res = 1/(b1 - b0) * [res_R[1][1], res_I[1][1]]\n",
    "\n",
    "end\n",
    "\n",
    "function Zbsq_I_ESF_vegas(a0::Float64, a1::Float64, ϕ0::Float64, ϕ1::Float64, m::Float64)\n",
    "\n",
    "    b0 = sqrt((a0 - a1)^2/4)\n",
    "    b1 = sqrt((a0 - a1)^2/2)\n",
    "\n",
    "    res_R = vegas( (x,f) -> f[1] = real(-((b1 - b0) * x[1] + b0)^2 * Ampl_vertex_I_ESF((b1 - b0) * x[1] + b0, a0, a1) * exp(im * S_phi_SL(a0, a1, (b1 - b0) * x[1] + b0, ϕ0, ϕ1, m))), 1, 1, minevals=1e6, maxevals=1e7)\n",
    "    \n",
    "    res_I = vegas( (x,f) -> f[1] = imag(-((b1 - b0) * x[1] + b0)^2 * Ampl_vertex_I_ESF((b1 - b0) * x[1] + b0, a0, a1) * exp(im * S_phi_SL(a0, a1, (b1 - b0) * x[1] + b0, ϕ0, ϕ1, m))), 1, 1, minevals=1e6, maxevals=1e7)\n",
    "\n",
    "    #[res_R, res_I] #factor of 1/(b1 - b0) needs to be added!\n",
    "\n",
    "    res = 1/(b1 - b0) * [res_R[1][1], res_I[1][1]]\n",
    "\n",
    "end"
   ]
  },
  {
   "cell_type": "code",
   "execution_count": null,
   "metadata": {},
   "outputs": [],
   "source": [
    "Z_bsq_I_m_ESF = [Zbsq_I_ESF_vegas(10.0, 30.0, 2.0, 4.0, 1e-3 * (1 + 4*n)) for n in 0:20] \n",
    "ZIm_ESF = [Z_I_ESF_vegas(10.0, 30.0, 2.0, 4.0, 1e-3 * (1 + 4*n)) for n in 0:20]"
   ]
  },
  {
   "cell_type": "markdown",
   "metadata": {},
   "source": [
    "In the Mathematica file, we find that also for effective spin foams, the deviations between III and I and II can become substantial. Is that because of the numerical integration errors?"
   ]
  },
  {
   "cell_type": "code",
   "execution_count": null,
   "metadata": {},
   "outputs": [],
   "source": [
    "a0 = 10.0\n",
    "a1 = 30.0\n",
    "ϕ0 = 2.0\n",
    "ϕ1 = 4.0\n",
    "n = 20\n",
    "m = 1e-3(1 + 4*n)\n",
    "b0 = sqrt((a0 - a1)^2/4)\n",
    "b1 = sqrt((a0 - a1)^2/2)\n",
    "\n",
    "#vegas( (x,f) -> f[1] = real( Ampl_vertex_I_ESF((b1 - b0) * x[1] + b0, a0, a1) * exp(im * S_phi_SL(a0, a1, (b1 - b0) * x[1] + b0, ϕ0, ϕ1, m))), 1, 1, minevals=1e6, maxevals=1e7)\n",
    "\n",
    "suave( (x,f) -> f[1] = real(-((b1 - b0) * x[1] + b0)^2 * Ampl_vertex_I_ESF((b1 - b0) * x[1] + b0, a0, a1) * exp(im * S_phi_SL(a0, a1, (b1 - b0) * x[1] + b0, ϕ0, ϕ1, m))), 1, 1, minevals=1e6, maxevals=1e7)"
   ]
  },
  {
   "cell_type": "markdown",
   "metadata": {},
   "source": [
    "Numerical errors are again non-negig"
   ]
  },
  {
   "cell_type": "code",
   "execution_count": 5,
   "metadata": {},
   "outputs": [],
   "source": [
    "Z_I_m_ESF = [quadgk(x -> Ampl_vertex_I_ESF(10.0, 30.0, x) * exp(im * S_phi_SL(10.0, 30.0, x, 2.0, 4.0, 1e-3 * (1 + 4*i))), bsI[2], bsI[400], rtol=1e-3)[1] for i in 0:20];\n",
    "Z_bsq_I_m_ESF = [quadgk(x -> -x^2 * Ampl_vertex_I_ESF(10.0, 30.0, x) * exp(im * S_phi_SL(10.0, 30.0, x, 2.0, 4.0, 1e-3 * (1 + 4*i))), bsI[2], bsI[400], rtol=1e-3)[1] for i in 0:20];"
   ]
  },
  {
   "cell_type": "code",
   "execution_count": 6,
   "metadata": {},
   "outputs": [],
   "source": [
    "Z_II_m_ESF = [quadgk(x -> Ampl_vertex_II_ESF(10.0, 30.0, x) * exp(im * S_phi_SL(10.0, 30.0, x, 2.0, 4.0, 1e-3 * (1 + 4*i))), 0, 10.0)[1] for i in 0:20]\n",
    "Z_bsq_II_m_ESF = [quadgk(x -> -x^2 * Ampl_vertex_II_ESF(10.0, 30.0, x) * exp(im * S_phi_SL(10.0, 30.0, x, 2.0, 4.0, 1e-3 * (1 + 4*i))), 0, 10.0)[1] for i in 0:20];"
   ]
  },
  {
   "cell_type": "code",
   "execution_count": 7,
   "metadata": {},
   "outputs": [],
   "source": [
    "writedlm(\"/home/jercheal/Documents/Physics/Articles/3d csomology/code/data/Z_I_m_ESF_Re.txt\", real(Z_I_m_ESF))\n",
    "writedlm(\"/home/jercheal/Documents/Physics/Articles/3d csomology/code/data/Z_I_m_ESF_Im.txt\", imag(Z_I_m_ESF))\n",
    "writedlm(\"/home/jercheal/Documents/Physics/Articles/3d csomology/code/data/Z_bsq_I_m_ESF_Re.txt\", real(Z_bsq_I_m_ESF))\n",
    "writedlm(\"/home/jercheal/Documents/Physics/Articles/3d csomology/code/data/Z_bsq_I_m_ESF_Im.txt\", imag(Z_bsq_I_m_ESF))\n",
    "writedlm(\"/home/jercheal/Documents/Physics/Articles/3d csomology/code/data/Z_II_m_ESF_Re.txt\", real(Z_II_m_ESF))\n",
    "writedlm(\"/home/jercheal/Documents/Physics/Articles/3d csomology/code/data/Z_II_m_ESF_Im.txt\", imag(Z_II_m_ESF))\n",
    "writedlm(\"/home/jercheal/Documents/Physics/Articles/3d csomology/code/data/Z_bsq_II_m_ESF_Re.txt\", real(Z_bsq_II_m_ESF))\n",
    "writedlm(\"/home/jercheal/Documents/Physics/Articles/3d csomology/code/data/Z_bsq_II_m_ESF_Im.txt\", imag(Z_bsq_II_m_ESF))"
   ]
  },
  {
   "cell_type": "markdown",
   "metadata": {},
   "source": [
    "# Integration in Sector II"
   ]
  },
  {
   "cell_type": "code",
   "execution_count": null,
   "metadata": {},
   "outputs": [],
   "source": [
    "\n",
    "\n",
    "function Z_II_vegas(a0::Float64, a1::Float64, ϕ0::Float64, ϕ1::Float64, m::Float64, ev_min::Int64, ev_max::Int64)\n",
    "\n",
    "    b0 = sqrt((a0 - a1)^2/4)\n",
    "\n",
    "    res_R = vegas( (x,f) -> f[1] = b0 * real(Ampl_vertex_II(a0, a1, b0 * x[1]) * exp(im * S_phi_SL(a0, a1, b0 * x[1], ϕ0, ϕ1, m))), 1, 1, minevals=ev_min, maxevals=ev_max)\n",
    "    \n",
    "    res_I = vegas( (x,f) -> f[1] = b0 * imag(Ampl_vertex_II(a0, a1, b0 * x[1]) * exp(im * S_phi_SL(a0, a1, b0 * x[1], ϕ0, ϕ1, m))), 1, 1, minevals=ev_min, maxevals=ev_max)\n",
    "    \n",
    "    [res_R, res_I] #the factor of b0 needs to be added!\n",
    "\n",
    "end\n",
    "\n",
    "function Z_II_suave(a0::Float64, a1::Float64, ϕ0::Float64, ϕ1::Float64, m::Float64)\n",
    "\n",
    "    b0 = sqrt((a0 - a1)^2/4)\n",
    "\n",
    "    res_R = suave( (x,f) -> f[1] = real(Ampl_vertex_II(a0, a1, b0 * x[1]) * exp(im * S_phi_SL(a0, a1, b0 * x[1], ϕ0, ϕ1, m))), 1, 1, minevals=1e6, maxevals=1e7)\n",
    "    \n",
    "    res_I = suave( (x,f) -> f[1] = imag(Ampl_vertex_II(a0, a1, b0 * x[1]) * exp(im * S_phi_SL(a0, a1, b0 * x[1], ϕ0, ϕ1, m))), 1, 1, minevals=1e6, maxevals=1e7)\n",
    "\n",
    "    [res_R, res_I] #the factor of b0 needs to be added!\n",
    "\n",
    "\n",
    "end"
   ]
  },
  {
   "cell_type": "markdown",
   "metadata": {},
   "source": [
    "# Including bulk slices"
   ]
  },
  {
   "cell_type": "markdown",
   "metadata": {},
   "source": [
    "## Studying the partition function and its convergence properties"
   ]
  },
  {
   "cell_type": "markdown",
   "metadata": {},
   "source": [
    "### Finding numerically feasible boundary data and mass parameters"
   ]
  },
  {
   "cell_type": "markdown",
   "metadata": {},
   "source": [
    "Notice that the range of the spacelike length matters now as it is not pure boundary because of the bulk length. If we take the quantum theory as a guiding principle for the spectrum of length then we now that the continuous series of SU(1,1) has a gap in the spectrum, i.e. spec(Cas) = [1/4,infinity). Thus, we may consider integrating from 1/4 onwards. The divergence of the amplitude (more precisely of the measure) towards vanishing spin (a1) is also something that happened for the frusta and cube model. One can expect that it is in the low-spin regime where the semi-classical approximation does yield significant deviations."
   ]
  },
  {
   "cell_type": "markdown",
   "metadata": {},
   "source": [
    "Amplitude falls off as  ~a1^(-16.5) for large a1 and diverges as ~a1^(-1) for a1 -> 0."
   ]
  },
  {
   "cell_type": "markdown",
   "metadata": {},
   "source": [
    "Compute upper triangular matrix of Z(b0,b1)"
   ]
  },
  {
   "cell_type": "code",
   "execution_count": null,
   "metadata": {},
   "outputs": [],
   "source": [
    "N = 100\n",
    "Z = zeros(ComplexF64, N-1, N-1)\n",
    "\n",
    "for b0 in 2:N\n",
    "\n",
    "    for b1 in 2:(N - b0 + 2)\n",
    "\n",
    "        Z[b0-1, b1-1] = vegas((x,f) -> f[1] = real(1/((1 - x[1])^2) * Ampl_1slice(10.0,  1/(1 - x[1]) - 3/4, 30.0, 0.5*b0, 0.5*b1, 2.0, 4.0, 0.05)), 1, 1, minevals=1e3, maxevals=1e4)[1][1] + im*(vegas((x,f) -> f[1] = imag(1/((1 - x[1])^2) * Ampl_1slice(10.0,  1/(1 - x[1]) - 3/4, 30.0, 0.5*b0, 0.5*b1, 2.0, 4.0, 0.05)), 1, 1, minevals=1e3, maxevals=1e4)[1][1])\n",
    "\n",
    "    end\n",
    "\n",
    "end"
   ]
  },
  {
   "cell_type": "code",
   "execution_count": null,
   "metadata": {},
   "outputs": [],
   "source": [
    "suave((x,f) -> f[1] = real(1/((1 - x[1])^2) * Ampl_1slice(10.0,  1/(1 - x[1]) - 1/2, 30.0, 0.5*b0, 0.5*b1, 2.0, 4.0, 0.05)), 1, 1, minevals=1e4, maxevals=1e5)"
   ]
  },
  {
   "cell_type": "code",
   "execution_count": null,
   "metadata": {},
   "outputs": [],
   "source": [
    "b0 = 10.0\n",
    "b1 = 5.0\n",
    "@btime suave((x,f) -> f[1] = real(1/((1 - x[1])^2) * Ampl_1slice(10.0,  1/(1 - x[1]) - 1/2, 30.0, 0.5*b0, 0.5*b1, 2.0, 4.0, 0.001)), 1, 1, minevals=1e4, maxevals=1e5)"
   ]
  },
  {
   "cell_type": "markdown",
   "metadata": {},
   "source": [
    "Reading in the files from the cluster with N = 500 and mass = 0.05"
   ]
  },
  {
   "cell_type": "code",
   "execution_count": null,
   "metadata": {},
   "outputs": [],
   "source": [
    "Z_Re = readdlm(\"/home/jercheal/Documents/Physics/Articles/3d csomology/code/data/Z_Re.txt\")\n",
    "Z_Im = readdlm(\"/home/jercheal/Documents/Physics/Articles/3d csomology/code/data/Z_Im.txt\")\n",
    "Z = [Z_Re[i,j]+im*Z_Im[i,j] for i in 1:499, j in 1:499]"
   ]
  },
  {
   "cell_type": "code",
   "execution_count": null,
   "metadata": {},
   "outputs": [],
   "source": [
    "scatter(real(acc_triang(Z,499))[1:499])\n",
    "scatter!(real(acc_rect(Z,499))[1:499])"
   ]
  },
  {
   "cell_type": "code",
   "execution_count": null,
   "metadata": {},
   "outputs": [],
   "source": [
    "wynn(acc_triang(Z,499))"
   ]
  },
  {
   "cell_type": "code",
   "execution_count": null,
   "metadata": {},
   "outputs": [],
   "source": [
    "wynn(acc_rect(Z,499))"
   ]
  },
  {
   "cell_type": "markdown",
   "metadata": {},
   "source": [
    "It appears that many points for the partition function Z(b0,b1) are required to finally find convergence. Let's see what the expectation values evaluate to."
   ]
  },
  {
   "cell_type": "markdown",
   "metadata": {},
   "source": [
    "Partition function with insertion of b0 and b1 after integrating out a1"
   ]
  },
  {
   "cell_type": "code",
   "execution_count": 39,
   "metadata": {},
   "outputs": [],
   "source": [
    "N = 200\n",
    "Zb0 = zeros(ComplexF64, N-1, N-1)\n",
    "Zb1 = zeros(ComplexF64, N-1, N-1)\n",
    "\n",
    "for b0 in 2:N\n",
    "\n",
    "    for b1 in 2:N\n",
    "\n",
    "        Zb0[b0-1, b1-1] = Z[b0-1,b1-1] * 0.5*b0\n",
    "        Zb1[b0-1, b1-1] = Z[b0-1,b1-1] * 0.5*b1\n",
    "\n",
    "    end\n",
    "\n",
    "end"
   ]
  },
  {
   "cell_type": "code",
   "execution_count": null,
   "metadata": {},
   "outputs": [],
   "source": [
    "scatter(real(acc_triang(Zb0, 499)))\n",
    "scatter!(real(acc_rect(Zb0, 499)))"
   ]
  },
  {
   "cell_type": "code",
   "execution_count": null,
   "metadata": {},
   "outputs": [],
   "source": [
    "scatter([real(wynn(acc_triang(Zb0,n))) for n in 2:499])\n",
    "scatter!([real(wynn(acc_rect(Zb0,n))) for n in 2:499])"
   ]
  },
  {
   "cell_type": "markdown",
   "metadata": {},
   "source": [
    "Partition sum with a1-injection:"
   ]
  },
  {
   "cell_type": "code",
   "execution_count": null,
   "metadata": {},
   "outputs": [],
   "source": [
    "Za1_Re = readdlm(\"/home/jercheal/Documents/Physics/Articles/3d csomology/code/data/Za1_Re.txt\")\n",
    "Za1_Im = readdlm(\"/home/jercheal/Documents/Physics/Articles/3d csomology/code/data/Za1_Im.txt\")\n",
    "Za1 = [Za1_Re[i,j]+im*Za1_Im[i,j] for i in 1:499, j in 1:499]"
   ]
  },
  {
   "cell_type": "code",
   "execution_count": null,
   "metadata": {},
   "outputs": [],
   "source": [
    "scatter(real(acc_triang(Za1,499))[1:499])\n",
    "scatter!(real(acc_rect(Za1,499))[1:499])"
   ]
  },
  {
   "cell_type": "code",
   "execution_count": null,
   "metadata": {},
   "outputs": [],
   "source": [
    "scatter([real(wynn(acc_triang(Za1,n))) for n in 2:499])\n",
    "scatter!([real(wynn(acc_rect(Za1,n))) for n in 2:499])"
   ]
  },
  {
   "cell_type": "code",
   "execution_count": null,
   "metadata": {},
   "outputs": [],
   "source": [
    "wynn(acc_rect(Za1,499))/wynn(acc_rect(Z,499))"
   ]
  },
  {
   "cell_type": "markdown",
   "metadata": {},
   "source": [
    "With triangular accumulation, we find\\\n",
    "< b0 > = -13.568329142880918 + 22.02628138021581im\\\n",
    "< b1 > = 29.314769977007018 - 11.455785843906096im\\\n",
    "< a1 > = -1.6823596347078436 - 6.342760580667846im\\\n",
    "\\\n",
    "With rectangular accumulation, we find:\\\n",
    "< b0 > = -13.060588777731821 + 22.049819124267497im\\\n",
    "< b1 > = 32.06379857344938 - 11.073574855471811im\\\n",
    "< a1 > = -1.9547414099552123 - 6.351774571495556im"
   ]
  },
  {
   "cell_type": "markdown",
   "metadata": {},
   "source": [
    "For comparison, the classical solutions of the strut length b0 and b1 for a mass m = 0.05 are given by\\\n",
    "b0 = 2.20099\\\n",
    "b1 = 3.04159\\\n",
    "a1 = 17.8345"
   ]
  },
  {
   "cell_type": "markdown",
   "metadata": {},
   "source": [
    "Clearly, deviations are strong. However, the classical solutions for b0 and b1 are also very small so it might be that they do not get sufficiently resolved. Should we try smaller mass values?"
   ]
  },
  {
   "cell_type": "code",
   "execution_count": null,
   "metadata": {},
   "outputs": [],
   "source": [
    "@btime vegas((x,f) -> f[1] = real(1/((1 - x[1])^2) * Ampl_1slice(10.0,  1/(1 - x[1]) - 1/2, 30.0, 0.5*5, 0.5*10, 2.0, 4.0, 0.001)), 1, 1, minevals=1e3, maxevals=1e4)"
   ]
  },
  {
   "cell_type": "code",
   "execution_count": 35,
   "metadata": {},
   "outputs": [],
   "source": [
    "N = 200\n",
    "Z = zeros(ComplexF64, N-1, N-1)\n",
    "\n",
    "for b0 in 2:N\n",
    "\n",
    "    for b1 in 2:(N - b0 + 2)\n",
    "\n",
    "        Z[b0-1, b1-1] = vegas((x,f) -> f[1] = real(1/((1 - x[1])^2) * Ampl_1slice(10.0,  1/(1 - x[1]) - 1/2, 30.0, 0.5*b0, 0.5*b1, 2.0, 3.5, 0.01)), 1, 1, minevals=1e3, maxevals=1e4)[1][1] + im*(vegas((x,f) -> f[1] = imag(1/((1 - x[1])^2) * Ampl_1slice(10.0,  1/(1 - x[1]) - 1/2, 30.0, 0.5*b0, 0.5*b1, 2.0, 3.5, 0.01)), 1, 1, minevals=1e3, maxevals=1e4)[1][1])\n",
    "\n",
    "    end\n",
    "\n",
    "end"
   ]
  },
  {
   "cell_type": "code",
   "execution_count": 36,
   "metadata": {},
   "outputs": [],
   "source": [
    "N = 200\n",
    "Za1 = zeros(ComplexF64, N-1, N-1)\n",
    "\n",
    "for b0 in 2:N\n",
    "\n",
    "    for b1 in 2:(N - b0 + 2)\n",
    "\n",
    "        Za1[b0-1, b1-1] = vegas((x,f) -> f[1] = real(1/((1 - x[1])^2) * (1/(1 - x[1]) - 1/2) * Ampl_1slice(10.0,  1/(1 - x[1]) - 1/2, 30.0, 0.5*b0, 0.5*b1, 2.0, 3.5, 0.01)), 1, 1, minevals=1e3, maxevals=1e4)[1][1] + im*(vegas((x,f) -> f[1] = imag(1/((1 - x[1])^2) * (1/(1 - x[1]) - 1/2) * Ampl_1slice(10.0,  1/(1 - x[1]) - 1/2, 30.0, 0.5*b0, 0.5*b1, 2.0, 3.5, 0.01)), 1, 1, minevals=1e3, maxevals=1e4)[1][1])\n",
    "\n",
    "    end\n",
    "\n",
    "end"
   ]
  },
  {
   "cell_type": "code",
   "execution_count": null,
   "metadata": {},
   "outputs": [],
   "source": [
    "scatter(real(acc_triang(Z,199)))"
   ]
  },
  {
   "cell_type": "code",
   "execution_count": null,
   "metadata": {},
   "outputs": [],
   "source": [
    "wynn(acc_triang(Z,199))"
   ]
  },
  {
   "cell_type": "code",
   "execution_count": null,
   "metadata": {},
   "outputs": [],
   "source": [
    "scatter(real(acc_triang(Zb1,199)))"
   ]
  },
  {
   "cell_type": "code",
   "execution_count": null,
   "metadata": {},
   "outputs": [],
   "source": [
    "scatter(real(acc_triang(Za1,199)))"
   ]
  },
  {
   "cell_type": "code",
   "execution_count": null,
   "metadata": {},
   "outputs": [],
   "source": [
    "wynn(acc_triang(Zb0,199))/wynn(acc_triang(Z,199))"
   ]
  },
  {
   "cell_type": "code",
   "execution_count": null,
   "metadata": {},
   "outputs": [],
   "source": [
    "wynn(acc_triang(Zb1,199))/wynn(acc_triang(Z,199))"
   ]
  },
  {
   "cell_type": "code",
   "execution_count": null,
   "metadata": {},
   "outputs": [],
   "source": [
    "wynn(acc_triang(Za1,199))/wynn(acc_triang(Z,199))"
   ]
  },
  {
   "cell_type": "markdown",
   "metadata": {},
   "source": [
    "With triangular accumulation, we find\\\n",
    "< b0 > = 14.315420974485091 - 1.8301095987131382im\\\n",
    "< b1 > = 33.24461089536616 - 24.250944533182302im\\\n",
    "< a1 > = 3.6869854266050757 - 0.5468454193873911im"
   ]
  },
  {
   "cell_type": "markdown",
   "metadata": {},
   "source": [
    "For comparison, the classical solutions of the strut length b0 and b1 for a mass m = 0.001 are given by\\\n",
    "b0 = 4.19785\\\n",
    "b1 = 14.5793\\\n",
    "a1 = 16.7916"
   ]
  },
  {
   "cell_type": "markdown",
   "metadata": {},
   "source": [
    "Results of the path integrand get more reasonable as the solutions for the strut length are larger. Is that because of the discrete spectrum?"
   ]
  },
  {
   "cell_type": "markdown",
   "metadata": {},
   "source": [
    "Let's try for the boundary data a0 = 10, a2 = 30, phi2 = 3.6, m = 10^-3"
   ]
  },
  {
   "cell_type": "markdown",
   "metadata": {},
   "source": [
    "With triangular accumulation, we find\\\n",
    "< b0 > = 8.07694751450855 - 1.387288821305193im\\\n",
    "< b1 > = 54.91539672003381 - 13.755564412224349im\\\n",
    "< a1 > = 17.935469324559747 - 4.170896466876663im"
   ]
  },
  {
   "cell_type": "markdown",
   "metadata": {},
   "source": [
    "For comparison, the classical solutions of the length variables are given by\\\n",
    "b0 = 11.5177\\\n",
    "b1 = 35.1933\\\n",
    "a1 = 17.2118"
   ]
  },
  {
   "cell_type": "markdown",
   "metadata": {},
   "source": [
    "For the boundary data a0 = 10, a2 = 30, phi2 = 3.5, m = 10^-3"
   ]
  },
  {
   "cell_type": "code",
   "execution_count": null,
   "metadata": {},
   "outputs": [],
   "source": [
    "wynn(acc_triang(Za1,199))/wynn(acc_triang(Z,199))"
   ]
  },
  {
   "cell_type": "markdown",
   "metadata": {},
   "source": [
    "With triangular accumulation, we find\\\n",
    "< b0 > = 3.1173826841083585 - 1.8479672624837062im\\\n",
    "< b1 > = 31.430605309860965 - 7.860581053046336im\\\n",
    "< a1 > = 12.157603991882583 - 0.6823563401264517im"
   ]
  },
  {
   "cell_type": "markdown",
   "metadata": {},
   "source": [
    "For comparison, the classical solutions of the length variables are given by\\\n",
    "b0 = 25.5484\\\n",
    "b1 = 70.527\\\n",
    "a1 = 17.5351"
   ]
  },
  {
   "cell_type": "markdown",
   "metadata": {},
   "source": [
    "For the boundary data a0 = 10, a2 = 30, phi2 = 3.5, m = 10^-2"
   ]
  },
  {
   "cell_type": "code",
   "execution_count": null,
   "metadata": {},
   "outputs": [],
   "source": [
    "wynn(acc_triang(Za1,199))/wynn(acc_triang(Z,199))"
   ]
  },
  {
   "cell_type": "markdown",
   "metadata": {},
   "source": [
    "With triangular accumulation, we find\\\n",
    "< b0 > = 3.4513491709539745 - 2.3999451196424073im\\\n",
    "< b1 > = 18.810487665056364 + 13.002649450854372im\\\n",
    "< a1 > = 1.5969372112486206 - 0.01469356985203779im"
   ]
  },
  {
   "cell_type": "markdown",
   "metadata": {},
   "source": [
    "For comparison, the classical solutions of the length variables are given by\\\n",
    "b0 = 7.66037\\\n",
    "b1 = 16.0579\\\n",
    "a1 = 17.8195"
   ]
  },
  {
   "cell_type": "markdown",
   "metadata": {},
   "source": [
    "### Partition function and expectation values for varying scalar field values"
   ]
  },
  {
   "cell_type": "code",
   "execution_count": null,
   "metadata": {},
   "outputs": [],
   "source": [
    "phi_range = [35, 36, 37, 38, 39, 40]\n",
    "Z_Re = [readdlm(\"/home/jercheal/Documents/Physics/Articles/3d csomology/code/data/Z_Re_m0001_phi$n.txt\") for n in phi_range]\n",
    "Z_Im = [readdlm(\"/home/jercheal/Documents/Physics/Articles/3d csomology/code/data/Z_Im_m0001_phi$n.txt\") for n in phi_range]\n",
    "Z = [[Z_Re[n][i,j]+im*Z_Im[n][i,j] for i in 1:499, j in 1:499] for n in 1:length(phi_range)]\n",
    "Za1_Re = [readdlm(\"/home/jercheal/Documents/Physics/Articles/3d csomology/code/data/Za1_Re_m0001_phi$n.txt\") for n in phi_range]\n",
    "Za1_Im = [readdlm(\"/home/jercheal/Documents/Physics/Articles/3d csomology/code/data/Za1_Im_m0001_phi$n.txt\") for n in phi_range]\n",
    "Za1 = [[Za1_Re[n][i,j]+im*Za1_Im[n][i,j] for i in 1:499, j in 1:499] for n in 1:length(phi_range)]"
   ]
  },
  {
   "cell_type": "code",
   "execution_count": 3,
   "metadata": {},
   "outputs": [],
   "source": [
    "N = 500\n",
    "Zb0 = [zeros(ComplexF64, N-1, N-1) for n in 1:length(phi_range)]\n",
    "Zb1 = [zeros(ComplexF64, N-1, N-1) for n in 1:length(phi_range)]\n",
    "\n",
    "for n in 1:length(phi_range)\n",
    "\n",
    "    for b0 in 2:N\n",
    "\n",
    "        for b1 in 2:(N - b0 + 2)\n",
    "\n",
    "            Zb0[n][b0-1, b1-1] = Z[n][b0-1,b1-1] * 0.5*b0\n",
    "            Zb1[n][b0-1, b1-1] = Z[n][b0-1,b1-1] * 0.5*b1\n",
    "\n",
    "        end\n",
    "\n",
    "    end\n",
    "\n",
    "end"
   ]
  },
  {
   "cell_type": "markdown",
   "metadata": {},
   "source": [
    "Let's explore the partition function and its stationary points for the data from the cluster:\\\n",
    "\\\n",
    "For boundary data l_0 = 10, l_1 = 30, phi_0 = 2, phi_2 = 4, m = 10^-3, the classical solutions are given by\\\n",
    "\\\n",
    "b0 = 4.19785\\\n",
    "b1 = 14.5793\\\n",
    "a1 = 16.7916\\\n",
    "\\\n",
    "So after integrating out a1, there should be a saddle point visible at the values of b0 and b1. \\\n",
    "\\\n",
    "Just by looking at the integrand, one cannot see a saddle point. Next steps:\n",
    "1. Insert the numerical solution for a1 into the amplitude and compare to the effective one after integrating out a1\n",
    "2. Look for boundary data and mass parameters where the saddle point can be sufficiently resolved "
   ]
  },
  {
   "cell_type": "code",
   "execution_count": 7,
   "metadata": {},
   "outputs": [],
   "source": [
    "Z_class = [Ampl_1slice(10.0, 16.791619482961312911, 30.0, 0.5 * b0, 0.5 * b1, 2.0, 4.0, 1e-3) for b0 in 2:500, b1 in 2:500];"
   ]
  },
  {
   "cell_type": "code",
   "execution_count": null,
   "metadata": {},
   "outputs": [],
   "source": [
    "scatter([0.5*b0 for b0 in 2:500][1:50], real(Z[6][8,1:50])./maximum(real(Z[6][8,1:50])))\n",
    "scatter!([0.5*b0 for b0 in 2:500][1:50], real(Z_class[8,1:50])./maximum(real(Z_class[8,1:50])))"
   ]
  },
  {
   "cell_type": "markdown",
   "metadata": {},
   "source": [
    "Apparently, effective action and action evaluated on the solution of a1 don't match at all. Is it because of the numerical integration? Let's consider integration in the relevant region, i.e. for b0,b1 < 25."
   ]
  },
  {
   "cell_type": "code",
   "execution_count": null,
   "metadata": {},
   "outputs": [],
   "source": [
    "Z_test = [vegas((x,f) -> f[1] = real((1/(1 - x[1]) - 1/2)^5 * 1/((1 - x[1])^2) * Ampl_1slice(10.0,  1/(1 - x[1]) - 1/2, 30.0, 0.5*b0, 0.5*b1, 2.0, 4.0, 0.001)), 1, 1, minevals=1e3, maxevals=1e4)[1][1] + im*vegas((x,f) -> f[1] = imag((1/(1 - x[1]) - 1/2)^5 * 1/((1 - x[1])^2) * Ampl_1slice(10.0,  1/(1 - x[1]) - 1/2, 30.0, 0.5*b0, 0.5*b1, 2.0, 4.0, 0.001)), 1, 1, minevals=1e3, maxevals=1e4)[1][1] for b0 in 2:50, b1 in 2:50]"
   ]
  },
  {
   "cell_type": "code",
   "execution_count": null,
   "metadata": {},
   "outputs": [],
   "source": [
    "scatter([0.5*b0 for b0 in 2:500][1:49], real(Z_test[8,1:49])./maximum(real(Z_test[8,1:49])))\n",
    "scatter!([0.5*b0 for b0 in 2:500][1:49], real(Z_class[8,1:49])./maximum(real(Z_class[8,1:49])))"
   ]
  },
  {
   "cell_type": "code",
   "execution_count": null,
   "metadata": {},
   "outputs": [],
   "source": [
    "plot(10.0:0.01:30.0, [real(a1^5 * Ampl_1slice(10.0, a1, 30.0, 4.1978508181089585939, 14.579304574526164610, 2.0, 4.0, 0.001)) for a1 in 10.0:0.01:30.0])\n"
   ]
  },
  {
   "cell_type": "markdown",
   "metadata": {},
   "source": [
    "Here, the saddle point is clearly visible!"
   ]
  },
  {
   "cell_type": "markdown",
   "metadata": {},
   "source": [
    "I think that the problem becomes clear now: The measure as a function of a1 is strongly peaked on small values of a1. Consequently, the MonteCarlo integration will favor these configurations thus not properly scanning the large a1-regime where the saddle point might be located. \\\n",
    "We have seen above that re-scaling the amplitude helps in resolving these saddle points. The question is how we go on from this.\\\n",
    "It must be noted that the face amplitudes strongly influence the numerical behavior (maybe not so much the physical one), as it makes numerical integration potentially difficult and also yields convergence problems for the series acceleration. "
   ]
  },
  {
   "cell_type": "code",
   "execution_count": null,
   "metadata": {},
   "outputs": [],
   "source": [
    "b0_expvals = [wynn(acc_triang(Zb0[n],49))/wynn(acc_triang(Z[n],499)) for n in 1:length(phi_range)]\n",
    "b1_expvals = [wynn(acc_triang(Zb1[n],499))/wynn(acc_triang(Z[n],499)) for n in 1:length(phi_range)]\n",
    "a1_expvals = [wynn(acc_triang(Za1[n],199))/wynn(acc_triang(Z[n],199)) for n in 1:length(phi_range)]"
   ]
  },
  {
   "cell_type": "code",
   "execution_count": null,
   "metadata": {},
   "outputs": [],
   "source": [
    "wynn([sum(Z[6][1:n,1:n]) for n in 1:499])"
   ]
  },
  {
   "cell_type": "code",
   "execution_count": null,
   "metadata": {},
   "outputs": [],
   "source": [
    "scatter(real(acc_triang(Z[6],499)))"
   ]
  },
  {
   "cell_type": "code",
   "execution_count": null,
   "metadata": {},
   "outputs": [],
   "source": [
    "scatter([real(wynn(acc_triang(Z[2],n))) for n in 2:199])"
   ]
  },
  {
   "cell_type": "code",
   "execution_count": null,
   "metadata": {},
   "outputs": [],
   "source": [
    "wynn(acc_triang(Za1[2],199))/wynn(acc_triang(Z[2],199))"
   ]
  },
  {
   "cell_type": "markdown",
   "metadata": {},
   "source": [
    "The data doesn't lead to reasonable results for the expectation values. Somehow, the computations where less enumerations are being used work better. Why?!"
   ]
  },
  {
   "cell_type": "markdown",
   "metadata": {},
   "source": [
    "It seems that for a mass m = 0.001, the oscillations are too small. One can see that for this data the partition function does not constantly oscillate at the cutoff considered.\\\n",
    "\\\n",
    "This seems to be arising from the epsilon-algorithm"
   ]
  },
  {
   "cell_type": "markdown",
   "metadata": {},
   "source": [
    "### Replace integration with summation?"
   ]
  },
  {
   "cell_type": "markdown",
   "metadata": {},
   "source": [
    "Numerical integration is challenging because of the VERY fast oscillations. A high number of evaluations is required for acceptable convergence which takes a long time. Maybe the integration can be approximated by summation using Wynn's algorithm. "
   ]
  },
  {
   "cell_type": "code",
   "execution_count": null,
   "metadata": {},
   "outputs": [],
   "source": [
    "b0 = 1.0\n",
    "b1 = 20.0\n",
    "as = range(0.25,40,1000)\n",
    "as_disc = 0.25:0.1:40.0\n",
    "plot(as, [real(Ampl_1slice(10.0, a1, 30.0, b0, b1, 2.0, 4.0, 0.05)) for a1 in as])#, ylims=(-10^(-19),10^(-19)), yticks=(-7*10^(-17):10^(-17):7*10^(-17)))\n",
    "scatter!(as_disc, [real(Ampl_1slice(10.0, a1, 30.0, b0, b1, 2.0, 4.0, 0.05)) for a1 in as_disc])\n",
    "#plot(as, [real(Ampl_1slice_ESF(10.0, a1, 30.0, 1.0, 40.0, 2.0, 4.0, 0.05)) for a1 in as])"
   ]
  },
  {
   "cell_type": "markdown",
   "metadata": {},
   "source": [
    "Integration value for comparison"
   ]
  },
  {
   "cell_type": "code",
   "execution_count": null,
   "metadata": {},
   "outputs": [],
   "source": [
    "b0 = 50.0\n",
    "b1 = 40.0\n",
    "@btime  vegas((x,f) -> f[1] = real(1/((1 - x[1])^2) * Ampl_1slice(10.0, 1/(1 - x[1]) - 3/4, 30.0, b0, b1, 2.0, 4.0, 0.05)), 1, 1, minevals=1e2, maxevals=1e3)"
   ]
  },
  {
   "cell_type": "markdown",
   "metadata": {},
   "source": [
    "Let's try to approximate the integral with a sum and use Wynn's algorithm. How does the convergence of partial sums depend on the chosen discretization?"
   ]
  },
  {
   "cell_type": "code",
   "execution_count": null,
   "metadata": {},
   "outputs": [],
   "source": [
    "part_sum_Re = accumulate(+, [real(Ampl_1slice(10.0, a1, 30.0, 1.0, 20.0, 2.0, 4.0, 0.05)) for a1 in as_disc])\n",
    "part_sums_Re = [part_sum_Re[n] for n in 1:length(as_disc)]\n",
    "scatter([a for a in as_disc], part_sums_Re, ylims=(-1.5*10^(-15),-8*10^(-16)), yticks=-10^(-14):10^(-16):0)"
   ]
  },
  {
   "cell_type": "code",
   "execution_count": null,
   "metadata": {},
   "outputs": [],
   "source": [
    "part_sum = accumulate(+, [Ampl_1slice(10.0, a1, 30.0, 1.0, 20.0, 2.0, 4.0, 0.05) for a1 in as_disc])\n",
    "part_sums = [part_sum[n] for n in 1:length(as_disc)]\n",
    "wynn(part_sums[350:398])"
   ]
  },
  {
   "cell_type": "markdown",
   "metadata": {},
   "source": [
    "Okay, Wynn's algorithm can be used to compute the convergence of the partial sums for the very last values, i.e. when the relative error is already small. "
   ]
  },
  {
   "cell_type": "markdown",
   "metadata": {},
   "source": [
    "What happens after refinement of the spectrum?"
   ]
  },
  {
   "cell_type": "code",
   "execution_count": null,
   "metadata": {},
   "outputs": [],
   "source": [
    "as_disc_ref = [0.25:0.005*(11-n):40.0 for n in 1:10]\n",
    "part_sum_Re = [accumulate(+, [real(Ampl_1slice(10.0, a1, 30.0, 1.0, 20.0, 2.0, 4.0, 0.05)) for a1 in as_disc_ref[n]]) for n in 1:10]\n",
    "part_sums_Re = [[part_sum_Re[m][n] for n in 1:length(as_disc_ref[m])] for m in 1:10]\n",
    "scatter(as_disc_ref[10], part_sums_Re[10])#, ylims=(-1.5*10^(-15),-8*10^(-16)), yticks=-10^(-14):10^(-16):0)"
   ]
  },
  {
   "cell_type": "markdown",
   "metadata": {},
   "source": [
    "There doesn't seem to be convergence towards a particular value of Z under refinement. In particular, the behavior is not monotonic, i.e. for a finer spectrum, the partition function may be larger or smaller than for the coarser one. However, the saddle point is captured equally well by all the spectra. The question is now, whether the particular value of Z is not of importance to expectation values. "
   ]
  },
  {
   "cell_type": "markdown",
   "metadata": {},
   "source": [
    "Let's just try, first for a1 = 0.25:0.01:40.0, as all the saddle points appear to be captured"
   ]
  },
  {
   "cell_type": "markdown",
   "metadata": {},
   "source": [
    "Including the idea of Riemann sums"
   ]
  },
  {
   "cell_type": "code",
   "execution_count": null,
   "metadata": {},
   "outputs": [],
   "source": [
    "as_disc_ref = [0.25:0.001*(11-n):40.0 for n in 1:10]\n",
    "part_sum_Re = [accumulate(+, [real(Ampl_1slice(10.0, a1, 30.0, 1.0, 20.0, 2.0, 4.0, 0.05)) * 0.001*(11-n) for a1 in as_disc_ref[n]]) for n in 1:10]\n",
    "scatter(as_disc_ref[8:10], part_sum_Re[8:10],markerstrokewidth=0.0)#, ylims=(-1.5*10^(-15),-8*10^(-16)), yticks=-10^(-14):10^(-16):0)"
   ]
  },
  {
   "cell_type": "markdown",
   "metadata": {},
   "source": [
    "Wynn's algorithm doesn't work for certain values. Use simple summation?"
   ]
  },
  {
   "cell_type": "code",
   "execution_count": null,
   "metadata": {},
   "outputs": [],
   "source": [
    "b0 = 40.0\n",
    "b1 = 40.0\n",
    "part_sums = accumulate(+, [Ampl_1slice(10.0, a1, 30.0, 0.5*b0, 0.5*b1, 2.0, 4.0, 0.05) for a1 in as_disc_ref[1]])\n",
    "relerr = [abs(abs(real(part_sums[n+1]-part_sums[n]))/real(part_sums[n])) for n in 1:(length(as_disc_ref[1])-1)]\n",
    "scatter(as_disc_ref[1][1:(length(as_disc_ref[1])-1)], relerr, ylims = (0.0,10^(-6)))"
   ]
  },
  {
   "cell_type": "code",
   "execution_count": null,
   "metadata": {},
   "outputs": [],
   "source": [
    "@btime sum([Ampl_1slice(10.0, a1, 30.0, 0.5*b0, 0.5*b1, 2.0, 4.0, 0.05) for a1 in as_disc_ref[10]]) "
   ]
  },
  {
   "cell_type": "code",
   "execution_count": null,
   "metadata": {},
   "outputs": [],
   "source": [
    "Zb0b1 = [sum([Ampl_1slice(10.0, a1, 30.0, 0.5*b0, 0.5*b1, 2.0, 4.0, 0.05) for a1 in as_disc_ref[1]]) for b0 in 1:120, b1 in 1:120]"
   ]
  },
  {
   "cell_type": "code",
   "execution_count": null,
   "metadata": {},
   "outputs": [],
   "source": [
    "scatter(real(Zb0b1)[70,1:120])"
   ]
  },
  {
   "cell_type": "code",
   "execution_count": null,
   "metadata": {},
   "outputs": [],
   "source": [
    "scatter(real(acc_triang(Zb0b1,120)))"
   ]
  },
  {
   "cell_type": "markdown",
   "metadata": {},
   "source": [
    "Summation does not work as straightforwardly as expected. I therefore went back to the numerical integration, driving up the evaluation and passing the computation to the cluster"
   ]
  },
  {
   "cell_type": "markdown",
   "metadata": {},
   "source": [
    "### Replacing MC-integration by quadrature"
   ]
  },
  {
   "cell_type": "code",
   "execution_count": null,
   "metadata": {},
   "outputs": [],
   "source": [
    "b0 = 4.0\n",
    "b1 = 14.0\n",
    "vegas((x,f) -> f[1] = real(1/((1 - x[1])^2) * Ampl_1slice(10.0, 1/(1 - x[1]) - 3/4, 30.0, b0, b1, 2.0, 4.0, 0.001)), 1, 1, minevals=1e4, maxevals=1e5)"
   ]
  },
  {
   "cell_type": "code",
   "execution_count": null,
   "metadata": {},
   "outputs": [],
   "source": [
    "@btime quadgk(x -> Ampl_1slice(10.0, x, 30.0, 1.0, 20.0, 2.0, 4.0, 0.001), 0.5, Inf)"
   ]
  },
  {
   "cell_type": "code",
   "execution_count": null,
   "metadata": {},
   "outputs": [],
   "source": [
    "@btime quadgk(x -> Ampl_1slice(10.0, x, 30.0, 1.0, 20.0, 2.0, 4.0, 0.001), 0.5, Inf, rtol=1e-3)"
   ]
  },
  {
   "cell_type": "code",
   "execution_count": 60,
   "metadata": {},
   "outputs": [],
   "source": [
    "Z_test = [quadgk(x -> Ampl_1slice(10.0, x, 30.0, 0.5 * b0, 0.5 * b1, 2.0, 4.0, 0.001), 0.5, Inf, rtol=1e-3)[1] for b0 in 2:50, b1 in 2:50]\n",
    "Z_class = [Ampl_1slice(10.0, 16.791619482961312911, 30.0, 0.5 * b0, 0.5 * b1, 2.0, 4.0, 1e-3) for b0 in 2:50, b1 in 2:50];"
   ]
  },
  {
   "cell_type": "code",
   "execution_count": null,
   "metadata": {},
   "outputs": [],
   "source": [
    "scatter(1:0.5:25, real(Z_test[8,1:49])./abs(maximum(real(Z_test[8,1:49]))))\n",
    "scatter!(1:0.5:25, real(Z_class[8,1:49])./abs(maximum(real(Z_class[8,1:49]))))"
   ]
  },
  {
   "cell_type": "markdown",
   "metadata": {},
   "source": [
    "The picture remains and so we can rule out that there is something wrong with the numerical integration algorithm. Instead, I believe that it is the face amplitudes that lead to strong deviations. It might be important that the integration domain is not all of R and therefore, intuition from the stationary phase approximation (e.g. that the measure \"doesn't matter\") is not applicable."
   ]
  },
  {
   "cell_type": "code",
   "execution_count": null,
   "metadata": {},
   "outputs": [],
   "source": [
    "For comparison, the classical solutions of the strut length b0 and b1 for a mass m = 0.05 are given by\\\n",
    "b0 = 2.20099\\\n",
    "b1 = 3.04159\\\n",
    "a1 = 17.8345"
   ]
  },
  {
   "cell_type": "code",
   "execution_count": 78,
   "metadata": {},
   "outputs": [],
   "source": [
    "#Z_test = [quadgk(x -> Ampl_1slice(10.0, x, 30.0, 0.5 * b0, 0.5 * b1, 2.0, 4.0, 0.01), 0.5, Inf, rtol=1e-3)[1] for b0 in 2:50, b1 in 2:50]\n",
    "Z_class = [Ampl_1slice(10.0, 17.268230899854599393, 30.0, 0.5 * b0, 1.0 * b1, 2.0, 4.0, 0.01) for b0 in 2:50, b1 in 2:50];"
   ]
  },
  {
   "cell_type": "code",
   "execution_count": null,
   "metadata": {},
   "outputs": [],
   "source": [
    "scatter(1:0.5:25, real(Z_test[7,1:49])./abs(maximum(real(Z_test[7,1:49]))))\n",
    "scatter!(1:0.5:25, real(Z_class[7,1:49])./abs(maximum(real(Z_class[7,1:49]))))"
   ]
  },
  {
   "cell_type": "markdown",
   "metadata": {},
   "source": [
    "Stationary point not visible and frequency is much higher for the effective amplitude"
   ]
  },
  {
   "cell_type": "markdown",
   "metadata": {},
   "source": [
    "Is it the face amplitude?"
   ]
  },
  {
   "cell_type": "code",
   "execution_count": null,
   "metadata": {},
   "outputs": [],
   "source": [
    "Z_test = [quadgk(x -> x^7 * Ampl_1slice(10.0, x, 30.0, 0.5 * b0, 0.5 * b1, 2.0, 4.0, 0.01), 0.5, Inf, rtol=1e-3)[1] for b0 in 2:50, b1 in 2:50]"
   ]
  },
  {
   "cell_type": "code",
   "execution_count": null,
   "metadata": {},
   "outputs": [],
   "source": [
    "scatter(1:0.5:25, real(Z_test[7,1:49])./abs(maximum(real(Z_test[7,1:49]))))\n",
    "scatter!(1:0.5:25, real(Z_class[7,1:49])./abs(maximum(real(Z_class[7,1:49]))))"
   ]
  },
  {
   "cell_type": "markdown",
   "metadata": {},
   "source": [
    "The frequency of the effecitve amplitude seems to depend on the face amplitude. Isn't that strange?"
   ]
  },
  {
   "cell_type": "markdown",
   "metadata": {},
   "source": [
    "What is the result for the effective spin foam measure?"
   ]
  },
  {
   "cell_type": "code",
   "execution_count": null,
   "metadata": {},
   "outputs": [],
   "source": [
    "(1.0:0.5:25.0)[7]"
   ]
  },
  {
   "cell_type": "code",
   "execution_count": null,
   "metadata": {},
   "outputs": [],
   "source": [
    "b0sol = 3.2823807872544535257\n",
    "b1sol = 11.015937763259090151\n",
    "a1sol = 16.699540895401283015\n",
    "phi_2 = 4.2\n",
    "m = 0.001   \n",
    "Z_eff_ESF_vegas = [vegas((x,f) -> f[1] = real((1/(1 - x[1]) - 1/2)^(-2) * 1/((1 - x[1])^2) * Ampl_1slice_ESF(10.0,  1/(1 - x[1]) - 1/2, 30.0, b0sol, 0.25 * b1, 2.0, phi_2, 0.001)), 1, 1, minevals=1e3, maxevals=1e4)[1][1] + im*vegas((x,f) -> f[1] = imag((1/(1 - x[1]) - 1/2)^(-2) *  1/((1 - x[1])^2) * Ampl_1slice_ESF(10.0,  1/(1 - x[1]) - 1/2, 30.0, b0sol, 0.5 * b1, 2.0, phi_2, 0.001)), 1, 1, minevals=1e3, maxevals=1e4)[1][1] for b1 in 2:200];\n",
    "Z_class = [Ampl_1slice(10.0, a1sol, 30.0, b0sol, 0.5* b1, 2.0, phi_2, 0.001) for b1 in 2:200];\n",
    "#Z_eff_ESF_quadgk = [quadgk(x -> Ampl_1slice_ESF(10.0, x, 30.0, 3.9415073911523056687, 0.5 * b1, 2.0, 4.0, 0.01), 0.5, Inf, rtol=1e-3)[1] for b1 in 2:50];"
   ]
  },
  {
   "cell_type": "code",
   "execution_count": null,
   "metadata": {},
   "outputs": [],
   "source": [
    "plot(range(0.5, 40.0, 2000), [real(Ampl_1slice_ESF(10.0, a1, 30.0, b0sol, 1.0, 4.0, phi_2, 0.001)) for a1 in range(0.5, 40.0, 2000)] )"
   ]
  },
  {
   "cell_type": "code",
   "execution_count": null,
   "metadata": {},
   "outputs": [],
   "source": [
    "plot(1:0.5:100, real(Z_eff_ESF_vegas)./maximum(real(Z_eff_ESF_vegas)))\n",
    "#scatter!(1:0.5:25, 0.5 .* real(Z_eff_ESF_quadgk)./maximum(real(Z_eff_ESF_quadgk)))\n",
    "plot!(1:0.5:100, real(Z_class)./maximum(real(Z_class)))"
   ]
  },
  {
   "cell_type": "markdown",
   "metadata": {},
   "source": [
    "Let's create a little toy model to understand better what is going on"
   ]
  },
  {
   "cell_type": "code",
   "execution_count": null,
   "metadata": {},
   "outputs": [],
   "source": [
    "b0sol = 3.9415073911523056687\n",
    "b1sol = 11.015937763259090151\n",
    "a1sol = 17.268230899854599393\n",
    "ϕ0 = 2.0\n",
    "ϕ2 = 4.2\n",
    "m = 0.01\n",
    "b0 = b0sol\n",
    "a0 = 10.0\n",
    "a2 = 30.0\n",
    "a1 = a1sol\n",
    "\n",
    "function toy_integrand(a1::Float64, b1::Float64)\n",
    "\n",
    "    res =  exp(im* (S_Regge_III(10.0, a1, b0sol) + S_Regge_III(a1, 30.0, b1))) * exp(im*((ϕ0 - ϕ2)^2*((w(a0, a1, b0)*w(a1, a2, b1))/(w(a0, a1, b0) + w(a1, a2, b1) - M(a0, a1, b0, m) - M(a1, a2, b1, m))) \n",
    "    - ϕ0^2*(M(a0, a1, b0, m) + (w(a0, a1, b0)*(M(a0, a1, b0, m) + M(a1, a2, b1, m)))/(w(a0, a1, b0) + w(a1, a2, b1) - M(a0, a1, b0, m) - M(a1, a2, b1, m))) \n",
    "    - ϕ2^2*(M(a1, a2, b1, m) + (w(a1, a2, b1)*(M(a0, a1, b0, m) + M(a1, a2, b1, m)))/(w(a0, a1, b0) + w(a1, a2, b1) - M(a0, a1, b0, m) - M(a1, a2, b1, m)))))\n",
    "\n",
    "end\n",
    "\n",
    "a1s = range(0.5, 50.0, 1000)\n",
    "b1s = range(0.5, 20.0, 1000)\n",
    "plot(b1s, real([toy_integrand(a1sol, b1) for b1 in b1s]))\n",
    "plot(a1s, real([toy_integrand(a1, 20.0) for a1 in a1s]))\n",
    "#scatter!(b1s, real(toy_integrand_eff)./maximum(real(toy_integrand_eff)))"
   ]
  },
  {
   "cell_type": "code",
   "execution_count": null,
   "metadata": {},
   "outputs": [],
   "source": [
    "toy_integrand_eff = quadgk(a1 -> toy_integrand(a1, b1sol), 0.5, Inf, rtol=1e-6)"
   ]
  },
  {
   "cell_type": "markdown",
   "metadata": {},
   "source": [
    "Non-sensical result for numerical integration"
   ]
  },
  {
   "cell_type": "code",
   "execution_count": null,
   "metadata": {},
   "outputs": [],
   "source": [
    "part_int = [quadgk(a1 -> toy_integrand(a1, 18.5), 0.5, amax, rtol=1e-6)[1] for amax in 5.0:0.5:50.0]\n",
    "#part_int_a1 = [quadgk(a1 -> a1 * toy_integrand(a1, b1sol), 0.5, amax, rtol=1e-6)[1] for amax in 1.0:0.5:50.0]\n",
    "scatter(5.0:0.5:50.0, real(part_int))"
   ]
  },
  {
   "cell_type": "markdown",
   "metadata": {},
   "source": [
    "Does wynn's algorithm save our day?"
   ]
  },
  {
   "cell_type": "code",
   "execution_count": null,
   "metadata": {},
   "outputs": [],
   "source": [
    "part_int = [wynn([quadgk(a1 -> toy_integrand(a1, 0.5 * b1), 0.5, amax, rtol=1e-6)[1] for amax in 5.0:0.25:25.0]) for b1 in 2:40]"
   ]
  },
  {
   "cell_type": "code",
   "execution_count": null,
   "metadata": {},
   "outputs": [],
   "source": [
    "scatter((1.0:0.5:20.0), real(part_int))"
   ]
  },
  {
   "cell_type": "markdown",
   "metadata": {},
   "source": [
    "pseudo-saddle points?"
   ]
  },
  {
   "cell_type": "code",
   "execution_count": null,
   "metadata": {},
   "outputs": [],
   "source": [
    "scatter(5.0:0.25:100.0, [real(toy_integrand(a1, 18.5)) for a1 in 5.0:0.25:100.0])"
   ]
  },
  {
   "cell_type": "markdown",
   "metadata": {},
   "source": [
    "### a1-Integration revisited"
   ]
  },
  {
   "cell_type": "markdown",
   "metadata": {},
   "source": [
    "Let's fix all of the data including the bulk variables m_0 and m_1."
   ]
  },
  {
   "cell_type": "code",
   "execution_count": null,
   "metadata": {},
   "outputs": [],
   "source": [
    "b0sol = 3.9415073911523056687\n",
    "b1sol = 11.015937763259090151\n",
    "a1sol = 17.268230899854599393\n",
    "\n",
    "b0 = 4.0\n",
    "b1 = 11.0\n",
    "ϕ0 = 2.0\n",
    "ϕ2 = 4.2\n",
    "m = 0.01\n",
    "a0 = 10.0\n",
    "a2 = 30.0"
   ]
  },
  {
   "cell_type": "markdown",
   "metadata": {},
   "source": [
    "The a1-integrand looks like the following:"
   ]
  },
  {
   "cell_type": "code",
   "execution_count": null,
   "metadata": {},
   "outputs": [],
   "source": [
    "plot(0.5:0.01:25.0, [real(Ampl_1slice(a0, a1, a2, b0, b1, ϕ0, ϕ2, m)) for a1 in 0.5:0.01:25.0])"
   ]
  },
  {
   "cell_type": "markdown",
   "metadata": {},
   "source": [
    "In particular, there is a saddle point at a1 ~ 17"
   ]
  },
  {
   "cell_type": "code",
   "execution_count": null,
   "metadata": {},
   "outputs": [],
   "source": [
    "plot(10.0:0.001:30.0, [real(Ampl_1slice(a0, a1, a2, b0, b1, ϕ0, ϕ2, m)) for a1 in 10.0:0.001:30.0])"
   ]
  },
  {
   "cell_type": "markdown",
   "metadata": {},
   "source": [
    "The saddle point is almost invisible due to the strong suppression. Maybe try the ESF amplitude first"
   ]
  },
  {
   "cell_type": "code",
   "execution_count": null,
   "metadata": {},
   "outputs": [],
   "source": [
    "plot(0.5:0.01:25.0, [real(Ampl_1slice_ESF(a0, a1, a2, b0, b1, ϕ0, ϕ2, m)) for a1 in 0.5:0.01:25.0])"
   ]
  },
  {
   "cell_type": "markdown",
   "metadata": {},
   "source": [
    "Quadrature methods for computing a1-integration"
   ]
  },
  {
   "cell_type": "code",
   "execution_count": null,
   "metadata": {},
   "outputs": [],
   "source": [
    "Z_quad = quadgk_count(a1 -> Ampl_1slice_ESF(a0, a1, a2, b0, b1, ϕ0, ϕ2, m), 0.5, Inf)"
   ]
  },
  {
   "cell_type": "code",
   "execution_count": null,
   "metadata": {},
   "outputs": [],
   "source": [
    "Z_quad = quadgk_count(a1 -> Ampl_1slice_ESF(a0, a1, a2, b0, b1, ϕ0, ϕ2, m), 0.5, Inf, order=100)"
   ]
  },
  {
   "cell_type": "markdown",
   "metadata": {},
   "source": [
    "Vegas-algorithm"
   ]
  },
  {
   "cell_type": "code",
   "execution_count": null,
   "metadata": {},
   "outputs": [],
   "source": [
    "vegas((x,f) -> f[1] = real(1/((1 - x[1])^2) * Ampl_1slice_ESF(a0,  1/(1 - x[1]) - 1/2, a2, b0, b1, ϕ0, ϕ2, m)), 1, 1, minevals=1e5, maxevals=1e6) "
   ]
  },
  {
   "cell_type": "code",
   "execution_count": null,
   "metadata": {},
   "outputs": [],
   "source": [
    "vegas((x,f) -> f[1] = imag(1/((1 - x[1])^2) * Ampl_1slice_ESF(a0,  1/(1 - x[1]) - 1/2, a2, b0, b1, ϕ0, ϕ2, m)), 1, 1, minevals=1e5, maxevals=1e6)"
   ]
  },
  {
   "cell_type": "markdown",
   "metadata": {},
   "source": [
    "Quadrature and vegas integration seem to agree. What happens for our amplitude?"
   ]
  },
  {
   "cell_type": "code",
   "execution_count": null,
   "metadata": {},
   "outputs": [],
   "source": [
    "Z_quad = quadgk_count(a1 -> Ampl_1slice(a0, a1, a2, b0, b1, ϕ0, ϕ2, m), 0.5, Inf, order=20)"
   ]
  },
  {
   "cell_type": "code",
   "execution_count": null,
   "metadata": {},
   "outputs": [],
   "source": [
    "vegas((x,f) -> f[1] = real(1/((1 - x[1])^2) * Ampl_1slice(a0,  1/(1 - x[1]) - 1/2, a2, b0, b1, ϕ0, ϕ2, m)), 1, 1, minevals=1e5, maxevals=1e6) "
   ]
  },
  {
   "cell_type": "code",
   "execution_count": null,
   "metadata": {},
   "outputs": [],
   "source": [
    "vegas((x,f) -> f[1] = imag(1/((1 - x[1])^2) * Ampl_1slice(a0,  1/(1 - x[1]) - 1/2, a2, b0, b1, ϕ0, ϕ2, m)), 1, 1, minevals=1e5, maxevals=1e6)"
   ]
  },
  {
   "cell_type": "markdown",
   "metadata": {},
   "source": [
    "Also here, pretty decent agreement!"
   ]
  },
  {
   "cell_type": "markdown",
   "metadata": {},
   "source": [
    "Different boundary data: let's take b0 and b1 for which the oscillations are worse"
   ]
  },
  {
   "cell_type": "code",
   "execution_count": null,
   "metadata": {},
   "outputs": [],
   "source": [
    "b0 = 1.0\n",
    "b1 = 2.0\n",
    "plot(0.5:0.01:50.0, [real(Ampl_1slice_ESF(a0, a1, a2, b0, b1, ϕ0, ϕ2, m)) for a1 in 0.5:0.01:50.0])"
   ]
  },
  {
   "cell_type": "code",
   "execution_count": null,
   "metadata": {},
   "outputs": [],
   "source": [
    "quadgk_count(a1 -> Ampl_1slice(a0, a1, a2, b0, b1, ϕ0, ϕ2, m), 0.5, Inf, order=20)"
   ]
  },
  {
   "cell_type": "code",
   "execution_count": null,
   "metadata": {},
   "outputs": [],
   "source": [
    "vegas((x,f) -> f[1] = real(1/((1 - x[1])^2) * Ampl_1slice(a0,  1/(1 - x[1]) - 1/2, a2, b0, b1, ϕ0, ϕ2, m)), 1, 1, minevals=1e5, maxevals=1e6) "
   ]
  },
  {
   "cell_type": "code",
   "execution_count": null,
   "metadata": {},
   "outputs": [],
   "source": [
    "vegas((x,f) -> f[1] = imag(1/((1 - x[1])^2) * Ampl_1slice(a0,  1/(1 - x[1]) - 1/2, a2, b0, b1, ϕ0, ϕ2, m)), 1, 1, minevals=1e5, maxevals=1e6)"
   ]
  },
  {
   "cell_type": "markdown",
   "metadata": {},
   "source": [
    "The integration methods seem to agree. Let's try again to find an effective amplitude. To that end, we set b0 = 4 such that there should be a saddle point visible at b1 = 11."
   ]
  },
  {
   "cell_type": "code",
   "execution_count": null,
   "metadata": {},
   "outputs": [],
   "source": [
    "b0 = 4.0\n",
    "Z_test = [quadgk_count(a1 -> Ampl_1slice(a0, a1, a2, b0, 0.5 * b1, ϕ0, ϕ2, m), 0.5, Inf, order=20)[1] for b1 in 2:50]"
   ]
  },
  {
   "cell_type": "code",
   "execution_count": null,
   "metadata": {},
   "outputs": [],
   "source": [
    "Z_class = [real(Ampl_1slice(a0, a1sol, a2, 4.0, b1, ϕ0, ϕ2, m)) for b1 in 1.0:0.01:25.0]\n",
    "plot(1.0:0.5:25.0, real(Z_test)./maximum(real(Z_test)))\n",
    "plot!(1.0:0.01:25.0, Z_class./maximum(Z_class))"
   ]
  },
  {
   "cell_type": "markdown",
   "metadata": {},
   "source": [
    "Same as before. Use arbitrary prescision?"
   ]
  },
  {
   "cell_type": "code",
   "execution_count": null,
   "metadata": {},
   "outputs": [],
   "source": [
    "setprecision(20, base=10)\n",
    "b0 = big\"4.0\"\n",
    "b1 = big\"11.0\"\n",
    "ϕ0 = big\"2.0\"\n",
    "ϕ2 = big\"4.2\"\n",
    "m = big\"0.01\"\n",
    "a0 = big\"10.0\"\n",
    "a2 = big\"30.0\"\n",
    "quadgk_count(a1 -> Ampl_1slice_ESF_big(a0, a1, a2, b0, b1, ϕ0, ϕ2, m), big\"0.5\", big\"Inf\", order=20)"
   ]
  },
  {
   "cell_type": "markdown",
   "metadata": {},
   "source": [
    "Takes super long"
   ]
  },
  {
   "cell_type": "markdown",
   "metadata": {},
   "source": [
    "Let's try a different quadrature algorithm"
   ]
  },
  {
   "cell_type": "code",
   "execution_count": null,
   "metadata": {},
   "outputs": [],
   "source": [
    "nodes, weights = gausslobatto(2)"
   ]
  },
  {
   "cell_type": "markdown",
   "metadata": {},
   "source": [
    "Lobatto doesn't work as the measure diverges at x = -1. Work with GaussRadau"
   ]
  },
  {
   "cell_type": "markdown",
   "metadata": {},
   "source": [
    "For comaprison the result of quadgk:\n",
    "\n",
    "-7.095188945138458e-17 + 1.206512260777823e-16im"
   ]
  },
  {
   "cell_type": "code",
   "execution_count": null,
   "metadata": {},
   "outputs": [],
   "source": [
    "[gaussradau(n) for n in 1:3][3][1]"
   ]
  },
  {
   "cell_type": "code",
   "execution_count": null,
   "metadata": {},
   "outputs": [],
   "source": [
    "quad =  [gaussradau(1000*n) for n in [1, 10, 100]]\n",
    "Ampl_resc(x) = 2/(1 - x)^2 * Ampl_1slice(a0, 2/(1-x) - 1/2, a2, b0, b1, ϕ0, ϕ2, m)\n",
    "I_monitor = [dot(quad[n][2], Ampl_resc.(quad[n][1])) for n in 1:3]"
   ]
  },
  {
   "cell_type": "code",
   "execution_count": null,
   "metadata": {},
   "outputs": [],
   "source": [
    "dot(weights, Ampl_resc.(nodes))"
   ]
  },
  {
   "cell_type": "markdown",
   "metadata": {},
   "source": [
    "It's fucking fast!"
   ]
  },
  {
   "cell_type": "markdown",
   "metadata": {},
   "source": [
    "### Do we get better results for faster oscillations?"
   ]
  },
  {
   "cell_type": "code",
   "execution_count": null,
   "metadata": {},
   "outputs": [],
   "source": [
    "b0sol = 0.0000123564\n",
    "b1sol = 0.000507388\n",
    "a1sol = 10.1146\n",
    "\n",
    "b0 = 1.0\n",
    "b1 = 2.0\n",
    "ϕ0 = 2.0\n",
    "ϕ2 = 4.0\n",
    "m = 10.0\n",
    "a0 = 10.0\n",
    "a2 = 30.0"
   ]
  },
  {
   "cell_type": "code",
   "execution_count": null,
   "metadata": {},
   "outputs": [],
   "source": [
    "plot(0.5:0.001:20.0, [real(Ampl_1slice(a0, a1, a2, b0, b1, ϕ0, ϕ2, m)) for a1 in 0.5:0.001:20.0])"
   ]
  },
  {
   "cell_type": "code",
   "execution_count": 12,
   "metadata": {},
   "outputs": [],
   "source": [
    "quad= [gaussradau(2000000 + i) for i in 1:2] \n",
    "Ampl_resc(x) = 2/(1 - x)^2 * Ampl_1slice(a0, 2/(1-x) - 1/2, a2, b0, b1, ϕ0, ϕ2, m)\n",
    "I_monitor = [dot(quad[n][2], Ampl_resc.(quad[n][1])) for n in 1:2]"
   ]
  },
  {
   "cell_type": "markdown",
   "metadata": {},
   "source": [
    "Oscillations not graspable by integration"
   ]
  },
  {
   "cell_type": "code",
   "execution_count": null,
   "metadata": {},
   "outputs": [],
   "source": [
    "#classical sol:\n",
    "#a1 -> 18.0916, b0 -> 1.27492, b1 -> 1.65973\n",
    "\n",
    "a1sol = 18.0916\n",
    "\n",
    "b0 = 1.0\n",
    "b1 = 1.5\n",
    "ϕ0 = 2.0\n",
    "ϕ2 = 2.5\n",
    "m = 0.1\n",
    "a0 = 12.0\n",
    "a2 = 30.0"
   ]
  },
  {
   "cell_type": "code",
   "execution_count": null,
   "metadata": {},
   "outputs": [],
   "source": [
    "plot(0.5:0.001:25.0, [real(Ampl_1slice(a0, a1, a2, b0, b1, ϕ0, ϕ2, m)) for a1 in 0.5:0.001:25.0])"
   ]
  },
  {
   "cell_type": "code",
   "execution_count": null,
   "metadata": {},
   "outputs": [],
   "source": [
    "quadgk_count(a1 -> Ampl_1slice(a0, a1, a2, b0, b1, ϕ0, ϕ2, m), 0.5, Inf, order=20)"
   ]
  },
  {
   "cell_type": "code",
   "execution_count": null,
   "metadata": {},
   "outputs": [],
   "source": [
    "nodes, weights =  gaussradau(10000)\n",
    "Ampl_resc(x, b1) = 2/(1 - x)^2 * Ampl_1slice(a0, 2/(1-x) - 1/2, a2, b0, b1, ϕ0, ϕ2, m)\n",
    "I = dot(weights, Ampl_resc.(nodes, 1.5)) "
   ]
  },
  {
   "cell_type": "code",
   "execution_count": null,
   "metadata": {},
   "outputs": [],
   "source": [
    "Z_test = [dot(weights, Ampl_resc.(nodes, 0.5 * b1)) for b1 in 2:50]"
   ]
  },
  {
   "cell_type": "code",
   "execution_count": null,
   "metadata": {},
   "outputs": [],
   "source": [
    "Z_class = [real(Ampl_1slice(a0, a1sol, a2, b0, b1, ϕ0, ϕ2, m)) for b1 in 1.0:0.01:10.0]\n",
    "scatter(1.0:0.5:25.0, real(Z_test)./maximum(real(Z_test)))\n",
    "#plot(1.0:0.01:10.0, Z_class./maximum(Z_class))"
   ]
  },
  {
   "cell_type": "markdown",
   "metadata": {},
   "source": [
    "There is an annoying interplay of solutions of the classical equations of motion and the speed of oscillations. More precesily, faster oscillations imply smaller solutions of b0 and b1, making it hard to resolve them with a discrete spectrum."
   ]
  },
  {
   "cell_type": "code",
   "execution_count": null,
   "metadata": {},
   "outputs": [],
   "source": [
    "#classical sol:\n",
    "#a1 -> 18.2271, b0 -> 2.04371, b1 -> 2.55839\n",
    "\n",
    "a1sol = 18.2271\n",
    "\n",
    "b0 = 2.0\n",
    "b1 = 2.5\n",
    "ϕ0 = 2.0\n",
    "ϕ2 = 2.5\n",
    "m = 0.08\n",
    "a0 = 12.0\n",
    "a2 = 30.0"
   ]
  },
  {
   "cell_type": "code",
   "execution_count": null,
   "metadata": {},
   "outputs": [],
   "source": [
    "plot(0.5:0.001:22.0, [real(Ampl_1slice(a0, a1, a2, b0, b1, ϕ0, ϕ2, m)) for a1 in 0.5:0.001:22.0])"
   ]
  },
  {
   "cell_type": "code",
   "execution_count": null,
   "metadata": {},
   "outputs": [],
   "source": [
    "quadgk_count(a1 -> Ampl_1slice(a0, a1, a2, b0, b1, ϕ0, ϕ2, m), 0.5, Inf, order=20)"
   ]
  },
  {
   "cell_type": "code",
   "execution_count": null,
   "metadata": {},
   "outputs": [],
   "source": [
    "Ampl_resc(x, b0, b1) = 2/(1 - x)^2 * Ampl_1slice(a0, 2/(1-x) - 1/2, a2, b0, b1, ϕ0, ϕ2, m)\n",
    "Ampl_resc_a1(x, b0, b1) = (2/(1-x) - 1/2) * 2/(1 - x)^2 * Ampl_1slice(a0, 2/(1-x) - 1/2, a2, b0, b1, ϕ0, ϕ2, m)\n",
    "#I = dot(weights, Ampl_resc.(nodes, 2.5)) "
   ]
  },
  {
   "cell_type": "code",
   "execution_count": null,
   "metadata": {},
   "outputs": [],
   "source": [
    "Z_test = [dot(weights, Ampl_resc.(nodes, 0.5 * b0, 0.5 * b1)) for b0 in 2:50, b1 in 2:50]"
   ]
  },
  {
   "cell_type": "code",
   "execution_count": 63,
   "metadata": {},
   "outputs": [],
   "source": [
    "Za1_test = [dot(weights, Ampl_resc_a1.(nodes, 0.5 * b0, 0.5 * b1)) for b0 in 2:50, b1 in 2:50];"
   ]
  },
  {
   "cell_type": "code",
   "execution_count": null,
   "metadata": {},
   "outputs": [],
   "source": [
    "Z_class = [real(Ampl_1slice(a0, a1sol, a2, b0, b1, ϕ0, ϕ2, m)) for b1 in 1.0:0.01:25.0]\n",
    "scatter(1.0:0.5:25.0, real(Z_test)./maximum(real(Z_test)))\n",
    "plot!(1.0:0.01:25.0, Z_class./maximum(Z_class))"
   ]
  },
  {
   "cell_type": "code",
   "execution_count": null,
   "metadata": {},
   "outputs": [],
   "source": [
    "scatter(real(acc_rect(Z_test, 49)))"
   ]
  },
  {
   "cell_type": "code",
   "execution_count": null,
   "metadata": {},
   "outputs": [],
   "source": [
    "wynn(acc_rect(Z_test, 49))"
   ]
  },
  {
   "cell_type": "code",
   "execution_count": null,
   "metadata": {},
   "outputs": [],
   "source": [
    "Zb0_test = [Z_test[b0-1,b1-1]*0.5*b0 for b0 in 2:50, b1 in 2:50]\n",
    "Zb1_test = [Z_test[b0-1,b1-1]*0.5*b1 for b0 in 2:50, b1 in 2:50]\n",
    "wynn(acc_rect(Zb1_test,49))/wynn(acc_rect(Z_test,49))"
   ]
  },
  {
   "cell_type": "code",
   "execution_count": null,
   "metadata": {},
   "outputs": [],
   "source": [
    "wynn(acc_rect(Zb0_test,49))/wynn(acc_rect(Z_test,49))"
   ]
  },
  {
   "cell_type": "code",
   "execution_count": null,
   "metadata": {},
   "outputs": [],
   "source": [
    "wynn(acc_rect(Za1_test,49))/wynn(acc_rect(Z_test,49))"
   ]
  },
  {
   "cell_type": "code",
   "execution_count": null,
   "metadata": {},
   "outputs": [],
   "source": [
    "#{a1 -> 35.709052590533977033, b0 -> 3.7191409095740925785,  b1 -> 4.6800987002406478786}\n",
    "\n",
    "a1sol = 35.709052590533977033\n",
    "\n",
    "b0 = 3.5\n",
    "b1 = 4.5\n",
    "ϕ0 = 2.0\n",
    "ϕ2 = 4.0\n",
    "m = 0.03\n",
    "a0 = 20.0\n",
    "a2 = 60.0\n",
    "\n",
    "#plot(0.5:0.001:60.0, [real(Ampl_1slice(a0, a1, a2, b0, b1, ϕ0, ϕ2, m)) for a1 in 0.5:0.001:60.0])\n",
    "plot(0.5:0.001:80.0, [S_Regge_III(a0, a1, b0) + S_Regge_III(a1, a2, b1) + (ϕ0 - ϕ2)^2*((w(a0, a1, b0)*w(a1, a2, b1))/(w(a0, a1, b0) + w(a1, a2, b1) - M(a0, a1, b0, m) - M(a1, a2, b1, m))) - ϕ0^2*(M(a0, a1, b0, m) + (w(a0, a1, b0)*(M(a0, a1, b0, m) + M(a1, a2, b1, m)))/(w(a0, a1, b0) + w(a1, a2, b1) - M(a0, a1, b0, m) - M(a1, a2, b1, m))) - ϕ2^2*(M(a1, a2, b1, m) + (w(a1, a2, b1)*(M(a0, a1, b0, m) + M(a1, a2, b1, m)))/(w(a0, a1, b0) + w(a1, a2, b1) - M(a0, a1, b0, m) - M(a1, a2, b1, m))) for a1 in 0.5:0.001:80.0])\n",
    "\n",
    "#a1 = 35.7\n",
    "#plot(0.5:0.001:80.0, [S_Regge_III(a0, a1, b0) + S_Regge_III(a1, a2, b1) + (ϕ0 - ϕ2)^2*((w(a0, a1, b0)*w(a1, a2, b1))/(w(a0, a1, b0) + w(a1, a2, b1) - M(a0, a1, b0, m) - M(a1, a2, b1, m))) - ϕ0^2*(M(a0, a1, b0, m) + (w(a0, a1, b0)*(M(a0, a1, b0, m) + M(a1, a2, b1, m)))/(w(a0, a1, b0) + w(a1, a2, b1) - M(a0, a1, b0, m) - M(a1, a2, b1, m))) - ϕ2^2*(M(a1, a2, b1, m) + (w(a1, a2, b1)*(M(a0, a1, b0, m) + M(a1, a2, b1, m)))/(w(a0, a1, b0) + w(a1, a2, b1) - M(a0, a1, b0, m) - M(a1, a2, b1, m))) for b1 in 0.5:0.001:80.0])"
   ]
  },
  {
   "cell_type": "markdown",
   "metadata": {},
   "source": [
    "We see basically three local extrema and between the action is almost constant. This leads to the very slow intermediate oscillations. Strangely enough, the solution mathematuca spits out only corresponds to the local minimum."
   ]
  },
  {
   "cell_type": "markdown",
   "metadata": {},
   "source": [
    "Notice that quadgk works best for integrals that are decaying over a length-scale x ~ 1. For a plynomial decay as here, this is indeed the case."
   ]
  },
  {
   "cell_type": "code",
   "execution_count": null,
   "metadata": {},
   "outputs": [],
   "source": [
    "Z_test = quadgk_count(a1 -> Ampl_1slice(a0, a1, a2, 1.0, 50.0, ϕ0, ϕ2, m), 0.5, Inf, rtol=1e-3)"
   ]
  },
  {
   "cell_type": "markdown",
   "metadata": {},
   "source": [
    "The quadrature algorithm can't be easily scaled up as there appear NaN evaluations for some components (and I don't know which...). Vegas gives similar results with minevals=1e5, so let's try this. "
   ]
  },
  {
   "cell_type": "code",
   "execution_count": null,
   "metadata": {},
   "outputs": [],
   "source": [
    "vegas((x,f) -> f[1] = real(1/((1 - x[1])^2) * Ampl_1slice(a0,  1/(1 - x[1]) - 1/2, a2, 1.0, 50.0, ϕ0, ϕ2, m)), 1, 1, minevals=1e5, maxevals=1e6)[1][1]"
   ]
  },
  {
   "cell_type": "code",
   "execution_count": 177,
   "metadata": {},
   "outputs": [],
   "source": [
    "Z_Im = readdlm(\"/home/jercheal/Documents/Physics/Articles/3d csomology/code/data/Z_Im_a0=20_a2=60_phi0=2_phi2=4_m=003.txt\")\n",
    "Z_Re = readdlm(\"/home/jercheal/Documents/Physics/Articles/3d csomology/code/data/Z_Re_a0=20_a2=60_phi0=2_phi2=4_m=003.txt\")\n",
    "Za1_Re = readdlm(\"/home/jercheal/Documents/Physics/Articles/3d csomology/code/data/Za1_Re_a0=20_a2=60_phi0=2_phi2=4_m=003.txt\")\n",
    "Za1_Im = readdlm(\"/home/jercheal/Documents/Physics/Articles/3d csomology/code/data/Za1_Im_a0=20_a2=60_phi0=2_phi2=4_m=003.txt\")\n",
    "Z = [Z_Re[i,j] + im*Z_Im[i,j] for i in 1:199, j in 1:199];\n",
    "Za1 = [Za1_Re[i,j] + im*Za1_Im[i,j] for i in 1:199, j in 1:199];\n",
    "Zb0 = [Z[b0-1, b1-1] * 0.5 * b0 for b0 in 2:200, b1 in 2:200]\n",
    "Zb1 = [Z[b0-1, b1-1] * 0.5 * b1 for b0 in 2:200, b1 in 2:200];"
   ]
  },
  {
   "cell_type": "code",
   "execution_count": null,
   "metadata": {},
   "outputs": [],
   "source": [
    "(1.0:0.5:100.0)[8]"
   ]
  },
  {
   "cell_type": "code",
   "execution_count": null,
   "metadata": {},
   "outputs": [],
   "source": [
    "Z_class = [real(Ampl_1slice(a0, a1sol, a2, 3.5, b1, ϕ0, ϕ2, m)) for b1 in 180.0:0.01:250.0]\n",
    "plot(180.0:0.01:250.0, Z_class, ylims=(-5e-23,5e-23))"
   ]
  },
  {
   "cell_type": "code",
   "execution_count": null,
   "metadata": {},
   "outputs": [],
   "source": [
    "scatter(1.0:0.5:25.0, real(Z[6,1:50])./maximum(real(Z[6,1:50])))\n",
    "Z_class = [real(Ampl_1slice(a0, a1sol, a2, 3.5, b1, ϕ0, ϕ2, m)) for b1 in 1.0:0.01:25.0]\n",
    "plot!(1.0:0.01:25.0, Z_class./maximum(Z_class))"
   ]
  },
  {
   "cell_type": "code",
   "execution_count": null,
   "metadata": {},
   "outputs": [],
   "source": [
    "scatter([real(wynn(acc_triang(Zb0, n))/wynn(acc_triang(Z, n))) for n in 2:100])"
   ]
  },
  {
   "cell_type": "code",
   "execution_count": null,
   "metadata": {},
   "outputs": [],
   "source": [
    "n = 55\n",
    "wynn(acc_triang(Zb0, n))/wynn(acc_triang(Z,n))"
   ]
  },
  {
   "cell_type": "code",
   "execution_count": null,
   "metadata": {},
   "outputs": [],
   "source": [
    "scatter(1.0:0.5:100.0, real(Za1[6,1:199]))"
   ]
  },
  {
   "cell_type": "code",
   "execution_count": null,
   "metadata": {},
   "outputs": [],
   "source": [
    "scatter(real(acc_triang(Za1, 199)))"
   ]
  },
  {
   "cell_type": "code",
   "execution_count": null,
   "metadata": {},
   "outputs": [],
   "source": [
    "wynn(acc_triang(Za1, 199))/wynn(acc_triang(Z, 199))"
   ]
  },
  {
   "cell_type": "markdown",
   "metadata": {},
   "source": [
    "intermediate pseud-saddle points are problematic"
   ]
  },
  {
   "cell_type": "markdown",
   "metadata": {},
   "source": [
    "For boundary data\\\n",
    "\\\n",
    "a0 = 20\\\n",
    "a2 = 60\\\n",
    "phi0 = 2\\\n",
    "phi2 = 4\\\n",
    "m = 0.02\\\n",
    "\\\n",
    "with classical solutions\\\n",
    "\\\n",
    "a1sol = 35.548348458574615016\\\n",
    "b0sol = 5.1271689388869371872\\\n",
    "b1sol = 8.0238112799056863566"
   ]
  },
  {
   "cell_type": "code",
   "execution_count": 183,
   "metadata": {},
   "outputs": [],
   "source": [
    "Z_Im = readdlm(\"/home/jercheal/Documents/Physics/Articles/3d csomology/code/data/Z_Im_a0=20_a2=60_phi0=2_phi2=4_m=002.txt\")\n",
    "Z_Re = readdlm(\"/home/jercheal/Documents/Physics/Articles/3d csomology/code/data/Z_Re_a0=20_a2=60_phi0=2_phi2=4_m=002.txt\")\n",
    "Za1_Re = readdlm(\"/home/jercheal/Documents/Physics/Articles/3d csomology/code/data/Za1_Re_a0=20_a2=60_phi0=2_phi2=4_m=002.txt\")\n",
    "Za1_Im = readdlm(\"/home/jercheal/Documents/Physics/Articles/3d csomology/code/data/Za1_Im_a0=20_a2=60_phi0=2_phi2=4_m=002.txt\")\n",
    "Z = [Z_Re[i,j] + im*Z_Im[i,j] for i in 1:199, j in 1:199];\n",
    "Za1 = [Za1_Re[i,j] + im*Za1_Im[i,j] for i in 1:199, j in 1:199];\n",
    "Zb0 = [Z[b0-1, b1-1] * 0.5 * b0 for b0 in 2:200, b1 in 2:200]\n",
    "Zb1 = [Z[b0-1, b1-1] * 0.5 * b1 for b0 in 2:200, b1 in 2:200];"
   ]
  },
  {
   "cell_type": "code",
   "execution_count": null,
   "metadata": {},
   "outputs": [],
   "source": [
    "(1.0:0.5:100.0)[9]"
   ]
  },
  {
   "cell_type": "code",
   "execution_count": null,
   "metadata": {},
   "outputs": [],
   "source": [
    "m = 0.02\n",
    "scatter(1.0:0.5:100.0, real(Z[9,1:199])./maximum(real(Z[9,1:199])))\n",
    "Z_class = [real(Ampl_1slice(a0, a1sol, a2, 5.0, b1, ϕ0, ϕ2, m)) for b1 in 1.0:0.01:100.0]\n",
    "plot!(1.0:0.01:100.0, Z_class./maximum(Z_class))"
   ]
  },
  {
   "cell_type": "code",
   "execution_count": null,
   "metadata": {},
   "outputs": [],
   "source": [
    "scatter(real([wynn(acc_triang(Zb0, n))/wynn(acc_triang(Z, n)) for n in 2:199]))"
   ]
  },
  {
   "cell_type": "code",
   "execution_count": null,
   "metadata": {},
   "outputs": [],
   "source": [
    "scatter(real([wynn(acc_triang(Zb1, n))/wynn(acc_triang(Z, n)) for n in 2:199]))"
   ]
  },
  {
   "cell_type": "code",
   "execution_count": null,
   "metadata": {},
   "outputs": [],
   "source": [
    "wynn(acc_triang(Za1, 199))/wynn(acc_triang(Z, 199))"
   ]
  },
  {
   "cell_type": "code",
   "execution_count": null,
   "metadata": {},
   "outputs": [],
   "source": [
    "scatter(real([wynn(acc_triang(Za1, n))/wynn(acc_triang(Z, n)) for n in 150:199]))"
   ]
  },
  {
   "cell_type": "markdown",
   "metadata": {},
   "source": [
    "Actually, how does Ampl_1slice behave in the b0,b1-variables when evaluated on a1sol? Do we find linear behavior?\\\n",
    "\\\n",
    "It is linear in the b but only at very large values. Before that, non-linearities of the exponent kick in and obscure convergence of wynn's algorithm. For the boundary looked at above with m = 1e-3, the situation is even worse with very large coefficients in front of the b0^(-1) terms and so on.\\\n",
    "\\\n",
    "It seems that with the variables given here, the bulk slice is extremely hard to tackle."
   ]
  },
  {
   "cell_type": "markdown",
   "metadata": {},
   "source": [
    "### Using classical scalar field solutions"
   ]
  },
  {
   "cell_type": "markdown",
   "metadata": {},
   "source": [
    "Let's consider the follwoing boundary data: "
   ]
  },
  {
   "cell_type": "code",
   "execution_count": null,
   "metadata": {},
   "outputs": [],
   "source": [
    "a0 = 20.0\n",
    "a2 = 60.0\n",
    "ϕ0 = 2.0\n",
    "ϕ2 = 4.0\n",
    "m = 0.02\n",
    "\n",
    "b0sol = 5.1271689388869371872\n",
    "b1sol = 8.0238112799056863566\n",
    "a1sol = 35.548348458574615016"
   ]
  },
  {
   "cell_type": "markdown",
   "metadata": {},
   "source": [
    "The bulk scalar field evaluated on the clasical solution is given by:"
   ]
  },
  {
   "cell_type": "code",
   "execution_count": null,
   "metadata": {},
   "outputs": [],
   "source": [
    "ϕ1sol = ϕ1_sol(a0, a1sol, a2, b0sol, b1sol, ϕ0, ϕ2, m)"
   ]
  },
  {
   "cell_type": "code",
   "execution_count": null,
   "metadata": {},
   "outputs": [],
   "source": [
    "plot(0.5:0.001:100.0, real([Ampl_1slice_phi1sol(a0, a1, a2, b0sol, b1sol, ϕ0, ϕ1sol, ϕ2, m) for a1 in 0.5:0.001:100.0]))"
   ]
  },
  {
   "cell_type": "markdown",
   "metadata": {},
   "source": [
    "Let's consider the path integrand with the classical solution injected "
   ]
  },
  {
   "cell_type": "code",
   "execution_count": null,
   "metadata": {},
   "outputs": [],
   "source": [
    "Z_test = [quadgk(a1 -> Ampl_1slice_phi1sol(a0, a1, a2, b0sol, 0.5 * b1, ϕ0, ϕ1sol, ϕ2, m), 0.0, Inf, rtol=1e-2, order=21)[1] for b1 in 2:50];\n",
    "Za1_test = [quadgk(a1 -> a1 * Ampl_1slice_phi1sol(a0, a1, a2, b0sol, 0.5 * b1, ϕ0, ϕ1sol, ϕ2, m), 0.0, Inf, rtol=1e-2, order=21)[1] for b1 in 2:50];\n",
    "Zb0_test = [Z_test[b1-1] * 0.5 * b1 for b1 in 2:50]"
   ]
  },
  {
   "cell_type": "code",
   "execution_count": null,
   "metadata": {},
   "outputs": [],
   "source": [
    "scatter(1.0:0.5:25.0, 2 .* real(Z_test)./maximum(real(Z_test)))\n",
    "plot!(1.0:0.01:25.0, real([Ampl_1slice_phi1sol(a0, a1sol, a2, b0sol, b1, ϕ0, ϕ1sol, ϕ2, m) for b1 in 1.0:0.01:25.0])./maximum(real([Ampl_1slice_phi1sol(a0, a1sol, a2, b0sol, b1, ϕ0, ϕ1sol, ϕ2, m) for b1 in 1.0:0.01:25.0])))"
   ]
  },
  {
   "cell_type": "code",
   "execution_count": null,
   "metadata": {},
   "outputs": [],
   "source": [
    "wynn(accumulate(+, Za1_test))/wynn(accumulate(+, Z_test))"
   ]
  },
  {
   "cell_type": "code",
   "execution_count": 67,
   "metadata": {},
   "outputs": [],
   "source": [
    "Z_test = [quadgk(a1 -> Ampl_1slice(10.0, a1, 30.0, 2.2009858371377780375, 0.5 * b1, 2.0, 4.0, 0.05), 0.5, Inf, rtol=1e-2, order=20) for b1 in 2:50]\n",
    "Za1_test = [quadgk(a1 -> a1 * Ampl_1slice(10.0, a1, 30.0, 2.2009858371377780375, 0.5 * b1, 2.0, 4.0, 0.05), 0.5, Inf, rtol=1e-2, order=20) for b1 in 2:50]"
   ]
  },
  {
   "cell_type": "markdown",
   "metadata": {},
   "source": [
    "### Trying again for boundary data m = 0.05 \\pm 0.001 as that worked (accidentally?) below"
   ]
  },
  {
   "cell_type": "code",
   "execution_count": null,
   "metadata": {},
   "outputs": [],
   "source": [
    "Z_Im_m0049 = readdlm(\"/home/jercheal/Documents/Physics/Articles/3d csomology/code/data/Z_Im_a0=10_a2=30_phi0=2_phi2=4_m=0049.txt\")\n",
    "Z_Re_m0049 = readdlm(\"/home/jercheal/Documents/Physics/Articles/3d csomology/code/data/Z_Re_a0=10_a2=30_phi0=2_phi2=4_m=0049.txt\")\n",
    "Za1_Re_m0049 = readdlm(\"/home/jercheal/Documents/Physics/Articles/3d csomology/code/data/Za1_Re_a0=10_a2=30=60_phi0=2_phi2=4_m=0049.txt\")\n",
    "Za1_Im_m0049 = readdlm(\"/home/jercheal/Documents/Physics/Articles/3d csomology/code/data/Za1_Im_a0=10_a2=30_phi0=2_phi2=4_m=0049.txt\")"
   ]
  },
  {
   "cell_type": "markdown",
   "metadata": {},
   "source": [
    "### Let's check the refined data from the cluster"
   ]
  },
  {
   "cell_type": "code",
   "execution_count": 2,
   "metadata": {},
   "outputs": [],
   "source": [
    "Z_Re_ref = vcat([readdlm(\"/home/jercheal/Documents/Physics/Articles/3d csomology/code/data/Z_Re_a0=10_a2=30_phi0=2_phi2=4_m=005_step=05.txt\")[1:99,1:99]], [readdlm(\"/home/jercheal/Documents/Physics/Articles/3d csomology/code/data/Z_Re_a0=10_a2=30_phi0=2_phi2=4_m=005_step=0$n.txt\") for n in [4, 3, 2, 1]])\n",
    "Z_Im_ref = vcat([readdlm(\"/home/jercheal/Documents/Physics/Articles/3d csomology/code/data/Z_Im_a0=10_a2=30_phi0=2_phi2=4_m=005_step=05.txt\")[1:99,1:99]] ,[readdlm(\"/home/jercheal/Documents/Physics/Articles/3d csomology/code/data/Z_Im_a0=10_a2=30_phi0=2_phi2=4_m=005_step=0$n.txt\") for n in [4, 3, 2, 1]])\n",
    "Z_ref = [[Z_Re_ref[n][i, j] + im*Z_Im_ref[n][i,j] for i in 1:length(Z_Re_ref[n][1,:]), j in 1:length(Z_Re_ref[n][1,:])] for n in 1:5]\n",
    "ref_steps = [0.5, 0.4, 0.3, 0.2, 0.1]\n",
    "b_ranges = [0.5:ref_steps[n]:50.0 for n in 1:5]\n",
    "Ns = [length(b_ranges[n]) for n in 1:5];\n",
    "Zb0_ref = [[Z_ref[n][i-1, j-1] * b_ranges[n][i] for i in 2:Ns[n], j in 2:Ns[n]] for n in 1:5]\n",
    "Zb1_ref = [[Z_ref[n][i-1, j-1] * b_ranges[n][j] for i in 2:Ns[n], j in 2:Ns[n]] for n in 1:5];"
   ]
  },
  {
   "cell_type": "code",
   "execution_count": 2,
   "metadata": {},
   "outputs": [],
   "source": [
    "a0 = 10.0\n",
    "a2 = 30.0\n",
    "ϕ0 = 2.0\n",
    "ϕ2 = 4.0\n",
    "m = 0.05\n",
    "\n",
    "b0sol = 2.2009858371377780375\n",
    "b1sol = 3.0415927095835082110\n",
    "a1sol = 17.834492747907284528;"
   ]
  },
  {
   "cell_type": "code",
   "execution_count": null,
   "metadata": {},
   "outputs": [],
   "source": [
    "b_ranges[1][4]\n",
    "b_ranges[2][5]\n",
    "b_ranges[3][7]\n",
    "b_ranges[4][10]\n",
    "b_ranges[5][18]"
   ]
  },
  {
   "cell_type": "code",
   "execution_count": null,
   "metadata": {},
   "outputs": [],
   "source": [
    "real(Z_ref[1][4,10])"
   ]
  },
  {
   "cell_type": "code",
   "execution_count": null,
   "metadata": {},
   "outputs": [],
   "source": [
    "scatter(b_ranges[1][2:Ns[1]], real(Z_ref[1][4,1:(Ns[1]-1)]), xlims=(0,10), ylims=(-4*10^(-17), 4*10^(-17)))\n",
    "scatter!(b_ranges[2][2:Ns[2]], real(Z_ref[2][5,1:(Ns[2]-1)]))\n",
    "scatter!(b_ranges[3][2:Ns[3]], real(Z_ref[3][7,1:(Ns[3]-1)]))\n",
    "scatter!(b_ranges[4][2:Ns[4]], real(Z_ref[4][10,1:(Ns[4]-1)]))\n",
    "scatter!(b_ranges[5][2:Ns[5]], real(Z_ref[5][18,1:(Ns[5]-1)]))"
   ]
  },
  {
   "cell_type": "markdown",
   "metadata": {},
   "source": [
    "#### Expectation values of b0 and b1"
   ]
  },
  {
   "cell_type": "code",
   "execution_count": null,
   "metadata": {},
   "outputs": [],
   "source": [
    "for i in 1:5\n",
    "    println(\"<b0>_step0$(5-i+1) = \", wynn(acc_rect(Zb0_ref[i], Ns[i]-1))/wynn(acc_rect(Z_ref[i], Ns[i]-1)))\n",
    "end"
   ]
  },
  {
   "cell_type": "code",
   "execution_count": null,
   "metadata": {},
   "outputs": [],
   "source": [
    "for i in 1:5\n",
    "    println(\"<b0>_step0$(5-i+1) = \", wynn(acc_triang(Zb0_ref[i], Ns[i]-1))/wynn(acc_triang(Z_ref[i], Ns[i]-1)))\n",
    "end"
   ]
  },
  {
   "cell_type": "code",
   "execution_count": null,
   "metadata": {},
   "outputs": [],
   "source": [
    "for i in 1:5\n",
    "    println(\"<b1>_step0$(5-i+1) = \", wynn(acc_rect(Zb1_ref[i], Ns[i]-1))/wynn(acc_rect(Z_ref[i], Ns[i]-1)))\n",
    "end"
   ]
  },
  {
   "cell_type": "code",
   "execution_count": null,
   "metadata": {},
   "outputs": [],
   "source": [
    "for i in 1:5\n",
    "    println(\"<b1>_step0$(5-i+1) = \", wynn(acc_triang(Zb1_ref[i], Ns[i]-1))/wynn(acc_triang(Z_ref[i], Ns[i]-1)))\n",
    "end"
   ]
  },
  {
   "cell_type": "markdown",
   "metadata": {},
   "source": [
    "#### Effective action vs. action on solutions of the eom"
   ]
  },
  {
   "cell_type": "code",
   "execution_count": null,
   "metadata": {},
   "outputs": [],
   "source": [
    "scatter(b_ranges[1][2:Ns[1]], real(Z_ref[1][4,1:(Ns[1]-1)]), xlims=(0,5), ylims=(-4*10^(-17), 4*10^(-17)))\n",
    "scatter!(b_ranges[2][2:Ns[2]], real(Z_ref[2][5,1:(Ns[2]-1)]))\n",
    "scatter!(b_ranges[3][2:Ns[3]], real(Z_ref[3][7,1:(Ns[3]-1)]))\n",
    "scatter!(b_ranges[4][2:Ns[4]], real(Z_ref[4][10,1:(Ns[4]-1)]))\n",
    "scatter!(b_ranges[5][2:Ns[5]], real(Z_ref[5][18,1:(Ns[5]-1)]))\n",
    "plot!(0.5:0.01:50.0, 50 .* real([Ampl_1slice(a0, a1sol, a2, b0sol, b1, ϕ0, ϕ2, m) for b1 in 0.5:0.01:50.0]))"
   ]
  },
  {
   "cell_type": "markdown",
   "metadata": {},
   "source": [
    "### Is the measure from the scalar field integration messing stuff up?"
   ]
  },
  {
   "cell_type": "code",
   "execution_count": null,
   "metadata": {},
   "outputs": [],
   "source": [
    "function Ampl_1slice_test1(a0::Float64, a1::Float64, a2::Float64, b0::Float64, b1::Float64, ϕ0::Float64, ϕ2::Float64, m::Float64)\n",
    "\n",
    "    Ampl_face_SL(a1) * μcont_TL(a0, a1, b0)^2 * μcont_TL(a1, a2, b1)^2 *exp(im * (S_Regge_III(a0, a1, b0) + S_Regge_III(a1, a2, b1))) * exp(im * S_phi_eff(a0, a1, a2, b0, b1, ϕ0, ϕ2, m)) \n",
    "\n",
    "end\n",
    "\n",
    "function Ampl_1slice_test2(a0::Float64, a1::Float64, a2::Float64, b0::Float64, b1::Float64, ϕ0::Float64, ϕ2::Float64, m::Float64)\n",
    "\n",
    "    Ampl_face_SL(a1) * μcont_TL(a0, a1, b0) * μcont_TL(a1, a2, b1) *exp(im * (S_Regge_III(a0, a1, b0) + S_Regge_III(a1, a2, b1))) * exp(im * S_phi_eff(a0, a1, a2, b0, b1, ϕ0, ϕ2, m)) \n",
    "\n",
    "end\n",
    "\n",
    "a0 = 10.0\n",
    "a2 = 30.0\n",
    "ϕ0 = 2.0\n",
    "ϕ2 = 4.0\n",
    "m = 0.005\n",
    "\n",
    "b0sol = 4.13169\n",
    "b1sol = 13.3296\n",
    "a1sol = 16.9715\n",
    "\n",
    "plot(0.5:0.01:100, real([Ampl_1slice_test(a0, a1, a2, b0sol, b1sol-5, ϕ0, ϕ2, m) for a1 in 0.5:0.01:100]))"
   ]
  },
  {
   "cell_type": "code",
   "execution_count": null,
   "metadata": {},
   "outputs": [],
   "source": [
    "#Z_class = [Ampl_1slice(a0, a1sol, a2, b0sol, b1, ϕ0, ϕ2, m) for b1 in 1.0:0.01:30.0];\n",
    "#Z_class_disc = [Ampl_1slice(a0, a1sol, a2, b0sol, b1, ϕ0, ϕ2, m) for b1 in 1.0:0.5:30.0];\n",
    "#Zb1_class_disc = [b1 * Ampl_1slice(a0, a1sol, a2, b0sol, b1, ϕ0, ϕ2, m) for b1 in 1.0:0.5:30.0];\n",
    "#Z_test1 = [quadgk(a1 -> Ampl_1slice_test1(a0, a1, a2, b0sol, b1, ϕ0, ϕ2, m), 0.5, Inf, rtol=1e-3)[1] for b1 in 1.0:0.5:30.0]\n",
    "#Z_test2 = [quadgk(a1 -> Ampl_1slice_test2(a0, a1, a2, b0sol, b1, ϕ0, ϕ2, m), 0.5, Inf, rtol=1e-3)[1] for b1 in 1.0:0.5:30.0];\n",
    "#Z_test3 = [quadgk(a1 -> Ampl_1slice_ESF(a0, a1, a2, b0sol, b1, ϕ0, ϕ2, m), 0.5, Inf, rtol=1e-3)[1] for b1 in 1.0:0.5:30.0];\n",
    "Z_test4 = [quadgk(a1 -> Ampl_1slice(a0, a1, a2, b0sol, b1, ϕ0, ϕ2, m), 0.5, Inf, rtol=1e-3)[1] for b1 in 1.0:0.5:30.0];\n",
    "#Za1_test_no_phi_measure = [quadgk(a1 -> a1 * Ampl_1slice_test(a0, a1, a2, b0sol, b1, ϕ0, ϕ2, m), 0.5, Inf, rtol=1e-3)[1] for b1 in 1.0:0.5:30.0]\n",
    "#Zb1_test_no_phi_measure = [Z_test_no_phi_measure[b1 - 1] * 0.5 * b1 for b1 in 2:60];\n",
    "#Z_test_phi_measure = [quadgk(a1 -> Ampl_1slice_ESF(a0, a1, a2, b0sol, b1, ϕ0, ϕ2, m), 0.5, Inf, rtol=1e-3)[1] for b1 in range(1.0, 10.0, 100)];"
   ]
  },
  {
   "cell_type": "code",
   "execution_count": null,
   "metadata": {},
   "outputs": [],
   "source": [
    "plot(0.5:0.01:100, real([Ampl_face_SL(a1) * Ampl_vertex_III_ESF(a0, a1, b0sol) * Ampl_vertex_III_ESF(a1, a2, b1sol) * exp(im*S_phi_eff(a0, a1, a2, b0sol, b1sol, ϕ0, ϕ2, m)) for a1 in 0.5:0.01:100]))\n",
    "plot!(0.5:0.01:100, real([Ampl_1slice_ESF(a0, a1, a2, b0sol, b1sol, ϕ0, ϕ2, m) for a1 in 0.5:0.01:100]))"
   ]
  },
  {
   "cell_type": "code",
   "execution_count": null,
   "metadata": {},
   "outputs": [],
   "source": [
    "plt = plot(1.0:0.01:30.0,  real(Z_class)./maximum(real(Z_class)))\n",
    "#scatter!(1.0:0.5:20.0, real(Z_test_phi_measure)./maximum(real(Z_test_phi_measure)))\n",
    "scatter!(1.0:0.5:30.0, real(Z_test_no_phi_measure)./maximum(real(Z_test_no_phi_measure)))\n",
    "display(plt)"
   ]
  },
  {
   "cell_type": "code",
   "execution_count": null,
   "metadata": {},
   "outputs": [],
   "source": [
    "wynn(accumulate(+, Zb1_class_disc))/wynn(accumulate(+, Z_class_disc))"
   ]
  },
  {
   "cell_type": "code",
   "execution_count": null,
   "metadata": {},
   "outputs": [],
   "source": [
    "wynn(accumulate(+, Zb1_test_no_phi_measure))/wynn(accumulate(+, Z_test_no_phi_measure))"
   ]
  },
  {
   "cell_type": "code",
   "execution_count": null,
   "metadata": {},
   "outputs": [],
   "source": [
    "wynn(accumulate(+, Za1_test_no_phi_measure))/wynn(accumulate(+, Z_test_no_phi_measure))"
   ]
  },
  {
   "cell_type": "markdown",
   "metadata": {},
   "source": [
    "No, it is not the measure that is breaking things! At least so far..."
   ]
  },
  {
   "cell_type": "markdown",
   "metadata": {},
   "source": [
    "### Comparing the l1-integration to the correct classical amplitude with solutions injected"
   ]
  },
  {
   "cell_type": "code",
   "execution_count": 26,
   "metadata": {},
   "outputs": [],
   "source": [
    "a0 = 10.0\n",
    "a2 = 30.0\n",
    "ϕ0 = 2.0\n",
    "ϕ2 = 4.0\n",
    "m = 0.005\n",
    "\n",
    "b0sol = 4.13169\n",
    "b1sol = 13.3296\n",
    "a1sol = 16.9715\n",
    "\n",
    "a1_sol_b1 = [28.5144, 27.7689, 27.0258, 26.2891, 25.5636, 24.8544, 24.1666, 23.5054, 22.8752, 22.2793, 21.7201, 21.1985, 20.7143, 20.2663, 19.8528, 19.4714, 19.1197, 18.795, 18.495, 18.2172, 17.9596, 17.7201, 17.4969, 17.2885, 17.0934, 16.9104, 16.7383, 16.5761, 16.4229, 16.278, 16.1406, 16.0101, 15.886, 15.7676, 15.6547, 15.5467, 15.4433, 15.3443, 15.2491, 15.1577, 15.0698, 14.9851, 4.9034, 14.8246, 14.7484, 14.6748, 14.6035, 14.5344, 14.4675, 14.4026, 14.3396, 14.2784, 14.2189, 14.161, 14.1047, 14.0498, 13.9964, 13.9443, 13.8935];\n",
    "\n",
    "b1_range = 1.0:0.5:30.0\n",
    "Z_class = [Ampl_1slice_test1(a0, a1_sol_b1[n], a2, b0sol, b1_range[n], ϕ0, ϕ2, m) for n in 1:59];"
   ]
  },
  {
   "cell_type": "code",
   "execution_count": null,
   "metadata": {},
   "outputs": [],
   "source": []
  },
  {
   "cell_type": "code",
   "execution_count": null,
   "metadata": {},
   "outputs": [],
   "source": [
    "real(Z_class)./maximum(real(Z_class))"
   ]
  },
  {
   "cell_type": "code",
   "execution_count": null,
   "metadata": {},
   "outputs": [],
   "source": [
    "scatter(b1_range,  real(Z_class)./maximum(real(Z_class))) #classical solution injected\n",
    "#scatter!(1.0:0.5:20.0, real(Z_test_phi_measure)./maximum(real(Z_test_phi_measure)))\n",
    "#scatter!(b1_range, real(Z_test1)./maximum(real(Z_test1))) #modified ESF amplitude and no phi measure\n",
    "#scatter!(b1_range, real(Z_test2)./maximum(real(Z_test2))) #ESF amplitude and no phi measure\n",
    "scatter!(b1_range, real(Z_test3)./maximum(real(Z_test3))) #ESF amplitude\n",
    "scatter!(b1_range, real(Z_test4)./maximum(real(Z_test4))) #our amplitude"
   ]
  },
  {
   "cell_type": "markdown",
   "metadata": {},
   "source": [
    "Blue: classical amplitude evaluated on the solution asol(b0, b1)\\\n",
    "Red: Modified ESF amplitude without phi measure and\\\n",
    "Green: ESF amplitude withput phi measure\\\n",
    "Purple: ESF amplitude with phi measure\n"
   ]
  },
  {
   "cell_type": "markdown",
   "metadata": {},
   "source": [
    "Let's give it a try with the modified ESF amplitude without phi measure"
   ]
  },
  {
   "cell_type": "code",
   "execution_count": null,
   "metadata": {},
   "outputs": [],
   "source": [
    "@btime vegas((x,f) -> f[1] = real(1/((1 - x[1])^2) * Ampl_1slice(a0, 1/(1 - x[1]) - 1/2, a2, 1.0, 2.0, ϕ0, ϕ2, m)), 1, 1, minevals=1e3, maxevals=1e4)[1][1]"
   ]
  },
  {
   "cell_type": "code",
   "execution_count": null,
   "metadata": {},
   "outputs": [],
   "source": [
    "Z = [vegas((x,f) -> f[1] = real(1/((1 - x[1])^2) * Ampl_1slice_test1(a0, 1/(1 - x[1]) - 1/2, a2, b0, b1, ϕ0, ϕ2, m)), 1, 1, minevals=1e3, maxevals=1e4)[1][1] + im*(\n",
    "vegas((x,f) -> f[1] = imag(1/((1 - x[1])^2) * Ampl_1slice_test1(a0, 1/(1 - x[1]) - 1/2, a2, b0, b1, ϕ0, ϕ2, m)), 1, 1, minevals=1e3, maxevals=1e4)[1][1]) for b0 in 1.0:0.5:50.0, b1 in 1.0:0.5:50.0]"
   ]
  },
  {
   "cell_type": "code",
   "execution_count": 57,
   "metadata": {},
   "outputs": [],
   "source": [
    "Zb0 = [Z[i,j] * (1.0:0.5:50.0)[i] for i in 1:99, j in 1: 99]\n",
    "Zb1 = [Z[i,j] * (1.0:0.5:50.0)[j] for i in 1:99, j in 1: 99];"
   ]
  },
  {
   "cell_type": "code",
   "execution_count": null,
   "metadata": {},
   "outputs": [],
   "source": [
    "wynn(acc_rect(Zb1, 99))/wynn(acc_rect(Z, 99))"
   ]
  },
  {
   "cell_type": "markdown",
   "metadata": {},
   "source": [
    "Results are not unreasonable, obtained with Ampl_1slice_test1. However, the low mass value of 5e-3 makes the convergence of Wynn harder. Let's try a mass of 0.05"
   ]
  },
  {
   "cell_type": "code",
   "execution_count": 3,
   "metadata": {},
   "outputs": [],
   "source": [
    "a0 = 10.0\n",
    "a2 = 30.0\n",
    "ϕ0 = 2.0\n",
    "ϕ2 = 4.0\n",
    "m = 0.05\n",
    "\n",
    "a1sols = readdlm(\"/home/jercheal/Documents/Physics/Articles/3d csomology/code/data/l1sols_l0=10-l2=30-phi0=2-phi2=4-m=005.txt\");"
   ]
  },
  {
   "cell_type": "code",
   "execution_count": 24,
   "metadata": {},
   "outputs": [],
   "source": [
    "#Z_m005 = [vegas((x,f) -> f[1] = real(1/((1 - x[1])^2) * Ampl_1slice_test1(a0, 1/(1 - x[1]) - 1/2, a2, b0, b0, ϕ0, ϕ2, m)), 1, 1, minevals=1e4, maxevals=1e5)[1][1] + im*(vegas((x,f) -> f[1] = imag(1/((1 - x[1])^2) * Ampl_1slice_test1(a0, 1/(1 - x[1]) - 1/2, a2, b0, b0, ϕ0, ϕ2, m)), 1, 1, minevals=1e4, maxevals=1e5)[1][1]) for b0 in 1.0:0.5:50.0]\n",
    "Z_m005_Re = readdlm(\"/home/jercheal/Documents/Physics/Articles/3d csomology/code/data/Z_toy_Re_a0=10_a2=30_phi0=2_phi2=4_m=005.txt\");\n",
    "Z_m005_Im = readdlm(\"/home/jercheal/Documents/Physics/Articles/3d csomology/code/data/Z_toy_Im_a0=10_a2=30_phi0=2_phi2=4_m=005.txt\");\n",
    "Z_m005 = [Z_m005_Re[i,j] + im * Z_m005_Im[i,j] for i in 1:98, j in 1:98];\n",
    "Zb0_m005 = [Z_m005[b0-2,b1-2]*0.5*b0 for b0 in 3:100, b1 in 3:100];\n",
    "Zb1_m005 = [Z_m005[b0-2,b1-2]*0.5*b1 for b0 in 3:100, b1 in 3:100];"
   ]
  },
  {
   "cell_type": "code",
   "execution_count": null,
   "metadata": {},
   "outputs": [],
   "source": [
    "a1sols"
   ]
  },
  {
   "cell_type": "code",
   "execution_count": null,
   "metadata": {},
   "outputs": [],
   "source": [
    "Z_class = [Ampl_1slice_test1(a0, a1sols[b0-1,b1-1], a2, 0.5*b0, 0.5*b1, ϕ0, ϕ2, m) for b0 in 3:100, b1 in 3:100]\n",
    "Zb0_class = [Ampl_1slice_test1(a0, a1sols[b0-1,b1-1], a2, 0.5*b0, 0.5*b1, ϕ0, ϕ2, m)*0.5*b0 for b0 in 3:100, b1 in 3:100]\n",
    "Zb1_class = [Ampl_1slice_test1(a0, a1sols[b0-1,b1-1], a2, 0.5*b0, 0.5*b1, ϕ0, ϕ2, m)*0.5*b1 for b0 in 3:100, b1 in 3:100]\n",
    "scatter(real(diag(Z_class))./maximum(real(diag(Z_class))))\n",
    "scatter!(real(diag(Z_m005))./maximum(real(diag(Z_m005))))"
   ]
  },
  {
   "cell_type": "code",
   "execution_count": null,
   "metadata": {},
   "outputs": [],
   "source": [
    "wynn(acc_rect(Zb0_m005, 98))/wynn(acc_rect(Z_m005, 98))"
   ]
  },
  {
   "cell_type": "code",
   "execution_count": null,
   "metadata": {},
   "outputs": [],
   "source": [
    "wynn(acc_rect(Zb0_class, 98))/wynn(acc_rect(Z_class, 98))"
   ]
  },
  {
   "cell_type": "code",
   "execution_count": 69,
   "metadata": {},
   "outputs": [],
   "source": [
    "Zb0_m005 = [Z[i,j] * (1.0:0.5:50.0)[i] for i in 1:99, j in 1: 99]\n",
    "Zb1_m005 = [Z[i,j] * (1.0:0.5:50.0)[j] for i in 1:99, j in 1: 99];"
   ]
  },
  {
   "cell_type": "code",
   "execution_count": null,
   "metadata": {},
   "outputs": [],
   "source": [
    "scatter(real(acc_rect(Z_m005, 99)))"
   ]
  },
  {
   "cell_type": "code",
   "execution_count": null,
   "metadata": {},
   "outputs": [],
   "source": [
    "wynn(acc_rect(Zb1_m005, 99))/wynn(acc_rect(Z_m005, 99))"
   ]
  },
  {
   "cell_type": "code",
   "execution_count": 17,
   "metadata": {},
   "outputs": [],
   "source": [
    "Z_m005_Re = readdlm(\"/home/jercheal/Documents/Physics/Articles/3d csomology/code/data/Z_toy_Re_a0=10_a2=30_phi0=2_phi2=4_m=005.txt\");\n",
    "Z_m005_Im = readdlm(\"/home/jercheal/Documents/Physics/Articles/3d csomology/code/data/Z_toy_Im_a0=10_a2=30_phi0=2_phi2=4_m=005.txt\");\n",
    "Za1_m005_Re = readdlm(\"/home/jercheal/Documents/Physics/Articles/3d csomology/code/data/Za1_toy_Re_a0=10_a2=30_phi0=2_phi2=4_m=005.txt\");\n",
    "Za1_m005_Im = readdlm(\"/home/jercheal/Documents/Physics/Articles/3d csomology/code/data/Za1_toy_Im_a0=10_a2=30_phi0=2_phi2=4_m=005.txt\");\n",
    "Z_m005 = [Z_m005_Re[i,j] + im * Z_m005_Im[i,j] for i in 1:399, j in 1:399];\n",
    "Za1_m005 = [Za1_m005_Re[i,j] + im * Za1_m005_Im[i,j] for i in 1:399, j in 1:399];\n",
    "Zb0_m005 = [Z_m005[b0-1,b1-1]*0.5*b0 for b0 in 2:400, b1 in 2:400];\n",
    "Zb1_m005 = [Z_m005[b0-1,b1-1]*0.5*b1 for b0 in 2:400, b1 in 2:400];"
   ]
  },
  {
   "cell_type": "code",
   "execution_count": null,
   "metadata": {},
   "outputs": [],
   "source": [
    "scatter(real(Z_m005[200,1:100]))"
   ]
  },
  {
   "cell_type": "code",
   "execution_count": null,
   "metadata": {},
   "outputs": [],
   "source": [
    "scatter(real([wynn(acc_rect(Zb0_m005, 2*n))/wynn(acc_rect(Z_m005,2*n)) for n in 100:199]))"
   ]
  },
  {
   "cell_type": "code",
   "execution_count": null,
   "metadata": {},
   "outputs": [],
   "source": [
    "wynn(acc_triang(Za1_m005, 399))/wynn(acc_triang(Z_m005, 399))"
   ]
  },
  {
   "cell_type": "markdown",
   "metadata": {},
   "source": [
    "# Final plots and computations"
   ]
  },
  {
   "cell_type": "markdown",
   "metadata": {},
   "source": [
    "## Loading data from the cluster"
   ]
  },
  {
   "cell_type": "code",
   "execution_count": 2,
   "metadata": {},
   "outputs": [],
   "source": [
    "a0 = 10.0\n",
    "a2 = 30.0\n",
    "ϕ0 = 2.0\n",
    "ϕ2 = 4.0\n",
    "m = 0.05\n",
    "\n",
    "b0sol = 2.20099\n",
    "b1sol = 3.04159\n",
    "a1sol = 17.8345\n",
    "\n",
    "a1sols = readdlm(\"/home/jercheal/Documents/Physics/Articles/3d csomology/code/data/l1sols_l0=10-l2=30-phi0=2-phi2=4-m=005.txt\");"
   ]
  },
  {
   "cell_type": "code",
   "execution_count": 9,
   "metadata": {},
   "outputs": [],
   "source": [
    "Z_class = [Ampl_1slice(a0, a1sols[b0-1,b1-1], a2, 0.5*b0, 0.5*b1, ϕ0, ϕ2, m) for b0 in 2:100, b1 in 2:100];\n",
    "Z_class_toy1 = [Ampl_1slice_toy(a0, a1sols[b0-1,b1-1], a2, 0.5*b0, 0.5*b1, ϕ0, ϕ2, m) for b0 in 2:100, b1 in 2:100];\n",
    "Z_class_toy2 = [Ampl_1slice_toy2(a0, a1sols[b0-1,b1-1], a2, 0.5*b0, 0.5*b1, ϕ0, ϕ2, m) for b0 in 2:100, b1 in 2:100];\n",
    "Z_class_toy1_phi_measure = [Ampl_1slice_toy_phi_measure(a0, a1sols[b0-1,b1-1], a2, 0.5*b0, 0.5*b1, ϕ0, ϕ2, m) for b0 in 2:100, b1 in 2:100];\n",
    "Z_class_toy2_phi_measure = [Ampl_1slice_toy2_phi_measure(a0, a1sols[b0-1,b1-1], a2, 0.5*b0, 0.5*b1, ϕ0, ϕ2, m) for b0 in 2:100, b1 in 2:100];"
   ]
  },
  {
   "cell_type": "code",
   "execution_count": 42,
   "metadata": {},
   "outputs": [
    {
     "data": {
      "text/plain": [
       "399×399 Matrix{ComplexF64}:\n",
       "  1.97442-0.0267373im  -1.94689+9.10676im  …   1.75851e5-1.33252e5im\n",
       " -7.89392+5.71305im    -17.5843-15.3267im     -1.08864e6+3.76008e5im\n",
       " -8.55602-36.6784im     104.809-38.8129im      1.42089e6+1.36924e6im\n",
       "  97.1324-3.12764im     15.9126+251.947im      2.25594e6-8.96417e5im\n",
       "   39.822+201.249im    -509.112+165.265im       -2056.56+2280.96im\n",
       " -306.391+226.492im    -728.814-669.017im  …    -1260.38+2135.83im\n",
       "  -629.15-142.537im    -77.4086-1665.69im       -4077.58-3846.61im\n",
       " -688.691-746.034im     1199.54-2321.02im       -1352.84-5254.73im\n",
       " -566.675-1399.26im     2660.75-2809.29im        4709.28+8714.22im\n",
       "  -532.41-2075.44im     3967.46-3753.19im        -5692.0+4586.39im\n",
       "         ⋮                                 ⋱  \n",
       " -10771.2+10743.2im    -35342.7+10545.5im  …  -6.91703e5-1.43087e6im\n",
       "  8608.56-12508.7im     23623.1-28817.9im      2.31849e7-59745.9im\n",
       " -6204.71+13863.4im    -3014.99+36788.7im     -2.11191e7-2.64055e7im\n",
       "  3483.07-14765.1im    -18619.1-31838.1im     -1.92589e7+2.07378e7im\n",
       " -699.343+15160.7im     33637.6+15514.1im     -2.52111e7-1.00371e7im\n",
       " -2206.62-15052.8im    -36290.8+6747.19im  …   2.17013e7-1.37224e7im\n",
       "  4956.71+14310.3im     25951.9-26332.9im     -2.58849e7+4.07587e6im\n",
       " -7694.02-12970.3im    -5576.36+36703.6im      3.77534e7+9.00356e6im\n",
       "  10128.3+11276.7im    -16647.3-32964.1im     -7.93719e6-1.90861e7im"
      ]
     },
     "metadata": {},
     "output_type": "display_data"
    }
   ],
   "source": [
    "Z_Re = readdlm(\"/home/jercheal/Documents/Physics/Articles/3d csomology/code/data/Z_Re_a0=10_a2=30_phi0=2_phi2=4_m=005.txt\");\n",
    "Z_Im = readdlm(\"/home/jercheal/Documents/Physics/Articles/3d csomology/code/data/Z_Im_a0=10_a2=30_phi0=2_phi2=4_m=005.txt\");\n",
    "Z = [Z_Re[i,j] + im * Z_Im[i,j] for i in 1:399, j in 1:399];\n",
    "\n",
    "Zb0 = [Z[b0-1,b1-1]*0.5*b0 for b0 in 2:400, b1 in 2:400];\n",
    "Zb1 = [Z[b0-1,b1-1]*0.5*b1 for b0 in 2:400, b1 in 2:400];\n",
    "\n",
    "Za1_Re = readdlm(\"/home/jercheal/Documents/Physics/Articles/3d csomology/code/data/Za1_Re_a0=10_a2=30_phi0=2_phi2=4_m=005.txt\");\n",
    "Za1_Im = readdlm(\"/home/jercheal/Documents/Physics/Articles/3d csomology/code/data/Za1_Im_a0=10_a2=30_phi0=2_phi2=4_m=005.txt\");\n",
    "Za1 = [Za1_Re[i,j] + im*Za1_Im[i,j] for i in 1:399, j in 1:399];\n",
    "\n",
    "Z_Re_toy1 = readdlm(\"/home/jercheal/Documents/Physics/Articles/3d csomology/code/data/Z_toy_Re_a0=10_a2=30_phi0=2_phi2=4_m=005.txt\");\n",
    "Z_Im_toy1 = readdlm(\"/home/jercheal/Documents/Physics/Articles/3d csomology/code/data/Z_toy_Im_a0=10_a2=30_phi0=2_phi2=4_m=005.txt\");\n",
    "Z_toy1 = [Z_Re_toy1[i,j] + im * Z_Im_toy1[i,j] for i in 1:399, j in 1:399];\n",
    "\n",
    "Zb0_toy1 = [Z_toy1[b0-1,b1-1]*0.5*b0 for b0 in 2:400, b1 in 2:400];\n",
    "Zb1_toy1 = [Z_toy1[b0-1,b1-1]*0.5*b1 for b0 in 2:400, b1 in 2:400];\n",
    "\n",
    "Za1_toy1_Re = readdlm(\"/home/jercheal/Documents/Physics/Articles/3d csomology/code/data/Za1_toy_Re_a0=10_a2=30_phi0=2_phi2=4_m=005.txt\");\n",
    "Za1_toy1_Im = readdlm(\"/home/jercheal/Documents/Physics/Articles/3d csomology/code/data/Za1_toy_Im_a0=10_a2=30_phi0=2_phi2=4_m=005.txt\");\n",
    "Za1_toy1 = [Za1_toy1_Re[i,j] + im*Za1_toy1_Im[i,j] for i in 1:399, j in 1:399];\n",
    "\n",
    "Z_Re_toy2 = readdlm(\"/home/jercheal/Documents/Physics/Articles/3d csomology/code/data/Z_toy2_Re_a0=10_a2=30_phi0=2_phi2=4_m=005.txt\");\n",
    "Z_Im_toy2 = readdlm(\"/home/jercheal/Documents/Physics/Articles/3d csomology/code/data/Z_toy2_Im_a0=10_a2=30_phi0=2_phi2=4_m=005.txt\");\n",
    "Z_toy2 = [Z_Re_toy2[i,j] + im * Z_Im_toy2[i,j] for i in 1:399, j in 1:399];\n",
    "\n",
    "Zb0_toy2 = [Z_toy2[b0-1,b1-1]*0.5*b0 for b0 in 2:400, b1 in 2:400];\n",
    "Zb1_toy2 = [Z_toy2[b0-1,b1-1]*0.5*b1 for b0 in 2:400, b1 in 2:400];\n",
    "\n",
    "Za1_toy2_Re = readdlm(\"/home/jercheal/Documents/Physics/Articles/3d csomology/code/data/Za1_toy2_Re_a0=10_a2=30_phi0=2_phi2=4_m=005.txt\");\n",
    "Za1_toy2_Im = readdlm(\"/home/jercheal/Documents/Physics/Articles/3d csomology/code/data/Za1_toy2_Im_a0=10_a2=30_phi0=2_phi2=4_m=005.txt\");\n",
    "Za1_toy2 = [Za1_toy2_Re[i,j] + im*Za1_toy2_Im[i,j] for i in 1:399, j in 1:399];\n",
    "\n",
    "#Z_Re_toy1_phi_measure = readdlm(\"/home/jercheal/Documents/Physics/Articles/3d csomology/code/data/Z_toy_Re_a0=10_a2=30_phi0=2_phi2=4_m=005.txt\");\n",
    "#Z_Im_toy1_phi_measure = readdlm(\"/home/jercheal/Documents/Physics/Articles/3d csomology/code/data/Z_toy_Im_a0=10_a2=30_phi0=2_phi2=4_m=005.txt\");\n",
    "#Z_toy1_phi_measure = [Z_Re_toy1_phi_measure[i,j] + im * Z_Im_toy1_phi_measure[i,j] for i in 1:399, j in 1:399];\n",
    "\n",
    "Z_Re_toy2_phi_measure = readdlm(\"/home/jercheal/Documents/Physics/Articles/3d csomology/code/data/Z_toy2_phi_measure_Re_a0=10_a2=30_phi0=2_phi2=4_m=005.txt\");\n",
    "Z_Im_toy2_phi_measure = readdlm(\"/home/jercheal/Documents/Physics/Articles/3d csomology/code/data/Z_toy2_phi_measure_Im_a0=10_a2=30_phi0=2_phi2=4_m=005.txt\");\n",
    "Z_toy2_phi_measure = [Z_Re_toy2_phi_measure[i,j] + im * Z_Im_toy2_phi_measure[i,j] for i in 1:399, j in 1:399];\n",
    "\n",
    "Zb0_toy2_phi_measure = [Z_toy2_phi_measure[b0-1,b1-1]*0.5*b0 for b0 in 2:400, b1 in 2:400];\n",
    "Zb1_toy2_phi_measure = [Z_toy2_phi_measure[b0-1,b1-1]*0.5*b1 for b0 in 2:400, b1 in 2:400];\n",
    "\n",
    "#Za1_toy2_phi_measure_Re = readdlm(\"/home/jercheal/Documents/Physics/Articles/3d csomology/code/data/Za1_toy2_phi_measure_Re_a0=10_a2=30_phi0=2_phi2=4_m=005.txt\");\n",
    "#Za1_toy2_phi_measure_Im = readdlm(\"/home/jercheal/Documents/Physics/Articles/3d csomology/code/data/Za1_toy2_phi_measure_Im_a0=10_a2=30_phi0=2_phi2=4_m=005.txt\");\n",
    "#Za1_toy2_phi_measure = [Za1_toy2_phi_measure_Re[i,j] + im*Za1_toy2_phi_measurze_Im[i,j] for i in 1:399, j in 1:399];"
   ]
  },
  {
   "cell_type": "markdown",
   "metadata": {},
   "source": [
    "## Effective amplitudes vs. classical solution injections"
   ]
  },
  {
   "cell_type": "markdown",
   "metadata": {},
   "source": [
    "Effective amplitude vs. cl. sol. injection"
   ]
  },
  {
   "cell_type": "code",
   "execution_count": 17,
   "metadata": {},
   "outputs": [
    {
     "data": {
      "image/png": "[encoded data removed]",
      "image/svg+xml": [
       "<?xml version=\"1.0\" encoding=\"utf-8\"?>\n",
       "<svg xmlns=\"http://www.w3.org/2000/svg\" xmlns:xlink=\"http://www.w3.org/1999/xlink\" width=\"600\" height=\"400\" viewBox=\"0 0 2400 1600\">\n",
       "<defs>\n",
       "  <clipPath id=\"clip940\">\n",
       "    <rect x=\"0\" y=\"0\" width=\"2400\" height=\"1600\"/>\n",
       "  </clipPath>\n",
       "</defs>\n",
       "<path clip-path=\"url(#clip940)\" d=\"M0 1600 L2400 1600 L2400 0 L0 0  Z\" fill=\"#ffffff\" fill-rule=\"evenodd\" fill-opacity=\"1\"/>\n",
       "<defs>\n",
       "  <clipPath id=\"clip941\">\n",
       "    <rect x=\"480\" y=\"0\" width=\"1681\" height=\"1600\"/>\n",
       "  </clipPath>\n",
       "</defs>\n",
       "<path clip-path=\"url(#clip940)\" d=\"M192.941 1486.45 L2352.76 1486.45 L2352.76 47.2441 L192.941 47.2441  Z\" fill=\"#ffffff\" fill-rule=\"evenodd\" fill-opacity=\"1\"/>\n",
       "<defs>\n",
       "  <clipPath id=\"clip942\">\n",
       "    <rect x=\"192\" y=\"47\" width=\"2161\" height=\"1440\"/>\n",
       "  </clipPath>\n",
       "</defs>\n",
       "<polyline clip-path=\"url(#clip942)\" style=\"stroke:#000000; stroke-linecap:round; stroke-linejoin:round; stroke-width:2; stroke-opacity:0.1; fill:none\" points=\"212.485,1486.45 212.485,47.2441 \"/>\n",
       "<polyline clip-path=\"url(#clip942)\" style=\"stroke:#000000; stroke-linecap:round; stroke-linejoin:round; stroke-width:2; stroke-opacity:0.1; fill:none\" points=\"628.313,1486.45 628.313,47.2441 \"/>\n",
       "<polyline clip-path=\"url(#clip942)\" style=\"stroke:#000000; stroke-linecap:round; stroke-linejoin:round; stroke-width:2; stroke-opacity:0.1; fill:none\" points=\"1044.14,1486.45 1044.14,47.2441 \"/>\n",
       "<polyline clip-path=\"url(#clip942)\" style=\"stroke:#000000; stroke-linecap:round; stroke-linejoin:round; stroke-width:2; stroke-opacity:0.1; fill:none\" points=\"1459.97,1486.45 1459.97,47.2441 \"/>\n",
       "<polyline clip-path=\"url(#clip942)\" style=\"stroke:#000000; stroke-linecap:round; stroke-linejoin:round; stroke-width:2; stroke-opacity:0.1; fill:none\" points=\"1875.8,1486.45 1875.8,47.2441 \"/>\n",
       "<polyline clip-path=\"url(#clip942)\" style=\"stroke:#000000; stroke-linecap:round; stroke-linejoin:round; stroke-width:2; stroke-opacity:0.1; fill:none\" points=\"2291.63,1486.45 2291.63,47.2441 \"/>\n",
       "<polyline clip-path=\"url(#clip940)\" style=\"stroke:#000000; stroke-linecap:round; stroke-linejoin:round; stroke-width:4; stroke-opacity:1; fill:none\" points=\"192.941,1486.45 2352.76,1486.45 \"/>\n",
       "<polyline clip-path=\"url(#clip940)\" style=\"stroke:#000000; stroke-linecap:round; stroke-linejoin:round; stroke-width:4; stroke-opacity:1; fill:none\" points=\"212.485,1486.45 212.485,1467.55 \"/>\n",
       "<polyline clip-path=\"url(#clip940)\" style=\"stroke:#000000; stroke-linecap:round; stroke-linejoin:round; stroke-width:4; stroke-opacity:1; fill:none\" points=\"628.313,1486.45 628.313,1467.55 \"/>\n",
       "<polyline clip-path=\"url(#clip940)\" style=\"stroke:#000000; stroke-linecap:round; stroke-linejoin:round; stroke-width:4; stroke-opacity:1; fill:none\" points=\"1044.14,1486.45 1044.14,1467.55 \"/>\n",
       "<polyline clip-path=\"url(#clip940)\" style=\"stroke:#000000; stroke-linecap:round; stroke-linejoin:round; stroke-width:4; stroke-opacity:1; fill:none\" points=\"1459.97,1486.45 1459.97,1467.55 \"/>\n",
       "<polyline clip-path=\"url(#clip940)\" style=\"stroke:#000000; stroke-linecap:round; stroke-linejoin:round; stroke-width:4; stroke-opacity:1; fill:none\" points=\"1875.8,1486.45 1875.8,1467.55 \"/>\n",
       "<polyline clip-path=\"url(#clip940)\" style=\"stroke:#000000; stroke-linecap:round; stroke-linejoin:round; stroke-width:4; stroke-opacity:1; fill:none\" points=\"2291.63,1486.45 2291.63,1467.55 \"/>\n",
       "<path clip-path=\"url(#clip940)\" d=\"M212.485 1517.37 Q208.873 1517.37 207.045 1520.93 Q205.239 1524.47 205.239 1531.6 Q205.239 1538.71 207.045 1542.27 Q208.873 1545.82 212.485 1545.82 Q216.119 1545.82 217.924 1542.27 Q219.753 1538.71 219.753 1531.6 Q219.753 1524.47 217.924 1520.93 Q216.119 1517.37 212.485 1517.37 M212.485 1513.66 Q218.295 1513.66 221.35 1518.27 Q224.429 1522.85 224.429 1531.6 Q224.429 1540.33 221.35 1544.94 Q218.295 1549.52 212.485 1549.52 Q206.674 1549.52 203.596 1544.94 Q200.54 1540.33 200.54 1531.6 Q200.54 1522.85 203.596 1518.27 Q206.674 1513.66 212.485 1513.66 Z\" fill=\"#000000\" fill-rule=\"nonzero\" fill-opacity=\"1\" /><path clip-path=\"url(#clip940)\" d=\"M603.001 1544.91 L610.64 1544.91 L610.64 1518.55 L602.33 1520.21 L602.33 1515.95 L610.594 1514.29 L615.27 1514.29 L615.27 1544.91 L622.908 1544.91 L622.908 1548.85 L603.001 1548.85 L603.001 1544.91 Z\" fill=\"#000000\" fill-rule=\"nonzero\" fill-opacity=\"1\" /><path clip-path=\"url(#clip940)\" d=\"M642.353 1517.37 Q638.742 1517.37 636.913 1520.93 Q635.107 1524.47 635.107 1531.6 Q635.107 1538.71 636.913 1542.27 Q638.742 1545.82 642.353 1545.82 Q645.987 1545.82 647.793 1542.27 Q649.621 1538.71 649.621 1531.6 Q649.621 1524.47 647.793 1520.93 Q645.987 1517.37 642.353 1517.37 M642.353 1513.66 Q648.163 1513.66 651.218 1518.27 Q654.297 1522.85 654.297 1531.6 Q654.297 1540.33 651.218 1544.94 Q648.163 1549.52 642.353 1549.52 Q636.543 1549.52 633.464 1544.94 Q630.408 1540.33 630.408 1531.6 Q630.408 1522.85 633.464 1518.27 Q636.543 1513.66 642.353 1513.66 Z\" fill=\"#000000\" fill-rule=\"nonzero\" fill-opacity=\"1\" /><path clip-path=\"url(#clip940)\" d=\"M1022.92 1544.91 L1039.23 1544.91 L1039.23 1548.85 L1017.29 1548.85 L1017.29 1544.91 Q1019.95 1542.16 1024.54 1537.53 Q1029.14 1532.88 1030.32 1531.53 Q1032.57 1529.01 1033.45 1527.27 Q1034.35 1525.51 1034.35 1523.82 Q1034.35 1521.07 1032.41 1519.33 Q1030.49 1517.6 1027.38 1517.6 Q1025.18 1517.6 1022.73 1518.36 Q1020.3 1519.13 1017.52 1520.68 L1017.52 1515.95 Q1020.35 1514.82 1022.8 1514.24 Q1025.25 1513.66 1027.29 1513.66 Q1032.66 1513.66 1035.86 1516.35 Q1039.05 1519.03 1039.05 1523.52 Q1039.05 1525.65 1038.24 1527.57 Q1037.45 1529.47 1035.35 1532.07 Q1034.77 1532.74 1031.67 1535.95 Q1028.56 1539.15 1022.92 1544.91 Z\" fill=\"#000000\" fill-rule=\"nonzero\" fill-opacity=\"1\" /><path clip-path=\"url(#clip940)\" d=\"M1059.05 1517.37 Q1055.44 1517.37 1053.61 1520.93 Q1051.8 1524.47 1051.8 1531.6 Q1051.8 1538.71 1053.61 1542.27 Q1055.44 1545.82 1059.05 1545.82 Q1062.68 1545.82 1064.49 1542.27 Q1066.32 1538.71 1066.32 1531.6 Q1066.32 1524.47 1064.49 1520.93 Q1062.68 1517.37 1059.05 1517.37 M1059.05 1513.66 Q1064.86 1513.66 1067.92 1518.27 Q1070.99 1522.85 1070.99 1531.6 Q1070.99 1540.33 1067.92 1544.94 Q1064.86 1549.52 1059.05 1549.52 Q1053.24 1549.52 1050.16 1544.94 Q1047.11 1540.33 1047.11 1531.6 Q1047.11 1522.85 1050.16 1518.27 Q1053.24 1513.66 1059.05 1513.66 Z\" fill=\"#000000\" fill-rule=\"nonzero\" fill-opacity=\"1\" /><path clip-path=\"url(#clip940)\" d=\"M1448.81 1530.21 Q1452.17 1530.93 1454.05 1533.2 Q1455.94 1535.47 1455.94 1538.8 Q1455.94 1543.92 1452.43 1546.72 Q1448.91 1549.52 1442.43 1549.52 Q1440.25 1549.52 1437.93 1549.08 Q1435.64 1548.66 1433.19 1547.81 L1433.19 1543.29 Q1435.13 1544.43 1437.45 1545.01 Q1439.76 1545.58 1442.29 1545.58 Q1446.68 1545.58 1448.98 1543.85 Q1451.29 1542.11 1451.29 1538.8 Q1451.29 1535.75 1449.14 1534.03 Q1447.01 1532.3 1443.19 1532.3 L1439.16 1532.3 L1439.16 1528.45 L1443.37 1528.45 Q1446.82 1528.45 1448.65 1527.09 Q1450.48 1525.7 1450.48 1523.11 Q1450.48 1520.45 1448.58 1519.03 Q1446.71 1517.6 1443.19 1517.6 Q1441.27 1517.6 1439.07 1518.01 Q1436.87 1518.43 1434.23 1519.31 L1434.23 1515.14 Q1436.89 1514.4 1439.21 1514.03 Q1441.55 1513.66 1443.61 1513.66 Q1448.93 1513.66 1452.03 1516.09 Q1455.13 1518.5 1455.13 1522.62 Q1455.13 1525.49 1453.49 1527.48 Q1451.85 1529.45 1448.81 1530.21 Z\" fill=\"#000000\" fill-rule=\"nonzero\" fill-opacity=\"1\" /><path clip-path=\"url(#clip940)\" d=\"M1474.81 1517.37 Q1471.2 1517.37 1469.37 1520.93 Q1467.56 1524.47 1467.56 1531.6 Q1467.56 1538.71 1469.37 1542.27 Q1471.2 1545.82 1474.81 1545.82 Q1478.44 1545.82 1480.25 1542.27 Q1482.08 1538.71 1482.08 1531.6 Q1482.08 1524.47 1480.25 1520.93 Q1478.44 1517.37 1474.81 1517.37 M1474.81 1513.66 Q1480.62 1513.66 1483.67 1518.27 Q1486.75 1522.85 1486.75 1531.6 Q1486.75 1540.33 1483.67 1544.94 Q1480.62 1549.52 1474.81 1549.52 Q1469 1549.52 1465.92 1544.94 Q1462.86 1540.33 1462.86 1531.6 Q1462.86 1522.85 1465.92 1518.27 Q1469 1513.66 1474.81 1513.66 Z\" fill=\"#000000\" fill-rule=\"nonzero\" fill-opacity=\"1\" /><path clip-path=\"url(#clip940)\" d=\"M1863.97 1518.36 L1852.17 1536.81 L1863.97 1536.81 L1863.97 1518.36 M1862.74 1514.29 L1868.62 1514.29 L1868.62 1536.81 L1873.55 1536.81 L1873.55 1540.7 L1868.62 1540.7 L1868.62 1548.85 L1863.97 1548.85 L1863.97 1540.7 L1848.37 1540.7 L1848.37 1536.19 L1862.74 1514.29 Z\" fill=\"#000000\" fill-rule=\"nonzero\" fill-opacity=\"1\" /><path clip-path=\"url(#clip940)\" d=\"M1891.29 1517.37 Q1887.68 1517.37 1885.85 1520.93 Q1884.04 1524.47 1884.04 1531.6 Q1884.04 1538.71 1885.85 1542.27 Q1887.68 1545.82 1891.29 1545.82 Q1894.92 1545.82 1896.73 1542.27 Q1898.55 1538.71 1898.55 1531.6 Q1898.55 1524.47 1896.73 1520.93 Q1894.92 1517.37 1891.29 1517.37 M1891.29 1513.66 Q1897.1 1513.66 1900.15 1518.27 Q1903.23 1522.85 1903.23 1531.6 Q1903.23 1540.33 1900.15 1544.94 Q1897.1 1549.52 1891.29 1549.52 Q1885.48 1549.52 1882.4 1544.94 Q1879.34 1540.33 1879.34 1531.6 Q1879.34 1522.85 1882.4 1518.27 Q1885.48 1513.66 1891.29 1513.66 Z\" fill=\"#000000\" fill-rule=\"nonzero\" fill-opacity=\"1\" /><path clip-path=\"url(#clip940)\" d=\"M2266.33 1514.29 L2284.68 1514.29 L2284.68 1518.22 L2270.61 1518.22 L2270.61 1526.7 Q2271.63 1526.35 2272.65 1526.19 Q2273.67 1526 2274.68 1526 Q2280.47 1526 2283.85 1529.17 Q2287.23 1532.34 2287.23 1537.76 Q2287.23 1543.34 2283.76 1546.44 Q2280.29 1549.52 2273.97 1549.52 Q2271.79 1549.52 2269.52 1549.15 Q2267.28 1548.78 2264.87 1548.04 L2264.87 1543.34 Q2266.95 1544.47 2269.18 1545.03 Q2271.4 1545.58 2273.87 1545.58 Q2277.88 1545.58 2280.22 1543.48 Q2282.56 1541.37 2282.56 1537.76 Q2282.56 1534.15 2280.22 1532.04 Q2277.88 1529.94 2273.87 1529.94 Q2272 1529.94 2270.12 1530.35 Q2268.27 1530.77 2266.33 1531.65 L2266.33 1514.29 Z\" fill=\"#000000\" fill-rule=\"nonzero\" fill-opacity=\"1\" /><path clip-path=\"url(#clip940)\" d=\"M2306.44 1517.37 Q2302.83 1517.37 2301 1520.93 Q2299.2 1524.47 2299.2 1531.6 Q2299.2 1538.71 2301 1542.27 Q2302.83 1545.82 2306.44 1545.82 Q2310.08 1545.82 2311.88 1542.27 Q2313.71 1538.71 2313.71 1531.6 Q2313.71 1524.47 2311.88 1520.93 Q2310.08 1517.37 2306.44 1517.37 M2306.44 1513.66 Q2312.25 1513.66 2315.31 1518.27 Q2318.39 1522.85 2318.39 1531.6 Q2318.39 1540.33 2315.31 1544.94 Q2312.25 1549.52 2306.44 1549.52 Q2300.63 1549.52 2297.55 1544.94 Q2294.5 1540.33 2294.5 1531.6 Q2294.5 1522.85 2297.55 1518.27 Q2300.63 1513.66 2306.44 1513.66 Z\" fill=\"#000000\" fill-rule=\"nonzero\" fill-opacity=\"1\" /><polyline clip-path=\"url(#clip942)\" style=\"stroke:#000000; stroke-linecap:round; stroke-linejoin:round; stroke-width:2; stroke-opacity:0.1; fill:none\" points=\"192.941,1154.71 2352.76,1154.71 \"/>\n",
       "<polyline clip-path=\"url(#clip942)\" style=\"stroke:#000000; stroke-linecap:round; stroke-linejoin:round; stroke-width:2; stroke-opacity:0.1; fill:none\" points=\"192.941,799.132 2352.76,799.132 \"/>\n",
       "<polyline clip-path=\"url(#clip942)\" style=\"stroke:#000000; stroke-linecap:round; stroke-linejoin:round; stroke-width:2; stroke-opacity:0.1; fill:none\" points=\"192.941,443.554 2352.76,443.554 \"/>\n",
       "<polyline clip-path=\"url(#clip942)\" style=\"stroke:#000000; stroke-linecap:round; stroke-linejoin:round; stroke-width:2; stroke-opacity:0.1; fill:none\" points=\"192.941,87.9763 2352.76,87.9763 \"/>\n",
       "<polyline clip-path=\"url(#clip940)\" style=\"stroke:#000000; stroke-linecap:round; stroke-linejoin:round; stroke-width:4; stroke-opacity:1; fill:none\" points=\"192.941,1486.45 192.941,47.2441 \"/>\n",
       "<polyline clip-path=\"url(#clip940)\" style=\"stroke:#000000; stroke-linecap:round; stroke-linejoin:round; stroke-width:4; stroke-opacity:1; fill:none\" points=\"192.941,1154.71 211.838,1154.71 \"/>\n",
       "<polyline clip-path=\"url(#clip940)\" style=\"stroke:#000000; stroke-linecap:round; stroke-linejoin:round; stroke-width:4; stroke-opacity:1; fill:none\" points=\"192.941,799.132 211.838,799.132 \"/>\n",
       "<polyline clip-path=\"url(#clip940)\" style=\"stroke:#000000; stroke-linecap:round; stroke-linejoin:round; stroke-width:4; stroke-opacity:1; fill:none\" points=\"192.941,443.554 211.838,443.554 \"/>\n",
       "<polyline clip-path=\"url(#clip940)\" style=\"stroke:#000000; stroke-linecap:round; stroke-linejoin:round; stroke-width:4; stroke-opacity:1; fill:none\" points=\"192.941,87.9763 211.838,87.9763 \"/>\n",
       "<path clip-path=\"url(#clip940)\" d=\"M50.9921 1155.16 L80.6679 1155.16 L80.6679 1159.1 L50.9921 1159.1 L50.9921 1155.16 Z\" fill=\"#000000\" fill-rule=\"nonzero\" fill-opacity=\"1\" /><path clip-path=\"url(#clip940)\" d=\"M100.76 1140.51 Q97.1493 1140.51 95.3206 1144.07 Q93.515 1147.62 93.515 1154.75 Q93.515 1161.85 95.3206 1165.42 Q97.1493 1168.96 100.76 1168.96 Q104.395 1168.96 106.2 1165.42 Q108.029 1161.85 108.029 1154.75 Q108.029 1147.62 106.2 1144.07 Q104.395 1140.51 100.76 1140.51 M100.76 1136.81 Q106.571 1136.81 109.626 1141.41 Q112.705 1146 112.705 1154.75 Q112.705 1163.47 109.626 1168.08 Q106.571 1172.66 100.76 1172.66 Q94.9502 1172.66 91.8715 1168.08 Q88.816 1163.47 88.816 1154.75 Q88.816 1146 91.8715 1141.41 Q94.9502 1136.81 100.76 1136.81 Z\" fill=\"#000000\" fill-rule=\"nonzero\" fill-opacity=\"1\" /><path clip-path=\"url(#clip940)\" d=\"M120.922 1166.11 L125.807 1166.11 L125.807 1171.99 L120.922 1171.99 L120.922 1166.11 Z\" fill=\"#000000\" fill-rule=\"nonzero\" fill-opacity=\"1\" /><path clip-path=\"url(#clip940)\" d=\"M136.038 1137.43 L154.394 1137.43 L154.394 1141.37 L140.32 1141.37 L140.32 1149.84 Q141.339 1149.49 142.357 1149.33 Q143.376 1149.14 144.394 1149.14 Q150.181 1149.14 153.561 1152.31 Q156.941 1155.49 156.941 1160.9 Q156.941 1166.48 153.468 1169.58 Q149.996 1172.66 143.677 1172.66 Q141.501 1172.66 139.232 1172.29 Q136.987 1171.92 134.58 1171.18 L134.58 1166.48 Q136.663 1167.62 138.885 1168.17 Q141.107 1168.73 143.584 1168.73 Q147.589 1168.73 149.927 1166.62 Q152.265 1164.51 152.265 1160.9 Q152.265 1157.29 149.927 1155.19 Q147.589 1153.08 143.584 1153.08 Q141.709 1153.08 139.834 1153.5 Q137.982 1153.91 136.038 1154.79 L136.038 1137.43 Z\" fill=\"#000000\" fill-rule=\"nonzero\" fill-opacity=\"1\" /><path clip-path=\"url(#clip940)\" d=\"M99.765 784.931 Q96.1539 784.931 94.3252 788.496 Q92.5197 792.038 92.5197 799.167 Q92.5197 806.274 94.3252 809.838 Q96.1539 813.38 99.765 813.38 Q103.399 813.38 105.205 809.838 Q107.033 806.274 107.033 799.167 Q107.033 792.038 105.205 788.496 Q103.399 784.931 99.765 784.931 M99.765 781.227 Q105.575 781.227 108.631 785.834 Q111.709 790.417 111.709 799.167 Q111.709 807.894 108.631 812.5 Q105.575 817.084 99.765 817.084 Q93.9549 817.084 90.8762 812.5 Q87.8206 807.894 87.8206 799.167 Q87.8206 790.417 90.8762 785.834 Q93.9549 781.227 99.765 781.227 Z\" fill=\"#000000\" fill-rule=\"nonzero\" fill-opacity=\"1\" /><path clip-path=\"url(#clip940)\" d=\"M119.927 810.533 L124.811 810.533 L124.811 816.412 L119.927 816.412 L119.927 810.533 Z\" fill=\"#000000\" fill-rule=\"nonzero\" fill-opacity=\"1\" /><path clip-path=\"url(#clip940)\" d=\"M144.996 784.931 Q141.385 784.931 139.556 788.496 Q137.751 792.038 137.751 799.167 Q137.751 806.274 139.556 809.838 Q141.385 813.38 144.996 813.38 Q148.63 813.38 150.436 809.838 Q152.265 806.274 152.265 799.167 Q152.265 792.038 150.436 788.496 Q148.63 784.931 144.996 784.931 M144.996 781.227 Q150.806 781.227 153.862 785.834 Q156.941 790.417 156.941 799.167 Q156.941 807.894 153.862 812.5 Q150.806 817.084 144.996 817.084 Q139.186 817.084 136.107 812.5 Q133.052 807.894 133.052 799.167 Q133.052 790.417 136.107 785.834 Q139.186 781.227 144.996 781.227 Z\" fill=\"#000000\" fill-rule=\"nonzero\" fill-opacity=\"1\" /><path clip-path=\"url(#clip940)\" d=\"M100.76 429.353 Q97.1493 429.353 95.3206 432.918 Q93.515 436.459 93.515 443.589 Q93.515 450.696 95.3206 454.26 Q97.1493 457.802 100.76 457.802 Q104.395 457.802 106.2 454.26 Q108.029 450.696 108.029 443.589 Q108.029 436.459 106.2 432.918 Q104.395 429.353 100.76 429.353 M100.76 425.649 Q106.571 425.649 109.626 430.256 Q112.705 434.839 112.705 443.589 Q112.705 452.316 109.626 456.922 Q106.571 461.506 100.76 461.506 Q94.9502 461.506 91.8715 456.922 Q88.816 452.316 88.816 443.589 Q88.816 434.839 91.8715 430.256 Q94.9502 425.649 100.76 425.649 Z\" fill=\"#000000\" fill-rule=\"nonzero\" fill-opacity=\"1\" /><path clip-path=\"url(#clip940)\" d=\"M120.922 454.955 L125.807 454.955 L125.807 460.834 L120.922 460.834 L120.922 454.955 Z\" fill=\"#000000\" fill-rule=\"nonzero\" fill-opacity=\"1\" /><path clip-path=\"url(#clip940)\" d=\"M136.038 426.274 L154.394 426.274 L154.394 430.21 L140.32 430.21 L140.32 438.682 Q141.339 438.334 142.357 438.172 Q143.376 437.987 144.394 437.987 Q150.181 437.987 153.561 441.159 Q156.941 444.33 156.941 449.746 Q156.941 455.325 153.468 458.427 Q149.996 461.506 143.677 461.506 Q141.501 461.506 139.232 461.135 Q136.987 460.765 134.58 460.024 L134.58 455.325 Q136.663 456.459 138.885 457.015 Q141.107 457.57 143.584 457.57 Q147.589 457.57 149.927 455.464 Q152.265 453.358 152.265 449.746 Q152.265 446.135 149.927 444.029 Q147.589 441.922 143.584 441.922 Q141.709 441.922 139.834 442.339 Q137.982 442.756 136.038 443.635 L136.038 426.274 Z\" fill=\"#000000\" fill-rule=\"nonzero\" fill-opacity=\"1\" /><path clip-path=\"url(#clip940)\" d=\"M90.5752 101.321 L98.2141 101.321 L98.2141 74.9555 L89.904 76.6222 L89.904 72.3629 L98.1678 70.6963 L102.844 70.6963 L102.844 101.321 L110.483 101.321 L110.483 105.256 L90.5752 105.256 L90.5752 101.321 Z\" fill=\"#000000\" fill-rule=\"nonzero\" fill-opacity=\"1\" /><path clip-path=\"url(#clip940)\" d=\"M119.927 99.3767 L124.811 99.3767 L124.811 105.256 L119.927 105.256 L119.927 99.3767 Z\" fill=\"#000000\" fill-rule=\"nonzero\" fill-opacity=\"1\" /><path clip-path=\"url(#clip940)\" d=\"M144.996 73.775 Q141.385 73.775 139.556 77.3398 Q137.751 80.8814 137.751 88.011 Q137.751 95.1174 139.556 98.6822 Q141.385 102.224 144.996 102.224 Q148.63 102.224 150.436 98.6822 Q152.265 95.1174 152.265 88.011 Q152.265 80.8814 150.436 77.3398 Q148.63 73.775 144.996 73.775 M144.996 70.0713 Q150.806 70.0713 153.862 74.6777 Q156.941 79.261 156.941 88.011 Q156.941 96.7378 153.862 101.344 Q150.806 105.928 144.996 105.928 Q139.186 105.928 136.107 101.344 Q133.052 96.7378 133.052 88.011 Q133.052 79.261 136.107 74.6777 Q139.186 70.0713 144.996 70.0713 Z\" fill=\"#000000\" fill-rule=\"nonzero\" fill-opacity=\"1\" /><circle clip-path=\"url(#clip942)\" cx=\"254.067\" cy=\"793.301\" r=\"14.4\" fill=\"#009af9\" fill-rule=\"evenodd\" fill-opacity=\"1\" stroke=\"#000000\" stroke-opacity=\"1\" stroke-width=\"3.2\"/>\n",
       "<circle clip-path=\"url(#clip942)\" cx=\"274.859\" cy=\"813.06\" r=\"14.4\" fill=\"#009af9\" fill-rule=\"evenodd\" fill-opacity=\"1\" stroke=\"#000000\" stroke-opacity=\"1\" stroke-width=\"3.2\"/>\n",
       "<circle clip-path=\"url(#clip942)\" cx=\"295.65\" cy=\"833.335\" r=\"14.4\" fill=\"#009af9\" fill-rule=\"evenodd\" fill-opacity=\"1\" stroke=\"#000000\" stroke-opacity=\"1\" stroke-width=\"3.2\"/>\n",
       "<circle clip-path=\"url(#clip942)\" cx=\"316.442\" cy=\"778.823\" r=\"14.4\" fill=\"#009af9\" fill-rule=\"evenodd\" fill-opacity=\"1\" stroke=\"#000000\" stroke-opacity=\"1\" stroke-width=\"3.2\"/>\n",
       "<circle clip-path=\"url(#clip942)\" cx=\"337.233\" cy=\"696.544\" r=\"14.4\" fill=\"#009af9\" fill-rule=\"evenodd\" fill-opacity=\"1\" stroke=\"#000000\" stroke-opacity=\"1\" stroke-width=\"3.2\"/>\n",
       "<circle clip-path=\"url(#clip942)\" cx=\"358.025\" cy=\"644.39\" r=\"14.4\" fill=\"#009af9\" fill-rule=\"evenodd\" fill-opacity=\"1\" stroke=\"#000000\" stroke-opacity=\"1\" stroke-width=\"3.2\"/>\n",
       "<circle clip-path=\"url(#clip942)\" cx=\"378.816\" cy=\"616.624\" r=\"14.4\" fill=\"#009af9\" fill-rule=\"evenodd\" fill-opacity=\"1\" stroke=\"#000000\" stroke-opacity=\"1\" stroke-width=\"3.2\"/>\n",
       "<circle clip-path=\"url(#clip942)\" cx=\"399.608\" cy=\"581.233\" r=\"14.4\" fill=\"#009af9\" fill-rule=\"evenodd\" fill-opacity=\"1\" stroke=\"#000000\" stroke-opacity=\"1\" stroke-width=\"3.2\"/>\n",
       "<circle clip-path=\"url(#clip942)\" cx=\"420.399\" cy=\"519.494\" r=\"14.4\" fill=\"#009af9\" fill-rule=\"evenodd\" fill-opacity=\"1\" stroke=\"#000000\" stroke-opacity=\"1\" stroke-width=\"3.2\"/>\n",
       "<circle clip-path=\"url(#clip942)\" cx=\"441.19\" cy=\"452.526\" r=\"14.4\" fill=\"#009af9\" fill-rule=\"evenodd\" fill-opacity=\"1\" stroke=\"#000000\" stroke-opacity=\"1\" stroke-width=\"3.2\"/>\n",
       "<circle clip-path=\"url(#clip942)\" cx=\"461.982\" cy=\"463.029\" r=\"14.4\" fill=\"#009af9\" fill-rule=\"evenodd\" fill-opacity=\"1\" stroke=\"#000000\" stroke-opacity=\"1\" stroke-width=\"3.2\"/>\n",
       "<circle clip-path=\"url(#clip942)\" cx=\"482.773\" cy=\"665.546\" r=\"14.4\" fill=\"#009af9\" fill-rule=\"evenodd\" fill-opacity=\"1\" stroke=\"#000000\" stroke-opacity=\"1\" stroke-width=\"3.2\"/>\n",
       "<circle clip-path=\"url(#clip942)\" cx=\"503.565\" cy=\"1052.9\" r=\"14.4\" fill=\"#009af9\" fill-rule=\"evenodd\" fill-opacity=\"1\" stroke=\"#000000\" stroke-opacity=\"1\" stroke-width=\"3.2\"/>\n",
       "<circle clip-path=\"url(#clip942)\" cx=\"524.356\" cy=\"1313.2\" r=\"14.4\" fill=\"#009af9\" fill-rule=\"evenodd\" fill-opacity=\"1\" stroke=\"#000000\" stroke-opacity=\"1\" stroke-width=\"3.2\"/>\n",
       "<circle clip-path=\"url(#clip942)\" cx=\"545.148\" cy=\"1022.36\" r=\"14.4\" fill=\"#009af9\" fill-rule=\"evenodd\" fill-opacity=\"1\" stroke=\"#000000\" stroke-opacity=\"1\" stroke-width=\"3.2\"/>\n",
       "<circle clip-path=\"url(#clip942)\" cx=\"565.939\" cy=\"366.478\" r=\"14.4\" fill=\"#009af9\" fill-rule=\"evenodd\" fill-opacity=\"1\" stroke=\"#000000\" stroke-opacity=\"1\" stroke-width=\"3.2\"/>\n",
       "<circle clip-path=\"url(#clip942)\" cx=\"586.731\" cy=\"315.083\" r=\"14.4\" fill=\"#009af9\" fill-rule=\"evenodd\" fill-opacity=\"1\" stroke=\"#000000\" stroke-opacity=\"1\" stroke-width=\"3.2\"/>\n",
       "<circle clip-path=\"url(#clip942)\" cx=\"607.522\" cy=\"1125.43\" r=\"14.4\" fill=\"#009af9\" fill-rule=\"evenodd\" fill-opacity=\"1\" stroke=\"#000000\" stroke-opacity=\"1\" stroke-width=\"3.2\"/>\n",
       "<circle clip-path=\"url(#clip942)\" cx=\"628.313\" cy=\"1359.11\" r=\"14.4\" fill=\"#009af9\" fill-rule=\"evenodd\" fill-opacity=\"1\" stroke=\"#000000\" stroke-opacity=\"1\" stroke-width=\"3.2\"/>\n",
       "<circle clip-path=\"url(#clip942)\" cx=\"649.105\" cy=\"420.022\" r=\"14.4\" fill=\"#009af9\" fill-rule=\"evenodd\" fill-opacity=\"1\" stroke=\"#000000\" stroke-opacity=\"1\" stroke-width=\"3.2\"/>\n",
       "<circle clip-path=\"url(#clip942)\" cx=\"669.896\" cy=\"298.774\" r=\"14.4\" fill=\"#009af9\" fill-rule=\"evenodd\" fill-opacity=\"1\" stroke=\"#000000\" stroke-opacity=\"1\" stroke-width=\"3.2\"/>\n",
       "<circle clip-path=\"url(#clip942)\" cx=\"690.688\" cy=\"1367.91\" r=\"14.4\" fill=\"#009af9\" fill-rule=\"evenodd\" fill-opacity=\"1\" stroke=\"#000000\" stroke-opacity=\"1\" stroke-width=\"3.2\"/>\n",
       "<circle clip-path=\"url(#clip942)\" cx=\"711.479\" cy=\"1032.67\" r=\"14.4\" fill=\"#009af9\" fill-rule=\"evenodd\" fill-opacity=\"1\" stroke=\"#000000\" stroke-opacity=\"1\" stroke-width=\"3.2\"/>\n",
       "<circle clip-path=\"url(#clip942)\" cx=\"732.271\" cy=\"87.9763\" r=\"14.4\" fill=\"#009af9\" fill-rule=\"evenodd\" fill-opacity=\"1\" stroke=\"#000000\" stroke-opacity=\"1\" stroke-width=\"3.2\"/>\n",
       "<circle clip-path=\"url(#clip942)\" cx=\"753.062\" cy=\"1058.34\" r=\"14.4\" fill=\"#009af9\" fill-rule=\"evenodd\" fill-opacity=\"1\" stroke=\"#000000\" stroke-opacity=\"1\" stroke-width=\"3.2\"/>\n",
       "<circle clip-path=\"url(#clip942)\" cx=\"773.854\" cy=\"1302.45\" r=\"14.4\" fill=\"#009af9\" fill-rule=\"evenodd\" fill-opacity=\"1\" stroke=\"#000000\" stroke-opacity=\"1\" stroke-width=\"3.2\"/>\n",
       "<circle clip-path=\"url(#clip942)\" cx=\"794.645\" cy=\"111.802\" r=\"14.4\" fill=\"#009af9\" fill-rule=\"evenodd\" fill-opacity=\"1\" stroke=\"#000000\" stroke-opacity=\"1\" stroke-width=\"3.2\"/>\n",
       "<circle clip-path=\"url(#clip942)\" cx=\"815.436\" cy=\"941.813\" r=\"14.4\" fill=\"#009af9\" fill-rule=\"evenodd\" fill-opacity=\"1\" stroke=\"#000000\" stroke-opacity=\"1\" stroke-width=\"3.2\"/>\n",
       "<circle clip-path=\"url(#clip942)\" cx=\"836.228\" cy=\"1330.39\" r=\"14.4\" fill=\"#009af9\" fill-rule=\"evenodd\" fill-opacity=\"1\" stroke=\"#000000\" stroke-opacity=\"1\" stroke-width=\"3.2\"/>\n",
       "<circle clip-path=\"url(#clip942)\" cx=\"857.019\" cy=\"106.032\" r=\"14.4\" fill=\"#009af9\" fill-rule=\"evenodd\" fill-opacity=\"1\" stroke=\"#000000\" stroke-opacity=\"1\" stroke-width=\"3.2\"/>\n",
       "<circle clip-path=\"url(#clip942)\" cx=\"877.811\" cy=\"1039.36\" r=\"14.4\" fill=\"#009af9\" fill-rule=\"evenodd\" fill-opacity=\"1\" stroke=\"#000000\" stroke-opacity=\"1\" stroke-width=\"3.2\"/>\n",
       "<circle clip-path=\"url(#clip942)\" cx=\"898.602\" cy=\"1198.57\" r=\"14.4\" fill=\"#009af9\" fill-rule=\"evenodd\" fill-opacity=\"1\" stroke=\"#000000\" stroke-opacity=\"1\" stroke-width=\"3.2\"/>\n",
       "<circle clip-path=\"url(#clip942)\" cx=\"919.394\" cy=\"97.5753\" r=\"14.4\" fill=\"#009af9\" fill-rule=\"evenodd\" fill-opacity=\"1\" stroke=\"#000000\" stroke-opacity=\"1\" stroke-width=\"3.2\"/>\n",
       "<circle clip-path=\"url(#clip942)\" cx=\"940.185\" cy=\"1261.46\" r=\"14.4\" fill=\"#009af9\" fill-rule=\"evenodd\" fill-opacity=\"1\" stroke=\"#000000\" stroke-opacity=\"1\" stroke-width=\"3.2\"/>\n",
       "<circle clip-path=\"url(#clip942)\" cx=\"960.977\" cy=\"902.588\" r=\"14.4\" fill=\"#009af9\" fill-rule=\"evenodd\" fill-opacity=\"1\" stroke=\"#000000\" stroke-opacity=\"1\" stroke-width=\"3.2\"/>\n",
       "<circle clip-path=\"url(#clip942)\" cx=\"981.768\" cy=\"222.328\" r=\"14.4\" fill=\"#009af9\" fill-rule=\"evenodd\" fill-opacity=\"1\" stroke=\"#000000\" stroke-opacity=\"1\" stroke-width=\"3.2\"/>\n",
       "<circle clip-path=\"url(#clip942)\" cx=\"1002.56\" cy=\"1445.72\" r=\"14.4\" fill=\"#009af9\" fill-rule=\"evenodd\" fill-opacity=\"1\" stroke=\"#000000\" stroke-opacity=\"1\" stroke-width=\"3.2\"/>\n",
       "<circle clip-path=\"url(#clip942)\" cx=\"1023.35\" cy=\"502.908\" r=\"14.4\" fill=\"#009af9\" fill-rule=\"evenodd\" fill-opacity=\"1\" stroke=\"#000000\" stroke-opacity=\"1\" stroke-width=\"3.2\"/>\n",
       "<circle clip-path=\"url(#clip942)\" cx=\"1044.14\" cy=\"573.526\" r=\"14.4\" fill=\"#009af9\" fill-rule=\"evenodd\" fill-opacity=\"1\" stroke=\"#000000\" stroke-opacity=\"1\" stroke-width=\"3.2\"/>\n",
       "<circle clip-path=\"url(#clip942)\" cx=\"1064.93\" cy=\"1389.43\" r=\"14.4\" fill=\"#009af9\" fill-rule=\"evenodd\" fill-opacity=\"1\" stroke=\"#000000\" stroke-opacity=\"1\" stroke-width=\"3.2\"/>\n",
       "<circle clip-path=\"url(#clip942)\" cx=\"1085.73\" cy=\"206.127\" r=\"14.4\" fill=\"#009af9\" fill-rule=\"evenodd\" fill-opacity=\"1\" stroke=\"#000000\" stroke-opacity=\"1\" stroke-width=\"3.2\"/>\n",
       "<circle clip-path=\"url(#clip942)\" cx=\"1106.52\" cy=\"1054.75\" r=\"14.4\" fill=\"#009af9\" fill-rule=\"evenodd\" fill-opacity=\"1\" stroke=\"#000000\" stroke-opacity=\"1\" stroke-width=\"3.2\"/>\n",
       "<circle clip-path=\"url(#clip942)\" cx=\"1127.31\" cy=\"1010.25\" r=\"14.4\" fill=\"#009af9\" fill-rule=\"evenodd\" fill-opacity=\"1\" stroke=\"#000000\" stroke-opacity=\"1\" stroke-width=\"3.2\"/>\n",
       "<circle clip-path=\"url(#clip942)\" cx=\"1148.1\" cy=\"255.837\" r=\"14.4\" fill=\"#009af9\" fill-rule=\"evenodd\" fill-opacity=\"1\" stroke=\"#000000\" stroke-opacity=\"1\" stroke-width=\"3.2\"/>\n",
       "<circle clip-path=\"url(#clip942)\" cx=\"1168.89\" cy=\"1369.81\" r=\"14.4\" fill=\"#009af9\" fill-rule=\"evenodd\" fill-opacity=\"1\" stroke=\"#000000\" stroke-opacity=\"1\" stroke-width=\"3.2\"/>\n",
       "<circle clip-path=\"url(#clip942)\" cx=\"1189.68\" cy=\"502.229\" r=\"14.4\" fill=\"#009af9\" fill-rule=\"evenodd\" fill-opacity=\"1\" stroke=\"#000000\" stroke-opacity=\"1\" stroke-width=\"3.2\"/>\n",
       "<circle clip-path=\"url(#clip942)\" cx=\"1210.47\" cy=\"680.245\" r=\"14.4\" fill=\"#009af9\" fill-rule=\"evenodd\" fill-opacity=\"1\" stroke=\"#000000\" stroke-opacity=\"1\" stroke-width=\"3.2\"/>\n",
       "<circle clip-path=\"url(#clip942)\" cx=\"1231.27\" cy=\"1256.02\" r=\"14.4\" fill=\"#009af9\" fill-rule=\"evenodd\" fill-opacity=\"1\" stroke=\"#000000\" stroke-opacity=\"1\" stroke-width=\"3.2\"/>\n",
       "<circle clip-path=\"url(#clip942)\" cx=\"1252.06\" cy=\"247.311\" r=\"14.4\" fill=\"#009af9\" fill-rule=\"evenodd\" fill-opacity=\"1\" stroke=\"#000000\" stroke-opacity=\"1\" stroke-width=\"3.2\"/>\n",
       "<circle clip-path=\"url(#clip942)\" cx=\"1272.85\" cy=\"1169.13\" r=\"14.4\" fill=\"#009af9\" fill-rule=\"evenodd\" fill-opacity=\"1\" stroke=\"#000000\" stroke-opacity=\"1\" stroke-width=\"3.2\"/>\n",
       "<circle clip-path=\"url(#clip942)\" cx=\"1293.64\" cy=\"783.959\" r=\"14.4\" fill=\"#009af9\" fill-rule=\"evenodd\" fill-opacity=\"1\" stroke=\"#000000\" stroke-opacity=\"1\" stroke-width=\"3.2\"/>\n",
       "<circle clip-path=\"url(#clip942)\" cx=\"1314.43\" cy=\"467.178\" r=\"14.4\" fill=\"#009af9\" fill-rule=\"evenodd\" fill-opacity=\"1\" stroke=\"#000000\" stroke-opacity=\"1\" stroke-width=\"3.2\"/>\n",
       "<circle clip-path=\"url(#clip942)\" cx=\"1335.22\" cy=\"1304.79\" r=\"14.4\" fill=\"#009af9\" fill-rule=\"evenodd\" fill-opacity=\"1\" stroke=\"#000000\" stroke-opacity=\"1\" stroke-width=\"3.2\"/>\n",
       "<circle clip-path=\"url(#clip942)\" cx=\"1356.01\" cy=\"366.695\" r=\"14.4\" fill=\"#009af9\" fill-rule=\"evenodd\" fill-opacity=\"1\" stroke=\"#000000\" stroke-opacity=\"1\" stroke-width=\"3.2\"/>\n",
       "<circle clip-path=\"url(#clip942)\" cx=\"1376.81\" cy=\"958.326\" r=\"14.4\" fill=\"#009af9\" fill-rule=\"evenodd\" fill-opacity=\"1\" stroke=\"#000000\" stroke-opacity=\"1\" stroke-width=\"3.2\"/>\n",
       "<circle clip-path=\"url(#clip942)\" cx=\"1397.6\" cy=\"975.711\" r=\"14.4\" fill=\"#009af9\" fill-rule=\"evenodd\" fill-opacity=\"1\" stroke=\"#000000\" stroke-opacity=\"1\" stroke-width=\"3.2\"/>\n",
       "<circle clip-path=\"url(#clip942)\" cx=\"1418.39\" cy=\"382.992\" r=\"14.4\" fill=\"#009af9\" fill-rule=\"evenodd\" fill-opacity=\"1\" stroke=\"#000000\" stroke-opacity=\"1\" stroke-width=\"3.2\"/>\n",
       "<circle clip-path=\"url(#clip942)\" cx=\"1439.18\" cy=\"1252.91\" r=\"14.4\" fill=\"#009af9\" fill-rule=\"evenodd\" fill-opacity=\"1\" stroke=\"#000000\" stroke-opacity=\"1\" stroke-width=\"3.2\"/>\n",
       "<circle clip-path=\"url(#clip942)\" cx=\"1459.97\" cy=\"517.176\" r=\"14.4\" fill=\"#009af9\" fill-rule=\"evenodd\" fill-opacity=\"1\" stroke=\"#000000\" stroke-opacity=\"1\" stroke-width=\"3.2\"/>\n",
       "<circle clip-path=\"url(#clip942)\" cx=\"1480.76\" cy=\"788.18\" r=\"14.4\" fill=\"#009af9\" fill-rule=\"evenodd\" fill-opacity=\"1\" stroke=\"#000000\" stroke-opacity=\"1\" stroke-width=\"3.2\"/>\n",
       "<circle clip-path=\"url(#clip942)\" cx=\"1501.55\" cy=\"1085.3\" r=\"14.4\" fill=\"#009af9\" fill-rule=\"evenodd\" fill-opacity=\"1\" stroke=\"#000000\" stroke-opacity=\"1\" stroke-width=\"3.2\"/>\n",
       "<circle clip-path=\"url(#clip942)\" cx=\"1522.35\" cy=\"379.172\" r=\"14.4\" fill=\"#009af9\" fill-rule=\"evenodd\" fill-opacity=\"1\" stroke=\"#000000\" stroke-opacity=\"1\" stroke-width=\"3.2\"/>\n",
       "<circle clip-path=\"url(#clip942)\" cx=\"1543.14\" cy=\"1157.68\" r=\"14.4\" fill=\"#009af9\" fill-rule=\"evenodd\" fill-opacity=\"1\" stroke=\"#000000\" stroke-opacity=\"1\" stroke-width=\"3.2\"/>\n",
       "<circle clip-path=\"url(#clip942)\" cx=\"1563.93\" cy=\"660.535\" r=\"14.4\" fill=\"#009af9\" fill-rule=\"evenodd\" fill-opacity=\"1\" stroke=\"#000000\" stroke-opacity=\"1\" stroke-width=\"3.2\"/>\n",
       "<circle clip-path=\"url(#clip942)\" cx=\"1584.72\" cy=\"665.259\" r=\"14.4\" fill=\"#009af9\" fill-rule=\"evenodd\" fill-opacity=\"1\" stroke=\"#000000\" stroke-opacity=\"1\" stroke-width=\"3.2\"/>\n",
       "<circle clip-path=\"url(#clip942)\" cx=\"1605.51\" cy=\"1133.53\" r=\"14.4\" fill=\"#009af9\" fill-rule=\"evenodd\" fill-opacity=\"1\" stroke=\"#000000\" stroke-opacity=\"1\" stroke-width=\"3.2\"/>\n",
       "<circle clip-path=\"url(#clip942)\" cx=\"1626.3\" cy=\"422.567\" r=\"14.4\" fill=\"#009af9\" fill-rule=\"evenodd\" fill-opacity=\"1\" stroke=\"#000000\" stroke-opacity=\"1\" stroke-width=\"3.2\"/>\n",
       "<circle clip-path=\"url(#clip942)\" cx=\"1647.09\" cy=\"1047.87\" r=\"14.4\" fill=\"#009af9\" fill-rule=\"evenodd\" fill-opacity=\"1\" stroke=\"#000000\" stroke-opacity=\"1\" stroke-width=\"3.2\"/>\n",
       "<circle clip-path=\"url(#clip942)\" cx=\"1667.89\" cy=\"783.48\" r=\"14.4\" fill=\"#009af9\" fill-rule=\"evenodd\" fill-opacity=\"1\" stroke=\"#000000\" stroke-opacity=\"1\" stroke-width=\"3.2\"/>\n",
       "<circle clip-path=\"url(#clip942)\" cx=\"1688.68\" cy=\"585.113\" r=\"14.4\" fill=\"#009af9\" fill-rule=\"evenodd\" fill-opacity=\"1\" stroke=\"#000000\" stroke-opacity=\"1\" stroke-width=\"3.2\"/>\n",
       "<circle clip-path=\"url(#clip942)\" cx=\"1709.47\" cy=\"1137.22\" r=\"14.4\" fill=\"#009af9\" fill-rule=\"evenodd\" fill-opacity=\"1\" stroke=\"#000000\" stroke-opacity=\"1\" stroke-width=\"3.2\"/>\n",
       "<circle clip-path=\"url(#clip942)\" cx=\"1730.26\" cy=\"493.093\" r=\"14.4\" fill=\"#009af9\" fill-rule=\"evenodd\" fill-opacity=\"1\" stroke=\"#000000\" stroke-opacity=\"1\" stroke-width=\"3.2\"/>\n",
       "<circle clip-path=\"url(#clip942)\" cx=\"1751.05\" cy=\"938.308\" r=\"14.4\" fill=\"#009af9\" fill-rule=\"evenodd\" fill-opacity=\"1\" stroke=\"#000000\" stroke-opacity=\"1\" stroke-width=\"3.2\"/>\n",
       "<circle clip-path=\"url(#clip942)\" cx=\"1771.84\" cy=\"881.258\" r=\"14.4\" fill=\"#009af9\" fill-rule=\"evenodd\" fill-opacity=\"1\" stroke=\"#000000\" stroke-opacity=\"1\" stroke-width=\"3.2\"/>\n",
       "<circle clip-path=\"url(#clip942)\" cx=\"1792.63\" cy=\"542.29\" r=\"14.4\" fill=\"#009af9\" fill-rule=\"evenodd\" fill-opacity=\"1\" stroke=\"#000000\" stroke-opacity=\"1\" stroke-width=\"3.2\"/>\n",
       "<circle clip-path=\"url(#clip942)\" cx=\"1813.43\" cy=\"1108.36\" r=\"14.4\" fill=\"#009af9\" fill-rule=\"evenodd\" fill-opacity=\"1\" stroke=\"#000000\" stroke-opacity=\"1\" stroke-width=\"3.2\"/>\n",
       "<circle clip-path=\"url(#clip942)\" cx=\"1834.22\" cy=\"577.685\" r=\"14.4\" fill=\"#009af9\" fill-rule=\"evenodd\" fill-opacity=\"1\" stroke=\"#000000\" stroke-opacity=\"1\" stroke-width=\"3.2\"/>\n",
       "<circle clip-path=\"url(#clip942)\" cx=\"1855.01\" cy=\"838.091\" r=\"14.4\" fill=\"#009af9\" fill-rule=\"evenodd\" fill-opacity=\"1\" stroke=\"#000000\" stroke-opacity=\"1\" stroke-width=\"3.2\"/>\n",
       "<circle clip-path=\"url(#clip942)\" cx=\"1875.8\" cy=\"951.687\" r=\"14.4\" fill=\"#009af9\" fill-rule=\"evenodd\" fill-opacity=\"1\" stroke=\"#000000\" stroke-opacity=\"1\" stroke-width=\"3.2\"/>\n",
       "<circle clip-path=\"url(#clip942)\" cx=\"1896.59\" cy=\"531.922\" r=\"14.4\" fill=\"#009af9\" fill-rule=\"evenodd\" fill-opacity=\"1\" stroke=\"#000000\" stroke-opacity=\"1\" stroke-width=\"3.2\"/>\n",
       "<circle clip-path=\"url(#clip942)\" cx=\"1917.38\" cy=\"1056.43\" r=\"14.4\" fill=\"#009af9\" fill-rule=\"evenodd\" fill-opacity=\"1\" stroke=\"#000000\" stroke-opacity=\"1\" stroke-width=\"3.2\"/>\n",
       "<circle clip-path=\"url(#clip942)\" cx=\"1938.17\" cy=\"666.228\" r=\"14.4\" fill=\"#009af9\" fill-rule=\"evenodd\" fill-opacity=\"1\" stroke=\"#000000\" stroke-opacity=\"1\" stroke-width=\"3.2\"/>\n",
       "<circle clip-path=\"url(#clip942)\" cx=\"1958.97\" cy=\"753.992\" r=\"14.4\" fill=\"#009af9\" fill-rule=\"evenodd\" fill-opacity=\"1\" stroke=\"#000000\" stroke-opacity=\"1\" stroke-width=\"3.2\"/>\n",
       "<circle clip-path=\"url(#clip942)\" cx=\"1979.76\" cy=\"993.892\" r=\"14.4\" fill=\"#009af9\" fill-rule=\"evenodd\" fill-opacity=\"1\" stroke=\"#000000\" stroke-opacity=\"1\" stroke-width=\"3.2\"/>\n",
       "<circle clip-path=\"url(#clip942)\" cx=\"2000.55\" cy=\"548.812\" r=\"14.4\" fill=\"#009af9\" fill-rule=\"evenodd\" fill-opacity=\"1\" stroke=\"#000000\" stroke-opacity=\"1\" stroke-width=\"3.2\"/>\n",
       "<circle clip-path=\"url(#clip942)\" cx=\"2021.34\" cy=\"990.419\" r=\"14.4\" fill=\"#009af9\" fill-rule=\"evenodd\" fill-opacity=\"1\" stroke=\"#000000\" stroke-opacity=\"1\" stroke-width=\"3.2\"/>\n",
       "<circle clip-path=\"url(#clip942)\" cx=\"2042.13\" cy=\"749.75\" r=\"14.4\" fill=\"#009af9\" fill-rule=\"evenodd\" fill-opacity=\"1\" stroke=\"#000000\" stroke-opacity=\"1\" stroke-width=\"3.2\"/>\n",
       "<circle clip-path=\"url(#clip942)\" cx=\"2062.92\" cy=\"691.11\" r=\"14.4\" fill=\"#009af9\" fill-rule=\"evenodd\" fill-opacity=\"1\" stroke=\"#000000\" stroke-opacity=\"1\" stroke-width=\"3.2\"/>\n",
       "<circle clip-path=\"url(#clip942)\" cx=\"2083.71\" cy=\"1008.87\" r=\"14.4\" fill=\"#009af9\" fill-rule=\"evenodd\" fill-opacity=\"1\" stroke=\"#000000\" stroke-opacity=\"1\" stroke-width=\"3.2\"/>\n",
       "<circle clip-path=\"url(#clip942)\" cx=\"2104.51\" cy=\"586.276\" r=\"14.4\" fill=\"#009af9\" fill-rule=\"evenodd\" fill-opacity=\"1\" stroke=\"#000000\" stroke-opacity=\"1\" stroke-width=\"3.2\"/>\n",
       "<circle clip-path=\"url(#clip942)\" cx=\"2125.3\" cy=\"919.744\" r=\"14.4\" fill=\"#009af9\" fill-rule=\"evenodd\" fill-opacity=\"1\" stroke=\"#000000\" stroke-opacity=\"1\" stroke-width=\"3.2\"/>\n",
       "<circle clip-path=\"url(#clip942)\" cx=\"2146.09\" cy=\"820.384\" r=\"14.4\" fill=\"#009af9\" fill-rule=\"evenodd\" fill-opacity=\"1\" stroke=\"#000000\" stroke-opacity=\"1\" stroke-width=\"3.2\"/>\n",
       "<circle clip-path=\"url(#clip942)\" cx=\"2166.88\" cy=\"652.117\" r=\"14.4\" fill=\"#009af9\" fill-rule=\"evenodd\" fill-opacity=\"1\" stroke=\"#000000\" stroke-opacity=\"1\" stroke-width=\"3.2\"/>\n",
       "<circle clip-path=\"url(#clip942)\" cx=\"2187.67\" cy=\"1000.48\" r=\"14.4\" fill=\"#009af9\" fill-rule=\"evenodd\" fill-opacity=\"1\" stroke=\"#000000\" stroke-opacity=\"1\" stroke-width=\"3.2\"/>\n",
       "<circle clip-path=\"url(#clip942)\" cx=\"2208.46\" cy=\"635.662\" r=\"14.4\" fill=\"#009af9\" fill-rule=\"evenodd\" fill-opacity=\"1\" stroke=\"#000000\" stroke-opacity=\"1\" stroke-width=\"3.2\"/>\n",
       "<circle clip-path=\"url(#clip942)\" cx=\"2229.25\" cy=\"853.81\" r=\"14.4\" fill=\"#009af9\" fill-rule=\"evenodd\" fill-opacity=\"1\" stroke=\"#000000\" stroke-opacity=\"1\" stroke-width=\"3.2\"/>\n",
       "<circle clip-path=\"url(#clip942)\" cx=\"2250.05\" cy=\"872.466\" r=\"14.4\" fill=\"#009af9\" fill-rule=\"evenodd\" fill-opacity=\"1\" stroke=\"#000000\" stroke-opacity=\"1\" stroke-width=\"3.2\"/>\n",
       "<circle clip-path=\"url(#clip942)\" cx=\"2270.84\" cy=\"636.132\" r=\"14.4\" fill=\"#009af9\" fill-rule=\"evenodd\" fill-opacity=\"1\" stroke=\"#000000\" stroke-opacity=\"1\" stroke-width=\"3.2\"/>\n",
       "<circle clip-path=\"url(#clip942)\" cx=\"2291.63\" cy=\"975.806\" r=\"14.4\" fill=\"#009af9\" fill-rule=\"evenodd\" fill-opacity=\"1\" stroke=\"#000000\" stroke-opacity=\"1\" stroke-width=\"3.2\"/>\n",
       "<circle clip-path=\"url(#clip942)\" cx=\"254.067\" cy=\"937.644\" r=\"14.4\" fill=\"#e26f46\" fill-rule=\"evenodd\" fill-opacity=\"1\" stroke=\"#000000\" stroke-opacity=\"1\" stroke-width=\"3.2\"/>\n",
       "<circle clip-path=\"url(#clip942)\" cx=\"274.859\" cy=\"1012.51\" r=\"14.4\" fill=\"#e26f46\" fill-rule=\"evenodd\" fill-opacity=\"1\" stroke=\"#000000\" stroke-opacity=\"1\" stroke-width=\"3.2\"/>\n",
       "<circle clip-path=\"url(#clip942)\" cx=\"295.65\" cy=\"960.019\" r=\"14.4\" fill=\"#e26f46\" fill-rule=\"evenodd\" fill-opacity=\"1\" stroke=\"#000000\" stroke-opacity=\"1\" stroke-width=\"3.2\"/>\n",
       "<circle clip-path=\"url(#clip942)\" cx=\"316.442\" cy=\"686.486\" r=\"14.4\" fill=\"#e26f46\" fill-rule=\"evenodd\" fill-opacity=\"1\" stroke=\"#000000\" stroke-opacity=\"1\" stroke-width=\"3.2\"/>\n",
       "<circle clip-path=\"url(#clip942)\" cx=\"337.233\" cy=\"586.193\" r=\"14.4\" fill=\"#e26f46\" fill-rule=\"evenodd\" fill-opacity=\"1\" stroke=\"#000000\" stroke-opacity=\"1\" stroke-width=\"3.2\"/>\n",
       "<circle clip-path=\"url(#clip942)\" cx=\"358.025\" cy=\"793.832\" r=\"14.4\" fill=\"#e26f46\" fill-rule=\"evenodd\" fill-opacity=\"1\" stroke=\"#000000\" stroke-opacity=\"1\" stroke-width=\"3.2\"/>\n",
       "<circle clip-path=\"url(#clip942)\" cx=\"378.816\" cy=\"1178.65\" r=\"14.4\" fill=\"#e26f46\" fill-rule=\"evenodd\" fill-opacity=\"1\" stroke=\"#000000\" stroke-opacity=\"1\" stroke-width=\"3.2\"/>\n",
       "<circle clip-path=\"url(#clip942)\" cx=\"399.608\" cy=\"819.5\" r=\"14.4\" fill=\"#e26f46\" fill-rule=\"evenodd\" fill-opacity=\"1\" stroke=\"#000000\" stroke-opacity=\"1\" stroke-width=\"3.2\"/>\n",
       "<circle clip-path=\"url(#clip942)\" cx=\"420.399\" cy=\"225.127\" r=\"14.4\" fill=\"#e26f46\" fill-rule=\"evenodd\" fill-opacity=\"1\" stroke=\"#000000\" stroke-opacity=\"1\" stroke-width=\"3.2\"/>\n",
       "<circle clip-path=\"url(#clip942)\" cx=\"441.19\" cy=\"1267.32\" r=\"14.4\" fill=\"#e26f46\" fill-rule=\"evenodd\" fill-opacity=\"1\" stroke=\"#000000\" stroke-opacity=\"1\" stroke-width=\"3.2\"/>\n",
       "<circle clip-path=\"url(#clip942)\" cx=\"461.982\" cy=\"627.003\" r=\"14.4\" fill=\"#e26f46\" fill-rule=\"evenodd\" fill-opacity=\"1\" stroke=\"#000000\" stroke-opacity=\"1\" stroke-width=\"3.2\"/>\n",
       "<circle clip-path=\"url(#clip942)\" cx=\"482.773\" cy=\"627.133\" r=\"14.4\" fill=\"#e26f46\" fill-rule=\"evenodd\" fill-opacity=\"1\" stroke=\"#000000\" stroke-opacity=\"1\" stroke-width=\"3.2\"/>\n",
       "<circle clip-path=\"url(#clip942)\" cx=\"503.565\" cy=\"1289.76\" r=\"14.4\" fill=\"#e26f46\" fill-rule=\"evenodd\" fill-opacity=\"1\" stroke=\"#000000\" stroke-opacity=\"1\" stroke-width=\"3.2\"/>\n",
       "<circle clip-path=\"url(#clip942)\" cx=\"524.356\" cy=\"272.455\" r=\"14.4\" fill=\"#e26f46\" fill-rule=\"evenodd\" fill-opacity=\"1\" stroke=\"#000000\" stroke-opacity=\"1\" stroke-width=\"3.2\"/>\n",
       "<circle clip-path=\"url(#clip942)\" cx=\"545.148\" cy=\"1406.99\" r=\"14.4\" fill=\"#e26f46\" fill-rule=\"evenodd\" fill-opacity=\"1\" stroke=\"#000000\" stroke-opacity=\"1\" stroke-width=\"3.2\"/>\n",
       "<circle clip-path=\"url(#clip942)\" cx=\"565.939\" cy=\"87.9763\" r=\"14.4\" fill=\"#e26f46\" fill-rule=\"evenodd\" fill-opacity=\"1\" stroke=\"#000000\" stroke-opacity=\"1\" stroke-width=\"3.2\"/>\n",
       "<circle clip-path=\"url(#clip942)\" cx=\"586.731\" cy=\"1417.21\" r=\"14.4\" fill=\"#e26f46\" fill-rule=\"evenodd\" fill-opacity=\"1\" stroke=\"#000000\" stroke-opacity=\"1\" stroke-width=\"3.2\"/>\n",
       "<circle clip-path=\"url(#clip942)\" cx=\"607.522\" cy=\"282.578\" r=\"14.4\" fill=\"#e26f46\" fill-rule=\"evenodd\" fill-opacity=\"1\" stroke=\"#000000\" stroke-opacity=\"1\" stroke-width=\"3.2\"/>\n",
       "<circle clip-path=\"url(#clip942)\" cx=\"628.313\" cy=\"1319.52\" r=\"14.4\" fill=\"#e26f46\" fill-rule=\"evenodd\" fill-opacity=\"1\" stroke=\"#000000\" stroke-opacity=\"1\" stroke-width=\"3.2\"/>\n",
       "<circle clip-path=\"url(#clip942)\" cx=\"649.105\" cy=\"341.645\" r=\"14.4\" fill=\"#e26f46\" fill-rule=\"evenodd\" fill-opacity=\"1\" stroke=\"#000000\" stroke-opacity=\"1\" stroke-width=\"3.2\"/>\n",
       "<circle clip-path=\"url(#clip942)\" cx=\"669.896\" cy=\"1034.33\" r=\"14.4\" fill=\"#e26f46\" fill-rule=\"evenodd\" fill-opacity=\"1\" stroke=\"#000000\" stroke-opacity=\"1\" stroke-width=\"3.2\"/>\n",
       "<circle clip-path=\"url(#clip942)\" cx=\"690.688\" cy=\"806.437\" r=\"14.4\" fill=\"#e26f46\" fill-rule=\"evenodd\" fill-opacity=\"1\" stroke=\"#000000\" stroke-opacity=\"1\" stroke-width=\"3.2\"/>\n",
       "<circle clip-path=\"url(#clip942)\" cx=\"711.479\" cy=\"633.17\" r=\"14.4\" fill=\"#e26f46\" fill-rule=\"evenodd\" fill-opacity=\"1\" stroke=\"#000000\" stroke-opacity=\"1\" stroke-width=\"3.2\"/>\n",
       "<circle clip-path=\"url(#clip942)\" cx=\"732.271\" cy=\"1063.89\" r=\"14.4\" fill=\"#e26f46\" fill-rule=\"evenodd\" fill-opacity=\"1\" stroke=\"#000000\" stroke-opacity=\"1\" stroke-width=\"3.2\"/>\n",
       "<circle clip-path=\"url(#clip942)\" cx=\"753.062\" cy=\"406.075\" r=\"14.4\" fill=\"#e26f46\" fill-rule=\"evenodd\" fill-opacity=\"1\" stroke=\"#000000\" stroke-opacity=\"1\" stroke-width=\"3.2\"/>\n",
       "<circle clip-path=\"url(#clip942)\" cx=\"773.854\" cy=\"1332.25\" r=\"14.4\" fill=\"#e26f46\" fill-rule=\"evenodd\" fill-opacity=\"1\" stroke=\"#000000\" stroke-opacity=\"1\" stroke-width=\"3.2\"/>\n",
       "<circle clip-path=\"url(#clip942)\" cx=\"794.645\" cy=\"214.921\" r=\"14.4\" fill=\"#e26f46\" fill-rule=\"evenodd\" fill-opacity=\"1\" stroke=\"#000000\" stroke-opacity=\"1\" stroke-width=\"3.2\"/>\n",
       "<circle clip-path=\"url(#clip942)\" cx=\"815.436\" cy=\"1255.13\" r=\"14.4\" fill=\"#e26f46\" fill-rule=\"evenodd\" fill-opacity=\"1\" stroke=\"#000000\" stroke-opacity=\"1\" stroke-width=\"3.2\"/>\n",
       "<circle clip-path=\"url(#clip942)\" cx=\"836.228\" cy=\"606.906\" r=\"14.4\" fill=\"#e26f46\" fill-rule=\"evenodd\" fill-opacity=\"1\" stroke=\"#000000\" stroke-opacity=\"1\" stroke-width=\"3.2\"/>\n",
       "<circle clip-path=\"url(#clip942)\" cx=\"857.019\" cy=\"693.266\" r=\"14.4\" fill=\"#e26f46\" fill-rule=\"evenodd\" fill-opacity=\"1\" stroke=\"#000000\" stroke-opacity=\"1\" stroke-width=\"3.2\"/>\n",
       "<circle clip-path=\"url(#clip942)\" cx=\"877.811\" cy=\"1129.81\" r=\"14.4\" fill=\"#e26f46\" fill-rule=\"evenodd\" fill-opacity=\"1\" stroke=\"#000000\" stroke-opacity=\"1\" stroke-width=\"3.2\"/>\n",
       "<circle clip-path=\"url(#clip942)\" cx=\"898.602\" cy=\"384.754\" r=\"14.4\" fill=\"#e26f46\" fill-rule=\"evenodd\" fill-opacity=\"1\" stroke=\"#000000\" stroke-opacity=\"1\" stroke-width=\"3.2\"/>\n",
       "<circle clip-path=\"url(#clip942)\" cx=\"919.394\" cy=\"1141.07\" r=\"14.4\" fill=\"#e26f46\" fill-rule=\"evenodd\" fill-opacity=\"1\" stroke=\"#000000\" stroke-opacity=\"1\" stroke-width=\"3.2\"/>\n",
       "<circle clip-path=\"url(#clip942)\" cx=\"940.185\" cy=\"628.278\" r=\"14.4\" fill=\"#e26f46\" fill-rule=\"evenodd\" fill-opacity=\"1\" stroke=\"#000000\" stroke-opacity=\"1\" stroke-width=\"3.2\"/>\n",
       "<circle clip-path=\"url(#clip942)\" cx=\"960.977\" cy=\"758.163\" r=\"14.4\" fill=\"#e26f46\" fill-rule=\"evenodd\" fill-opacity=\"1\" stroke=\"#000000\" stroke-opacity=\"1\" stroke-width=\"3.2\"/>\n",
       "<circle clip-path=\"url(#clip942)\" cx=\"981.768\" cy=\"1011.77\" r=\"14.4\" fill=\"#e26f46\" fill-rule=\"evenodd\" fill-opacity=\"1\" stroke=\"#000000\" stroke-opacity=\"1\" stroke-width=\"3.2\"/>\n",
       "<circle clip-path=\"url(#clip942)\" cx=\"1002.56\" cy=\"527.85\" r=\"14.4\" fill=\"#e26f46\" fill-rule=\"evenodd\" fill-opacity=\"1\" stroke=\"#000000\" stroke-opacity=\"1\" stroke-width=\"3.2\"/>\n",
       "<circle clip-path=\"url(#clip942)\" cx=\"1023.35\" cy=\"987.239\" r=\"14.4\" fill=\"#e26f46\" fill-rule=\"evenodd\" fill-opacity=\"1\" stroke=\"#000000\" stroke-opacity=\"1\" stroke-width=\"3.2\"/>\n",
       "<circle clip-path=\"url(#clip942)\" cx=\"1044.14\" cy=\"801.62\" r=\"14.4\" fill=\"#e26f46\" fill-rule=\"evenodd\" fill-opacity=\"1\" stroke=\"#000000\" stroke-opacity=\"1\" stroke-width=\"3.2\"/>\n",
       "<circle clip-path=\"url(#clip942)\" cx=\"1064.93\" cy=\"614.826\" r=\"14.4\" fill=\"#e26f46\" fill-rule=\"evenodd\" fill-opacity=\"1\" stroke=\"#000000\" stroke-opacity=\"1\" stroke-width=\"3.2\"/>\n",
       "<circle clip-path=\"url(#clip942)\" cx=\"1085.73\" cy=\"1016.67\" r=\"14.4\" fill=\"#e26f46\" fill-rule=\"evenodd\" fill-opacity=\"1\" stroke=\"#000000\" stroke-opacity=\"1\" stroke-width=\"3.2\"/>\n",
       "<circle clip-path=\"url(#clip942)\" cx=\"1106.52\" cy=\"733.35\" r=\"14.4\" fill=\"#e26f46\" fill-rule=\"evenodd\" fill-opacity=\"1\" stroke=\"#000000\" stroke-opacity=\"1\" stroke-width=\"3.2\"/>\n",
       "<circle clip-path=\"url(#clip942)\" cx=\"1127.31\" cy=\"648.584\" r=\"14.4\" fill=\"#e26f46\" fill-rule=\"evenodd\" fill-opacity=\"1\" stroke=\"#000000\" stroke-opacity=\"1\" stroke-width=\"3.2\"/>\n",
       "<circle clip-path=\"url(#clip942)\" cx=\"1148.1\" cy=\"1024.42\" r=\"14.4\" fill=\"#e26f46\" fill-rule=\"evenodd\" fill-opacity=\"1\" stroke=\"#000000\" stroke-opacity=\"1\" stroke-width=\"3.2\"/>\n",
       "<circle clip-path=\"url(#clip942)\" cx=\"1168.89\" cy=\"745.213\" r=\"14.4\" fill=\"#e26f46\" fill-rule=\"evenodd\" fill-opacity=\"1\" stroke=\"#000000\" stroke-opacity=\"1\" stroke-width=\"3.2\"/>\n",
       "<circle clip-path=\"url(#clip942)\" cx=\"1189.68\" cy=\"601.793\" r=\"14.4\" fill=\"#e26f46\" fill-rule=\"evenodd\" fill-opacity=\"1\" stroke=\"#000000\" stroke-opacity=\"1\" stroke-width=\"3.2\"/>\n",
       "<circle clip-path=\"url(#clip942)\" cx=\"1210.47\" cy=\"1030.95\" r=\"14.4\" fill=\"#e26f46\" fill-rule=\"evenodd\" fill-opacity=\"1\" stroke=\"#000000\" stroke-opacity=\"1\" stroke-width=\"3.2\"/>\n",
       "<circle clip-path=\"url(#clip942)\" cx=\"1231.27\" cy=\"815.962\" r=\"14.4\" fill=\"#e26f46\" fill-rule=\"evenodd\" fill-opacity=\"1\" stroke=\"#000000\" stroke-opacity=\"1\" stroke-width=\"3.2\"/>\n",
       "<circle clip-path=\"url(#clip942)\" cx=\"1252.06\" cy=\"563.002\" r=\"14.4\" fill=\"#e26f46\" fill-rule=\"evenodd\" fill-opacity=\"1\" stroke=\"#000000\" stroke-opacity=\"1\" stroke-width=\"3.2\"/>\n",
       "<circle clip-path=\"url(#clip942)\" cx=\"1272.85\" cy=\"923.431\" r=\"14.4\" fill=\"#e26f46\" fill-rule=\"evenodd\" fill-opacity=\"1\" stroke=\"#000000\" stroke-opacity=\"1\" stroke-width=\"3.2\"/>\n",
       "<circle clip-path=\"url(#clip942)\" cx=\"1293.64\" cy=\"918.866\" r=\"14.4\" fill=\"#e26f46\" fill-rule=\"evenodd\" fill-opacity=\"1\" stroke=\"#000000\" stroke-opacity=\"1\" stroke-width=\"3.2\"/>\n",
       "<circle clip-path=\"url(#clip942)\" cx=\"1314.43\" cy=\"723.343\" r=\"14.4\" fill=\"#e26f46\" fill-rule=\"evenodd\" fill-opacity=\"1\" stroke=\"#000000\" stroke-opacity=\"1\" stroke-width=\"3.2\"/>\n",
       "<circle clip-path=\"url(#clip942)\" cx=\"1335.22\" cy=\"687.673\" r=\"14.4\" fill=\"#e26f46\" fill-rule=\"evenodd\" fill-opacity=\"1\" stroke=\"#000000\" stroke-opacity=\"1\" stroke-width=\"3.2\"/>\n",
       "<circle clip-path=\"url(#clip942)\" cx=\"1356.01\" cy=\"795.306\" r=\"14.4\" fill=\"#e26f46\" fill-rule=\"evenodd\" fill-opacity=\"1\" stroke=\"#000000\" stroke-opacity=\"1\" stroke-width=\"3.2\"/>\n",
       "<circle clip-path=\"url(#clip942)\" cx=\"1376.81\" cy=\"998.917\" r=\"14.4\" fill=\"#e26f46\" fill-rule=\"evenodd\" fill-opacity=\"1\" stroke=\"#000000\" stroke-opacity=\"1\" stroke-width=\"3.2\"/>\n",
       "<circle clip-path=\"url(#clip942)\" cx=\"1397.6\" cy=\"795.304\" r=\"14.4\" fill=\"#e26f46\" fill-rule=\"evenodd\" fill-opacity=\"1\" stroke=\"#000000\" stroke-opacity=\"1\" stroke-width=\"3.2\"/>\n",
       "<circle clip-path=\"url(#clip942)\" cx=\"1418.39\" cy=\"665.951\" r=\"14.4\" fill=\"#e26f46\" fill-rule=\"evenodd\" fill-opacity=\"1\" stroke=\"#000000\" stroke-opacity=\"1\" stroke-width=\"3.2\"/>\n",
       "<circle clip-path=\"url(#clip942)\" cx=\"1439.18\" cy=\"736.959\" r=\"14.4\" fill=\"#e26f46\" fill-rule=\"evenodd\" fill-opacity=\"1\" stroke=\"#000000\" stroke-opacity=\"1\" stroke-width=\"3.2\"/>\n",
       "<circle clip-path=\"url(#clip942)\" cx=\"1459.97\" cy=\"752.744\" r=\"14.4\" fill=\"#e26f46\" fill-rule=\"evenodd\" fill-opacity=\"1\" stroke=\"#000000\" stroke-opacity=\"1\" stroke-width=\"3.2\"/>\n",
       "<circle clip-path=\"url(#clip942)\" cx=\"1480.76\" cy=\"934.19\" r=\"14.4\" fill=\"#e26f46\" fill-rule=\"evenodd\" fill-opacity=\"1\" stroke=\"#000000\" stroke-opacity=\"1\" stroke-width=\"3.2\"/>\n",
       "<circle clip-path=\"url(#clip942)\" cx=\"1501.55\" cy=\"908.05\" r=\"14.4\" fill=\"#e26f46\" fill-rule=\"evenodd\" fill-opacity=\"1\" stroke=\"#000000\" stroke-opacity=\"1\" stroke-width=\"3.2\"/>\n",
       "<circle clip-path=\"url(#clip942)\" cx=\"1522.35\" cy=\"829.648\" r=\"14.4\" fill=\"#e26f46\" fill-rule=\"evenodd\" fill-opacity=\"1\" stroke=\"#000000\" stroke-opacity=\"1\" stroke-width=\"3.2\"/>\n",
       "<circle clip-path=\"url(#clip942)\" cx=\"1543.14\" cy=\"847.628\" r=\"14.4\" fill=\"#e26f46\" fill-rule=\"evenodd\" fill-opacity=\"1\" stroke=\"#000000\" stroke-opacity=\"1\" stroke-width=\"3.2\"/>\n",
       "<circle clip-path=\"url(#clip942)\" cx=\"1563.93\" cy=\"701.71\" r=\"14.4\" fill=\"#e26f46\" fill-rule=\"evenodd\" fill-opacity=\"1\" stroke=\"#000000\" stroke-opacity=\"1\" stroke-width=\"3.2\"/>\n",
       "<circle clip-path=\"url(#clip942)\" cx=\"1584.72\" cy=\"745.889\" r=\"14.4\" fill=\"#e26f46\" fill-rule=\"evenodd\" fill-opacity=\"1\" stroke=\"#000000\" stroke-opacity=\"1\" stroke-width=\"3.2\"/>\n",
       "<circle clip-path=\"url(#clip942)\" cx=\"1605.51\" cy=\"727.887\" r=\"14.4\" fill=\"#e26f46\" fill-rule=\"evenodd\" fill-opacity=\"1\" stroke=\"#000000\" stroke-opacity=\"1\" stroke-width=\"3.2\"/>\n",
       "<circle clip-path=\"url(#clip942)\" cx=\"1626.3\" cy=\"672.987\" r=\"14.4\" fill=\"#e26f46\" fill-rule=\"evenodd\" fill-opacity=\"1\" stroke=\"#000000\" stroke-opacity=\"1\" stroke-width=\"3.2\"/>\n",
       "<circle clip-path=\"url(#clip942)\" cx=\"1647.09\" cy=\"766.052\" r=\"14.4\" fill=\"#e26f46\" fill-rule=\"evenodd\" fill-opacity=\"1\" stroke=\"#000000\" stroke-opacity=\"1\" stroke-width=\"3.2\"/>\n",
       "<circle clip-path=\"url(#clip942)\" cx=\"1667.89\" cy=\"689.07\" r=\"14.4\" fill=\"#e26f46\" fill-rule=\"evenodd\" fill-opacity=\"1\" stroke=\"#000000\" stroke-opacity=\"1\" stroke-width=\"3.2\"/>\n",
       "<circle clip-path=\"url(#clip942)\" cx=\"1688.68\" cy=\"741.94\" r=\"14.4\" fill=\"#e26f46\" fill-rule=\"evenodd\" fill-opacity=\"1\" stroke=\"#000000\" stroke-opacity=\"1\" stroke-width=\"3.2\"/>\n",
       "<circle clip-path=\"url(#clip942)\" cx=\"1709.47\" cy=\"783.972\" r=\"14.4\" fill=\"#e26f46\" fill-rule=\"evenodd\" fill-opacity=\"1\" stroke=\"#000000\" stroke-opacity=\"1\" stroke-width=\"3.2\"/>\n",
       "<circle clip-path=\"url(#clip942)\" cx=\"1730.26\" cy=\"757.737\" r=\"14.4\" fill=\"#e26f46\" fill-rule=\"evenodd\" fill-opacity=\"1\" stroke=\"#000000\" stroke-opacity=\"1\" stroke-width=\"3.2\"/>\n",
       "<circle clip-path=\"url(#clip942)\" cx=\"1751.05\" cy=\"885.938\" r=\"14.4\" fill=\"#e26f46\" fill-rule=\"evenodd\" fill-opacity=\"1\" stroke=\"#000000\" stroke-opacity=\"1\" stroke-width=\"3.2\"/>\n",
       "<circle clip-path=\"url(#clip942)\" cx=\"1771.84\" cy=\"841.021\" r=\"14.4\" fill=\"#e26f46\" fill-rule=\"evenodd\" fill-opacity=\"1\" stroke=\"#000000\" stroke-opacity=\"1\" stroke-width=\"3.2\"/>\n",
       "<circle clip-path=\"url(#clip942)\" cx=\"1792.63\" cy=\"819.8\" r=\"14.4\" fill=\"#e26f46\" fill-rule=\"evenodd\" fill-opacity=\"1\" stroke=\"#000000\" stroke-opacity=\"1\" stroke-width=\"3.2\"/>\n",
       "<circle clip-path=\"url(#clip942)\" cx=\"1813.43\" cy=\"789.468\" r=\"14.4\" fill=\"#e26f46\" fill-rule=\"evenodd\" fill-opacity=\"1\" stroke=\"#000000\" stroke-opacity=\"1\" stroke-width=\"3.2\"/>\n",
       "<circle clip-path=\"url(#clip942)\" cx=\"1834.22\" cy=\"709.243\" r=\"14.4\" fill=\"#e26f46\" fill-rule=\"evenodd\" fill-opacity=\"1\" stroke=\"#000000\" stroke-opacity=\"1\" stroke-width=\"3.2\"/>\n",
       "<circle clip-path=\"url(#clip942)\" cx=\"1855.01\" cy=\"866.477\" r=\"14.4\" fill=\"#e26f46\" fill-rule=\"evenodd\" fill-opacity=\"1\" stroke=\"#000000\" stroke-opacity=\"1\" stroke-width=\"3.2\"/>\n",
       "<circle clip-path=\"url(#clip942)\" cx=\"1875.8\" cy=\"819.865\" r=\"14.4\" fill=\"#e26f46\" fill-rule=\"evenodd\" fill-opacity=\"1\" stroke=\"#000000\" stroke-opacity=\"1\" stroke-width=\"3.2\"/>\n",
       "<circle clip-path=\"url(#clip942)\" cx=\"1896.59\" cy=\"729.187\" r=\"14.4\" fill=\"#e26f46\" fill-rule=\"evenodd\" fill-opacity=\"1\" stroke=\"#000000\" stroke-opacity=\"1\" stroke-width=\"3.2\"/>\n",
       "<circle clip-path=\"url(#clip942)\" cx=\"1917.38\" cy=\"862.997\" r=\"14.4\" fill=\"#e26f46\" fill-rule=\"evenodd\" fill-opacity=\"1\" stroke=\"#000000\" stroke-opacity=\"1\" stroke-width=\"3.2\"/>\n",
       "<circle clip-path=\"url(#clip942)\" cx=\"1938.17\" cy=\"766.092\" r=\"14.4\" fill=\"#e26f46\" fill-rule=\"evenodd\" fill-opacity=\"1\" stroke=\"#000000\" stroke-opacity=\"1\" stroke-width=\"3.2\"/>\n",
       "<circle clip-path=\"url(#clip942)\" cx=\"1958.97\" cy=\"799.476\" r=\"14.4\" fill=\"#e26f46\" fill-rule=\"evenodd\" fill-opacity=\"1\" stroke=\"#000000\" stroke-opacity=\"1\" stroke-width=\"3.2\"/>\n",
       "<circle clip-path=\"url(#clip942)\" cx=\"1979.76\" cy=\"829.386\" r=\"14.4\" fill=\"#e26f46\" fill-rule=\"evenodd\" fill-opacity=\"1\" stroke=\"#000000\" stroke-opacity=\"1\" stroke-width=\"3.2\"/>\n",
       "<circle clip-path=\"url(#clip942)\" cx=\"2000.55\" cy=\"750.084\" r=\"14.4\" fill=\"#e26f46\" fill-rule=\"evenodd\" fill-opacity=\"1\" stroke=\"#000000\" stroke-opacity=\"1\" stroke-width=\"3.2\"/>\n",
       "<circle clip-path=\"url(#clip942)\" cx=\"2021.34\" cy=\"844.611\" r=\"14.4\" fill=\"#e26f46\" fill-rule=\"evenodd\" fill-opacity=\"1\" stroke=\"#000000\" stroke-opacity=\"1\" stroke-width=\"3.2\"/>\n",
       "<circle clip-path=\"url(#clip942)\" cx=\"2042.13\" cy=\"784.126\" r=\"14.4\" fill=\"#e26f46\" fill-rule=\"evenodd\" fill-opacity=\"1\" stroke=\"#000000\" stroke-opacity=\"1\" stroke-width=\"3.2\"/>\n",
       "<circle clip-path=\"url(#clip942)\" cx=\"2062.92\" cy=\"774.936\" r=\"14.4\" fill=\"#e26f46\" fill-rule=\"evenodd\" fill-opacity=\"1\" stroke=\"#000000\" stroke-opacity=\"1\" stroke-width=\"3.2\"/>\n",
       "<circle clip-path=\"url(#clip942)\" cx=\"2083.71\" cy=\"824.882\" r=\"14.4\" fill=\"#e26f46\" fill-rule=\"evenodd\" fill-opacity=\"1\" stroke=\"#000000\" stroke-opacity=\"1\" stroke-width=\"3.2\"/>\n",
       "<circle clip-path=\"url(#clip942)\" cx=\"2104.51\" cy=\"796.725\" r=\"14.4\" fill=\"#e26f46\" fill-rule=\"evenodd\" fill-opacity=\"1\" stroke=\"#000000\" stroke-opacity=\"1\" stroke-width=\"3.2\"/>\n",
       "<circle clip-path=\"url(#clip942)\" cx=\"2125.3\" cy=\"840.648\" r=\"14.4\" fill=\"#e26f46\" fill-rule=\"evenodd\" fill-opacity=\"1\" stroke=\"#000000\" stroke-opacity=\"1\" stroke-width=\"3.2\"/>\n",
       "<circle clip-path=\"url(#clip942)\" cx=\"2146.09\" cy=\"759.332\" r=\"14.4\" fill=\"#e26f46\" fill-rule=\"evenodd\" fill-opacity=\"1\" stroke=\"#000000\" stroke-opacity=\"1\" stroke-width=\"3.2\"/>\n",
       "<circle clip-path=\"url(#clip942)\" cx=\"2166.88\" cy=\"774.159\" r=\"14.4\" fill=\"#e26f46\" fill-rule=\"evenodd\" fill-opacity=\"1\" stroke=\"#000000\" stroke-opacity=\"1\" stroke-width=\"3.2\"/>\n",
       "<circle clip-path=\"url(#clip942)\" cx=\"2187.67\" cy=\"799.616\" r=\"14.4\" fill=\"#e26f46\" fill-rule=\"evenodd\" fill-opacity=\"1\" stroke=\"#000000\" stroke-opacity=\"1\" stroke-width=\"3.2\"/>\n",
       "<circle clip-path=\"url(#clip942)\" cx=\"2208.46\" cy=\"748.915\" r=\"14.4\" fill=\"#e26f46\" fill-rule=\"evenodd\" fill-opacity=\"1\" stroke=\"#000000\" stroke-opacity=\"1\" stroke-width=\"3.2\"/>\n",
       "<circle clip-path=\"url(#clip942)\" cx=\"2229.25\" cy=\"838.753\" r=\"14.4\" fill=\"#e26f46\" fill-rule=\"evenodd\" fill-opacity=\"1\" stroke=\"#000000\" stroke-opacity=\"1\" stroke-width=\"3.2\"/>\n",
       "<circle clip-path=\"url(#clip942)\" cx=\"2250.05\" cy=\"808.165\" r=\"14.4\" fill=\"#e26f46\" fill-rule=\"evenodd\" fill-opacity=\"1\" stroke=\"#000000\" stroke-opacity=\"1\" stroke-width=\"3.2\"/>\n",
       "<circle clip-path=\"url(#clip942)\" cx=\"2270.84\" cy=\"777.288\" r=\"14.4\" fill=\"#e26f46\" fill-rule=\"evenodd\" fill-opacity=\"1\" stroke=\"#000000\" stroke-opacity=\"1\" stroke-width=\"3.2\"/>\n",
       "<circle clip-path=\"url(#clip942)\" cx=\"2291.63\" cy=\"823.779\" r=\"14.4\" fill=\"#e26f46\" fill-rule=\"evenodd\" fill-opacity=\"1\" stroke=\"#000000\" stroke-opacity=\"1\" stroke-width=\"3.2\"/>\n",
       "<path clip-path=\"url(#clip940)\" d=\"M2012.35 250.738 L2280.76 250.738 L2280.76 95.2176 L2012.35 95.2176  Z\" fill=\"#ffffff\" fill-rule=\"evenodd\" fill-opacity=\"1\"/>\n",
       "<polyline clip-path=\"url(#clip940)\" style=\"stroke:#000000; stroke-linecap:round; stroke-linejoin:round; stroke-width:4; stroke-opacity:1; fill:none\" points=\"2012.35,250.738 2280.76,250.738 2280.76,95.2176 2012.35,95.2176 2012.35,250.738 \"/>\n",
       "<circle clip-path=\"url(#clip940)\" cx=\"2108.34\" cy=\"147.058\" r=\"20.48\" fill=\"#009af9\" fill-rule=\"evenodd\" fill-opacity=\"1\" stroke=\"#000000\" stroke-opacity=\"1\" stroke-width=\"4.55111\"/>\n",
       "<path clip-path=\"url(#clip940)\" d=\"M2218.18 166.745 Q2216.37 171.375 2214.66 172.787 Q2212.94 174.199 2210.07 174.199 L2206.67 174.199 L2206.67 170.634 L2209.17 170.634 Q2210.93 170.634 2211.9 169.8 Q2212.88 168.967 2214.06 165.865 L2214.82 163.921 L2204.33 138.412 L2208.85 138.412 L2216.95 158.689 L2225.05 138.412 L2229.57 138.412 L2218.18 166.745 Z\" fill=\"#000000\" fill-rule=\"nonzero\" fill-opacity=\"1\" /><path clip-path=\"url(#clip940)\" d=\"M2236.86 160.402 L2244.5 160.402 L2244.5 134.037 L2236.19 135.703 L2236.19 131.444 L2244.45 129.778 L2249.13 129.778 L2249.13 160.402 L2256.76 160.402 L2256.76 164.338 L2236.86 164.338 L2236.86 160.402 Z\" fill=\"#000000\" fill-rule=\"nonzero\" fill-opacity=\"1\" /><circle clip-path=\"url(#clip940)\" cx=\"2108.34\" cy=\"198.898\" r=\"20.48\" fill=\"#e26f46\" fill-rule=\"evenodd\" fill-opacity=\"1\" stroke=\"#000000\" stroke-opacity=\"1\" stroke-width=\"4.55111\"/>\n",
       "<path clip-path=\"url(#clip940)\" d=\"M2218.18 218.585 Q2216.37 223.215 2214.66 224.627 Q2212.94 226.039 2210.07 226.039 L2206.67 226.039 L2206.67 222.474 L2209.17 222.474 Q2210.93 222.474 2211.9 221.64 Q2212.88 220.807 2214.06 217.705 L2214.82 215.761 L2204.33 190.252 L2208.85 190.252 L2216.95 210.529 L2225.05 190.252 L2229.57 190.252 L2218.18 218.585 Z\" fill=\"#000000\" fill-rule=\"nonzero\" fill-opacity=\"1\" /><path clip-path=\"url(#clip940)\" d=\"M2240.07 212.242 L2256.39 212.242 L2256.39 216.178 L2234.45 216.178 L2234.45 212.242 Q2237.11 209.488 2241.69 204.858 Q2246.3 200.205 2247.48 198.863 Q2249.73 196.34 2250.61 194.604 Q2251.51 192.844 2251.51 191.155 Q2251.51 188.4 2249.57 186.664 Q2247.64 184.928 2244.54 184.928 Q2242.34 184.928 2239.89 185.692 Q2237.46 186.455 2234.68 188.006 L2234.68 183.284 Q2237.5 182.15 2239.96 181.571 Q2242.41 180.993 2244.45 180.993 Q2249.82 180.993 2253.01 183.678 Q2256.21 186.363 2256.21 190.854 Q2256.21 192.983 2255.4 194.905 Q2254.61 196.803 2252.5 199.395 Q2251.93 200.067 2248.82 203.284 Q2245.72 206.479 2240.07 212.242 Z\" fill=\"#000000\" fill-rule=\"nonzero\" fill-opacity=\"1\" /></svg>\n"
      ],
      "text/html": [
       "<?xml version=\"1.0\" encoding=\"utf-8\"?>\n",
       "<svg xmlns=\"http://www.w3.org/2000/svg\" xmlns:xlink=\"http://www.w3.org/1999/xlink\" width=\"600\" height=\"400\" viewBox=\"0 0 2400 1600\">\n",
       "<defs>\n",
       "  <clipPath id=\"clip990\">\n",
       "    <rect x=\"0\" y=\"0\" width=\"2400\" height=\"1600\"/>\n",
       "  </clipPath>\n",
       "</defs>\n",
       "<path clip-path=\"url(#clip990)\" d=\"M0 1600 L2400 1600 L2400 0 L0 0  Z\" fill=\"#ffffff\" fill-rule=\"evenodd\" fill-opacity=\"1\"/>\n",
       "<defs>\n",
       "  <clipPath id=\"clip991\">\n",
       "    <rect x=\"480\" y=\"0\" width=\"1681\" height=\"1600\"/>\n",
       "  </clipPath>\n",
       "</defs>\n",
       "<path clip-path=\"url(#clip990)\" d=\"M192.941 1486.45 L2352.76 1486.45 L2352.76 47.2441 L192.941 47.2441  Z\" fill=\"#ffffff\" fill-rule=\"evenodd\" fill-opacity=\"1\"/>\n",
       "<defs>\n",
       "  <clipPath id=\"clip992\">\n",
       "    <rect x=\"192\" y=\"47\" width=\"2161\" height=\"1440\"/>\n",
       "  </clipPath>\n",
       "</defs>\n",
       "<polyline clip-path=\"url(#clip992)\" style=\"stroke:#000000; stroke-linecap:round; stroke-linejoin:round; stroke-width:2; stroke-opacity:0.1; fill:none\" points=\"212.485,1486.45 212.485,47.2441 \"/>\n",
       "<polyline clip-path=\"url(#clip992)\" style=\"stroke:#000000; stroke-linecap:round; stroke-linejoin:round; stroke-width:2; stroke-opacity:0.1; fill:none\" points=\"628.313,1486.45 628.313,47.2441 \"/>\n",
       "<polyline clip-path=\"url(#clip992)\" style=\"stroke:#000000; stroke-linecap:round; stroke-linejoin:round; stroke-width:2; stroke-opacity:0.1; fill:none\" points=\"1044.14,1486.45 1044.14,47.2441 \"/>\n",
       "<polyline clip-path=\"url(#clip992)\" style=\"stroke:#000000; stroke-linecap:round; stroke-linejoin:round; stroke-width:2; stroke-opacity:0.1; fill:none\" points=\"1459.97,1486.45 1459.97,47.2441 \"/>\n",
       "<polyline clip-path=\"url(#clip992)\" style=\"stroke:#000000; stroke-linecap:round; stroke-linejoin:round; stroke-width:2; stroke-opacity:0.1; fill:none\" points=\"1875.8,1486.45 1875.8,47.2441 \"/>\n",
       "<polyline clip-path=\"url(#clip992)\" style=\"stroke:#000000; stroke-linecap:round; stroke-linejoin:round; stroke-width:2; stroke-opacity:0.1; fill:none\" points=\"2291.63,1486.45 2291.63,47.2441 \"/>\n",
       "<polyline clip-path=\"url(#clip990)\" style=\"stroke:#000000; stroke-linecap:round; stroke-linejoin:round; stroke-width:4; stroke-opacity:1; fill:none\" points=\"192.941,1486.45 2352.76,1486.45 \"/>\n",
       "<polyline clip-path=\"url(#clip990)\" style=\"stroke:#000000; stroke-linecap:round; stroke-linejoin:round; stroke-width:4; stroke-opacity:1; fill:none\" points=\"212.485,1486.45 212.485,1467.55 \"/>\n",
       "<polyline clip-path=\"url(#clip990)\" style=\"stroke:#000000; stroke-linecap:round; stroke-linejoin:round; stroke-width:4; stroke-opacity:1; fill:none\" points=\"628.313,1486.45 628.313,1467.55 \"/>\n",
       "<polyline clip-path=\"url(#clip990)\" style=\"stroke:#000000; stroke-linecap:round; stroke-linejoin:round; stroke-width:4; stroke-opacity:1; fill:none\" points=\"1044.14,1486.45 1044.14,1467.55 \"/>\n",
       "<polyline clip-path=\"url(#clip990)\" style=\"stroke:#000000; stroke-linecap:round; stroke-linejoin:round; stroke-width:4; stroke-opacity:1; fill:none\" points=\"1459.97,1486.45 1459.97,1467.55 \"/>\n",
       "<polyline clip-path=\"url(#clip990)\" style=\"stroke:#000000; stroke-linecap:round; stroke-linejoin:round; stroke-width:4; stroke-opacity:1; fill:none\" points=\"1875.8,1486.45 1875.8,1467.55 \"/>\n",
       "<polyline clip-path=\"url(#clip990)\" style=\"stroke:#000000; stroke-linecap:round; stroke-linejoin:round; stroke-width:4; stroke-opacity:1; fill:none\" points=\"2291.63,1486.45 2291.63,1467.55 \"/>\n",
       "<path clip-path=\"url(#clip990)\" d=\"M212.485 1517.37 Q208.873 1517.37 207.045 1520.93 Q205.239 1524.47 205.239 1531.6 Q205.239 1538.71 207.045 1542.27 Q208.873 1545.82 212.485 1545.82 Q216.119 1545.82 217.924 1542.27 Q219.753 1538.71 219.753 1531.6 Q219.753 1524.47 217.924 1520.93 Q216.119 1517.37 212.485 1517.37 M212.485 1513.66 Q218.295 1513.66 221.35 1518.27 Q224.429 1522.85 224.429 1531.6 Q224.429 1540.33 221.35 1544.94 Q218.295 1549.52 212.485 1549.52 Q206.674 1549.52 203.596 1544.94 Q200.54 1540.33 200.54 1531.6 Q200.54 1522.85 203.596 1518.27 Q206.674 1513.66 212.485 1513.66 Z\" fill=\"#000000\" fill-rule=\"nonzero\" fill-opacity=\"1\" /><path clip-path=\"url(#clip990)\" d=\"M603.001 1544.91 L610.64 1544.91 L610.64 1518.55 L602.33 1520.21 L602.33 1515.95 L610.594 1514.29 L615.27 1514.29 L615.27 1544.91 L622.908 1544.91 L622.908 1548.85 L603.001 1548.85 L603.001 1544.91 Z\" fill=\"#000000\" fill-rule=\"nonzero\" fill-opacity=\"1\" /><path clip-path=\"url(#clip990)\" d=\"M642.353 1517.37 Q638.742 1517.37 636.913 1520.93 Q635.107 1524.47 635.107 1531.6 Q635.107 1538.71 636.913 1542.27 Q638.742 1545.82 642.353 1545.82 Q645.987 1545.82 647.793 1542.27 Q649.621 1538.71 649.621 1531.6 Q649.621 1524.47 647.793 1520.93 Q645.987 1517.37 642.353 1517.37 M642.353 1513.66 Q648.163 1513.66 651.218 1518.27 Q654.297 1522.85 654.297 1531.6 Q654.297 1540.33 651.218 1544.94 Q648.163 1549.52 642.353 1549.52 Q636.543 1549.52 633.464 1544.94 Q630.408 1540.33 630.408 1531.6 Q630.408 1522.85 633.464 1518.27 Q636.543 1513.66 642.353 1513.66 Z\" fill=\"#000000\" fill-rule=\"nonzero\" fill-opacity=\"1\" /><path clip-path=\"url(#clip990)\" d=\"M1022.92 1544.91 L1039.23 1544.91 L1039.23 1548.85 L1017.29 1548.85 L1017.29 1544.91 Q1019.95 1542.16 1024.54 1537.53 Q1029.14 1532.88 1030.32 1531.53 Q1032.57 1529.01 1033.45 1527.27 Q1034.35 1525.51 1034.35 1523.82 Q1034.35 1521.07 1032.41 1519.33 Q1030.49 1517.6 1027.38 1517.6 Q1025.18 1517.6 1022.73 1518.36 Q1020.3 1519.13 1017.52 1520.68 L1017.52 1515.95 Q1020.35 1514.82 1022.8 1514.24 Q1025.25 1513.66 1027.29 1513.66 Q1032.66 1513.66 1035.86 1516.35 Q1039.05 1519.03 1039.05 1523.52 Q1039.05 1525.65 1038.24 1527.57 Q1037.45 1529.47 1035.35 1532.07 Q1034.77 1532.74 1031.67 1535.95 Q1028.56 1539.15 1022.92 1544.91 Z\" fill=\"#000000\" fill-rule=\"nonzero\" fill-opacity=\"1\" /><path clip-path=\"url(#clip990)\" d=\"M1059.05 1517.37 Q1055.44 1517.37 1053.61 1520.93 Q1051.8 1524.47 1051.8 1531.6 Q1051.8 1538.71 1053.61 1542.27 Q1055.44 1545.82 1059.05 1545.82 Q1062.68 1545.82 1064.49 1542.27 Q1066.32 1538.71 1066.32 1531.6 Q1066.32 1524.47 1064.49 1520.93 Q1062.68 1517.37 1059.05 1517.37 M1059.05 1513.66 Q1064.86 1513.66 1067.92 1518.27 Q1070.99 1522.85 1070.99 1531.6 Q1070.99 1540.33 1067.92 1544.94 Q1064.86 1549.52 1059.05 1549.52 Q1053.24 1549.52 1050.16 1544.94 Q1047.11 1540.33 1047.11 1531.6 Q1047.11 1522.85 1050.16 1518.27 Q1053.24 1513.66 1059.05 1513.66 Z\" fill=\"#000000\" fill-rule=\"nonzero\" fill-opacity=\"1\" /><path clip-path=\"url(#clip990)\" d=\"M1448.81 1530.21 Q1452.17 1530.93 1454.05 1533.2 Q1455.94 1535.47 1455.94 1538.8 Q1455.94 1543.92 1452.43 1546.72 Q1448.91 1549.52 1442.43 1549.52 Q1440.25 1549.52 1437.93 1549.08 Q1435.64 1548.66 1433.19 1547.81 L1433.19 1543.29 Q1435.13 1544.43 1437.45 1545.01 Q1439.76 1545.58 1442.29 1545.58 Q1446.68 1545.58 1448.98 1543.85 Q1451.29 1542.11 1451.29 1538.8 Q1451.29 1535.75 1449.14 1534.03 Q1447.01 1532.3 1443.19 1532.3 L1439.16 1532.3 L1439.16 1528.45 L1443.37 1528.45 Q1446.82 1528.45 1448.65 1527.09 Q1450.48 1525.7 1450.48 1523.11 Q1450.48 1520.45 1448.58 1519.03 Q1446.71 1517.6 1443.19 1517.6 Q1441.27 1517.6 1439.07 1518.01 Q1436.87 1518.43 1434.23 1519.31 L1434.23 1515.14 Q1436.89 1514.4 1439.21 1514.03 Q1441.55 1513.66 1443.61 1513.66 Q1448.93 1513.66 1452.03 1516.09 Q1455.13 1518.5 1455.13 1522.62 Q1455.13 1525.49 1453.49 1527.48 Q1451.85 1529.45 1448.81 1530.21 Z\" fill=\"#000000\" fill-rule=\"nonzero\" fill-opacity=\"1\" /><path clip-path=\"url(#clip990)\" d=\"M1474.81 1517.37 Q1471.2 1517.37 1469.37 1520.93 Q1467.56 1524.47 1467.56 1531.6 Q1467.56 1538.71 1469.37 1542.27 Q1471.2 1545.82 1474.81 1545.82 Q1478.44 1545.82 1480.25 1542.27 Q1482.08 1538.71 1482.08 1531.6 Q1482.08 1524.47 1480.25 1520.93 Q1478.44 1517.37 1474.81 1517.37 M1474.81 1513.66 Q1480.62 1513.66 1483.67 1518.27 Q1486.75 1522.85 1486.75 1531.6 Q1486.75 1540.33 1483.67 1544.94 Q1480.62 1549.52 1474.81 1549.52 Q1469 1549.52 1465.92 1544.94 Q1462.86 1540.33 1462.86 1531.6 Q1462.86 1522.85 1465.92 1518.27 Q1469 1513.66 1474.81 1513.66 Z\" fill=\"#000000\" fill-rule=\"nonzero\" fill-opacity=\"1\" /><path clip-path=\"url(#clip990)\" d=\"M1863.97 1518.36 L1852.17 1536.81 L1863.97 1536.81 L1863.97 1518.36 M1862.74 1514.29 L1868.62 1514.29 L1868.62 1536.81 L1873.55 1536.81 L1873.55 1540.7 L1868.62 1540.7 L1868.62 1548.85 L1863.97 1548.85 L1863.97 1540.7 L1848.37 1540.7 L1848.37 1536.19 L1862.74 1514.29 Z\" fill=\"#000000\" fill-rule=\"nonzero\" fill-opacity=\"1\" /><path clip-path=\"url(#clip990)\" d=\"M1891.29 1517.37 Q1887.68 1517.37 1885.85 1520.93 Q1884.04 1524.47 1884.04 1531.6 Q1884.04 1538.71 1885.85 1542.27 Q1887.68 1545.82 1891.29 1545.82 Q1894.92 1545.82 1896.73 1542.27 Q1898.55 1538.71 1898.55 1531.6 Q1898.55 1524.47 1896.73 1520.93 Q1894.92 1517.37 1891.29 1517.37 M1891.29 1513.66 Q1897.1 1513.66 1900.15 1518.27 Q1903.23 1522.85 1903.23 1531.6 Q1903.23 1540.33 1900.15 1544.94 Q1897.1 1549.52 1891.29 1549.52 Q1885.48 1549.52 1882.4 1544.94 Q1879.34 1540.33 1879.34 1531.6 Q1879.34 1522.85 1882.4 1518.27 Q1885.48 1513.66 1891.29 1513.66 Z\" fill=\"#000000\" fill-rule=\"nonzero\" fill-opacity=\"1\" /><path clip-path=\"url(#clip990)\" d=\"M2266.33 1514.29 L2284.68 1514.29 L2284.68 1518.22 L2270.61 1518.22 L2270.61 1526.7 Q2271.63 1526.35 2272.65 1526.19 Q2273.67 1526 2274.68 1526 Q2280.47 1526 2283.85 1529.17 Q2287.23 1532.34 2287.23 1537.76 Q2287.23 1543.34 2283.76 1546.44 Q2280.29 1549.52 2273.97 1549.52 Q2271.79 1549.52 2269.52 1549.15 Q2267.28 1548.78 2264.87 1548.04 L2264.87 1543.34 Q2266.95 1544.47 2269.18 1545.03 Q2271.4 1545.58 2273.87 1545.58 Q2277.88 1545.58 2280.22 1543.48 Q2282.56 1541.37 2282.56 1537.76 Q2282.56 1534.15 2280.22 1532.04 Q2277.88 1529.94 2273.87 1529.94 Q2272 1529.94 2270.12 1530.35 Q2268.27 1530.77 2266.33 1531.65 L2266.33 1514.29 Z\" fill=\"#000000\" fill-rule=\"nonzero\" fill-opacity=\"1\" /><path clip-path=\"url(#clip990)\" d=\"M2306.44 1517.37 Q2302.83 1517.37 2301 1520.93 Q2299.2 1524.47 2299.2 1531.6 Q2299.2 1538.71 2301 1542.27 Q2302.83 1545.82 2306.44 1545.82 Q2310.08 1545.82 2311.88 1542.27 Q2313.71 1538.71 2313.71 1531.6 Q2313.71 1524.47 2311.88 1520.93 Q2310.08 1517.37 2306.44 1517.37 M2306.44 1513.66 Q2312.25 1513.66 2315.31 1518.27 Q2318.39 1522.85 2318.39 1531.6 Q2318.39 1540.33 2315.31 1544.94 Q2312.25 1549.52 2306.44 1549.52 Q2300.63 1549.52 2297.55 1544.94 Q2294.5 1540.33 2294.5 1531.6 Q2294.5 1522.85 2297.55 1518.27 Q2300.63 1513.66 2306.44 1513.66 Z\" fill=\"#000000\" fill-rule=\"nonzero\" fill-opacity=\"1\" /><polyline clip-path=\"url(#clip992)\" style=\"stroke:#000000; stroke-linecap:round; stroke-linejoin:round; stroke-width:2; stroke-opacity:0.1; fill:none\" points=\"192.941,1154.71 2352.76,1154.71 \"/>\n",
       "<polyline clip-path=\"url(#clip992)\" style=\"stroke:#000000; stroke-linecap:round; stroke-linejoin:round; stroke-width:2; stroke-opacity:0.1; fill:none\" points=\"192.941,799.132 2352.76,799.132 \"/>\n",
       "<polyline clip-path=\"url(#clip992)\" style=\"stroke:#000000; stroke-linecap:round; stroke-linejoin:round; stroke-width:2; stroke-opacity:0.1; fill:none\" points=\"192.941,443.554 2352.76,443.554 \"/>\n",
       "<polyline clip-path=\"url(#clip992)\" style=\"stroke:#000000; stroke-linecap:round; stroke-linejoin:round; stroke-width:2; stroke-opacity:0.1; fill:none\" points=\"192.941,87.9763 2352.76,87.9763 \"/>\n",
       "<polyline clip-path=\"url(#clip990)\" style=\"stroke:#000000; stroke-linecap:round; stroke-linejoin:round; stroke-width:4; stroke-opacity:1; fill:none\" points=\"192.941,1486.45 192.941,47.2441 \"/>\n",
       "<polyline clip-path=\"url(#clip990)\" style=\"stroke:#000000; stroke-linecap:round; stroke-linejoin:round; stroke-width:4; stroke-opacity:1; fill:none\" points=\"192.941,1154.71 211.838,1154.71 \"/>\n",
       "<polyline clip-path=\"url(#clip990)\" style=\"stroke:#000000; stroke-linecap:round; stroke-linejoin:round; stroke-width:4; stroke-opacity:1; fill:none\" points=\"192.941,799.132 211.838,799.132 \"/>\n",
       "<polyline clip-path=\"url(#clip990)\" style=\"stroke:#000000; stroke-linecap:round; stroke-linejoin:round; stroke-width:4; stroke-opacity:1; fill:none\" points=\"192.941,443.554 211.838,443.554 \"/>\n",
       "<polyline clip-path=\"url(#clip990)\" style=\"stroke:#000000; stroke-linecap:round; stroke-linejoin:round; stroke-width:4; stroke-opacity:1; fill:none\" points=\"192.941,87.9763 211.838,87.9763 \"/>\n",
       "<path clip-path=\"url(#clip990)\" d=\"M50.9921 1155.16 L80.6679 1155.16 L80.6679 1159.1 L50.9921 1159.1 L50.9921 1155.16 Z\" fill=\"#000000\" fill-rule=\"nonzero\" fill-opacity=\"1\" /><path clip-path=\"url(#clip990)\" d=\"M100.76 1140.51 Q97.1493 1140.51 95.3206 1144.07 Q93.515 1147.62 93.515 1154.75 Q93.515 1161.85 95.3206 1165.42 Q97.1493 1168.96 100.76 1168.96 Q104.395 1168.96 106.2 1165.42 Q108.029 1161.85 108.029 1154.75 Q108.029 1147.62 106.2 1144.07 Q104.395 1140.51 100.76 1140.51 M100.76 1136.81 Q106.571 1136.81 109.626 1141.41 Q112.705 1146 112.705 1154.75 Q112.705 1163.47 109.626 1168.08 Q106.571 1172.66 100.76 1172.66 Q94.9502 1172.66 91.8715 1168.08 Q88.816 1163.47 88.816 1154.75 Q88.816 1146 91.8715 1141.41 Q94.9502 1136.81 100.76 1136.81 Z\" fill=\"#000000\" fill-rule=\"nonzero\" fill-opacity=\"1\" /><path clip-path=\"url(#clip990)\" d=\"M120.922 1166.11 L125.807 1166.11 L125.807 1171.99 L120.922 1171.99 L120.922 1166.11 Z\" fill=\"#000000\" fill-rule=\"nonzero\" fill-opacity=\"1\" /><path clip-path=\"url(#clip990)\" d=\"M136.038 1137.43 L154.394 1137.43 L154.394 1141.37 L140.32 1141.37 L140.32 1149.84 Q141.339 1149.49 142.357 1149.33 Q143.376 1149.14 144.394 1149.14 Q150.181 1149.14 153.561 1152.31 Q156.941 1155.49 156.941 1160.9 Q156.941 1166.48 153.468 1169.58 Q149.996 1172.66 143.677 1172.66 Q141.501 1172.66 139.232 1172.29 Q136.987 1171.92 134.58 1171.18 L134.58 1166.48 Q136.663 1167.62 138.885 1168.17 Q141.107 1168.73 143.584 1168.73 Q147.589 1168.73 149.927 1166.62 Q152.265 1164.51 152.265 1160.9 Q152.265 1157.29 149.927 1155.19 Q147.589 1153.08 143.584 1153.08 Q141.709 1153.08 139.834 1153.5 Q137.982 1153.91 136.038 1154.79 L136.038 1137.43 Z\" fill=\"#000000\" fill-rule=\"nonzero\" fill-opacity=\"1\" /><path clip-path=\"url(#clip990)\" d=\"M99.765 784.931 Q96.1539 784.931 94.3252 788.496 Q92.5197 792.038 92.5197 799.167 Q92.5197 806.274 94.3252 809.838 Q96.1539 813.38 99.765 813.38 Q103.399 813.38 105.205 809.838 Q107.033 806.274 107.033 799.167 Q107.033 792.038 105.205 788.496 Q103.399 784.931 99.765 784.931 M99.765 781.227 Q105.575 781.227 108.631 785.834 Q111.709 790.417 111.709 799.167 Q111.709 807.894 108.631 812.5 Q105.575 817.084 99.765 817.084 Q93.9549 817.084 90.8762 812.5 Q87.8206 807.894 87.8206 799.167 Q87.8206 790.417 90.8762 785.834 Q93.9549 781.227 99.765 781.227 Z\" fill=\"#000000\" fill-rule=\"nonzero\" fill-opacity=\"1\" /><path clip-path=\"url(#clip990)\" d=\"M119.927 810.533 L124.811 810.533 L124.811 816.412 L119.927 816.412 L119.927 810.533 Z\" fill=\"#000000\" fill-rule=\"nonzero\" fill-opacity=\"1\" /><path clip-path=\"url(#clip990)\" d=\"M144.996 784.931 Q141.385 784.931 139.556 788.496 Q137.751 792.038 137.751 799.167 Q137.751 806.274 139.556 809.838 Q141.385 813.38 144.996 813.38 Q148.63 813.38 150.436 809.838 Q152.265 806.274 152.265 799.167 Q152.265 792.038 150.436 788.496 Q148.63 784.931 144.996 784.931 M144.996 781.227 Q150.806 781.227 153.862 785.834 Q156.941 790.417 156.941 799.167 Q156.941 807.894 153.862 812.5 Q150.806 817.084 144.996 817.084 Q139.186 817.084 136.107 812.5 Q133.052 807.894 133.052 799.167 Q133.052 790.417 136.107 785.834 Q139.186 781.227 144.996 781.227 Z\" fill=\"#000000\" fill-rule=\"nonzero\" fill-opacity=\"1\" /><path clip-path=\"url(#clip990)\" d=\"M100.76 429.353 Q97.1493 429.353 95.3206 432.918 Q93.515 436.459 93.515 443.589 Q93.515 450.696 95.3206 454.26 Q97.1493 457.802 100.76 457.802 Q104.395 457.802 106.2 454.26 Q108.029 450.696 108.029 443.589 Q108.029 436.459 106.2 432.918 Q104.395 429.353 100.76 429.353 M100.76 425.649 Q106.571 425.649 109.626 430.256 Q112.705 434.839 112.705 443.589 Q112.705 452.316 109.626 456.922 Q106.571 461.506 100.76 461.506 Q94.9502 461.506 91.8715 456.922 Q88.816 452.316 88.816 443.589 Q88.816 434.839 91.8715 430.256 Q94.9502 425.649 100.76 425.649 Z\" fill=\"#000000\" fill-rule=\"nonzero\" fill-opacity=\"1\" /><path clip-path=\"url(#clip990)\" d=\"M120.922 454.955 L125.807 454.955 L125.807 460.834 L120.922 460.834 L120.922 454.955 Z\" fill=\"#000000\" fill-rule=\"nonzero\" fill-opacity=\"1\" /><path clip-path=\"url(#clip990)\" d=\"M136.038 426.274 L154.394 426.274 L154.394 430.21 L140.32 430.21 L140.32 438.682 Q141.339 438.334 142.357 438.172 Q143.376 437.987 144.394 437.987 Q150.181 437.987 153.561 441.159 Q156.941 444.33 156.941 449.746 Q156.941 455.325 153.468 458.427 Q149.996 461.506 143.677 461.506 Q141.501 461.506 139.232 461.135 Q136.987 460.765 134.58 460.024 L134.58 455.325 Q136.663 456.459 138.885 457.015 Q141.107 457.57 143.584 457.57 Q147.589 457.57 149.927 455.464 Q152.265 453.358 152.265 449.746 Q152.265 446.135 149.927 444.029 Q147.589 441.922 143.584 441.922 Q141.709 441.922 139.834 442.339 Q137.982 442.756 136.038 443.635 L136.038 426.274 Z\" fill=\"#000000\" fill-rule=\"nonzero\" fill-opacity=\"1\" /><path clip-path=\"url(#clip990)\" d=\"M90.5752 101.321 L98.2141 101.321 L98.2141 74.9555 L89.904 76.6222 L89.904 72.3629 L98.1678 70.6963 L102.844 70.6963 L102.844 101.321 L110.483 101.321 L110.483 105.256 L90.5752 105.256 L90.5752 101.321 Z\" fill=\"#000000\" fill-rule=\"nonzero\" fill-opacity=\"1\" /><path clip-path=\"url(#clip990)\" d=\"M119.927 99.3767 L124.811 99.3767 L124.811 105.256 L119.927 105.256 L119.927 99.3767 Z\" fill=\"#000000\" fill-rule=\"nonzero\" fill-opacity=\"1\" /><path clip-path=\"url(#clip990)\" d=\"M144.996 73.775 Q141.385 73.775 139.556 77.3398 Q137.751 80.8814 137.751 88.011 Q137.751 95.1174 139.556 98.6822 Q141.385 102.224 144.996 102.224 Q148.63 102.224 150.436 98.6822 Q152.265 95.1174 152.265 88.011 Q152.265 80.8814 150.436 77.3398 Q148.63 73.775 144.996 73.775 M144.996 70.0713 Q150.806 70.0713 153.862 74.6777 Q156.941 79.261 156.941 88.011 Q156.941 96.7378 153.862 101.344 Q150.806 105.928 144.996 105.928 Q139.186 105.928 136.107 101.344 Q133.052 96.7378 133.052 88.011 Q133.052 79.261 136.107 74.6777 Q139.186 70.0713 144.996 70.0713 Z\" fill=\"#000000\" fill-rule=\"nonzero\" fill-opacity=\"1\" /><circle clip-path=\"url(#clip992)\" cx=\"254.067\" cy=\"793.301\" r=\"14.4\" fill=\"#009af9\" fill-rule=\"evenodd\" fill-opacity=\"1\" stroke=\"#000000\" stroke-opacity=\"1\" stroke-width=\"3.2\"/>\n",
       "<circle clip-path=\"url(#clip992)\" cx=\"274.859\" cy=\"813.06\" r=\"14.4\" fill=\"#009af9\" fill-rule=\"evenodd\" fill-opacity=\"1\" stroke=\"#000000\" stroke-opacity=\"1\" stroke-width=\"3.2\"/>\n",
       "<circle clip-path=\"url(#clip992)\" cx=\"295.65\" cy=\"833.335\" r=\"14.4\" fill=\"#009af9\" fill-rule=\"evenodd\" fill-opacity=\"1\" stroke=\"#000000\" stroke-opacity=\"1\" stroke-width=\"3.2\"/>\n",
       "<circle clip-path=\"url(#clip992)\" cx=\"316.442\" cy=\"778.823\" r=\"14.4\" fill=\"#009af9\" fill-rule=\"evenodd\" fill-opacity=\"1\" stroke=\"#000000\" stroke-opacity=\"1\" stroke-width=\"3.2\"/>\n",
       "<circle clip-path=\"url(#clip992)\" cx=\"337.233\" cy=\"696.544\" r=\"14.4\" fill=\"#009af9\" fill-rule=\"evenodd\" fill-opacity=\"1\" stroke=\"#000000\" stroke-opacity=\"1\" stroke-width=\"3.2\"/>\n",
       "<circle clip-path=\"url(#clip992)\" cx=\"358.025\" cy=\"644.39\" r=\"14.4\" fill=\"#009af9\" fill-rule=\"evenodd\" fill-opacity=\"1\" stroke=\"#000000\" stroke-opacity=\"1\" stroke-width=\"3.2\"/>\n",
       "<circle clip-path=\"url(#clip992)\" cx=\"378.816\" cy=\"616.624\" r=\"14.4\" fill=\"#009af9\" fill-rule=\"evenodd\" fill-opacity=\"1\" stroke=\"#000000\" stroke-opacity=\"1\" stroke-width=\"3.2\"/>\n",
       "<circle clip-path=\"url(#clip992)\" cx=\"399.608\" cy=\"581.233\" r=\"14.4\" fill=\"#009af9\" fill-rule=\"evenodd\" fill-opacity=\"1\" stroke=\"#000000\" stroke-opacity=\"1\" stroke-width=\"3.2\"/>\n",
       "<circle clip-path=\"url(#clip992)\" cx=\"420.399\" cy=\"519.494\" r=\"14.4\" fill=\"#009af9\" fill-rule=\"evenodd\" fill-opacity=\"1\" stroke=\"#000000\" stroke-opacity=\"1\" stroke-width=\"3.2\"/>\n",
       "<circle clip-path=\"url(#clip992)\" cx=\"441.19\" cy=\"452.526\" r=\"14.4\" fill=\"#009af9\" fill-rule=\"evenodd\" fill-opacity=\"1\" stroke=\"#000000\" stroke-opacity=\"1\" stroke-width=\"3.2\"/>\n",
       "<circle clip-path=\"url(#clip992)\" cx=\"461.982\" cy=\"463.029\" r=\"14.4\" fill=\"#009af9\" fill-rule=\"evenodd\" fill-opacity=\"1\" stroke=\"#000000\" stroke-opacity=\"1\" stroke-width=\"3.2\"/>\n",
       "<circle clip-path=\"url(#clip992)\" cx=\"482.773\" cy=\"665.546\" r=\"14.4\" fill=\"#009af9\" fill-rule=\"evenodd\" fill-opacity=\"1\" stroke=\"#000000\" stroke-opacity=\"1\" stroke-width=\"3.2\"/>\n",
       "<circle clip-path=\"url(#clip992)\" cx=\"503.565\" cy=\"1052.9\" r=\"14.4\" fill=\"#009af9\" fill-rule=\"evenodd\" fill-opacity=\"1\" stroke=\"#000000\" stroke-opacity=\"1\" stroke-width=\"3.2\"/>\n",
       "<circle clip-path=\"url(#clip992)\" cx=\"524.356\" cy=\"1313.2\" r=\"14.4\" fill=\"#009af9\" fill-rule=\"evenodd\" fill-opacity=\"1\" stroke=\"#000000\" stroke-opacity=\"1\" stroke-width=\"3.2\"/>\n",
       "<circle clip-path=\"url(#clip992)\" cx=\"545.148\" cy=\"1022.36\" r=\"14.4\" fill=\"#009af9\" fill-rule=\"evenodd\" fill-opacity=\"1\" stroke=\"#000000\" stroke-opacity=\"1\" stroke-width=\"3.2\"/>\n",
       "<circle clip-path=\"url(#clip992)\" cx=\"565.939\" cy=\"366.478\" r=\"14.4\" fill=\"#009af9\" fill-rule=\"evenodd\" fill-opacity=\"1\" stroke=\"#000000\" stroke-opacity=\"1\" stroke-width=\"3.2\"/>\n",
       "<circle clip-path=\"url(#clip992)\" cx=\"586.731\" cy=\"315.083\" r=\"14.4\" fill=\"#009af9\" fill-rule=\"evenodd\" fill-opacity=\"1\" stroke=\"#000000\" stroke-opacity=\"1\" stroke-width=\"3.2\"/>\n",
       "<circle clip-path=\"url(#clip992)\" cx=\"607.522\" cy=\"1125.43\" r=\"14.4\" fill=\"#009af9\" fill-rule=\"evenodd\" fill-opacity=\"1\" stroke=\"#000000\" stroke-opacity=\"1\" stroke-width=\"3.2\"/>\n",
       "<circle clip-path=\"url(#clip992)\" cx=\"628.313\" cy=\"1359.11\" r=\"14.4\" fill=\"#009af9\" fill-rule=\"evenodd\" fill-opacity=\"1\" stroke=\"#000000\" stroke-opacity=\"1\" stroke-width=\"3.2\"/>\n",
       "<circle clip-path=\"url(#clip992)\" cx=\"649.105\" cy=\"420.022\" r=\"14.4\" fill=\"#009af9\" fill-rule=\"evenodd\" fill-opacity=\"1\" stroke=\"#000000\" stroke-opacity=\"1\" stroke-width=\"3.2\"/>\n",
       "<circle clip-path=\"url(#clip992)\" cx=\"669.896\" cy=\"298.774\" r=\"14.4\" fill=\"#009af9\" fill-rule=\"evenodd\" fill-opacity=\"1\" stroke=\"#000000\" stroke-opacity=\"1\" stroke-width=\"3.2\"/>\n",
       "<circle clip-path=\"url(#clip992)\" cx=\"690.688\" cy=\"1367.91\" r=\"14.4\" fill=\"#009af9\" fill-rule=\"evenodd\" fill-opacity=\"1\" stroke=\"#000000\" stroke-opacity=\"1\" stroke-width=\"3.2\"/>\n",
       "<circle clip-path=\"url(#clip992)\" cx=\"711.479\" cy=\"1032.67\" r=\"14.4\" fill=\"#009af9\" fill-rule=\"evenodd\" fill-opacity=\"1\" stroke=\"#000000\" stroke-opacity=\"1\" stroke-width=\"3.2\"/>\n",
       "<circle clip-path=\"url(#clip992)\" cx=\"732.271\" cy=\"87.9763\" r=\"14.4\" fill=\"#009af9\" fill-rule=\"evenodd\" fill-opacity=\"1\" stroke=\"#000000\" stroke-opacity=\"1\" stroke-width=\"3.2\"/>\n",
       "<circle clip-path=\"url(#clip992)\" cx=\"753.062\" cy=\"1058.34\" r=\"14.4\" fill=\"#009af9\" fill-rule=\"evenodd\" fill-opacity=\"1\" stroke=\"#000000\" stroke-opacity=\"1\" stroke-width=\"3.2\"/>\n",
       "<circle clip-path=\"url(#clip992)\" cx=\"773.854\" cy=\"1302.45\" r=\"14.4\" fill=\"#009af9\" fill-rule=\"evenodd\" fill-opacity=\"1\" stroke=\"#000000\" stroke-opacity=\"1\" stroke-width=\"3.2\"/>\n",
       "<circle clip-path=\"url(#clip992)\" cx=\"794.645\" cy=\"111.802\" r=\"14.4\" fill=\"#009af9\" fill-rule=\"evenodd\" fill-opacity=\"1\" stroke=\"#000000\" stroke-opacity=\"1\" stroke-width=\"3.2\"/>\n",
       "<circle clip-path=\"url(#clip992)\" cx=\"815.436\" cy=\"941.813\" r=\"14.4\" fill=\"#009af9\" fill-rule=\"evenodd\" fill-opacity=\"1\" stroke=\"#000000\" stroke-opacity=\"1\" stroke-width=\"3.2\"/>\n",
       "<circle clip-path=\"url(#clip992)\" cx=\"836.228\" cy=\"1330.39\" r=\"14.4\" fill=\"#009af9\" fill-rule=\"evenodd\" fill-opacity=\"1\" stroke=\"#000000\" stroke-opacity=\"1\" stroke-width=\"3.2\"/>\n",
       "<circle clip-path=\"url(#clip992)\" cx=\"857.019\" cy=\"106.032\" r=\"14.4\" fill=\"#009af9\" fill-rule=\"evenodd\" fill-opacity=\"1\" stroke=\"#000000\" stroke-opacity=\"1\" stroke-width=\"3.2\"/>\n",
       "<circle clip-path=\"url(#clip992)\" cx=\"877.811\" cy=\"1039.36\" r=\"14.4\" fill=\"#009af9\" fill-rule=\"evenodd\" fill-opacity=\"1\" stroke=\"#000000\" stroke-opacity=\"1\" stroke-width=\"3.2\"/>\n",
       "<circle clip-path=\"url(#clip992)\" cx=\"898.602\" cy=\"1198.57\" r=\"14.4\" fill=\"#009af9\" fill-rule=\"evenodd\" fill-opacity=\"1\" stroke=\"#000000\" stroke-opacity=\"1\" stroke-width=\"3.2\"/>\n",
       "<circle clip-path=\"url(#clip992)\" cx=\"919.394\" cy=\"97.5753\" r=\"14.4\" fill=\"#009af9\" fill-rule=\"evenodd\" fill-opacity=\"1\" stroke=\"#000000\" stroke-opacity=\"1\" stroke-width=\"3.2\"/>\n",
       "<circle clip-path=\"url(#clip992)\" cx=\"940.185\" cy=\"1261.46\" r=\"14.4\" fill=\"#009af9\" fill-rule=\"evenodd\" fill-opacity=\"1\" stroke=\"#000000\" stroke-opacity=\"1\" stroke-width=\"3.2\"/>\n",
       "<circle clip-path=\"url(#clip992)\" cx=\"960.977\" cy=\"902.588\" r=\"14.4\" fill=\"#009af9\" fill-rule=\"evenodd\" fill-opacity=\"1\" stroke=\"#000000\" stroke-opacity=\"1\" stroke-width=\"3.2\"/>\n",
       "<circle clip-path=\"url(#clip992)\" cx=\"981.768\" cy=\"222.328\" r=\"14.4\" fill=\"#009af9\" fill-rule=\"evenodd\" fill-opacity=\"1\" stroke=\"#000000\" stroke-opacity=\"1\" stroke-width=\"3.2\"/>\n",
       "<circle clip-path=\"url(#clip992)\" cx=\"1002.56\" cy=\"1445.72\" r=\"14.4\" fill=\"#009af9\" fill-rule=\"evenodd\" fill-opacity=\"1\" stroke=\"#000000\" stroke-opacity=\"1\" stroke-width=\"3.2\"/>\n",
       "<circle clip-path=\"url(#clip992)\" cx=\"1023.35\" cy=\"502.908\" r=\"14.4\" fill=\"#009af9\" fill-rule=\"evenodd\" fill-opacity=\"1\" stroke=\"#000000\" stroke-opacity=\"1\" stroke-width=\"3.2\"/>\n",
       "<circle clip-path=\"url(#clip992)\" cx=\"1044.14\" cy=\"573.526\" r=\"14.4\" fill=\"#009af9\" fill-rule=\"evenodd\" fill-opacity=\"1\" stroke=\"#000000\" stroke-opacity=\"1\" stroke-width=\"3.2\"/>\n",
       "<circle clip-path=\"url(#clip992)\" cx=\"1064.93\" cy=\"1389.43\" r=\"14.4\" fill=\"#009af9\" fill-rule=\"evenodd\" fill-opacity=\"1\" stroke=\"#000000\" stroke-opacity=\"1\" stroke-width=\"3.2\"/>\n",
       "<circle clip-path=\"url(#clip992)\" cx=\"1085.73\" cy=\"206.127\" r=\"14.4\" fill=\"#009af9\" fill-rule=\"evenodd\" fill-opacity=\"1\" stroke=\"#000000\" stroke-opacity=\"1\" stroke-width=\"3.2\"/>\n",
       "<circle clip-path=\"url(#clip992)\" cx=\"1106.52\" cy=\"1054.75\" r=\"14.4\" fill=\"#009af9\" fill-rule=\"evenodd\" fill-opacity=\"1\" stroke=\"#000000\" stroke-opacity=\"1\" stroke-width=\"3.2\"/>\n",
       "<circle clip-path=\"url(#clip992)\" cx=\"1127.31\" cy=\"1010.25\" r=\"14.4\" fill=\"#009af9\" fill-rule=\"evenodd\" fill-opacity=\"1\" stroke=\"#000000\" stroke-opacity=\"1\" stroke-width=\"3.2\"/>\n",
       "<circle clip-path=\"url(#clip992)\" cx=\"1148.1\" cy=\"255.837\" r=\"14.4\" fill=\"#009af9\" fill-rule=\"evenodd\" fill-opacity=\"1\" stroke=\"#000000\" stroke-opacity=\"1\" stroke-width=\"3.2\"/>\n",
       "<circle clip-path=\"url(#clip992)\" cx=\"1168.89\" cy=\"1369.81\" r=\"14.4\" fill=\"#009af9\" fill-rule=\"evenodd\" fill-opacity=\"1\" stroke=\"#000000\" stroke-opacity=\"1\" stroke-width=\"3.2\"/>\n",
       "<circle clip-path=\"url(#clip992)\" cx=\"1189.68\" cy=\"502.229\" r=\"14.4\" fill=\"#009af9\" fill-rule=\"evenodd\" fill-opacity=\"1\" stroke=\"#000000\" stroke-opacity=\"1\" stroke-width=\"3.2\"/>\n",
       "<circle clip-path=\"url(#clip992)\" cx=\"1210.47\" cy=\"680.245\" r=\"14.4\" fill=\"#009af9\" fill-rule=\"evenodd\" fill-opacity=\"1\" stroke=\"#000000\" stroke-opacity=\"1\" stroke-width=\"3.2\"/>\n",
       "<circle clip-path=\"url(#clip992)\" cx=\"1231.27\" cy=\"1256.02\" r=\"14.4\" fill=\"#009af9\" fill-rule=\"evenodd\" fill-opacity=\"1\" stroke=\"#000000\" stroke-opacity=\"1\" stroke-width=\"3.2\"/>\n",
       "<circle clip-path=\"url(#clip992)\" cx=\"1252.06\" cy=\"247.311\" r=\"14.4\" fill=\"#009af9\" fill-rule=\"evenodd\" fill-opacity=\"1\" stroke=\"#000000\" stroke-opacity=\"1\" stroke-width=\"3.2\"/>\n",
       "<circle clip-path=\"url(#clip992)\" cx=\"1272.85\" cy=\"1169.13\" r=\"14.4\" fill=\"#009af9\" fill-rule=\"evenodd\" fill-opacity=\"1\" stroke=\"#000000\" stroke-opacity=\"1\" stroke-width=\"3.2\"/>\n",
       "<circle clip-path=\"url(#clip992)\" cx=\"1293.64\" cy=\"783.959\" r=\"14.4\" fill=\"#009af9\" fill-rule=\"evenodd\" fill-opacity=\"1\" stroke=\"#000000\" stroke-opacity=\"1\" stroke-width=\"3.2\"/>\n",
       "<circle clip-path=\"url(#clip992)\" cx=\"1314.43\" cy=\"467.178\" r=\"14.4\" fill=\"#009af9\" fill-rule=\"evenodd\" fill-opacity=\"1\" stroke=\"#000000\" stroke-opacity=\"1\" stroke-width=\"3.2\"/>\n",
       "<circle clip-path=\"url(#clip992)\" cx=\"1335.22\" cy=\"1304.79\" r=\"14.4\" fill=\"#009af9\" fill-rule=\"evenodd\" fill-opacity=\"1\" stroke=\"#000000\" stroke-opacity=\"1\" stroke-width=\"3.2\"/>\n",
       "<circle clip-path=\"url(#clip992)\" cx=\"1356.01\" cy=\"366.695\" r=\"14.4\" fill=\"#009af9\" fill-rule=\"evenodd\" fill-opacity=\"1\" stroke=\"#000000\" stroke-opacity=\"1\" stroke-width=\"3.2\"/>\n",
       "<circle clip-path=\"url(#clip992)\" cx=\"1376.81\" cy=\"958.326\" r=\"14.4\" fill=\"#009af9\" fill-rule=\"evenodd\" fill-opacity=\"1\" stroke=\"#000000\" stroke-opacity=\"1\" stroke-width=\"3.2\"/>\n",
       "<circle clip-path=\"url(#clip992)\" cx=\"1397.6\" cy=\"975.711\" r=\"14.4\" fill=\"#009af9\" fill-rule=\"evenodd\" fill-opacity=\"1\" stroke=\"#000000\" stroke-opacity=\"1\" stroke-width=\"3.2\"/>\n",
       "<circle clip-path=\"url(#clip992)\" cx=\"1418.39\" cy=\"382.992\" r=\"14.4\" fill=\"#009af9\" fill-rule=\"evenodd\" fill-opacity=\"1\" stroke=\"#000000\" stroke-opacity=\"1\" stroke-width=\"3.2\"/>\n",
       "<circle clip-path=\"url(#clip992)\" cx=\"1439.18\" cy=\"1252.91\" r=\"14.4\" fill=\"#009af9\" fill-rule=\"evenodd\" fill-opacity=\"1\" stroke=\"#000000\" stroke-opacity=\"1\" stroke-width=\"3.2\"/>\n",
       "<circle clip-path=\"url(#clip992)\" cx=\"1459.97\" cy=\"517.176\" r=\"14.4\" fill=\"#009af9\" fill-rule=\"evenodd\" fill-opacity=\"1\" stroke=\"#000000\" stroke-opacity=\"1\" stroke-width=\"3.2\"/>\n",
       "<circle clip-path=\"url(#clip992)\" cx=\"1480.76\" cy=\"788.18\" r=\"14.4\" fill=\"#009af9\" fill-rule=\"evenodd\" fill-opacity=\"1\" stroke=\"#000000\" stroke-opacity=\"1\" stroke-width=\"3.2\"/>\n",
       "<circle clip-path=\"url(#clip992)\" cx=\"1501.55\" cy=\"1085.3\" r=\"14.4\" fill=\"#009af9\" fill-rule=\"evenodd\" fill-opacity=\"1\" stroke=\"#000000\" stroke-opacity=\"1\" stroke-width=\"3.2\"/>\n",
       "<circle clip-path=\"url(#clip992)\" cx=\"1522.35\" cy=\"379.172\" r=\"14.4\" fill=\"#009af9\" fill-rule=\"evenodd\" fill-opacity=\"1\" stroke=\"#000000\" stroke-opacity=\"1\" stroke-width=\"3.2\"/>\n",
       "<circle clip-path=\"url(#clip992)\" cx=\"1543.14\" cy=\"1157.68\" r=\"14.4\" fill=\"#009af9\" fill-rule=\"evenodd\" fill-opacity=\"1\" stroke=\"#000000\" stroke-opacity=\"1\" stroke-width=\"3.2\"/>\n",
       "<circle clip-path=\"url(#clip992)\" cx=\"1563.93\" cy=\"660.535\" r=\"14.4\" fill=\"#009af9\" fill-rule=\"evenodd\" fill-opacity=\"1\" stroke=\"#000000\" stroke-opacity=\"1\" stroke-width=\"3.2\"/>\n",
       "<circle clip-path=\"url(#clip992)\" cx=\"1584.72\" cy=\"665.259\" r=\"14.4\" fill=\"#009af9\" fill-rule=\"evenodd\" fill-opacity=\"1\" stroke=\"#000000\" stroke-opacity=\"1\" stroke-width=\"3.2\"/>\n",
       "<circle clip-path=\"url(#clip992)\" cx=\"1605.51\" cy=\"1133.53\" r=\"14.4\" fill=\"#009af9\" fill-rule=\"evenodd\" fill-opacity=\"1\" stroke=\"#000000\" stroke-opacity=\"1\" stroke-width=\"3.2\"/>\n",
       "<circle clip-path=\"url(#clip992)\" cx=\"1626.3\" cy=\"422.567\" r=\"14.4\" fill=\"#009af9\" fill-rule=\"evenodd\" fill-opacity=\"1\" stroke=\"#000000\" stroke-opacity=\"1\" stroke-width=\"3.2\"/>\n",
       "<circle clip-path=\"url(#clip992)\" cx=\"1647.09\" cy=\"1047.87\" r=\"14.4\" fill=\"#009af9\" fill-rule=\"evenodd\" fill-opacity=\"1\" stroke=\"#000000\" stroke-opacity=\"1\" stroke-width=\"3.2\"/>\n",
       "<circle clip-path=\"url(#clip992)\" cx=\"1667.89\" cy=\"783.48\" r=\"14.4\" fill=\"#009af9\" fill-rule=\"evenodd\" fill-opacity=\"1\" stroke=\"#000000\" stroke-opacity=\"1\" stroke-width=\"3.2\"/>\n",
       "<circle clip-path=\"url(#clip992)\" cx=\"1688.68\" cy=\"585.113\" r=\"14.4\" fill=\"#009af9\" fill-rule=\"evenodd\" fill-opacity=\"1\" stroke=\"#000000\" stroke-opacity=\"1\" stroke-width=\"3.2\"/>\n",
       "<circle clip-path=\"url(#clip992)\" cx=\"1709.47\" cy=\"1137.22\" r=\"14.4\" fill=\"#009af9\" fill-rule=\"evenodd\" fill-opacity=\"1\" stroke=\"#000000\" stroke-opacity=\"1\" stroke-width=\"3.2\"/>\n",
       "<circle clip-path=\"url(#clip992)\" cx=\"1730.26\" cy=\"493.093\" r=\"14.4\" fill=\"#009af9\" fill-rule=\"evenodd\" fill-opacity=\"1\" stroke=\"#000000\" stroke-opacity=\"1\" stroke-width=\"3.2\"/>\n",
       "<circle clip-path=\"url(#clip992)\" cx=\"1751.05\" cy=\"938.308\" r=\"14.4\" fill=\"#009af9\" fill-rule=\"evenodd\" fill-opacity=\"1\" stroke=\"#000000\" stroke-opacity=\"1\" stroke-width=\"3.2\"/>\n",
       "<circle clip-path=\"url(#clip992)\" cx=\"1771.84\" cy=\"881.258\" r=\"14.4\" fill=\"#009af9\" fill-rule=\"evenodd\" fill-opacity=\"1\" stroke=\"#000000\" stroke-opacity=\"1\" stroke-width=\"3.2\"/>\n",
       "<circle clip-path=\"url(#clip992)\" cx=\"1792.63\" cy=\"542.29\" r=\"14.4\" fill=\"#009af9\" fill-rule=\"evenodd\" fill-opacity=\"1\" stroke=\"#000000\" stroke-opacity=\"1\" stroke-width=\"3.2\"/>\n",
       "<circle clip-path=\"url(#clip992)\" cx=\"1813.43\" cy=\"1108.36\" r=\"14.4\" fill=\"#009af9\" fill-rule=\"evenodd\" fill-opacity=\"1\" stroke=\"#000000\" stroke-opacity=\"1\" stroke-width=\"3.2\"/>\n",
       "<circle clip-path=\"url(#clip992)\" cx=\"1834.22\" cy=\"577.685\" r=\"14.4\" fill=\"#009af9\" fill-rule=\"evenodd\" fill-opacity=\"1\" stroke=\"#000000\" stroke-opacity=\"1\" stroke-width=\"3.2\"/>\n",
       "<circle clip-path=\"url(#clip992)\" cx=\"1855.01\" cy=\"838.091\" r=\"14.4\" fill=\"#009af9\" fill-rule=\"evenodd\" fill-opacity=\"1\" stroke=\"#000000\" stroke-opacity=\"1\" stroke-width=\"3.2\"/>\n",
       "<circle clip-path=\"url(#clip992)\" cx=\"1875.8\" cy=\"951.687\" r=\"14.4\" fill=\"#009af9\" fill-rule=\"evenodd\" fill-opacity=\"1\" stroke=\"#000000\" stroke-opacity=\"1\" stroke-width=\"3.2\"/>\n",
       "<circle clip-path=\"url(#clip992)\" cx=\"1896.59\" cy=\"531.922\" r=\"14.4\" fill=\"#009af9\" fill-rule=\"evenodd\" fill-opacity=\"1\" stroke=\"#000000\" stroke-opacity=\"1\" stroke-width=\"3.2\"/>\n",
       "<circle clip-path=\"url(#clip992)\" cx=\"1917.38\" cy=\"1056.43\" r=\"14.4\" fill=\"#009af9\" fill-rule=\"evenodd\" fill-opacity=\"1\" stroke=\"#000000\" stroke-opacity=\"1\" stroke-width=\"3.2\"/>\n",
       "<circle clip-path=\"url(#clip992)\" cx=\"1938.17\" cy=\"666.228\" r=\"14.4\" fill=\"#009af9\" fill-rule=\"evenodd\" fill-opacity=\"1\" stroke=\"#000000\" stroke-opacity=\"1\" stroke-width=\"3.2\"/>\n",
       "<circle clip-path=\"url(#clip992)\" cx=\"1958.97\" cy=\"753.992\" r=\"14.4\" fill=\"#009af9\" fill-rule=\"evenodd\" fill-opacity=\"1\" stroke=\"#000000\" stroke-opacity=\"1\" stroke-width=\"3.2\"/>\n",
       "<circle clip-path=\"url(#clip992)\" cx=\"1979.76\" cy=\"993.892\" r=\"14.4\" fill=\"#009af9\" fill-rule=\"evenodd\" fill-opacity=\"1\" stroke=\"#000000\" stroke-opacity=\"1\" stroke-width=\"3.2\"/>\n",
       "<circle clip-path=\"url(#clip992)\" cx=\"2000.55\" cy=\"548.812\" r=\"14.4\" fill=\"#009af9\" fill-rule=\"evenodd\" fill-opacity=\"1\" stroke=\"#000000\" stroke-opacity=\"1\" stroke-width=\"3.2\"/>\n",
       "<circle clip-path=\"url(#clip992)\" cx=\"2021.34\" cy=\"990.419\" r=\"14.4\" fill=\"#009af9\" fill-rule=\"evenodd\" fill-opacity=\"1\" stroke=\"#000000\" stroke-opacity=\"1\" stroke-width=\"3.2\"/>\n",
       "<circle clip-path=\"url(#clip992)\" cx=\"2042.13\" cy=\"749.75\" r=\"14.4\" fill=\"#009af9\" fill-rule=\"evenodd\" fill-opacity=\"1\" stroke=\"#000000\" stroke-opacity=\"1\" stroke-width=\"3.2\"/>\n",
       "<circle clip-path=\"url(#clip992)\" cx=\"2062.92\" cy=\"691.11\" r=\"14.4\" fill=\"#009af9\" fill-rule=\"evenodd\" fill-opacity=\"1\" stroke=\"#000000\" stroke-opacity=\"1\" stroke-width=\"3.2\"/>\n",
       "<circle clip-path=\"url(#clip992)\" cx=\"2083.71\" cy=\"1008.87\" r=\"14.4\" fill=\"#009af9\" fill-rule=\"evenodd\" fill-opacity=\"1\" stroke=\"#000000\" stroke-opacity=\"1\" stroke-width=\"3.2\"/>\n",
       "<circle clip-path=\"url(#clip992)\" cx=\"2104.51\" cy=\"586.276\" r=\"14.4\" fill=\"#009af9\" fill-rule=\"evenodd\" fill-opacity=\"1\" stroke=\"#000000\" stroke-opacity=\"1\" stroke-width=\"3.2\"/>\n",
       "<circle clip-path=\"url(#clip992)\" cx=\"2125.3\" cy=\"919.744\" r=\"14.4\" fill=\"#009af9\" fill-rule=\"evenodd\" fill-opacity=\"1\" stroke=\"#000000\" stroke-opacity=\"1\" stroke-width=\"3.2\"/>\n",
       "<circle clip-path=\"url(#clip992)\" cx=\"2146.09\" cy=\"820.384\" r=\"14.4\" fill=\"#009af9\" fill-rule=\"evenodd\" fill-opacity=\"1\" stroke=\"#000000\" stroke-opacity=\"1\" stroke-width=\"3.2\"/>\n",
       "<circle clip-path=\"url(#clip992)\" cx=\"2166.88\" cy=\"652.117\" r=\"14.4\" fill=\"#009af9\" fill-rule=\"evenodd\" fill-opacity=\"1\" stroke=\"#000000\" stroke-opacity=\"1\" stroke-width=\"3.2\"/>\n",
       "<circle clip-path=\"url(#clip992)\" cx=\"2187.67\" cy=\"1000.48\" r=\"14.4\" fill=\"#009af9\" fill-rule=\"evenodd\" fill-opacity=\"1\" stroke=\"#000000\" stroke-opacity=\"1\" stroke-width=\"3.2\"/>\n",
       "<circle clip-path=\"url(#clip992)\" cx=\"2208.46\" cy=\"635.662\" r=\"14.4\" fill=\"#009af9\" fill-rule=\"evenodd\" fill-opacity=\"1\" stroke=\"#000000\" stroke-opacity=\"1\" stroke-width=\"3.2\"/>\n",
       "<circle clip-path=\"url(#clip992)\" cx=\"2229.25\" cy=\"853.81\" r=\"14.4\" fill=\"#009af9\" fill-rule=\"evenodd\" fill-opacity=\"1\" stroke=\"#000000\" stroke-opacity=\"1\" stroke-width=\"3.2\"/>\n",
       "<circle clip-path=\"url(#clip992)\" cx=\"2250.05\" cy=\"872.466\" r=\"14.4\" fill=\"#009af9\" fill-rule=\"evenodd\" fill-opacity=\"1\" stroke=\"#000000\" stroke-opacity=\"1\" stroke-width=\"3.2\"/>\n",
       "<circle clip-path=\"url(#clip992)\" cx=\"2270.84\" cy=\"636.132\" r=\"14.4\" fill=\"#009af9\" fill-rule=\"evenodd\" fill-opacity=\"1\" stroke=\"#000000\" stroke-opacity=\"1\" stroke-width=\"3.2\"/>\n",
       "<circle clip-path=\"url(#clip992)\" cx=\"2291.63\" cy=\"975.806\" r=\"14.4\" fill=\"#009af9\" fill-rule=\"evenodd\" fill-opacity=\"1\" stroke=\"#000000\" stroke-opacity=\"1\" stroke-width=\"3.2\"/>\n",
       "<circle clip-path=\"url(#clip992)\" cx=\"254.067\" cy=\"937.644\" r=\"14.4\" fill=\"#e26f46\" fill-rule=\"evenodd\" fill-opacity=\"1\" stroke=\"#000000\" stroke-opacity=\"1\" stroke-width=\"3.2\"/>\n",
       "<circle clip-path=\"url(#clip992)\" cx=\"274.859\" cy=\"1012.51\" r=\"14.4\" fill=\"#e26f46\" fill-rule=\"evenodd\" fill-opacity=\"1\" stroke=\"#000000\" stroke-opacity=\"1\" stroke-width=\"3.2\"/>\n",
       "<circle clip-path=\"url(#clip992)\" cx=\"295.65\" cy=\"960.019\" r=\"14.4\" fill=\"#e26f46\" fill-rule=\"evenodd\" fill-opacity=\"1\" stroke=\"#000000\" stroke-opacity=\"1\" stroke-width=\"3.2\"/>\n",
       "<circle clip-path=\"url(#clip992)\" cx=\"316.442\" cy=\"686.486\" r=\"14.4\" fill=\"#e26f46\" fill-rule=\"evenodd\" fill-opacity=\"1\" stroke=\"#000000\" stroke-opacity=\"1\" stroke-width=\"3.2\"/>\n",
       "<circle clip-path=\"url(#clip992)\" cx=\"337.233\" cy=\"586.193\" r=\"14.4\" fill=\"#e26f46\" fill-rule=\"evenodd\" fill-opacity=\"1\" stroke=\"#000000\" stroke-opacity=\"1\" stroke-width=\"3.2\"/>\n",
       "<circle clip-path=\"url(#clip992)\" cx=\"358.025\" cy=\"793.832\" r=\"14.4\" fill=\"#e26f46\" fill-rule=\"evenodd\" fill-opacity=\"1\" stroke=\"#000000\" stroke-opacity=\"1\" stroke-width=\"3.2\"/>\n",
       "<circle clip-path=\"url(#clip992)\" cx=\"378.816\" cy=\"1178.65\" r=\"14.4\" fill=\"#e26f46\" fill-rule=\"evenodd\" fill-opacity=\"1\" stroke=\"#000000\" stroke-opacity=\"1\" stroke-width=\"3.2\"/>\n",
       "<circle clip-path=\"url(#clip992)\" cx=\"399.608\" cy=\"819.5\" r=\"14.4\" fill=\"#e26f46\" fill-rule=\"evenodd\" fill-opacity=\"1\" stroke=\"#000000\" stroke-opacity=\"1\" stroke-width=\"3.2\"/>\n",
       "<circle clip-path=\"url(#clip992)\" cx=\"420.399\" cy=\"225.127\" r=\"14.4\" fill=\"#e26f46\" fill-rule=\"evenodd\" fill-opacity=\"1\" stroke=\"#000000\" stroke-opacity=\"1\" stroke-width=\"3.2\"/>\n",
       "<circle clip-path=\"url(#clip992)\" cx=\"441.19\" cy=\"1267.32\" r=\"14.4\" fill=\"#e26f46\" fill-rule=\"evenodd\" fill-opacity=\"1\" stroke=\"#000000\" stroke-opacity=\"1\" stroke-width=\"3.2\"/>\n",
       "<circle clip-path=\"url(#clip992)\" cx=\"461.982\" cy=\"627.003\" r=\"14.4\" fill=\"#e26f46\" fill-rule=\"evenodd\" fill-opacity=\"1\" stroke=\"#000000\" stroke-opacity=\"1\" stroke-width=\"3.2\"/>\n",
       "<circle clip-path=\"url(#clip992)\" cx=\"482.773\" cy=\"627.133\" r=\"14.4\" fill=\"#e26f46\" fill-rule=\"evenodd\" fill-opacity=\"1\" stroke=\"#000000\" stroke-opacity=\"1\" stroke-width=\"3.2\"/>\n",
       "<circle clip-path=\"url(#clip992)\" cx=\"503.565\" cy=\"1289.76\" r=\"14.4\" fill=\"#e26f46\" fill-rule=\"evenodd\" fill-opacity=\"1\" stroke=\"#000000\" stroke-opacity=\"1\" stroke-width=\"3.2\"/>\n",
       "<circle clip-path=\"url(#clip992)\" cx=\"524.356\" cy=\"272.455\" r=\"14.4\" fill=\"#e26f46\" fill-rule=\"evenodd\" fill-opacity=\"1\" stroke=\"#000000\" stroke-opacity=\"1\" stroke-width=\"3.2\"/>\n",
       "<circle clip-path=\"url(#clip992)\" cx=\"545.148\" cy=\"1406.99\" r=\"14.4\" fill=\"#e26f46\" fill-rule=\"evenodd\" fill-opacity=\"1\" stroke=\"#000000\" stroke-opacity=\"1\" stroke-width=\"3.2\"/>\n",
       "<circle clip-path=\"url(#clip992)\" cx=\"565.939\" cy=\"87.9763\" r=\"14.4\" fill=\"#e26f46\" fill-rule=\"evenodd\" fill-opacity=\"1\" stroke=\"#000000\" stroke-opacity=\"1\" stroke-width=\"3.2\"/>\n",
       "<circle clip-path=\"url(#clip992)\" cx=\"586.731\" cy=\"1417.21\" r=\"14.4\" fill=\"#e26f46\" fill-rule=\"evenodd\" fill-opacity=\"1\" stroke=\"#000000\" stroke-opacity=\"1\" stroke-width=\"3.2\"/>\n",
       "<circle clip-path=\"url(#clip992)\" cx=\"607.522\" cy=\"282.578\" r=\"14.4\" fill=\"#e26f46\" fill-rule=\"evenodd\" fill-opacity=\"1\" stroke=\"#000000\" stroke-opacity=\"1\" stroke-width=\"3.2\"/>\n",
       "<circle clip-path=\"url(#clip992)\" cx=\"628.313\" cy=\"1319.52\" r=\"14.4\" fill=\"#e26f46\" fill-rule=\"evenodd\" fill-opacity=\"1\" stroke=\"#000000\" stroke-opacity=\"1\" stroke-width=\"3.2\"/>\n",
       "<circle clip-path=\"url(#clip992)\" cx=\"649.105\" cy=\"341.645\" r=\"14.4\" fill=\"#e26f46\" fill-rule=\"evenodd\" fill-opacity=\"1\" stroke=\"#000000\" stroke-opacity=\"1\" stroke-width=\"3.2\"/>\n",
       "<circle clip-path=\"url(#clip992)\" cx=\"669.896\" cy=\"1034.33\" r=\"14.4\" fill=\"#e26f46\" fill-rule=\"evenodd\" fill-opacity=\"1\" stroke=\"#000000\" stroke-opacity=\"1\" stroke-width=\"3.2\"/>\n",
       "<circle clip-path=\"url(#clip992)\" cx=\"690.688\" cy=\"806.437\" r=\"14.4\" fill=\"#e26f46\" fill-rule=\"evenodd\" fill-opacity=\"1\" stroke=\"#000000\" stroke-opacity=\"1\" stroke-width=\"3.2\"/>\n",
       "<circle clip-path=\"url(#clip992)\" cx=\"711.479\" cy=\"633.17\" r=\"14.4\" fill=\"#e26f46\" fill-rule=\"evenodd\" fill-opacity=\"1\" stroke=\"#000000\" stroke-opacity=\"1\" stroke-width=\"3.2\"/>\n",
       "<circle clip-path=\"url(#clip992)\" cx=\"732.271\" cy=\"1063.89\" r=\"14.4\" fill=\"#e26f46\" fill-rule=\"evenodd\" fill-opacity=\"1\" stroke=\"#000000\" stroke-opacity=\"1\" stroke-width=\"3.2\"/>\n",
       "<circle clip-path=\"url(#clip992)\" cx=\"753.062\" cy=\"406.075\" r=\"14.4\" fill=\"#e26f46\" fill-rule=\"evenodd\" fill-opacity=\"1\" stroke=\"#000000\" stroke-opacity=\"1\" stroke-width=\"3.2\"/>\n",
       "<circle clip-path=\"url(#clip992)\" cx=\"773.854\" cy=\"1332.25\" r=\"14.4\" fill=\"#e26f46\" fill-rule=\"evenodd\" fill-opacity=\"1\" stroke=\"#000000\" stroke-opacity=\"1\" stroke-width=\"3.2\"/>\n",
       "<circle clip-path=\"url(#clip992)\" cx=\"794.645\" cy=\"214.921\" r=\"14.4\" fill=\"#e26f46\" fill-rule=\"evenodd\" fill-opacity=\"1\" stroke=\"#000000\" stroke-opacity=\"1\" stroke-width=\"3.2\"/>\n",
       "<circle clip-path=\"url(#clip992)\" cx=\"815.436\" cy=\"1255.13\" r=\"14.4\" fill=\"#e26f46\" fill-rule=\"evenodd\" fill-opacity=\"1\" stroke=\"#000000\" stroke-opacity=\"1\" stroke-width=\"3.2\"/>\n",
       "<circle clip-path=\"url(#clip992)\" cx=\"836.228\" cy=\"606.906\" r=\"14.4\" fill=\"#e26f46\" fill-rule=\"evenodd\" fill-opacity=\"1\" stroke=\"#000000\" stroke-opacity=\"1\" stroke-width=\"3.2\"/>\n",
       "<circle clip-path=\"url(#clip992)\" cx=\"857.019\" cy=\"693.266\" r=\"14.4\" fill=\"#e26f46\" fill-rule=\"evenodd\" fill-opacity=\"1\" stroke=\"#000000\" stroke-opacity=\"1\" stroke-width=\"3.2\"/>\n",
       "<circle clip-path=\"url(#clip992)\" cx=\"877.811\" cy=\"1129.81\" r=\"14.4\" fill=\"#e26f46\" fill-rule=\"evenodd\" fill-opacity=\"1\" stroke=\"#000000\" stroke-opacity=\"1\" stroke-width=\"3.2\"/>\n",
       "<circle clip-path=\"url(#clip992)\" cx=\"898.602\" cy=\"384.754\" r=\"14.4\" fill=\"#e26f46\" fill-rule=\"evenodd\" fill-opacity=\"1\" stroke=\"#000000\" stroke-opacity=\"1\" stroke-width=\"3.2\"/>\n",
       "<circle clip-path=\"url(#clip992)\" cx=\"919.394\" cy=\"1141.07\" r=\"14.4\" fill=\"#e26f46\" fill-rule=\"evenodd\" fill-opacity=\"1\" stroke=\"#000000\" stroke-opacity=\"1\" stroke-width=\"3.2\"/>\n",
       "<circle clip-path=\"url(#clip992)\" cx=\"940.185\" cy=\"628.278\" r=\"14.4\" fill=\"#e26f46\" fill-rule=\"evenodd\" fill-opacity=\"1\" stroke=\"#000000\" stroke-opacity=\"1\" stroke-width=\"3.2\"/>\n",
       "<circle clip-path=\"url(#clip992)\" cx=\"960.977\" cy=\"758.163\" r=\"14.4\" fill=\"#e26f46\" fill-rule=\"evenodd\" fill-opacity=\"1\" stroke=\"#000000\" stroke-opacity=\"1\" stroke-width=\"3.2\"/>\n",
       "<circle clip-path=\"url(#clip992)\" cx=\"981.768\" cy=\"1011.77\" r=\"14.4\" fill=\"#e26f46\" fill-rule=\"evenodd\" fill-opacity=\"1\" stroke=\"#000000\" stroke-opacity=\"1\" stroke-width=\"3.2\"/>\n",
       "<circle clip-path=\"url(#clip992)\" cx=\"1002.56\" cy=\"527.85\" r=\"14.4\" fill=\"#e26f46\" fill-rule=\"evenodd\" fill-opacity=\"1\" stroke=\"#000000\" stroke-opacity=\"1\" stroke-width=\"3.2\"/>\n",
       "<circle clip-path=\"url(#clip992)\" cx=\"1023.35\" cy=\"987.239\" r=\"14.4\" fill=\"#e26f46\" fill-rule=\"evenodd\" fill-opacity=\"1\" stroke=\"#000000\" stroke-opacity=\"1\" stroke-width=\"3.2\"/>\n",
       "<circle clip-path=\"url(#clip992)\" cx=\"1044.14\" cy=\"801.62\" r=\"14.4\" fill=\"#e26f46\" fill-rule=\"evenodd\" fill-opacity=\"1\" stroke=\"#000000\" stroke-opacity=\"1\" stroke-width=\"3.2\"/>\n",
       "<circle clip-path=\"url(#clip992)\" cx=\"1064.93\" cy=\"614.826\" r=\"14.4\" fill=\"#e26f46\" fill-rule=\"evenodd\" fill-opacity=\"1\" stroke=\"#000000\" stroke-opacity=\"1\" stroke-width=\"3.2\"/>\n",
       "<circle clip-path=\"url(#clip992)\" cx=\"1085.73\" cy=\"1016.67\" r=\"14.4\" fill=\"#e26f46\" fill-rule=\"evenodd\" fill-opacity=\"1\" stroke=\"#000000\" stroke-opacity=\"1\" stroke-width=\"3.2\"/>\n",
       "<circle clip-path=\"url(#clip992)\" cx=\"1106.52\" cy=\"733.35\" r=\"14.4\" fill=\"#e26f46\" fill-rule=\"evenodd\" fill-opacity=\"1\" stroke=\"#000000\" stroke-opacity=\"1\" stroke-width=\"3.2\"/>\n",
       "<circle clip-path=\"url(#clip992)\" cx=\"1127.31\" cy=\"648.584\" r=\"14.4\" fill=\"#e26f46\" fill-rule=\"evenodd\" fill-opacity=\"1\" stroke=\"#000000\" stroke-opacity=\"1\" stroke-width=\"3.2\"/>\n",
       "<circle clip-path=\"url(#clip992)\" cx=\"1148.1\" cy=\"1024.42\" r=\"14.4\" fill=\"#e26f46\" fill-rule=\"evenodd\" fill-opacity=\"1\" stroke=\"#000000\" stroke-opacity=\"1\" stroke-width=\"3.2\"/>\n",
       "<circle clip-path=\"url(#clip992)\" cx=\"1168.89\" cy=\"745.213\" r=\"14.4\" fill=\"#e26f46\" fill-rule=\"evenodd\" fill-opacity=\"1\" stroke=\"#000000\" stroke-opacity=\"1\" stroke-width=\"3.2\"/>\n",
       "<circle clip-path=\"url(#clip992)\" cx=\"1189.68\" cy=\"601.793\" r=\"14.4\" fill=\"#e26f46\" fill-rule=\"evenodd\" fill-opacity=\"1\" stroke=\"#000000\" stroke-opacity=\"1\" stroke-width=\"3.2\"/>\n",
       "<circle clip-path=\"url(#clip992)\" cx=\"1210.47\" cy=\"1030.95\" r=\"14.4\" fill=\"#e26f46\" fill-rule=\"evenodd\" fill-opacity=\"1\" stroke=\"#000000\" stroke-opacity=\"1\" stroke-width=\"3.2\"/>\n",
       "<circle clip-path=\"url(#clip992)\" cx=\"1231.27\" cy=\"815.962\" r=\"14.4\" fill=\"#e26f46\" fill-rule=\"evenodd\" fill-opacity=\"1\" stroke=\"#000000\" stroke-opacity=\"1\" stroke-width=\"3.2\"/>\n",
       "<circle clip-path=\"url(#clip992)\" cx=\"1252.06\" cy=\"563.002\" r=\"14.4\" fill=\"#e26f46\" fill-rule=\"evenodd\" fill-opacity=\"1\" stroke=\"#000000\" stroke-opacity=\"1\" stroke-width=\"3.2\"/>\n",
       "<circle clip-path=\"url(#clip992)\" cx=\"1272.85\" cy=\"923.431\" r=\"14.4\" fill=\"#e26f46\" fill-rule=\"evenodd\" fill-opacity=\"1\" stroke=\"#000000\" stroke-opacity=\"1\" stroke-width=\"3.2\"/>\n",
       "<circle clip-path=\"url(#clip992)\" cx=\"1293.64\" cy=\"918.866\" r=\"14.4\" fill=\"#e26f46\" fill-rule=\"evenodd\" fill-opacity=\"1\" stroke=\"#000000\" stroke-opacity=\"1\" stroke-width=\"3.2\"/>\n",
       "<circle clip-path=\"url(#clip992)\" cx=\"1314.43\" cy=\"723.343\" r=\"14.4\" fill=\"#e26f46\" fill-rule=\"evenodd\" fill-opacity=\"1\" stroke=\"#000000\" stroke-opacity=\"1\" stroke-width=\"3.2\"/>\n",
       "<circle clip-path=\"url(#clip992)\" cx=\"1335.22\" cy=\"687.673\" r=\"14.4\" fill=\"#e26f46\" fill-rule=\"evenodd\" fill-opacity=\"1\" stroke=\"#000000\" stroke-opacity=\"1\" stroke-width=\"3.2\"/>\n",
       "<circle clip-path=\"url(#clip992)\" cx=\"1356.01\" cy=\"795.306\" r=\"14.4\" fill=\"#e26f46\" fill-rule=\"evenodd\" fill-opacity=\"1\" stroke=\"#000000\" stroke-opacity=\"1\" stroke-width=\"3.2\"/>\n",
       "<circle clip-path=\"url(#clip992)\" cx=\"1376.81\" cy=\"998.917\" r=\"14.4\" fill=\"#e26f46\" fill-rule=\"evenodd\" fill-opacity=\"1\" stroke=\"#000000\" stroke-opacity=\"1\" stroke-width=\"3.2\"/>\n",
       "<circle clip-path=\"url(#clip992)\" cx=\"1397.6\" cy=\"795.304\" r=\"14.4\" fill=\"#e26f46\" fill-rule=\"evenodd\" fill-opacity=\"1\" stroke=\"#000000\" stroke-opacity=\"1\" stroke-width=\"3.2\"/>\n",
       "<circle clip-path=\"url(#clip992)\" cx=\"1418.39\" cy=\"665.951\" r=\"14.4\" fill=\"#e26f46\" fill-rule=\"evenodd\" fill-opacity=\"1\" stroke=\"#000000\" stroke-opacity=\"1\" stroke-width=\"3.2\"/>\n",
       "<circle clip-path=\"url(#clip992)\" cx=\"1439.18\" cy=\"736.959\" r=\"14.4\" fill=\"#e26f46\" fill-rule=\"evenodd\" fill-opacity=\"1\" stroke=\"#000000\" stroke-opacity=\"1\" stroke-width=\"3.2\"/>\n",
       "<circle clip-path=\"url(#clip992)\" cx=\"1459.97\" cy=\"752.744\" r=\"14.4\" fill=\"#e26f46\" fill-rule=\"evenodd\" fill-opacity=\"1\" stroke=\"#000000\" stroke-opacity=\"1\" stroke-width=\"3.2\"/>\n",
       "<circle clip-path=\"url(#clip992)\" cx=\"1480.76\" cy=\"934.19\" r=\"14.4\" fill=\"#e26f46\" fill-rule=\"evenodd\" fill-opacity=\"1\" stroke=\"#000000\" stroke-opacity=\"1\" stroke-width=\"3.2\"/>\n",
       "<circle clip-path=\"url(#clip992)\" cx=\"1501.55\" cy=\"908.05\" r=\"14.4\" fill=\"#e26f46\" fill-rule=\"evenodd\" fill-opacity=\"1\" stroke=\"#000000\" stroke-opacity=\"1\" stroke-width=\"3.2\"/>\n",
       "<circle clip-path=\"url(#clip992)\" cx=\"1522.35\" cy=\"829.648\" r=\"14.4\" fill=\"#e26f46\" fill-rule=\"evenodd\" fill-opacity=\"1\" stroke=\"#000000\" stroke-opacity=\"1\" stroke-width=\"3.2\"/>\n",
       "<circle clip-path=\"url(#clip992)\" cx=\"1543.14\" cy=\"847.628\" r=\"14.4\" fill=\"#e26f46\" fill-rule=\"evenodd\" fill-opacity=\"1\" stroke=\"#000000\" stroke-opacity=\"1\" stroke-width=\"3.2\"/>\n",
       "<circle clip-path=\"url(#clip992)\" cx=\"1563.93\" cy=\"701.71\" r=\"14.4\" fill=\"#e26f46\" fill-rule=\"evenodd\" fill-opacity=\"1\" stroke=\"#000000\" stroke-opacity=\"1\" stroke-width=\"3.2\"/>\n",
       "<circle clip-path=\"url(#clip992)\" cx=\"1584.72\" cy=\"745.889\" r=\"14.4\" fill=\"#e26f46\" fill-rule=\"evenodd\" fill-opacity=\"1\" stroke=\"#000000\" stroke-opacity=\"1\" stroke-width=\"3.2\"/>\n",
       "<circle clip-path=\"url(#clip992)\" cx=\"1605.51\" cy=\"727.887\" r=\"14.4\" fill=\"#e26f46\" fill-rule=\"evenodd\" fill-opacity=\"1\" stroke=\"#000000\" stroke-opacity=\"1\" stroke-width=\"3.2\"/>\n",
       "<circle clip-path=\"url(#clip992)\" cx=\"1626.3\" cy=\"672.987\" r=\"14.4\" fill=\"#e26f46\" fill-rule=\"evenodd\" fill-opacity=\"1\" stroke=\"#000000\" stroke-opacity=\"1\" stroke-width=\"3.2\"/>\n",
       "<circle clip-path=\"url(#clip992)\" cx=\"1647.09\" cy=\"766.052\" r=\"14.4\" fill=\"#e26f46\" fill-rule=\"evenodd\" fill-opacity=\"1\" stroke=\"#000000\" stroke-opacity=\"1\" stroke-width=\"3.2\"/>\n",
       "<circle clip-path=\"url(#clip992)\" cx=\"1667.89\" cy=\"689.07\" r=\"14.4\" fill=\"#e26f46\" fill-rule=\"evenodd\" fill-opacity=\"1\" stroke=\"#000000\" stroke-opacity=\"1\" stroke-width=\"3.2\"/>\n",
       "<circle clip-path=\"url(#clip992)\" cx=\"1688.68\" cy=\"741.94\" r=\"14.4\" fill=\"#e26f46\" fill-rule=\"evenodd\" fill-opacity=\"1\" stroke=\"#000000\" stroke-opacity=\"1\" stroke-width=\"3.2\"/>\n",
       "<circle clip-path=\"url(#clip992)\" cx=\"1709.47\" cy=\"783.972\" r=\"14.4\" fill=\"#e26f46\" fill-rule=\"evenodd\" fill-opacity=\"1\" stroke=\"#000000\" stroke-opacity=\"1\" stroke-width=\"3.2\"/>\n",
       "<circle clip-path=\"url(#clip992)\" cx=\"1730.26\" cy=\"757.737\" r=\"14.4\" fill=\"#e26f46\" fill-rule=\"evenodd\" fill-opacity=\"1\" stroke=\"#000000\" stroke-opacity=\"1\" stroke-width=\"3.2\"/>\n",
       "<circle clip-path=\"url(#clip992)\" cx=\"1751.05\" cy=\"885.938\" r=\"14.4\" fill=\"#e26f46\" fill-rule=\"evenodd\" fill-opacity=\"1\" stroke=\"#000000\" stroke-opacity=\"1\" stroke-width=\"3.2\"/>\n",
       "<circle clip-path=\"url(#clip992)\" cx=\"1771.84\" cy=\"841.021\" r=\"14.4\" fill=\"#e26f46\" fill-rule=\"evenodd\" fill-opacity=\"1\" stroke=\"#000000\" stroke-opacity=\"1\" stroke-width=\"3.2\"/>\n",
       "<circle clip-path=\"url(#clip992)\" cx=\"1792.63\" cy=\"819.8\" r=\"14.4\" fill=\"#e26f46\" fill-rule=\"evenodd\" fill-opacity=\"1\" stroke=\"#000000\" stroke-opacity=\"1\" stroke-width=\"3.2\"/>\n",
       "<circle clip-path=\"url(#clip992)\" cx=\"1813.43\" cy=\"789.468\" r=\"14.4\" fill=\"#e26f46\" fill-rule=\"evenodd\" fill-opacity=\"1\" stroke=\"#000000\" stroke-opacity=\"1\" stroke-width=\"3.2\"/>\n",
       "<circle clip-path=\"url(#clip992)\" cx=\"1834.22\" cy=\"709.243\" r=\"14.4\" fill=\"#e26f46\" fill-rule=\"evenodd\" fill-opacity=\"1\" stroke=\"#000000\" stroke-opacity=\"1\" stroke-width=\"3.2\"/>\n",
       "<circle clip-path=\"url(#clip992)\" cx=\"1855.01\" cy=\"866.477\" r=\"14.4\" fill=\"#e26f46\" fill-rule=\"evenodd\" fill-opacity=\"1\" stroke=\"#000000\" stroke-opacity=\"1\" stroke-width=\"3.2\"/>\n",
       "<circle clip-path=\"url(#clip992)\" cx=\"1875.8\" cy=\"819.865\" r=\"14.4\" fill=\"#e26f46\" fill-rule=\"evenodd\" fill-opacity=\"1\" stroke=\"#000000\" stroke-opacity=\"1\" stroke-width=\"3.2\"/>\n",
       "<circle clip-path=\"url(#clip992)\" cx=\"1896.59\" cy=\"729.187\" r=\"14.4\" fill=\"#e26f46\" fill-rule=\"evenodd\" fill-opacity=\"1\" stroke=\"#000000\" stroke-opacity=\"1\" stroke-width=\"3.2\"/>\n",
       "<circle clip-path=\"url(#clip992)\" cx=\"1917.38\" cy=\"862.997\" r=\"14.4\" fill=\"#e26f46\" fill-rule=\"evenodd\" fill-opacity=\"1\" stroke=\"#000000\" stroke-opacity=\"1\" stroke-width=\"3.2\"/>\n",
       "<circle clip-path=\"url(#clip992)\" cx=\"1938.17\" cy=\"766.092\" r=\"14.4\" fill=\"#e26f46\" fill-rule=\"evenodd\" fill-opacity=\"1\" stroke=\"#000000\" stroke-opacity=\"1\" stroke-width=\"3.2\"/>\n",
       "<circle clip-path=\"url(#clip992)\" cx=\"1958.97\" cy=\"799.476\" r=\"14.4\" fill=\"#e26f46\" fill-rule=\"evenodd\" fill-opacity=\"1\" stroke=\"#000000\" stroke-opacity=\"1\" stroke-width=\"3.2\"/>\n",
       "<circle clip-path=\"url(#clip992)\" cx=\"1979.76\" cy=\"829.386\" r=\"14.4\" fill=\"#e26f46\" fill-rule=\"evenodd\" fill-opacity=\"1\" stroke=\"#000000\" stroke-opacity=\"1\" stroke-width=\"3.2\"/>\n",
       "<circle clip-path=\"url(#clip992)\" cx=\"2000.55\" cy=\"750.084\" r=\"14.4\" fill=\"#e26f46\" fill-rule=\"evenodd\" fill-opacity=\"1\" stroke=\"#000000\" stroke-opacity=\"1\" stroke-width=\"3.2\"/>\n",
       "<circle clip-path=\"url(#clip992)\" cx=\"2021.34\" cy=\"844.611\" r=\"14.4\" fill=\"#e26f46\" fill-rule=\"evenodd\" fill-opacity=\"1\" stroke=\"#000000\" stroke-opacity=\"1\" stroke-width=\"3.2\"/>\n",
       "<circle clip-path=\"url(#clip992)\" cx=\"2042.13\" cy=\"784.126\" r=\"14.4\" fill=\"#e26f46\" fill-rule=\"evenodd\" fill-opacity=\"1\" stroke=\"#000000\" stroke-opacity=\"1\" stroke-width=\"3.2\"/>\n",
       "<circle clip-path=\"url(#clip992)\" cx=\"2062.92\" cy=\"774.936\" r=\"14.4\" fill=\"#e26f46\" fill-rule=\"evenodd\" fill-opacity=\"1\" stroke=\"#000000\" stroke-opacity=\"1\" stroke-width=\"3.2\"/>\n",
       "<circle clip-path=\"url(#clip992)\" cx=\"2083.71\" cy=\"824.882\" r=\"14.4\" fill=\"#e26f46\" fill-rule=\"evenodd\" fill-opacity=\"1\" stroke=\"#000000\" stroke-opacity=\"1\" stroke-width=\"3.2\"/>\n",
       "<circle clip-path=\"url(#clip992)\" cx=\"2104.51\" cy=\"796.725\" r=\"14.4\" fill=\"#e26f46\" fill-rule=\"evenodd\" fill-opacity=\"1\" stroke=\"#000000\" stroke-opacity=\"1\" stroke-width=\"3.2\"/>\n",
       "<circle clip-path=\"url(#clip992)\" cx=\"2125.3\" cy=\"840.648\" r=\"14.4\" fill=\"#e26f46\" fill-rule=\"evenodd\" fill-opacity=\"1\" stroke=\"#000000\" stroke-opacity=\"1\" stroke-width=\"3.2\"/>\n",
       "<circle clip-path=\"url(#clip992)\" cx=\"2146.09\" cy=\"759.332\" r=\"14.4\" fill=\"#e26f46\" fill-rule=\"evenodd\" fill-opacity=\"1\" stroke=\"#000000\" stroke-opacity=\"1\" stroke-width=\"3.2\"/>\n",
       "<circle clip-path=\"url(#clip992)\" cx=\"2166.88\" cy=\"774.159\" r=\"14.4\" fill=\"#e26f46\" fill-rule=\"evenodd\" fill-opacity=\"1\" stroke=\"#000000\" stroke-opacity=\"1\" stroke-width=\"3.2\"/>\n",
       "<circle clip-path=\"url(#clip992)\" cx=\"2187.67\" cy=\"799.616\" r=\"14.4\" fill=\"#e26f46\" fill-rule=\"evenodd\" fill-opacity=\"1\" stroke=\"#000000\" stroke-opacity=\"1\" stroke-width=\"3.2\"/>\n",
       "<circle clip-path=\"url(#clip992)\" cx=\"2208.46\" cy=\"748.915\" r=\"14.4\" fill=\"#e26f46\" fill-rule=\"evenodd\" fill-opacity=\"1\" stroke=\"#000000\" stroke-opacity=\"1\" stroke-width=\"3.2\"/>\n",
       "<circle clip-path=\"url(#clip992)\" cx=\"2229.25\" cy=\"838.753\" r=\"14.4\" fill=\"#e26f46\" fill-rule=\"evenodd\" fill-opacity=\"1\" stroke=\"#000000\" stroke-opacity=\"1\" stroke-width=\"3.2\"/>\n",
       "<circle clip-path=\"url(#clip992)\" cx=\"2250.05\" cy=\"808.165\" r=\"14.4\" fill=\"#e26f46\" fill-rule=\"evenodd\" fill-opacity=\"1\" stroke=\"#000000\" stroke-opacity=\"1\" stroke-width=\"3.2\"/>\n",
       "<circle clip-path=\"url(#clip992)\" cx=\"2270.84\" cy=\"777.288\" r=\"14.4\" fill=\"#e26f46\" fill-rule=\"evenodd\" fill-opacity=\"1\" stroke=\"#000000\" stroke-opacity=\"1\" stroke-width=\"3.2\"/>\n",
       "<circle clip-path=\"url(#clip992)\" cx=\"2291.63\" cy=\"823.779\" r=\"14.4\" fill=\"#e26f46\" fill-rule=\"evenodd\" fill-opacity=\"1\" stroke=\"#000000\" stroke-opacity=\"1\" stroke-width=\"3.2\"/>\n",
       "<path clip-path=\"url(#clip990)\" d=\"M2012.35 250.738 L2280.76 250.738 L2280.76 95.2176 L2012.35 95.2176  Z\" fill=\"#ffffff\" fill-rule=\"evenodd\" fill-opacity=\"1\"/>\n",
       "<polyline clip-path=\"url(#clip990)\" style=\"stroke:#000000; stroke-linecap:round; stroke-linejoin:round; stroke-width:4; stroke-opacity:1; fill:none\" points=\"2012.35,250.738 2280.76,250.738 2280.76,95.2176 2012.35,95.2176 2012.35,250.738 \"/>\n",
       "<circle clip-path=\"url(#clip990)\" cx=\"2108.34\" cy=\"147.058\" r=\"20.48\" fill=\"#009af9\" fill-rule=\"evenodd\" fill-opacity=\"1\" stroke=\"#000000\" stroke-opacity=\"1\" stroke-width=\"4.55111\"/>\n",
       "<path clip-path=\"url(#clip990)\" d=\"M2218.18 166.745 Q2216.37 171.375 2214.66 172.787 Q2212.94 174.199 2210.07 174.199 L2206.67 174.199 L2206.67 170.634 L2209.17 170.634 Q2210.93 170.634 2211.9 169.8 Q2212.88 168.967 2214.06 165.865 L2214.82 163.921 L2204.33 138.412 L2208.85 138.412 L2216.95 158.689 L2225.05 138.412 L2229.57 138.412 L2218.18 166.745 Z\" fill=\"#000000\" fill-rule=\"nonzero\" fill-opacity=\"1\" /><path clip-path=\"url(#clip990)\" d=\"M2236.86 160.402 L2244.5 160.402 L2244.5 134.037 L2236.19 135.703 L2236.19 131.444 L2244.45 129.778 L2249.13 129.778 L2249.13 160.402 L2256.76 160.402 L2256.76 164.338 L2236.86 164.338 L2236.86 160.402 Z\" fill=\"#000000\" fill-rule=\"nonzero\" fill-opacity=\"1\" /><circle clip-path=\"url(#clip990)\" cx=\"2108.34\" cy=\"198.898\" r=\"20.48\" fill=\"#e26f46\" fill-rule=\"evenodd\" fill-opacity=\"1\" stroke=\"#000000\" stroke-opacity=\"1\" stroke-width=\"4.55111\"/>\n",
       "<path clip-path=\"url(#clip990)\" d=\"M2218.18 218.585 Q2216.37 223.215 2214.66 224.627 Q2212.94 226.039 2210.07 226.039 L2206.67 226.039 L2206.67 222.474 L2209.17 222.474 Q2210.93 222.474 2211.9 221.64 Q2212.88 220.807 2214.06 217.705 L2214.82 215.761 L2204.33 190.252 L2208.85 190.252 L2216.95 210.529 L2225.05 190.252 L2229.57 190.252 L2218.18 218.585 Z\" fill=\"#000000\" fill-rule=\"nonzero\" fill-opacity=\"1\" /><path clip-path=\"url(#clip990)\" d=\"M2240.07 212.242 L2256.39 212.242 L2256.39 216.178 L2234.45 216.178 L2234.45 212.242 Q2237.11 209.488 2241.69 204.858 Q2246.3 200.205 2247.48 198.863 Q2249.73 196.34 2250.61 194.604 Q2251.51 192.844 2251.51 191.155 Q2251.51 188.4 2249.57 186.664 Q2247.64 184.928 2244.54 184.928 Q2242.34 184.928 2239.89 185.692 Q2237.46 186.455 2234.68 188.006 L2234.68 183.284 Q2237.5 182.15 2239.96 181.571 Q2242.41 180.993 2244.45 180.993 Q2249.82 180.993 2253.01 183.678 Q2256.21 186.363 2256.21 190.854 Q2256.21 192.983 2255.4 194.905 Q2254.61 196.803 2252.5 199.395 Q2251.93 200.067 2248.82 203.284 Q2245.72 206.479 2240.07 212.242 Z\" fill=\"#000000\" fill-rule=\"nonzero\" fill-opacity=\"1\" /></svg>\n"
      ]
     },
     "metadata": {},
     "output_type": "display_data"
    }
   ],
   "source": [
    "scatter(1.0:0.5:50.0, real(Z_class[1:99,5])./maximum(real(Z_class[1:99,5])))\n",
    "scatter!(1.0:0.5:50.0, real(Z[1:99,5])./maximum(real(Z[1:99,5])))"
   ]
  },
  {
   "cell_type": "markdown",
   "metadata": {},
   "source": [
    "Toy1 amplitude vs. cl.sol. injection"
   ]
  },
  {
   "cell_type": "code",
   "execution_count": 21,
   "metadata": {},
   "outputs": [
    {
     "data": {
      "image/png": "[encoded data removed]",
      "image/svg+xml": [
       "<?xml version=\"1.0\" encoding=\"utf-8\"?>\n",
       "<svg xmlns=\"http://www.w3.org/2000/svg\" xmlns:xlink=\"http://www.w3.org/1999/xlink\" width=\"600\" height=\"400\" viewBox=\"0 0 2400 1600\">\n",
       "<defs>\n",
       "  <clipPath id=\"clip120\">\n",
       "    <rect x=\"0\" y=\"0\" width=\"2400\" height=\"1600\"/>\n",
       "  </clipPath>\n",
       "</defs>\n",
       "<path clip-path=\"url(#clip120)\" d=\"M0 1600 L2400 1600 L2400 0 L0 0  Z\" fill=\"#ffffff\" fill-rule=\"evenodd\" fill-opacity=\"1\"/>\n",
       "<defs>\n",
       "  <clipPath id=\"clip121\">\n",
       "    <rect x=\"480\" y=\"0\" width=\"1681\" height=\"1600\"/>\n",
       "  </clipPath>\n",
       "</defs>\n",
       "<path clip-path=\"url(#clip120)\" d=\"M193.936 1486.45 L2352.76 1486.45 L2352.76 47.2441 L193.936 47.2441  Z\" fill=\"#ffffff\" fill-rule=\"evenodd\" fill-opacity=\"1\"/>\n",
       "<defs>\n",
       "  <clipPath id=\"clip122\">\n",
       "    <rect x=\"193\" y=\"47\" width=\"2160\" height=\"1440\"/>\n",
       "  </clipPath>\n",
       "</defs>\n",
       "<polyline clip-path=\"url(#clip122)\" style=\"stroke:#000000; stroke-linecap:round; stroke-linejoin:round; stroke-width:2; stroke-opacity:0.1; fill:none\" points=\"213.471,1486.45 213.471,47.2441 \"/>\n",
       "<polyline clip-path=\"url(#clip122)\" style=\"stroke:#000000; stroke-linecap:round; stroke-linejoin:round; stroke-width:2; stroke-opacity:0.1; fill:none\" points=\"629.108,1486.45 629.108,47.2441 \"/>\n",
       "<polyline clip-path=\"url(#clip122)\" style=\"stroke:#000000; stroke-linecap:round; stroke-linejoin:round; stroke-width:2; stroke-opacity:0.1; fill:none\" points=\"1044.75,1486.45 1044.75,47.2441 \"/>\n",
       "<polyline clip-path=\"url(#clip122)\" style=\"stroke:#000000; stroke-linecap:round; stroke-linejoin:round; stroke-width:2; stroke-opacity:0.1; fill:none\" points=\"1460.38,1486.45 1460.38,47.2441 \"/>\n",
       "<polyline clip-path=\"url(#clip122)\" style=\"stroke:#000000; stroke-linecap:round; stroke-linejoin:round; stroke-width:2; stroke-opacity:0.1; fill:none\" points=\"1876.02,1486.45 1876.02,47.2441 \"/>\n",
       "<polyline clip-path=\"url(#clip122)\" style=\"stroke:#000000; stroke-linecap:round; stroke-linejoin:round; stroke-width:2; stroke-opacity:0.1; fill:none\" points=\"2291.66,1486.45 2291.66,47.2441 \"/>\n",
       "<polyline clip-path=\"url(#clip120)\" style=\"stroke:#000000; stroke-linecap:round; stroke-linejoin:round; stroke-width:4; stroke-opacity:1; fill:none\" points=\"193.936,1486.45 2352.76,1486.45 \"/>\n",
       "<polyline clip-path=\"url(#clip120)\" style=\"stroke:#000000; stroke-linecap:round; stroke-linejoin:round; stroke-width:4; stroke-opacity:1; fill:none\" points=\"213.471,1486.45 213.471,1467.55 \"/>\n",
       "<polyline clip-path=\"url(#clip120)\" style=\"stroke:#000000; stroke-linecap:round; stroke-linejoin:round; stroke-width:4; stroke-opacity:1; fill:none\" points=\"629.108,1486.45 629.108,1467.55 \"/>\n",
       "<polyline clip-path=\"url(#clip120)\" style=\"stroke:#000000; stroke-linecap:round; stroke-linejoin:round; stroke-width:4; stroke-opacity:1; fill:none\" points=\"1044.75,1486.45 1044.75,1467.55 \"/>\n",
       "<polyline clip-path=\"url(#clip120)\" style=\"stroke:#000000; stroke-linecap:round; stroke-linejoin:round; stroke-width:4; stroke-opacity:1; fill:none\" points=\"1460.38,1486.45 1460.38,1467.55 \"/>\n",
       "<polyline clip-path=\"url(#clip120)\" style=\"stroke:#000000; stroke-linecap:round; stroke-linejoin:round; stroke-width:4; stroke-opacity:1; fill:none\" points=\"1876.02,1486.45 1876.02,1467.55 \"/>\n",
       "<polyline clip-path=\"url(#clip120)\" style=\"stroke:#000000; stroke-linecap:round; stroke-linejoin:round; stroke-width:4; stroke-opacity:1; fill:none\" points=\"2291.66,1486.45 2291.66,1467.55 \"/>\n",
       "<path clip-path=\"url(#clip120)\" d=\"M213.471 1517.37 Q209.86 1517.37 208.031 1520.93 Q206.226 1524.47 206.226 1531.6 Q206.226 1538.71 208.031 1542.27 Q209.86 1545.82 213.471 1545.82 Q217.105 1545.82 218.911 1542.27 Q220.739 1538.71 220.739 1531.6 Q220.739 1524.47 218.911 1520.93 Q217.105 1517.37 213.471 1517.37 M213.471 1513.66 Q219.281 1513.66 222.337 1518.27 Q225.415 1522.85 225.415 1531.6 Q225.415 1540.33 222.337 1544.94 Q219.281 1549.52 213.471 1549.52 Q207.661 1549.52 204.582 1544.94 Q201.527 1540.33 201.527 1531.6 Q201.527 1522.85 204.582 1518.27 Q207.661 1513.66 213.471 1513.66 Z\" fill=\"#000000\" fill-rule=\"nonzero\" fill-opacity=\"1\" /><path clip-path=\"url(#clip120)\" d=\"M603.796 1544.91 L611.435 1544.91 L611.435 1518.55 L603.125 1520.21 L603.125 1515.95 L611.388 1514.29 L616.064 1514.29 L616.064 1544.91 L623.703 1544.91 L623.703 1548.85 L603.796 1548.85 L603.796 1544.91 Z\" fill=\"#000000\" fill-rule=\"nonzero\" fill-opacity=\"1\" /><path clip-path=\"url(#clip120)\" d=\"M643.147 1517.37 Q639.536 1517.37 637.708 1520.93 Q635.902 1524.47 635.902 1531.6 Q635.902 1538.71 637.708 1542.27 Q639.536 1545.82 643.147 1545.82 Q646.782 1545.82 648.587 1542.27 Q650.416 1538.71 650.416 1531.6 Q650.416 1524.47 648.587 1520.93 Q646.782 1517.37 643.147 1517.37 M643.147 1513.66 Q648.958 1513.66 652.013 1518.27 Q655.092 1522.85 655.092 1531.6 Q655.092 1540.33 652.013 1544.94 Q648.958 1549.52 643.147 1549.52 Q637.337 1549.52 634.259 1544.94 Q631.203 1540.33 631.203 1531.6 Q631.203 1522.85 634.259 1518.27 Q637.337 1513.66 643.147 1513.66 Z\" fill=\"#000000\" fill-rule=\"nonzero\" fill-opacity=\"1\" /><path clip-path=\"url(#clip120)\" d=\"M1023.52 1544.91 L1039.84 1544.91 L1039.84 1548.85 L1017.89 1548.85 L1017.89 1544.91 Q1020.56 1542.16 1025.14 1537.53 Q1029.75 1532.88 1030.93 1531.53 Q1033.17 1529.01 1034.05 1527.27 Q1034.95 1525.51 1034.95 1523.82 Q1034.95 1521.07 1033.01 1519.33 Q1031.09 1517.6 1027.99 1517.6 Q1025.79 1517.6 1023.33 1518.36 Q1020.9 1519.13 1018.13 1520.68 L1018.13 1515.95 Q1020.95 1514.82 1023.4 1514.24 Q1025.86 1513.66 1027.89 1513.66 Q1033.26 1513.66 1036.46 1516.35 Q1039.65 1519.03 1039.65 1523.52 Q1039.65 1525.65 1038.84 1527.57 Q1038.06 1529.47 1035.95 1532.07 Q1035.37 1532.74 1032.27 1535.95 Q1029.17 1539.15 1023.52 1544.91 Z\" fill=\"#000000\" fill-rule=\"nonzero\" fill-opacity=\"1\" /><path clip-path=\"url(#clip120)\" d=\"M1059.65 1517.37 Q1056.04 1517.37 1054.21 1520.93 Q1052.41 1524.47 1052.41 1531.6 Q1052.41 1538.71 1054.21 1542.27 Q1056.04 1545.82 1059.65 1545.82 Q1063.29 1545.82 1065.09 1542.27 Q1066.92 1538.71 1066.92 1531.6 Q1066.92 1524.47 1065.09 1520.93 Q1063.29 1517.37 1059.65 1517.37 M1059.65 1513.66 Q1065.46 1513.66 1068.52 1518.27 Q1071.6 1522.85 1071.6 1531.6 Q1071.6 1540.33 1068.52 1544.94 Q1065.46 1549.52 1059.65 1549.52 Q1053.84 1549.52 1050.76 1544.94 Q1047.71 1540.33 1047.71 1531.6 Q1047.71 1522.85 1050.76 1518.27 Q1053.84 1513.66 1059.65 1513.66 Z\" fill=\"#000000\" fill-rule=\"nonzero\" fill-opacity=\"1\" /><path clip-path=\"url(#clip120)\" d=\"M1449.23 1530.21 Q1452.58 1530.93 1454.46 1533.2 Q1456.35 1535.47 1456.35 1538.8 Q1456.35 1543.92 1452.84 1546.72 Q1449.32 1549.52 1442.84 1549.52 Q1440.66 1549.52 1438.35 1549.08 Q1436.05 1548.66 1433.6 1547.81 L1433.6 1543.29 Q1435.54 1544.43 1437.86 1545.01 Q1440.17 1545.58 1442.7 1545.58 Q1447.1 1545.58 1449.39 1543.85 Q1451.7 1542.11 1451.7 1538.8 Q1451.7 1535.75 1449.55 1534.03 Q1447.42 1532.3 1443.6 1532.3 L1439.57 1532.3 L1439.57 1528.45 L1443.79 1528.45 Q1447.23 1528.45 1449.06 1527.09 Q1450.89 1525.7 1450.89 1523.11 Q1450.89 1520.45 1448.99 1519.03 Q1447.12 1517.6 1443.6 1517.6 Q1441.68 1517.6 1439.48 1518.01 Q1437.28 1518.43 1434.64 1519.31 L1434.64 1515.14 Q1437.3 1514.4 1439.62 1514.03 Q1441.96 1513.66 1444.02 1513.66 Q1449.34 1513.66 1452.44 1516.09 Q1455.54 1518.5 1455.54 1522.62 Q1455.54 1525.49 1453.9 1527.48 Q1452.26 1529.45 1449.23 1530.21 Z\" fill=\"#000000\" fill-rule=\"nonzero\" fill-opacity=\"1\" /><path clip-path=\"url(#clip120)\" d=\"M1475.22 1517.37 Q1471.61 1517.37 1469.78 1520.93 Q1467.98 1524.47 1467.98 1531.6 Q1467.98 1538.71 1469.78 1542.27 Q1471.61 1545.82 1475.22 1545.82 Q1478.85 1545.82 1480.66 1542.27 Q1482.49 1538.71 1482.49 1531.6 Q1482.49 1524.47 1480.66 1520.93 Q1478.85 1517.37 1475.22 1517.37 M1475.22 1513.66 Q1481.03 1513.66 1484.09 1518.27 Q1487.16 1522.85 1487.16 1531.6 Q1487.16 1540.33 1484.09 1544.94 Q1481.03 1549.52 1475.22 1549.52 Q1469.41 1549.52 1466.33 1544.94 Q1463.28 1540.33 1463.28 1531.6 Q1463.28 1522.85 1466.33 1518.27 Q1469.41 1513.66 1475.22 1513.66 Z\" fill=\"#000000\" fill-rule=\"nonzero\" fill-opacity=\"1\" /><path clip-path=\"url(#clip120)\" d=\"M1864.19 1518.36 L1852.39 1536.81 L1864.19 1536.81 L1864.19 1518.36 M1862.96 1514.29 L1868.84 1514.29 L1868.84 1536.81 L1873.77 1536.81 L1873.77 1540.7 L1868.84 1540.7 L1868.84 1548.85 L1864.19 1548.85 L1864.19 1540.7 L1848.59 1540.7 L1848.59 1536.19 L1862.96 1514.29 Z\" fill=\"#000000\" fill-rule=\"nonzero\" fill-opacity=\"1\" /><path clip-path=\"url(#clip120)\" d=\"M1891.51 1517.37 Q1887.89 1517.37 1886.07 1520.93 Q1884.26 1524.47 1884.26 1531.6 Q1884.26 1538.71 1886.07 1542.27 Q1887.89 1545.82 1891.51 1545.82 Q1895.14 1545.82 1896.95 1542.27 Q1898.77 1538.71 1898.77 1531.6 Q1898.77 1524.47 1896.95 1520.93 Q1895.14 1517.37 1891.51 1517.37 M1891.51 1513.66 Q1897.32 1513.66 1900.37 1518.27 Q1903.45 1522.85 1903.45 1531.6 Q1903.45 1540.33 1900.37 1544.94 Q1897.32 1549.52 1891.51 1549.52 Q1885.7 1549.52 1882.62 1544.94 Q1879.56 1540.33 1879.56 1531.6 Q1879.56 1522.85 1882.62 1518.27 Q1885.7 1513.66 1891.51 1513.66 Z\" fill=\"#000000\" fill-rule=\"nonzero\" fill-opacity=\"1\" /><path clip-path=\"url(#clip120)\" d=\"M2266.36 1514.29 L2284.71 1514.29 L2284.71 1518.22 L2270.64 1518.22 L2270.64 1526.7 Q2271.66 1526.35 2272.68 1526.19 Q2273.69 1526 2274.71 1526 Q2280.5 1526 2283.88 1529.17 Q2287.26 1532.34 2287.26 1537.76 Q2287.26 1543.34 2283.79 1546.44 Q2280.31 1549.52 2274 1549.52 Q2271.82 1549.52 2269.55 1549.15 Q2267.31 1548.78 2264.9 1548.04 L2264.9 1543.34 Q2266.98 1544.47 2269.2 1545.03 Q2271.43 1545.58 2273.9 1545.58 Q2277.91 1545.58 2280.25 1543.48 Q2282.58 1541.37 2282.58 1537.76 Q2282.58 1534.15 2280.25 1532.04 Q2277.91 1529.94 2273.9 1529.94 Q2272.03 1529.94 2270.15 1530.35 Q2268.3 1530.77 2266.36 1531.65 L2266.36 1514.29 Z\" fill=\"#000000\" fill-rule=\"nonzero\" fill-opacity=\"1\" /><path clip-path=\"url(#clip120)\" d=\"M2306.47 1517.37 Q2302.86 1517.37 2301.03 1520.93 Q2299.23 1524.47 2299.23 1531.6 Q2299.23 1538.71 2301.03 1542.27 Q2302.86 1545.82 2306.47 1545.82 Q2310.11 1545.82 2311.91 1542.27 Q2313.74 1538.71 2313.74 1531.6 Q2313.74 1524.47 2311.91 1520.93 Q2310.11 1517.37 2306.47 1517.37 M2306.47 1513.66 Q2312.28 1513.66 2315.34 1518.27 Q2318.42 1522.85 2318.42 1531.6 Q2318.42 1540.33 2315.34 1544.94 Q2312.28 1549.52 2306.47 1549.52 Q2300.66 1549.52 2297.58 1544.94 Q2294.53 1540.33 2294.53 1531.6 Q2294.53 1522.85 2297.58 1518.27 Q2300.66 1513.66 2306.47 1513.66 Z\" fill=\"#000000\" fill-rule=\"nonzero\" fill-opacity=\"1\" /><polyline clip-path=\"url(#clip122)\" style=\"stroke:#000000; stroke-linecap:round; stroke-linejoin:round; stroke-width:2; stroke-opacity:0.1; fill:none\" points=\"193.936,1438.28 2352.76,1438.28 \"/>\n",
       "<polyline clip-path=\"url(#clip122)\" style=\"stroke:#000000; stroke-linecap:round; stroke-linejoin:round; stroke-width:2; stroke-opacity:0.1; fill:none\" points=\"193.936,1100.7 2352.76,1100.7 \"/>\n",
       "<polyline clip-path=\"url(#clip122)\" style=\"stroke:#000000; stroke-linecap:round; stroke-linejoin:round; stroke-width:2; stroke-opacity:0.1; fill:none\" points=\"193.936,763.127 2352.76,763.127 \"/>\n",
       "<polyline clip-path=\"url(#clip122)\" style=\"stroke:#000000; stroke-linecap:round; stroke-linejoin:round; stroke-width:2; stroke-opacity:0.1; fill:none\" points=\"193.936,425.552 2352.76,425.552 \"/>\n",
       "<polyline clip-path=\"url(#clip122)\" style=\"stroke:#000000; stroke-linecap:round; stroke-linejoin:round; stroke-width:2; stroke-opacity:0.1; fill:none\" points=\"193.936,87.9763 2352.76,87.9763 \"/>\n",
       "<polyline clip-path=\"url(#clip120)\" style=\"stroke:#000000; stroke-linecap:round; stroke-linejoin:round; stroke-width:4; stroke-opacity:1; fill:none\" points=\"193.936,1486.45 193.936,47.2441 \"/>\n",
       "<polyline clip-path=\"url(#clip120)\" style=\"stroke:#000000; stroke-linecap:round; stroke-linejoin:round; stroke-width:4; stroke-opacity:1; fill:none\" points=\"193.936,1438.28 212.834,1438.28 \"/>\n",
       "<polyline clip-path=\"url(#clip120)\" style=\"stroke:#000000; stroke-linecap:round; stroke-linejoin:round; stroke-width:4; stroke-opacity:1; fill:none\" points=\"193.936,1100.7 212.834,1100.7 \"/>\n",
       "<polyline clip-path=\"url(#clip120)\" style=\"stroke:#000000; stroke-linecap:round; stroke-linejoin:round; stroke-width:4; stroke-opacity:1; fill:none\" points=\"193.936,763.127 212.834,763.127 \"/>\n",
       "<polyline clip-path=\"url(#clip120)\" style=\"stroke:#000000; stroke-linecap:round; stroke-linejoin:round; stroke-width:4; stroke-opacity:1; fill:none\" points=\"193.936,425.552 212.834,425.552 \"/>\n",
       "<polyline clip-path=\"url(#clip120)\" style=\"stroke:#000000; stroke-linecap:round; stroke-linejoin:round; stroke-width:4; stroke-opacity:1; fill:none\" points=\"193.936,87.9763 212.834,87.9763 \"/>\n",
       "<path clip-path=\"url(#clip120)\" d=\"M50.9921 1438.73 L80.6679 1438.73 L80.6679 1442.66 L50.9921 1442.66 L50.9921 1438.73 Z\" fill=\"#000000\" fill-rule=\"nonzero\" fill-opacity=\"1\" /><path clip-path=\"url(#clip120)\" d=\"M91.5706 1451.62 L99.2095 1451.62 L99.2095 1425.26 L90.8993 1426.92 L90.8993 1422.66 L99.1632 1421 L103.839 1421 L103.839 1451.62 L111.478 1451.62 L111.478 1455.56 L91.5706 1455.56 L91.5706 1451.62 Z\" fill=\"#000000\" fill-rule=\"nonzero\" fill-opacity=\"1\" /><path clip-path=\"url(#clip120)\" d=\"M120.922 1449.68 L125.807 1449.68 L125.807 1455.56 L120.922 1455.56 L120.922 1449.68 Z\" fill=\"#000000\" fill-rule=\"nonzero\" fill-opacity=\"1\" /><path clip-path=\"url(#clip120)\" d=\"M145.992 1424.08 Q142.381 1424.08 140.552 1427.64 Q138.746 1431.18 138.746 1438.31 Q138.746 1445.42 140.552 1448.98 Q142.381 1452.53 145.992 1452.53 Q149.626 1452.53 151.431 1448.98 Q153.26 1445.42 153.26 1438.31 Q153.26 1431.18 151.431 1427.64 Q149.626 1424.08 145.992 1424.08 M145.992 1420.37 Q151.802 1420.37 154.857 1424.98 Q157.936 1429.56 157.936 1438.31 Q157.936 1447.04 154.857 1451.65 Q151.802 1456.23 145.992 1456.23 Q140.181 1456.23 137.103 1451.65 Q134.047 1447.04 134.047 1438.31 Q134.047 1429.56 137.103 1424.98 Q140.181 1420.37 145.992 1420.37 Z\" fill=\"#000000\" fill-rule=\"nonzero\" fill-opacity=\"1\" /><path clip-path=\"url(#clip120)\" d=\"M51.9875 1101.15 L81.6633 1101.15 L81.6633 1105.09 L51.9875 1105.09 L51.9875 1101.15 Z\" fill=\"#000000\" fill-rule=\"nonzero\" fill-opacity=\"1\" /><path clip-path=\"url(#clip120)\" d=\"M101.756 1086.5 Q98.1447 1086.5 96.316 1090.07 Q94.5104 1093.61 94.5104 1100.74 Q94.5104 1107.84 96.316 1111.41 Q98.1447 1114.95 101.756 1114.95 Q105.39 1114.95 107.196 1111.41 Q109.024 1107.84 109.024 1100.74 Q109.024 1093.61 107.196 1090.07 Q105.39 1086.5 101.756 1086.5 M101.756 1082.8 Q107.566 1082.8 110.621 1087.4 Q113.7 1091.99 113.7 1100.74 Q113.7 1109.46 110.621 1114.07 Q107.566 1118.65 101.756 1118.65 Q95.9456 1118.65 92.8669 1114.07 Q89.8114 1109.46 89.8114 1100.74 Q89.8114 1091.99 92.8669 1087.4 Q95.9456 1082.8 101.756 1082.8 Z\" fill=\"#000000\" fill-rule=\"nonzero\" fill-opacity=\"1\" /><path clip-path=\"url(#clip120)\" d=\"M121.918 1112.1 L126.802 1112.1 L126.802 1117.98 L121.918 1117.98 L121.918 1112.1 Z\" fill=\"#000000\" fill-rule=\"nonzero\" fill-opacity=\"1\" /><path clip-path=\"url(#clip120)\" d=\"M137.033 1083.42 L155.39 1083.42 L155.39 1087.36 L141.316 1087.36 L141.316 1095.83 Q142.334 1095.48 143.353 1095.32 Q144.371 1095.14 145.39 1095.14 Q151.177 1095.14 154.556 1098.31 Q157.936 1101.48 157.936 1106.89 Q157.936 1112.47 154.464 1115.58 Q150.992 1118.65 144.672 1118.65 Q142.496 1118.65 140.228 1118.28 Q137.982 1117.91 135.575 1117.17 L135.575 1112.47 Q137.658 1113.61 139.881 1114.16 Q142.103 1114.72 144.58 1114.72 Q148.584 1114.72 150.922 1112.61 Q153.26 1110.51 153.26 1106.89 Q153.26 1103.28 150.922 1101.18 Q148.584 1099.07 144.58 1099.07 Q142.705 1099.07 140.83 1099.49 Q138.978 1099.9 137.033 1100.78 L137.033 1083.42 Z\" fill=\"#000000\" fill-rule=\"nonzero\" fill-opacity=\"1\" /><path clip-path=\"url(#clip120)\" d=\"M100.76 748.926 Q97.1493 748.926 95.3206 752.491 Q93.515 756.032 93.515 763.162 Q93.515 770.268 95.3206 773.833 Q97.1493 777.375 100.76 777.375 Q104.395 777.375 106.2 773.833 Q108.029 770.268 108.029 763.162 Q108.029 756.032 106.2 752.491 Q104.395 748.926 100.76 748.926 M100.76 745.222 Q106.571 745.222 109.626 749.829 Q112.705 754.412 112.705 763.162 Q112.705 771.889 109.626 776.495 Q106.571 781.078 100.76 781.078 Q94.9502 781.078 91.8715 776.495 Q88.816 771.889 88.816 763.162 Q88.816 754.412 91.8715 749.829 Q94.9502 745.222 100.76 745.222 Z\" fill=\"#000000\" fill-rule=\"nonzero\" fill-opacity=\"1\" /><path clip-path=\"url(#clip120)\" d=\"M120.922 774.528 L125.807 774.528 L125.807 780.407 L120.922 780.407 L120.922 774.528 Z\" fill=\"#000000\" fill-rule=\"nonzero\" fill-opacity=\"1\" /><path clip-path=\"url(#clip120)\" d=\"M145.992 748.926 Q142.381 748.926 140.552 752.491 Q138.746 756.032 138.746 763.162 Q138.746 770.268 140.552 773.833 Q142.381 777.375 145.992 777.375 Q149.626 777.375 151.431 773.833 Q153.26 770.268 153.26 763.162 Q153.26 756.032 151.431 752.491 Q149.626 748.926 145.992 748.926 M145.992 745.222 Q151.802 745.222 154.857 749.829 Q157.936 754.412 157.936 763.162 Q157.936 771.889 154.857 776.495 Q151.802 781.078 145.992 781.078 Q140.181 781.078 137.103 776.495 Q134.047 771.889 134.047 763.162 Q134.047 754.412 137.103 749.829 Q140.181 745.222 145.992 745.222 Z\" fill=\"#000000\" fill-rule=\"nonzero\" fill-opacity=\"1\" /><path clip-path=\"url(#clip120)\" d=\"M101.756 411.35 Q98.1447 411.35 96.316 414.915 Q94.5104 418.457 94.5104 425.586 Q94.5104 432.693 96.316 436.258 Q98.1447 439.799 101.756 439.799 Q105.39 439.799 107.196 436.258 Q109.024 432.693 109.024 425.586 Q109.024 418.457 107.196 414.915 Q105.39 411.35 101.756 411.35 M101.756 407.647 Q107.566 407.647 110.621 412.253 Q113.7 416.836 113.7 425.586 Q113.7 434.313 110.621 438.92 Q107.566 443.503 101.756 443.503 Q95.9456 443.503 92.8669 438.92 Q89.8114 434.313 89.8114 425.586 Q89.8114 416.836 92.8669 412.253 Q95.9456 407.647 101.756 407.647 Z\" fill=\"#000000\" fill-rule=\"nonzero\" fill-opacity=\"1\" /><path clip-path=\"url(#clip120)\" d=\"M121.918 436.952 L126.802 436.952 L126.802 442.832 L121.918 442.832 L121.918 436.952 Z\" fill=\"#000000\" fill-rule=\"nonzero\" fill-opacity=\"1\" /><path clip-path=\"url(#clip120)\" d=\"M137.033 408.272 L155.39 408.272 L155.39 412.207 L141.316 412.207 L141.316 420.679 Q142.334 420.332 143.353 420.17 Q144.371 419.985 145.39 419.985 Q151.177 419.985 154.556 423.156 Q157.936 426.327 157.936 431.744 Q157.936 437.322 154.464 440.424 Q150.992 443.503 144.672 443.503 Q142.496 443.503 140.228 443.133 Q137.982 442.762 135.575 442.022 L135.575 437.322 Q137.658 438.457 139.881 439.012 Q142.103 439.568 144.58 439.568 Q148.584 439.568 150.922 437.461 Q153.26 435.355 153.26 431.744 Q153.26 428.133 150.922 426.026 Q148.584 423.92 144.58 423.92 Q142.705 423.92 140.83 424.336 Q138.978 424.753 137.033 425.633 L137.033 408.272 Z\" fill=\"#000000\" fill-rule=\"nonzero\" fill-opacity=\"1\" /><path clip-path=\"url(#clip120)\" d=\"M91.5706 101.321 L99.2095 101.321 L99.2095 74.9555 L90.8993 76.6222 L90.8993 72.3629 L99.1632 70.6963 L103.839 70.6963 L103.839 101.321 L111.478 101.321 L111.478 105.256 L91.5706 105.256 L91.5706 101.321 Z\" fill=\"#000000\" fill-rule=\"nonzero\" fill-opacity=\"1\" /><path clip-path=\"url(#clip120)\" d=\"M120.922 99.3767 L125.807 99.3767 L125.807 105.256 L120.922 105.256 L120.922 99.3767 Z\" fill=\"#000000\" fill-rule=\"nonzero\" fill-opacity=\"1\" /><path clip-path=\"url(#clip120)\" d=\"M145.992 73.775 Q142.381 73.775 140.552 77.3398 Q138.746 80.8814 138.746 88.011 Q138.746 95.1174 140.552 98.6822 Q142.381 102.224 145.992 102.224 Q149.626 102.224 151.431 98.6822 Q153.26 95.1174 153.26 88.011 Q153.26 80.8814 151.431 77.3398 Q149.626 73.775 145.992 73.775 M145.992 70.0713 Q151.802 70.0713 154.857 74.6777 Q157.936 79.261 157.936 88.011 Q157.936 96.7378 154.857 101.344 Q151.802 105.928 145.992 105.928 Q140.181 105.928 137.103 101.344 Q134.047 96.7378 134.047 88.011 Q134.047 79.261 137.103 74.6777 Q140.181 70.0713 145.992 70.0713 Z\" fill=\"#000000\" fill-rule=\"nonzero\" fill-opacity=\"1\" /><circle clip-path=\"url(#clip122)\" cx=\"255.035\" cy=\"762.983\" r=\"14.4\" fill=\"#009af9\" fill-rule=\"evenodd\" fill-opacity=\"1\" stroke=\"#000000\" stroke-opacity=\"1\" stroke-width=\"3.2\"/>\n",
       "<circle clip-path=\"url(#clip122)\" cx=\"275.817\" cy=\"763.823\" r=\"14.4\" fill=\"#009af9\" fill-rule=\"evenodd\" fill-opacity=\"1\" stroke=\"#000000\" stroke-opacity=\"1\" stroke-width=\"3.2\"/>\n",
       "<circle clip-path=\"url(#clip122)\" cx=\"296.598\" cy=\"763.224\" r=\"14.4\" fill=\"#009af9\" fill-rule=\"evenodd\" fill-opacity=\"1\" stroke=\"#000000\" stroke-opacity=\"1\" stroke-width=\"3.2\"/>\n",
       "<circle clip-path=\"url(#clip122)\" cx=\"317.38\" cy=\"758.28\" r=\"14.4\" fill=\"#009af9\" fill-rule=\"evenodd\" fill-opacity=\"1\" stroke=\"#000000\" stroke-opacity=\"1\" stroke-width=\"3.2\"/>\n",
       "<circle clip-path=\"url(#clip122)\" cx=\"338.162\" cy=\"764.489\" r=\"14.4\" fill=\"#009af9\" fill-rule=\"evenodd\" fill-opacity=\"1\" stroke=\"#000000\" stroke-opacity=\"1\" stroke-width=\"3.2\"/>\n",
       "<circle clip-path=\"url(#clip122)\" cx=\"358.944\" cy=\"778.258\" r=\"14.4\" fill=\"#009af9\" fill-rule=\"evenodd\" fill-opacity=\"1\" stroke=\"#000000\" stroke-opacity=\"1\" stroke-width=\"3.2\"/>\n",
       "<circle clip-path=\"url(#clip122)\" cx=\"379.726\" cy=\"775.141\" r=\"14.4\" fill=\"#009af9\" fill-rule=\"evenodd\" fill-opacity=\"1\" stroke=\"#000000\" stroke-opacity=\"1\" stroke-width=\"3.2\"/>\n",
       "<circle clip-path=\"url(#clip122)\" cx=\"400.508\" cy=\"750.188\" r=\"14.4\" fill=\"#009af9\" fill-rule=\"evenodd\" fill-opacity=\"1\" stroke=\"#000000\" stroke-opacity=\"1\" stroke-width=\"3.2\"/>\n",
       "<circle clip-path=\"url(#clip122)\" cx=\"421.29\" cy=\"720.458\" r=\"14.4\" fill=\"#009af9\" fill-rule=\"evenodd\" fill-opacity=\"1\" stroke=\"#000000\" stroke-opacity=\"1\" stroke-width=\"3.2\"/>\n",
       "<circle clip-path=\"url(#clip122)\" cx=\"442.071\" cy=\"701.45\" r=\"14.4\" fill=\"#009af9\" fill-rule=\"evenodd\" fill-opacity=\"1\" stroke=\"#000000\" stroke-opacity=\"1\" stroke-width=\"3.2\"/>\n",
       "<circle clip-path=\"url(#clip122)\" cx=\"462.853\" cy=\"695.902\" r=\"14.4\" fill=\"#009af9\" fill-rule=\"evenodd\" fill-opacity=\"1\" stroke=\"#000000\" stroke-opacity=\"1\" stroke-width=\"3.2\"/>\n",
       "<circle clip-path=\"url(#clip122)\" cx=\"483.635\" cy=\"697.486\" r=\"14.4\" fill=\"#009af9\" fill-rule=\"evenodd\" fill-opacity=\"1\" stroke=\"#000000\" stroke-opacity=\"1\" stroke-width=\"3.2\"/>\n",
       "<circle clip-path=\"url(#clip122)\" cx=\"504.417\" cy=\"697.141\" r=\"14.4\" fill=\"#009af9\" fill-rule=\"evenodd\" fill-opacity=\"1\" stroke=\"#000000\" stroke-opacity=\"1\" stroke-width=\"3.2\"/>\n",
       "<circle clip-path=\"url(#clip122)\" cx=\"525.199\" cy=\"686.346\" r=\"14.4\" fill=\"#009af9\" fill-rule=\"evenodd\" fill-opacity=\"1\" stroke=\"#000000\" stroke-opacity=\"1\" stroke-width=\"3.2\"/>\n",
       "<circle clip-path=\"url(#clip122)\" cx=\"545.981\" cy=\"658.457\" r=\"14.4\" fill=\"#009af9\" fill-rule=\"evenodd\" fill-opacity=\"1\" stroke=\"#000000\" stroke-opacity=\"1\" stroke-width=\"3.2\"/>\n",
       "<circle clip-path=\"url(#clip122)\" cx=\"566.763\" cy=\"611.123\" r=\"14.4\" fill=\"#009af9\" fill-rule=\"evenodd\" fill-opacity=\"1\" stroke=\"#000000\" stroke-opacity=\"1\" stroke-width=\"3.2\"/>\n",
       "<circle clip-path=\"url(#clip122)\" cx=\"587.544\" cy=\"551.641\" r=\"14.4\" fill=\"#009af9\" fill-rule=\"evenodd\" fill-opacity=\"1\" stroke=\"#000000\" stroke-opacity=\"1\" stroke-width=\"3.2\"/>\n",
       "<circle clip-path=\"url(#clip122)\" cx=\"608.326\" cy=\"503.862\" r=\"14.4\" fill=\"#009af9\" fill-rule=\"evenodd\" fill-opacity=\"1\" stroke=\"#000000\" stroke-opacity=\"1\" stroke-width=\"3.2\"/>\n",
       "<circle clip-path=\"url(#clip122)\" cx=\"629.108\" cy=\"509.718\" r=\"14.4\" fill=\"#009af9\" fill-rule=\"evenodd\" fill-opacity=\"1\" stroke=\"#000000\" stroke-opacity=\"1\" stroke-width=\"3.2\"/>\n",
       "<circle clip-path=\"url(#clip122)\" cx=\"649.89\" cy=\"613.633\" r=\"14.4\" fill=\"#009af9\" fill-rule=\"evenodd\" fill-opacity=\"1\" stroke=\"#000000\" stroke-opacity=\"1\" stroke-width=\"3.2\"/>\n",
       "<circle clip-path=\"url(#clip122)\" cx=\"670.672\" cy=\"822.85\" r=\"14.4\" fill=\"#009af9\" fill-rule=\"evenodd\" fill-opacity=\"1\" stroke=\"#000000\" stroke-opacity=\"1\" stroke-width=\"3.2\"/>\n",
       "<circle clip-path=\"url(#clip122)\" cx=\"691.454\" cy=\"1061.02\" r=\"14.4\" fill=\"#009af9\" fill-rule=\"evenodd\" fill-opacity=\"1\" stroke=\"#000000\" stroke-opacity=\"1\" stroke-width=\"3.2\"/>\n",
       "<circle clip-path=\"url(#clip122)\" cx=\"712.236\" cy=\"1167.76\" r=\"14.4\" fill=\"#009af9\" fill-rule=\"evenodd\" fill-opacity=\"1\" stroke=\"#000000\" stroke-opacity=\"1\" stroke-width=\"3.2\"/>\n",
       "<circle clip-path=\"url(#clip122)\" cx=\"733.018\" cy=\"999.558\" r=\"14.4\" fill=\"#009af9\" fill-rule=\"evenodd\" fill-opacity=\"1\" stroke=\"#000000\" stroke-opacity=\"1\" stroke-width=\"3.2\"/>\n",
       "<circle clip-path=\"url(#clip122)\" cx=\"753.799\" cy=\"602.673\" r=\"14.4\" fill=\"#009af9\" fill-rule=\"evenodd\" fill-opacity=\"1\" stroke=\"#000000\" stroke-opacity=\"1\" stroke-width=\"3.2\"/>\n",
       "<circle clip-path=\"url(#clip122)\" cx=\"774.581\" cy=\"286.324\" r=\"14.4\" fill=\"#009af9\" fill-rule=\"evenodd\" fill-opacity=\"1\" stroke=\"#000000\" stroke-opacity=\"1\" stroke-width=\"3.2\"/>\n",
       "<circle clip-path=\"url(#clip122)\" cx=\"795.363\" cy=\"403.701\" r=\"14.4\" fill=\"#009af9\" fill-rule=\"evenodd\" fill-opacity=\"1\" stroke=\"#000000\" stroke-opacity=\"1\" stroke-width=\"3.2\"/>\n",
       "<circle clip-path=\"url(#clip122)\" cx=\"816.145\" cy=\"929.418\" r=\"14.4\" fill=\"#009af9\" fill-rule=\"evenodd\" fill-opacity=\"1\" stroke=\"#000000\" stroke-opacity=\"1\" stroke-width=\"3.2\"/>\n",
       "<circle clip-path=\"url(#clip122)\" cx=\"836.927\" cy=\"1320.15\" r=\"14.4\" fill=\"#009af9\" fill-rule=\"evenodd\" fill-opacity=\"1\" stroke=\"#000000\" stroke-opacity=\"1\" stroke-width=\"3.2\"/>\n",
       "<circle clip-path=\"url(#clip122)\" cx=\"857.709\" cy=\"1051.76\" r=\"14.4\" fill=\"#009af9\" fill-rule=\"evenodd\" fill-opacity=\"1\" stroke=\"#000000\" stroke-opacity=\"1\" stroke-width=\"3.2\"/>\n",
       "<circle clip-path=\"url(#clip122)\" cx=\"878.491\" cy=\"375.695\" r=\"14.4\" fill=\"#009af9\" fill-rule=\"evenodd\" fill-opacity=\"1\" stroke=\"#000000\" stroke-opacity=\"1\" stroke-width=\"3.2\"/>\n",
       "<circle clip-path=\"url(#clip122)\" cx=\"899.272\" cy=\"190.191\" r=\"14.4\" fill=\"#009af9\" fill-rule=\"evenodd\" fill-opacity=\"1\" stroke=\"#000000\" stroke-opacity=\"1\" stroke-width=\"3.2\"/>\n",
       "<circle clip-path=\"url(#clip122)\" cx=\"920.054\" cy=\"834.812\" r=\"14.4\" fill=\"#009af9\" fill-rule=\"evenodd\" fill-opacity=\"1\" stroke=\"#000000\" stroke-opacity=\"1\" stroke-width=\"3.2\"/>\n",
       "<circle clip-path=\"url(#clip122)\" cx=\"940.836\" cy=\"1407.26\" r=\"14.4\" fill=\"#009af9\" fill-rule=\"evenodd\" fill-opacity=\"1\" stroke=\"#000000\" stroke-opacity=\"1\" stroke-width=\"3.2\"/>\n",
       "<circle clip-path=\"url(#clip122)\" cx=\"961.618\" cy=\"978.698\" r=\"14.4\" fill=\"#009af9\" fill-rule=\"evenodd\" fill-opacity=\"1\" stroke=\"#000000\" stroke-opacity=\"1\" stroke-width=\"3.2\"/>\n",
       "<circle clip-path=\"url(#clip122)\" cx=\"982.4\" cy=\"173.987\" r=\"14.4\" fill=\"#009af9\" fill-rule=\"evenodd\" fill-opacity=\"1\" stroke=\"#000000\" stroke-opacity=\"1\" stroke-width=\"3.2\"/>\n",
       "<circle clip-path=\"url(#clip122)\" cx=\"1003.18\" cy=\"350.53\" r=\"14.4\" fill=\"#009af9\" fill-rule=\"evenodd\" fill-opacity=\"1\" stroke=\"#000000\" stroke-opacity=\"1\" stroke-width=\"3.2\"/>\n",
       "<circle clip-path=\"url(#clip122)\" cx=\"1023.96\" cy=\"1262.5\" r=\"14.4\" fill=\"#009af9\" fill-rule=\"evenodd\" fill-opacity=\"1\" stroke=\"#000000\" stroke-opacity=\"1\" stroke-width=\"3.2\"/>\n",
       "<circle clip-path=\"url(#clip122)\" cx=\"1044.75\" cy=\"1287.57\" r=\"14.4\" fill=\"#009af9\" fill-rule=\"evenodd\" fill-opacity=\"1\" stroke=\"#000000\" stroke-opacity=\"1\" stroke-width=\"3.2\"/>\n",
       "<circle clip-path=\"url(#clip122)\" cx=\"1065.53\" cy=\"332.52\" r=\"14.4\" fill=\"#009af9\" fill-rule=\"evenodd\" fill-opacity=\"1\" stroke=\"#000000\" stroke-opacity=\"1\" stroke-width=\"3.2\"/>\n",
       "<circle clip-path=\"url(#clip122)\" cx=\"1086.31\" cy=\"188.999\" r=\"14.4\" fill=\"#009af9\" fill-rule=\"evenodd\" fill-opacity=\"1\" stroke=\"#000000\" stroke-opacity=\"1\" stroke-width=\"3.2\"/>\n",
       "<circle clip-path=\"url(#clip122)\" cx=\"1107.09\" cy=\"1169.82\" r=\"14.4\" fill=\"#009af9\" fill-rule=\"evenodd\" fill-opacity=\"1\" stroke=\"#000000\" stroke-opacity=\"1\" stroke-width=\"3.2\"/>\n",
       "<circle clip-path=\"url(#clip122)\" cx=\"1127.87\" cy=\"1341.38\" r=\"14.4\" fill=\"#009af9\" fill-rule=\"evenodd\" fill-opacity=\"1\" stroke=\"#000000\" stroke-opacity=\"1\" stroke-width=\"3.2\"/>\n",
       "<circle clip-path=\"url(#clip122)\" cx=\"1148.65\" cy=\"331.547\" r=\"14.4\" fill=\"#009af9\" fill-rule=\"evenodd\" fill-opacity=\"1\" stroke=\"#000000\" stroke-opacity=\"1\" stroke-width=\"3.2\"/>\n",
       "<circle clip-path=\"url(#clip122)\" cx=\"1169.44\" cy=\"222.52\" r=\"14.4\" fill=\"#009af9\" fill-rule=\"evenodd\" fill-opacity=\"1\" stroke=\"#000000\" stroke-opacity=\"1\" stroke-width=\"3.2\"/>\n",
       "<circle clip-path=\"url(#clip122)\" cx=\"1190.22\" cy=\"1259.56\" r=\"14.4\" fill=\"#009af9\" fill-rule=\"evenodd\" fill-opacity=\"1\" stroke=\"#000000\" stroke-opacity=\"1\" stroke-width=\"3.2\"/>\n",
       "<circle clip-path=\"url(#clip122)\" cx=\"1211\" cy=\"1217.92\" r=\"14.4\" fill=\"#009af9\" fill-rule=\"evenodd\" fill-opacity=\"1\" stroke=\"#000000\" stroke-opacity=\"1\" stroke-width=\"3.2\"/>\n",
       "<circle clip-path=\"url(#clip122)\" cx=\"1231.78\" cy=\"181.872\" r=\"14.4\" fill=\"#009af9\" fill-rule=\"evenodd\" fill-opacity=\"1\" stroke=\"#000000\" stroke-opacity=\"1\" stroke-width=\"3.2\"/>\n",
       "<circle clip-path=\"url(#clip122)\" cx=\"1252.56\" cy=\"451.792\" r=\"14.4\" fill=\"#009af9\" fill-rule=\"evenodd\" fill-opacity=\"1\" stroke=\"#000000\" stroke-opacity=\"1\" stroke-width=\"3.2\"/>\n",
       "<circle clip-path=\"url(#clip122)\" cx=\"1273.35\" cy=\"1417.6\" r=\"14.4\" fill=\"#009af9\" fill-rule=\"evenodd\" fill-opacity=\"1\" stroke=\"#000000\" stroke-opacity=\"1\" stroke-width=\"3.2\"/>\n",
       "<circle clip-path=\"url(#clip122)\" cx=\"1294.13\" cy=\"871.082\" r=\"14.4\" fill=\"#009af9\" fill-rule=\"evenodd\" fill-opacity=\"1\" stroke=\"#000000\" stroke-opacity=\"1\" stroke-width=\"3.2\"/>\n",
       "<circle clip-path=\"url(#clip122)\" cx=\"1314.91\" cy=\"87.9763\" r=\"14.4\" fill=\"#009af9\" fill-rule=\"evenodd\" fill-opacity=\"1\" stroke=\"#000000\" stroke-opacity=\"1\" stroke-width=\"3.2\"/>\n",
       "<circle clip-path=\"url(#clip122)\" cx=\"1335.69\" cy=\"902.16\" r=\"14.4\" fill=\"#009af9\" fill-rule=\"evenodd\" fill-opacity=\"1\" stroke=\"#000000\" stroke-opacity=\"1\" stroke-width=\"3.2\"/>\n",
       "<circle clip-path=\"url(#clip122)\" cx=\"1356.47\" cy=\"1365.14\" r=\"14.4\" fill=\"#009af9\" fill-rule=\"evenodd\" fill-opacity=\"1\" stroke=\"#000000\" stroke-opacity=\"1\" stroke-width=\"3.2\"/>\n",
       "<circle clip-path=\"url(#clip122)\" cx=\"1377.26\" cy=\"376.661\" r=\"14.4\" fill=\"#009af9\" fill-rule=\"evenodd\" fill-opacity=\"1\" stroke=\"#000000\" stroke-opacity=\"1\" stroke-width=\"3.2\"/>\n",
       "<circle clip-path=\"url(#clip122)\" cx=\"1398.04\" cy=\"352.409\" r=\"14.4\" fill=\"#009af9\" fill-rule=\"evenodd\" fill-opacity=\"1\" stroke=\"#000000\" stroke-opacity=\"1\" stroke-width=\"3.2\"/>\n",
       "<circle clip-path=\"url(#clip122)\" cx=\"1418.82\" cy=\"1329.44\" r=\"14.4\" fill=\"#009af9\" fill-rule=\"evenodd\" fill-opacity=\"1\" stroke=\"#000000\" stroke-opacity=\"1\" stroke-width=\"3.2\"/>\n",
       "<circle clip-path=\"url(#clip122)\" cx=\"1439.6\" cy=\"878.469\" r=\"14.4\" fill=\"#009af9\" fill-rule=\"evenodd\" fill-opacity=\"1\" stroke=\"#000000\" stroke-opacity=\"1\" stroke-width=\"3.2\"/>\n",
       "<circle clip-path=\"url(#clip122)\" cx=\"1460.38\" cy=\"158.684\" r=\"14.4\" fill=\"#009af9\" fill-rule=\"evenodd\" fill-opacity=\"1\" stroke=\"#000000\" stroke-opacity=\"1\" stroke-width=\"3.2\"/>\n",
       "<circle clip-path=\"url(#clip122)\" cx=\"1481.16\" cy=\"980.342\" r=\"14.4\" fill=\"#009af9\" fill-rule=\"evenodd\" fill-opacity=\"1\" stroke=\"#000000\" stroke-opacity=\"1\" stroke-width=\"3.2\"/>\n",
       "<circle clip-path=\"url(#clip122)\" cx=\"1501.95\" cy=\"1219.33\" r=\"14.4\" fill=\"#009af9\" fill-rule=\"evenodd\" fill-opacity=\"1\" stroke=\"#000000\" stroke-opacity=\"1\" stroke-width=\"3.2\"/>\n",
       "<circle clip-path=\"url(#clip122)\" cx=\"1522.73\" cy=\"287.626\" r=\"14.4\" fill=\"#009af9\" fill-rule=\"evenodd\" fill-opacity=\"1\" stroke=\"#000000\" stroke-opacity=\"1\" stroke-width=\"3.2\"/>\n",
       "<circle clip-path=\"url(#clip122)\" cx=\"1543.51\" cy=\"617.138\" r=\"14.4\" fill=\"#009af9\" fill-rule=\"evenodd\" fill-opacity=\"1\" stroke=\"#000000\" stroke-opacity=\"1\" stroke-width=\"3.2\"/>\n",
       "<circle clip-path=\"url(#clip122)\" cx=\"1564.29\" cy=\"1307.93\" r=\"14.4\" fill=\"#009af9\" fill-rule=\"evenodd\" fill-opacity=\"1\" stroke=\"#000000\" stroke-opacity=\"1\" stroke-width=\"3.2\"/>\n",
       "<circle clip-path=\"url(#clip122)\" cx=\"1585.07\" cy=\"547.976\" r=\"14.4\" fill=\"#009af9\" fill-rule=\"evenodd\" fill-opacity=\"1\" stroke=\"#000000\" stroke-opacity=\"1\" stroke-width=\"3.2\"/>\n",
       "<circle clip-path=\"url(#clip122)\" cx=\"1605.86\" cy=\"390.075\" r=\"14.4\" fill=\"#009af9\" fill-rule=\"evenodd\" fill-opacity=\"1\" stroke=\"#000000\" stroke-opacity=\"1\" stroke-width=\"3.2\"/>\n",
       "<circle clip-path=\"url(#clip122)\" cx=\"1626.64\" cy=\"1224.03\" r=\"14.4\" fill=\"#009af9\" fill-rule=\"evenodd\" fill-opacity=\"1\" stroke=\"#000000\" stroke-opacity=\"1\" stroke-width=\"3.2\"/>\n",
       "<circle clip-path=\"url(#clip122)\" cx=\"1647.42\" cy=\"789.637\" r=\"14.4\" fill=\"#009af9\" fill-rule=\"evenodd\" fill-opacity=\"1\" stroke=\"#000000\" stroke-opacity=\"1\" stroke-width=\"3.2\"/>\n",
       "<circle clip-path=\"url(#clip122)\" cx=\"1668.2\" cy=\"308.618\" r=\"14.4\" fill=\"#009af9\" fill-rule=\"evenodd\" fill-opacity=\"1\" stroke=\"#000000\" stroke-opacity=\"1\" stroke-width=\"3.2\"/>\n",
       "<circle clip-path=\"url(#clip122)\" cx=\"1688.98\" cy=\"1076.81\" r=\"14.4\" fill=\"#009af9\" fill-rule=\"evenodd\" fill-opacity=\"1\" stroke=\"#000000\" stroke-opacity=\"1\" stroke-width=\"3.2\"/>\n",
       "<circle clip-path=\"url(#clip122)\" cx=\"1709.77\" cy=\"951.49\" r=\"14.4\" fill=\"#009af9\" fill-rule=\"evenodd\" fill-opacity=\"1\" stroke=\"#000000\" stroke-opacity=\"1\" stroke-width=\"3.2\"/>\n",
       "<circle clip-path=\"url(#clip122)\" cx=\"1730.55\" cy=\"321.263\" r=\"14.4\" fill=\"#009af9\" fill-rule=\"evenodd\" fill-opacity=\"1\" stroke=\"#000000\" stroke-opacity=\"1\" stroke-width=\"3.2\"/>\n",
       "<circle clip-path=\"url(#clip122)\" cx=\"1751.33\" cy=\"939.275\" r=\"14.4\" fill=\"#009af9\" fill-rule=\"evenodd\" fill-opacity=\"1\" stroke=\"#000000\" stroke-opacity=\"1\" stroke-width=\"3.2\"/>\n",
       "<circle clip-path=\"url(#clip122)\" cx=\"1772.11\" cy=\"1033.25\" r=\"14.4\" fill=\"#009af9\" fill-rule=\"evenodd\" fill-opacity=\"1\" stroke=\"#000000\" stroke-opacity=\"1\" stroke-width=\"3.2\"/>\n",
       "<circle clip-path=\"url(#clip122)\" cx=\"1792.89\" cy=\"373.407\" r=\"14.4\" fill=\"#009af9\" fill-rule=\"evenodd\" fill-opacity=\"1\" stroke=\"#000000\" stroke-opacity=\"1\" stroke-width=\"3.2\"/>\n",
       "<circle clip-path=\"url(#clip122)\" cx=\"1813.67\" cy=\"842.183\" r=\"14.4\" fill=\"#009af9\" fill-rule=\"evenodd\" fill-opacity=\"1\" stroke=\"#000000\" stroke-opacity=\"1\" stroke-width=\"3.2\"/>\n",
       "<circle clip-path=\"url(#clip122)\" cx=\"1834.46\" cy=\"1057.85\" r=\"14.4\" fill=\"#009af9\" fill-rule=\"evenodd\" fill-opacity=\"1\" stroke=\"#000000\" stroke-opacity=\"1\" stroke-width=\"3.2\"/>\n",
       "<circle clip-path=\"url(#clip122)\" cx=\"1855.24\" cy=\"429.219\" r=\"14.4\" fill=\"#009af9\" fill-rule=\"evenodd\" fill-opacity=\"1\" stroke=\"#000000\" stroke-opacity=\"1\" stroke-width=\"3.2\"/>\n",
       "<circle clip-path=\"url(#clip122)\" cx=\"1876.02\" cy=\"789.771\" r=\"14.4\" fill=\"#009af9\" fill-rule=\"evenodd\" fill-opacity=\"1\" stroke=\"#000000\" stroke-opacity=\"1\" stroke-width=\"3.2\"/>\n",
       "<circle clip-path=\"url(#clip122)\" cx=\"1896.8\" cy=\"1048.45\" r=\"14.4\" fill=\"#009af9\" fill-rule=\"evenodd\" fill-opacity=\"1\" stroke=\"#000000\" stroke-opacity=\"1\" stroke-width=\"3.2\"/>\n",
       "<circle clip-path=\"url(#clip122)\" cx=\"1917.58\" cy=\"472.37\" r=\"14.4\" fill=\"#009af9\" fill-rule=\"evenodd\" fill-opacity=\"1\" stroke=\"#000000\" stroke-opacity=\"1\" stroke-width=\"3.2\"/>\n",
       "<circle clip-path=\"url(#clip122)\" cx=\"1938.37\" cy=\"775.155\" r=\"14.4\" fill=\"#009af9\" fill-rule=\"evenodd\" fill-opacity=\"1\" stroke=\"#000000\" stroke-opacity=\"1\" stroke-width=\"3.2\"/>\n",
       "<circle clip-path=\"url(#clip122)\" cx=\"1959.15\" cy=\"1019.96\" r=\"14.4\" fill=\"#009af9\" fill-rule=\"evenodd\" fill-opacity=\"1\" stroke=\"#000000\" stroke-opacity=\"1\" stroke-width=\"3.2\"/>\n",
       "<circle clip-path=\"url(#clip122)\" cx=\"1979.93\" cy=\"500.089\" r=\"14.4\" fill=\"#009af9\" fill-rule=\"evenodd\" fill-opacity=\"1\" stroke=\"#000000\" stroke-opacity=\"1\" stroke-width=\"3.2\"/>\n",
       "<circle clip-path=\"url(#clip122)\" cx=\"2000.71\" cy=\"788.998\" r=\"14.4\" fill=\"#009af9\" fill-rule=\"evenodd\" fill-opacity=\"1\" stroke=\"#000000\" stroke-opacity=\"1\" stroke-width=\"3.2\"/>\n",
       "<circle clip-path=\"url(#clip122)\" cx=\"2021.49\" cy=\"978.647\" r=\"14.4\" fill=\"#009af9\" fill-rule=\"evenodd\" fill-opacity=\"1\" stroke=\"#000000\" stroke-opacity=\"1\" stroke-width=\"3.2\"/>\n",
       "<circle clip-path=\"url(#clip122)\" cx=\"2042.27\" cy=\"517.643\" r=\"14.4\" fill=\"#009af9\" fill-rule=\"evenodd\" fill-opacity=\"1\" stroke=\"#000000\" stroke-opacity=\"1\" stroke-width=\"3.2\"/>\n",
       "<circle clip-path=\"url(#clip122)\" cx=\"2063.06\" cy=\"822.128\" r=\"14.4\" fill=\"#009af9\" fill-rule=\"evenodd\" fill-opacity=\"1\" stroke=\"#000000\" stroke-opacity=\"1\" stroke-width=\"3.2\"/>\n",
       "<circle clip-path=\"url(#clip122)\" cx=\"2083.84\" cy=\"925.152\" r=\"14.4\" fill=\"#009af9\" fill-rule=\"evenodd\" fill-opacity=\"1\" stroke=\"#000000\" stroke-opacity=\"1\" stroke-width=\"3.2\"/>\n",
       "<circle clip-path=\"url(#clip122)\" cx=\"2104.62\" cy=\"534.837\" r=\"14.4\" fill=\"#009af9\" fill-rule=\"evenodd\" fill-opacity=\"1\" stroke=\"#000000\" stroke-opacity=\"1\" stroke-width=\"3.2\"/>\n",
       "<circle clip-path=\"url(#clip122)\" cx=\"2125.4\" cy=\"864.585\" r=\"14.4\" fill=\"#009af9\" fill-rule=\"evenodd\" fill-opacity=\"1\" stroke=\"#000000\" stroke-opacity=\"1\" stroke-width=\"3.2\"/>\n",
       "<circle clip-path=\"url(#clip122)\" cx=\"2146.18\" cy=\"858.77\" r=\"14.4\" fill=\"#009af9\" fill-rule=\"evenodd\" fill-opacity=\"1\" stroke=\"#000000\" stroke-opacity=\"1\" stroke-width=\"3.2\"/>\n",
       "<circle clip-path=\"url(#clip122)\" cx=\"2166.97\" cy=\"563.378\" r=\"14.4\" fill=\"#009af9\" fill-rule=\"evenodd\" fill-opacity=\"1\" stroke=\"#000000\" stroke-opacity=\"1\" stroke-width=\"3.2\"/>\n",
       "<circle clip-path=\"url(#clip122)\" cx=\"2187.75\" cy=\"903.605\" r=\"14.4\" fill=\"#009af9\" fill-rule=\"evenodd\" fill-opacity=\"1\" stroke=\"#000000\" stroke-opacity=\"1\" stroke-width=\"3.2\"/>\n",
       "<circle clip-path=\"url(#clip122)\" cx=\"2208.53\" cy=\"782.415\" r=\"14.4\" fill=\"#009af9\" fill-rule=\"evenodd\" fill-opacity=\"1\" stroke=\"#000000\" stroke-opacity=\"1\" stroke-width=\"3.2\"/>\n",
       "<circle clip-path=\"url(#clip122)\" cx=\"2229.31\" cy=\"613.15\" r=\"14.4\" fill=\"#009af9\" fill-rule=\"evenodd\" fill-opacity=\"1\" stroke=\"#000000\" stroke-opacity=\"1\" stroke-width=\"3.2\"/>\n",
       "<circle clip-path=\"url(#clip122)\" cx=\"2250.09\" cy=\"923.221\" r=\"14.4\" fill=\"#009af9\" fill-rule=\"evenodd\" fill-opacity=\"1\" stroke=\"#000000\" stroke-opacity=\"1\" stroke-width=\"3.2\"/>\n",
       "<circle clip-path=\"url(#clip122)\" cx=\"2270.88\" cy=\"707.026\" r=\"14.4\" fill=\"#009af9\" fill-rule=\"evenodd\" fill-opacity=\"1\" stroke=\"#000000\" stroke-opacity=\"1\" stroke-width=\"3.2\"/>\n",
       "<circle clip-path=\"url(#clip122)\" cx=\"2291.66\" cy=\"686.305\" r=\"14.4\" fill=\"#009af9\" fill-rule=\"evenodd\" fill-opacity=\"1\" stroke=\"#000000\" stroke-opacity=\"1\" stroke-width=\"3.2\"/>\n",
       "<circle clip-path=\"url(#clip122)\" cx=\"255.035\" cy=\"762.318\" r=\"14.4\" fill=\"#e26f46\" fill-rule=\"evenodd\" fill-opacity=\"1\" stroke=\"#000000\" stroke-opacity=\"1\" stroke-width=\"3.2\"/>\n",
       "<circle clip-path=\"url(#clip122)\" cx=\"275.817\" cy=\"765.269\" r=\"14.4\" fill=\"#e26f46\" fill-rule=\"evenodd\" fill-opacity=\"1\" stroke=\"#000000\" stroke-opacity=\"1\" stroke-width=\"3.2\"/>\n",
       "<circle clip-path=\"url(#clip122)\" cx=\"296.598\" cy=\"764.798\" r=\"14.4\" fill=\"#e26f46\" fill-rule=\"evenodd\" fill-opacity=\"1\" stroke=\"#000000\" stroke-opacity=\"1\" stroke-width=\"3.2\"/>\n",
       "<circle clip-path=\"url(#clip122)\" cx=\"317.38\" cy=\"751.075\" r=\"14.4\" fill=\"#e26f46\" fill-rule=\"evenodd\" fill-opacity=\"1\" stroke=\"#000000\" stroke-opacity=\"1\" stroke-width=\"3.2\"/>\n",
       "<circle clip-path=\"url(#clip122)\" cx=\"338.162\" cy=\"743.633\" r=\"14.4\" fill=\"#e26f46\" fill-rule=\"evenodd\" fill-opacity=\"1\" stroke=\"#000000\" stroke-opacity=\"1\" stroke-width=\"3.2\"/>\n",
       "<circle clip-path=\"url(#clip122)\" cx=\"358.944\" cy=\"772.04\" r=\"14.4\" fill=\"#e26f46\" fill-rule=\"evenodd\" fill-opacity=\"1\" stroke=\"#000000\" stroke-opacity=\"1\" stroke-width=\"3.2\"/>\n",
       "<circle clip-path=\"url(#clip122)\" cx=\"379.726\" cy=\"792.995\" r=\"14.4\" fill=\"#e26f46\" fill-rule=\"evenodd\" fill-opacity=\"1\" stroke=\"#000000\" stroke-opacity=\"1\" stroke-width=\"3.2\"/>\n",
       "<circle clip-path=\"url(#clip122)\" cx=\"400.508\" cy=\"779.825\" r=\"14.4\" fill=\"#e26f46\" fill-rule=\"evenodd\" fill-opacity=\"1\" stroke=\"#000000\" stroke-opacity=\"1\" stroke-width=\"3.2\"/>\n",
       "<circle clip-path=\"url(#clip122)\" cx=\"421.29\" cy=\"743.632\" r=\"14.4\" fill=\"#e26f46\" fill-rule=\"evenodd\" fill-opacity=\"1\" stroke=\"#000000\" stroke-opacity=\"1\" stroke-width=\"3.2\"/>\n",
       "<circle clip-path=\"url(#clip122)\" cx=\"442.071\" cy=\"705.506\" r=\"14.4\" fill=\"#e26f46\" fill-rule=\"evenodd\" fill-opacity=\"1\" stroke=\"#000000\" stroke-opacity=\"1\" stroke-width=\"3.2\"/>\n",
       "<circle clip-path=\"url(#clip122)\" cx=\"462.853\" cy=\"677.086\" r=\"14.4\" fill=\"#e26f46\" fill-rule=\"evenodd\" fill-opacity=\"1\" stroke=\"#000000\" stroke-opacity=\"1\" stroke-width=\"3.2\"/>\n",
       "<circle clip-path=\"url(#clip122)\" cx=\"483.635\" cy=\"657.607\" r=\"14.4\" fill=\"#e26f46\" fill-rule=\"evenodd\" fill-opacity=\"1\" stroke=\"#000000\" stroke-opacity=\"1\" stroke-width=\"3.2\"/>\n",
       "<circle clip-path=\"url(#clip122)\" cx=\"504.417\" cy=\"641.173\" r=\"14.4\" fill=\"#e26f46\" fill-rule=\"evenodd\" fill-opacity=\"1\" stroke=\"#000000\" stroke-opacity=\"1\" stroke-width=\"3.2\"/>\n",
       "<circle clip-path=\"url(#clip122)\" cx=\"525.199\" cy=\"621.925\" r=\"14.4\" fill=\"#e26f46\" fill-rule=\"evenodd\" fill-opacity=\"1\" stroke=\"#000000\" stroke-opacity=\"1\" stroke-width=\"3.2\"/>\n",
       "<circle clip-path=\"url(#clip122)\" cx=\"545.981\" cy=\"597.874\" r=\"14.4\" fill=\"#e26f46\" fill-rule=\"evenodd\" fill-opacity=\"1\" stroke=\"#000000\" stroke-opacity=\"1\" stroke-width=\"3.2\"/>\n",
       "<circle clip-path=\"url(#clip122)\" cx=\"566.763\" cy=\"574.297\" r=\"14.4\" fill=\"#e26f46\" fill-rule=\"evenodd\" fill-opacity=\"1\" stroke=\"#000000\" stroke-opacity=\"1\" stroke-width=\"3.2\"/>\n",
       "<circle clip-path=\"url(#clip122)\" cx=\"587.544\" cy=\"566.424\" r=\"14.4\" fill=\"#e26f46\" fill-rule=\"evenodd\" fill-opacity=\"1\" stroke=\"#000000\" stroke-opacity=\"1\" stroke-width=\"3.2\"/>\n",
       "<circle clip-path=\"url(#clip122)\" cx=\"608.326\" cy=\"596.842\" r=\"14.4\" fill=\"#e26f46\" fill-rule=\"evenodd\" fill-opacity=\"1\" stroke=\"#000000\" stroke-opacity=\"1\" stroke-width=\"3.2\"/>\n",
       "<circle clip-path=\"url(#clip122)\" cx=\"629.108\" cy=\"689.511\" r=\"14.4\" fill=\"#e26f46\" fill-rule=\"evenodd\" fill-opacity=\"1\" stroke=\"#000000\" stroke-opacity=\"1\" stroke-width=\"3.2\"/>\n",
       "<circle clip-path=\"url(#clip122)\" cx=\"649.89\" cy=\"843.716\" r=\"14.4\" fill=\"#e26f46\" fill-rule=\"evenodd\" fill-opacity=\"1\" stroke=\"#000000\" stroke-opacity=\"1\" stroke-width=\"3.2\"/>\n",
       "<circle clip-path=\"url(#clip122)\" cx=\"670.672\" cy=\"1010.45\" r=\"14.4\" fill=\"#e26f46\" fill-rule=\"evenodd\" fill-opacity=\"1\" stroke=\"#000000\" stroke-opacity=\"1\" stroke-width=\"3.2\"/>\n",
       "<circle clip-path=\"url(#clip122)\" cx=\"691.454\" cy=\"1087.82\" r=\"14.4\" fill=\"#e26f46\" fill-rule=\"evenodd\" fill-opacity=\"1\" stroke=\"#000000\" stroke-opacity=\"1\" stroke-width=\"3.2\"/>\n",
       "<circle clip-path=\"url(#clip122)\" cx=\"712.236\" cy=\"976.091\" r=\"14.4\" fill=\"#e26f46\" fill-rule=\"evenodd\" fill-opacity=\"1\" stroke=\"#000000\" stroke-opacity=\"1\" stroke-width=\"3.2\"/>\n",
       "<circle clip-path=\"url(#clip122)\" cx=\"733.018\" cy=\"685.676\" r=\"14.4\" fill=\"#e26f46\" fill-rule=\"evenodd\" fill-opacity=\"1\" stroke=\"#000000\" stroke-opacity=\"1\" stroke-width=\"3.2\"/>\n",
       "<circle clip-path=\"url(#clip122)\" cx=\"753.799\" cy=\"406.095\" r=\"14.4\" fill=\"#e26f46\" fill-rule=\"evenodd\" fill-opacity=\"1\" stroke=\"#000000\" stroke-opacity=\"1\" stroke-width=\"3.2\"/>\n",
       "<circle clip-path=\"url(#clip122)\" cx=\"774.581\" cy=\"409.479\" r=\"14.4\" fill=\"#e26f46\" fill-rule=\"evenodd\" fill-opacity=\"1\" stroke=\"#000000\" stroke-opacity=\"1\" stroke-width=\"3.2\"/>\n",
       "<circle clip-path=\"url(#clip122)\" cx=\"795.363\" cy=\"769.113\" r=\"14.4\" fill=\"#e26f46\" fill-rule=\"evenodd\" fill-opacity=\"1\" stroke=\"#000000\" stroke-opacity=\"1\" stroke-width=\"3.2\"/>\n",
       "<circle clip-path=\"url(#clip122)\" cx=\"816.145\" cy=\"1167.74\" r=\"14.4\" fill=\"#e26f46\" fill-rule=\"evenodd\" fill-opacity=\"1\" stroke=\"#000000\" stroke-opacity=\"1\" stroke-width=\"3.2\"/>\n",
       "<circle clip-path=\"url(#clip122)\" cx=\"836.927\" cy=\"1136.26\" r=\"14.4\" fill=\"#e26f46\" fill-rule=\"evenodd\" fill-opacity=\"1\" stroke=\"#000000\" stroke-opacity=\"1\" stroke-width=\"3.2\"/>\n",
       "<circle clip-path=\"url(#clip122)\" cx=\"857.709\" cy=\"631.896\" r=\"14.4\" fill=\"#e26f46\" fill-rule=\"evenodd\" fill-opacity=\"1\" stroke=\"#000000\" stroke-opacity=\"1\" stroke-width=\"3.2\"/>\n",
       "<circle clip-path=\"url(#clip122)\" cx=\"878.491\" cy=\"257.169\" r=\"14.4\" fill=\"#e26f46\" fill-rule=\"evenodd\" fill-opacity=\"1\" stroke=\"#000000\" stroke-opacity=\"1\" stroke-width=\"3.2\"/>\n",
       "<circle clip-path=\"url(#clip122)\" cx=\"899.272\" cy=\"561.593\" r=\"14.4\" fill=\"#e26f46\" fill-rule=\"evenodd\" fill-opacity=\"1\" stroke=\"#000000\" stroke-opacity=\"1\" stroke-width=\"3.2\"/>\n",
       "<circle clip-path=\"url(#clip122)\" cx=\"920.054\" cy=\"1186.08\" r=\"14.4\" fill=\"#e26f46\" fill-rule=\"evenodd\" fill-opacity=\"1\" stroke=\"#000000\" stroke-opacity=\"1\" stroke-width=\"3.2\"/>\n",
       "<circle clip-path=\"url(#clip122)\" cx=\"940.836\" cy=\"1199.74\" r=\"14.4\" fill=\"#e26f46\" fill-rule=\"evenodd\" fill-opacity=\"1\" stroke=\"#000000\" stroke-opacity=\"1\" stroke-width=\"3.2\"/>\n",
       "<circle clip-path=\"url(#clip122)\" cx=\"961.618\" cy=\"513.267\" r=\"14.4\" fill=\"#e26f46\" fill-rule=\"evenodd\" fill-opacity=\"1\" stroke=\"#000000\" stroke-opacity=\"1\" stroke-width=\"3.2\"/>\n",
       "<circle clip-path=\"url(#clip122)\" cx=\"982.4\" cy=\"206.024\" r=\"14.4\" fill=\"#e26f46\" fill-rule=\"evenodd\" fill-opacity=\"1\" stroke=\"#000000\" stroke-opacity=\"1\" stroke-width=\"3.2\"/>\n",
       "<circle clip-path=\"url(#clip122)\" cx=\"1003.18\" cy=\"843.763\" r=\"14.4\" fill=\"#e26f46\" fill-rule=\"evenodd\" fill-opacity=\"1\" stroke=\"#000000\" stroke-opacity=\"1\" stroke-width=\"3.2\"/>\n",
       "<circle clip-path=\"url(#clip122)\" cx=\"1023.96\" cy=\"1366.31\" r=\"14.4\" fill=\"#e26f46\" fill-rule=\"evenodd\" fill-opacity=\"1\" stroke=\"#000000\" stroke-opacity=\"1\" stroke-width=\"3.2\"/>\n",
       "<circle clip-path=\"url(#clip122)\" cx=\"1044.75\" cy=\"807.98\" r=\"14.4\" fill=\"#e26f46\" fill-rule=\"evenodd\" fill-opacity=\"1\" stroke=\"#000000\" stroke-opacity=\"1\" stroke-width=\"3.2\"/>\n",
       "<circle clip-path=\"url(#clip122)\" cx=\"1065.53\" cy=\"145.714\" r=\"14.4\" fill=\"#e26f46\" fill-rule=\"evenodd\" fill-opacity=\"1\" stroke=\"#000000\" stroke-opacity=\"1\" stroke-width=\"3.2\"/>\n",
       "<circle clip-path=\"url(#clip122)\" cx=\"1086.31\" cy=\"651.745\" r=\"14.4\" fill=\"#e26f46\" fill-rule=\"evenodd\" fill-opacity=\"1\" stroke=\"#000000\" stroke-opacity=\"1\" stroke-width=\"3.2\"/>\n",
       "<circle clip-path=\"url(#clip122)\" cx=\"1107.09\" cy=\"1390.92\" r=\"14.4\" fill=\"#e26f46\" fill-rule=\"evenodd\" fill-opacity=\"1\" stroke=\"#000000\" stroke-opacity=\"1\" stroke-width=\"3.2\"/>\n",
       "<circle clip-path=\"url(#clip122)\" cx=\"1127.87\" cy=\"886.029\" r=\"14.4\" fill=\"#e26f46\" fill-rule=\"evenodd\" fill-opacity=\"1\" stroke=\"#000000\" stroke-opacity=\"1\" stroke-width=\"3.2\"/>\n",
       "<circle clip-path=\"url(#clip122)\" cx=\"1148.65\" cy=\"118.946\" r=\"14.4\" fill=\"#e26f46\" fill-rule=\"evenodd\" fill-opacity=\"1\" stroke=\"#000000\" stroke-opacity=\"1\" stroke-width=\"3.2\"/>\n",
       "<circle clip-path=\"url(#clip122)\" cx=\"1169.44\" cy=\"684.041\" r=\"14.4\" fill=\"#e26f46\" fill-rule=\"evenodd\" fill-opacity=\"1\" stroke=\"#000000\" stroke-opacity=\"1\" stroke-width=\"3.2\"/>\n",
       "<circle clip-path=\"url(#clip122)\" cx=\"1190.22\" cy=\"1427.45\" r=\"14.4\" fill=\"#e26f46\" fill-rule=\"evenodd\" fill-opacity=\"1\" stroke=\"#000000\" stroke-opacity=\"1\" stroke-width=\"3.2\"/>\n",
       "<circle clip-path=\"url(#clip122)\" cx=\"1211\" cy=\"747.405\" r=\"14.4\" fill=\"#e26f46\" fill-rule=\"evenodd\" fill-opacity=\"1\" stroke=\"#000000\" stroke-opacity=\"1\" stroke-width=\"3.2\"/>\n",
       "<circle clip-path=\"url(#clip122)\" cx=\"1231.78\" cy=\"95.3578\" r=\"14.4\" fill=\"#e26f46\" fill-rule=\"evenodd\" fill-opacity=\"1\" stroke=\"#000000\" stroke-opacity=\"1\" stroke-width=\"3.2\"/>\n",
       "<circle clip-path=\"url(#clip122)\" cx=\"1252.56\" cy=\"925.744\" r=\"14.4\" fill=\"#e26f46\" fill-rule=\"evenodd\" fill-opacity=\"1\" stroke=\"#000000\" stroke-opacity=\"1\" stroke-width=\"3.2\"/>\n",
       "<circle clip-path=\"url(#clip122)\" cx=\"1273.35\" cy=\"1395.98\" r=\"14.4\" fill=\"#e26f46\" fill-rule=\"evenodd\" fill-opacity=\"1\" stroke=\"#000000\" stroke-opacity=\"1\" stroke-width=\"3.2\"/>\n",
       "<circle clip-path=\"url(#clip122)\" cx=\"1294.13\" cy=\"421.487\" r=\"14.4\" fill=\"#e26f46\" fill-rule=\"evenodd\" fill-opacity=\"1\" stroke=\"#000000\" stroke-opacity=\"1\" stroke-width=\"3.2\"/>\n",
       "<circle clip-path=\"url(#clip122)\" cx=\"1314.91\" cy=\"233.567\" r=\"14.4\" fill=\"#e26f46\" fill-rule=\"evenodd\" fill-opacity=\"1\" stroke=\"#000000\" stroke-opacity=\"1\" stroke-width=\"3.2\"/>\n",
       "<circle clip-path=\"url(#clip122)\" cx=\"1335.69\" cy=\"1283.36\" r=\"14.4\" fill=\"#e26f46\" fill-rule=\"evenodd\" fill-opacity=\"1\" stroke=\"#000000\" stroke-opacity=\"1\" stroke-width=\"3.2\"/>\n",
       "<circle clip-path=\"url(#clip122)\" cx=\"1356.47\" cy=\"1103.91\" r=\"14.4\" fill=\"#e26f46\" fill-rule=\"evenodd\" fill-opacity=\"1\" stroke=\"#000000\" stroke-opacity=\"1\" stroke-width=\"3.2\"/>\n",
       "<circle clip-path=\"url(#clip122)\" cx=\"1377.26\" cy=\"108.147\" r=\"14.4\" fill=\"#e26f46\" fill-rule=\"evenodd\" fill-opacity=\"1\" stroke=\"#000000\" stroke-opacity=\"1\" stroke-width=\"3.2\"/>\n",
       "<circle clip-path=\"url(#clip122)\" cx=\"1398.04\" cy=\"698.478\" r=\"14.4\" fill=\"#e26f46\" fill-rule=\"evenodd\" fill-opacity=\"1\" stroke=\"#000000\" stroke-opacity=\"1\" stroke-width=\"3.2\"/>\n",
       "<circle clip-path=\"url(#clip122)\" cx=\"1418.82\" cy=\"1445.72\" r=\"14.4\" fill=\"#e26f46\" fill-rule=\"evenodd\" fill-opacity=\"1\" stroke=\"#000000\" stroke-opacity=\"1\" stroke-width=\"3.2\"/>\n",
       "<circle clip-path=\"url(#clip122)\" cx=\"1439.6\" cy=\"512.754\" r=\"14.4\" fill=\"#e26f46\" fill-rule=\"evenodd\" fill-opacity=\"1\" stroke=\"#000000\" stroke-opacity=\"1\" stroke-width=\"3.2\"/>\n",
       "<circle clip-path=\"url(#clip122)\" cx=\"1460.38\" cy=\"207.674\" r=\"14.4\" fill=\"#e26f46\" fill-rule=\"evenodd\" fill-opacity=\"1\" stroke=\"#000000\" stroke-opacity=\"1\" stroke-width=\"3.2\"/>\n",
       "<circle clip-path=\"url(#clip122)\" cx=\"1481.16\" cy=\"1295.08\" r=\"14.4\" fill=\"#e26f46\" fill-rule=\"evenodd\" fill-opacity=\"1\" stroke=\"#000000\" stroke-opacity=\"1\" stroke-width=\"3.2\"/>\n",
       "<circle clip-path=\"url(#clip122)\" cx=\"1501.95\" cy=\"1034.08\" r=\"14.4\" fill=\"#e26f46\" fill-rule=\"evenodd\" fill-opacity=\"1\" stroke=\"#000000\" stroke-opacity=\"1\" stroke-width=\"3.2\"/>\n",
       "<circle clip-path=\"url(#clip122)\" cx=\"1522.73\" cy=\"87.9763\" r=\"14.4\" fill=\"#e26f46\" fill-rule=\"evenodd\" fill-opacity=\"1\" stroke=\"#000000\" stroke-opacity=\"1\" stroke-width=\"3.2\"/>\n",
       "<circle clip-path=\"url(#clip122)\" cx=\"1543.51\" cy=\"877.58\" r=\"14.4\" fill=\"#e26f46\" fill-rule=\"evenodd\" fill-opacity=\"1\" stroke=\"#000000\" stroke-opacity=\"1\" stroke-width=\"3.2\"/>\n",
       "<circle clip-path=\"url(#clip122)\" cx=\"1564.29\" cy=\"1367.61\" r=\"14.4\" fill=\"#e26f46\" fill-rule=\"evenodd\" fill-opacity=\"1\" stroke=\"#000000\" stroke-opacity=\"1\" stroke-width=\"3.2\"/>\n",
       "<circle clip-path=\"url(#clip122)\" cx=\"1585.07\" cy=\"281.867\" r=\"14.4\" fill=\"#e26f46\" fill-rule=\"evenodd\" fill-opacity=\"1\" stroke=\"#000000\" stroke-opacity=\"1\" stroke-width=\"3.2\"/>\n",
       "<circle clip-path=\"url(#clip122)\" cx=\"1605.86\" cy=\"468.755\" r=\"14.4\" fill=\"#e26f46\" fill-rule=\"evenodd\" fill-opacity=\"1\" stroke=\"#000000\" stroke-opacity=\"1\" stroke-width=\"3.2\"/>\n",
       "<circle clip-path=\"url(#clip122)\" cx=\"1626.64\" cy=\"1430.68\" r=\"14.4\" fill=\"#e26f46\" fill-rule=\"evenodd\" fill-opacity=\"1\" stroke=\"#000000\" stroke-opacity=\"1\" stroke-width=\"3.2\"/>\n",
       "<circle clip-path=\"url(#clip122)\" cx=\"1647.42\" cy=\"617.363\" r=\"14.4\" fill=\"#e26f46\" fill-rule=\"evenodd\" fill-opacity=\"1\" stroke=\"#000000\" stroke-opacity=\"1\" stroke-width=\"3.2\"/>\n",
       "<circle clip-path=\"url(#clip122)\" cx=\"1668.2\" cy=\"202.643\" r=\"14.4\" fill=\"#e26f46\" fill-rule=\"evenodd\" fill-opacity=\"1\" stroke=\"#000000\" stroke-opacity=\"1\" stroke-width=\"3.2\"/>\n",
       "<circle clip-path=\"url(#clip122)\" cx=\"1688.98\" cy=\"1290.47\" r=\"14.4\" fill=\"#e26f46\" fill-rule=\"evenodd\" fill-opacity=\"1\" stroke=\"#000000\" stroke-opacity=\"1\" stroke-width=\"3.2\"/>\n",
       "<circle clip-path=\"url(#clip122)\" cx=\"1709.77\" cy=\"938.797\" r=\"14.4\" fill=\"#e26f46\" fill-rule=\"evenodd\" fill-opacity=\"1\" stroke=\"#000000\" stroke-opacity=\"1\" stroke-width=\"3.2\"/>\n",
       "<circle clip-path=\"url(#clip122)\" cx=\"1730.55\" cy=\"113.797\" r=\"14.4\" fill=\"#e26f46\" fill-rule=\"evenodd\" fill-opacity=\"1\" stroke=\"#000000\" stroke-opacity=\"1\" stroke-width=\"3.2\"/>\n",
       "<circle clip-path=\"url(#clip122)\" cx=\"1751.33\" cy=\"1065.44\" r=\"14.4\" fill=\"#e26f46\" fill-rule=\"evenodd\" fill-opacity=\"1\" stroke=\"#000000\" stroke-opacity=\"1\" stroke-width=\"3.2\"/>\n",
       "<circle clip-path=\"url(#clip122)\" cx=\"1772.11\" cy=\"1178.84\" r=\"14.4\" fill=\"#e26f46\" fill-rule=\"evenodd\" fill-opacity=\"1\" stroke=\"#000000\" stroke-opacity=\"1\" stroke-width=\"3.2\"/>\n",
       "<circle clip-path=\"url(#clip122)\" cx=\"1792.89\" cy=\"149.923\" r=\"14.4\" fill=\"#e26f46\" fill-rule=\"evenodd\" fill-opacity=\"1\" stroke=\"#000000\" stroke-opacity=\"1\" stroke-width=\"3.2\"/>\n",
       "<circle clip-path=\"url(#clip122)\" cx=\"1813.67\" cy=\"830.483\" r=\"14.4\" fill=\"#e26f46\" fill-rule=\"evenodd\" fill-opacity=\"1\" stroke=\"#000000\" stroke-opacity=\"1\" stroke-width=\"3.2\"/>\n",
       "<circle clip-path=\"url(#clip122)\" cx=\"1834.46\" cy=\"1307.74\" r=\"14.4\" fill=\"#e26f46\" fill-rule=\"evenodd\" fill-opacity=\"1\" stroke=\"#000000\" stroke-opacity=\"1\" stroke-width=\"3.2\"/>\n",
       "<circle clip-path=\"url(#clip122)\" cx=\"1855.24\" cy=\"251.745\" r=\"14.4\" fill=\"#e26f46\" fill-rule=\"evenodd\" fill-opacity=\"1\" stroke=\"#000000\" stroke-opacity=\"1\" stroke-width=\"3.2\"/>\n",
       "<circle clip-path=\"url(#clip122)\" cx=\"1876.02\" cy=\"644.24\" r=\"14.4\" fill=\"#e26f46\" fill-rule=\"evenodd\" fill-opacity=\"1\" stroke=\"#000000\" stroke-opacity=\"1\" stroke-width=\"3.2\"/>\n",
       "<circle clip-path=\"url(#clip122)\" cx=\"1896.8\" cy=\"1366.56\" r=\"14.4\" fill=\"#e26f46\" fill-rule=\"evenodd\" fill-opacity=\"1\" stroke=\"#000000\" stroke-opacity=\"1\" stroke-width=\"3.2\"/>\n",
       "<circle clip-path=\"url(#clip122)\" cx=\"1917.58\" cy=\"374.425\" r=\"14.4\" fill=\"#e26f46\" fill-rule=\"evenodd\" fill-opacity=\"1\" stroke=\"#000000\" stroke-opacity=\"1\" stroke-width=\"3.2\"/>\n",
       "<circle clip-path=\"url(#clip122)\" cx=\"1938.37\" cy=\"509.458\" r=\"14.4\" fill=\"#e26f46\" fill-rule=\"evenodd\" fill-opacity=\"1\" stroke=\"#000000\" stroke-opacity=\"1\" stroke-width=\"3.2\"/>\n",
       "<circle clip-path=\"url(#clip122)\" cx=\"1959.15\" cy=\"1366.34\" r=\"14.4\" fill=\"#e26f46\" fill-rule=\"evenodd\" fill-opacity=\"1\" stroke=\"#000000\" stroke-opacity=\"1\" stroke-width=\"3.2\"/>\n",
       "<circle clip-path=\"url(#clip122)\" cx=\"1979.93\" cy=\"480.237\" r=\"14.4\" fill=\"#e26f46\" fill-rule=\"evenodd\" fill-opacity=\"1\" stroke=\"#000000\" stroke-opacity=\"1\" stroke-width=\"3.2\"/>\n",
       "<circle clip-path=\"url(#clip122)\" cx=\"2000.71\" cy=\"423.028\" r=\"14.4\" fill=\"#e26f46\" fill-rule=\"evenodd\" fill-opacity=\"1\" stroke=\"#000000\" stroke-opacity=\"1\" stroke-width=\"3.2\"/>\n",
       "<circle clip-path=\"url(#clip122)\" cx=\"2021.49\" cy=\"1345.23\" r=\"14.4\" fill=\"#e26f46\" fill-rule=\"evenodd\" fill-opacity=\"1\" stroke=\"#000000\" stroke-opacity=\"1\" stroke-width=\"3.2\"/>\n",
       "<circle clip-path=\"url(#clip122)\" cx=\"2042.27\" cy=\"557.063\" r=\"14.4\" fill=\"#e26f46\" fill-rule=\"evenodd\" fill-opacity=\"1\" stroke=\"#000000\" stroke-opacity=\"1\" stroke-width=\"3.2\"/>\n",
       "<circle clip-path=\"url(#clip122)\" cx=\"2063.06\" cy=\"382.039\" r=\"14.4\" fill=\"#e26f46\" fill-rule=\"evenodd\" fill-opacity=\"1\" stroke=\"#000000\" stroke-opacity=\"1\" stroke-width=\"3.2\"/>\n",
       "<circle clip-path=\"url(#clip122)\" cx=\"2083.84\" cy=\"1323.56\" r=\"14.4\" fill=\"#e26f46\" fill-rule=\"evenodd\" fill-opacity=\"1\" stroke=\"#000000\" stroke-opacity=\"1\" stroke-width=\"3.2\"/>\n",
       "<circle clip-path=\"url(#clip122)\" cx=\"2104.62\" cy=\"600.671\" r=\"14.4\" fill=\"#e26f46\" fill-rule=\"evenodd\" fill-opacity=\"1\" stroke=\"#000000\" stroke-opacity=\"1\" stroke-width=\"3.2\"/>\n",
       "<circle clip-path=\"url(#clip122)\" cx=\"2125.4\" cy=\"374.325\" r=\"14.4\" fill=\"#e26f46\" fill-rule=\"evenodd\" fill-opacity=\"1\" stroke=\"#000000\" stroke-opacity=\"1\" stroke-width=\"3.2\"/>\n",
       "<circle clip-path=\"url(#clip122)\" cx=\"2146.18\" cy=\"1306.71\" r=\"14.4\" fill=\"#e26f46\" fill-rule=\"evenodd\" fill-opacity=\"1\" stroke=\"#000000\" stroke-opacity=\"1\" stroke-width=\"3.2\"/>\n",
       "<circle clip-path=\"url(#clip122)\" cx=\"2166.97\" cy=\"606.946\" r=\"14.4\" fill=\"#e26f46\" fill-rule=\"evenodd\" fill-opacity=\"1\" stroke=\"#000000\" stroke-opacity=\"1\" stroke-width=\"3.2\"/>\n",
       "<circle clip-path=\"url(#clip122)\" cx=\"2187.75\" cy=\"386.805\" r=\"14.4\" fill=\"#e26f46\" fill-rule=\"evenodd\" fill-opacity=\"1\" stroke=\"#000000\" stroke-opacity=\"1\" stroke-width=\"3.2\"/>\n",
       "<circle clip-path=\"url(#clip122)\" cx=\"2208.53\" cy=\"1295.38\" r=\"14.4\" fill=\"#e26f46\" fill-rule=\"evenodd\" fill-opacity=\"1\" stroke=\"#000000\" stroke-opacity=\"1\" stroke-width=\"3.2\"/>\n",
       "<circle clip-path=\"url(#clip122)\" cx=\"2229.31\" cy=\"584.318\" r=\"14.4\" fill=\"#e26f46\" fill-rule=\"evenodd\" fill-opacity=\"1\" stroke=\"#000000\" stroke-opacity=\"1\" stroke-width=\"3.2\"/>\n",
       "<circle clip-path=\"url(#clip122)\" cx=\"2250.09\" cy=\"424.035\" r=\"14.4\" fill=\"#e26f46\" fill-rule=\"evenodd\" fill-opacity=\"1\" stroke=\"#000000\" stroke-opacity=\"1\" stroke-width=\"3.2\"/>\n",
       "<circle clip-path=\"url(#clip122)\" cx=\"2270.88\" cy=\"1290.95\" r=\"14.4\" fill=\"#e26f46\" fill-rule=\"evenodd\" fill-opacity=\"1\" stroke=\"#000000\" stroke-opacity=\"1\" stroke-width=\"3.2\"/>\n",
       "<circle clip-path=\"url(#clip122)\" cx=\"2291.66\" cy=\"534.829\" r=\"14.4\" fill=\"#e26f46\" fill-rule=\"evenodd\" fill-opacity=\"1\" stroke=\"#000000\" stroke-opacity=\"1\" stroke-width=\"3.2\"/>\n",
       "<path clip-path=\"url(#clip120)\" d=\"M265.897 250.738 L534.209 250.738 L534.209 95.2176 L265.897 95.2176  Z\" fill=\"#ffffff\" fill-rule=\"evenodd\" fill-opacity=\"1\"/>\n",
       "<polyline clip-path=\"url(#clip120)\" style=\"stroke:#000000; stroke-linecap:round; stroke-linejoin:round; stroke-width:4; stroke-opacity:1; fill:none\" points=\"265.897,250.738 534.209,250.738 534.209,95.2176 265.897,95.2176 265.897,250.738 \"/>\n",
       "<circle clip-path=\"url(#clip120)\" cx=\"361.844\" cy=\"147.058\" r=\"20.48\" fill=\"#009af9\" fill-rule=\"evenodd\" fill-opacity=\"1\" stroke=\"#000000\" stroke-opacity=\"1\" stroke-width=\"4.55111\"/>\n",
       "<path clip-path=\"url(#clip120)\" d=\"M471.634 166.745 Q469.829 171.375 468.116 172.787 Q466.403 174.199 463.532 174.199 L460.13 174.199 L460.13 170.634 L462.63 170.634 Q464.389 170.634 465.361 169.8 Q466.333 168.967 467.514 165.865 L468.278 163.921 L457.792 138.412 L462.306 138.412 L470.407 158.689 L478.509 138.412 L483.023 138.412 L471.634 166.745 Z\" fill=\"#000000\" fill-rule=\"nonzero\" fill-opacity=\"1\" /><path clip-path=\"url(#clip120)\" d=\"M490.315 160.402 L497.954 160.402 L497.954 134.037 L489.643 135.703 L489.643 131.444 L497.907 129.778 L502.583 129.778 L502.583 160.402 L510.222 160.402 L510.222 164.338 L490.315 164.338 L490.315 160.402 Z\" fill=\"#000000\" fill-rule=\"nonzero\" fill-opacity=\"1\" /><circle clip-path=\"url(#clip120)\" cx=\"361.844\" cy=\"198.898\" r=\"20.48\" fill=\"#e26f46\" fill-rule=\"evenodd\" fill-opacity=\"1\" stroke=\"#000000\" stroke-opacity=\"1\" stroke-width=\"4.55111\"/>\n",
       "<path clip-path=\"url(#clip120)\" d=\"M471.634 218.585 Q469.829 223.215 468.116 224.627 Q466.403 226.039 463.532 226.039 L460.13 226.039 L460.13 222.474 L462.63 222.474 Q464.389 222.474 465.361 221.64 Q466.333 220.807 467.514 217.705 L468.278 215.761 L457.792 190.252 L462.306 190.252 L470.407 210.529 L478.509 190.252 L483.023 190.252 L471.634 218.585 Z\" fill=\"#000000\" fill-rule=\"nonzero\" fill-opacity=\"1\" /><path clip-path=\"url(#clip120)\" d=\"M493.532 212.242 L509.852 212.242 L509.852 216.178 L487.907 216.178 L487.907 212.242 Q490.569 209.488 495.153 204.858 Q499.759 200.205 500.94 198.863 Q503.185 196.34 504.065 194.604 Q504.967 192.844 504.967 191.155 Q504.967 188.4 503.023 186.664 Q501.102 184.928 498 184.928 Q495.801 184.928 493.347 185.692 Q490.917 186.455 488.139 188.006 L488.139 183.284 Q490.963 182.15 493.417 181.571 Q495.87 180.993 497.907 180.993 Q503.278 180.993 506.472 183.678 Q509.666 186.363 509.666 190.854 Q509.666 192.983 508.856 194.905 Q508.069 196.803 505.963 199.395 Q505.384 200.067 502.282 203.284 Q499.18 206.479 493.532 212.242 Z\" fill=\"#000000\" fill-rule=\"nonzero\" fill-opacity=\"1\" /></svg>\n"
      ],
      "text/html": [
       "<?xml version=\"1.0\" encoding=\"utf-8\"?>\n",
       "<svg xmlns=\"http://www.w3.org/2000/svg\" xmlns:xlink=\"http://www.w3.org/1999/xlink\" width=\"600\" height=\"400\" viewBox=\"0 0 2400 1600\">\n",
       "<defs>\n",
       "  <clipPath id=\"clip170\">\n",
       "    <rect x=\"0\" y=\"0\" width=\"2400\" height=\"1600\"/>\n",
       "  </clipPath>\n",
       "</defs>\n",
       "<path clip-path=\"url(#clip170)\" d=\"M0 1600 L2400 1600 L2400 0 L0 0  Z\" fill=\"#ffffff\" fill-rule=\"evenodd\" fill-opacity=\"1\"/>\n",
       "<defs>\n",
       "  <clipPath id=\"clip171\">\n",
       "    <rect x=\"480\" y=\"0\" width=\"1681\" height=\"1600\"/>\n",
       "  </clipPath>\n",
       "</defs>\n",
       "<path clip-path=\"url(#clip170)\" d=\"M193.936 1486.45 L2352.76 1486.45 L2352.76 47.2441 L193.936 47.2441  Z\" fill=\"#ffffff\" fill-rule=\"evenodd\" fill-opacity=\"1\"/>\n",
       "<defs>\n",
       "  <clipPath id=\"clip172\">\n",
       "    <rect x=\"193\" y=\"47\" width=\"2160\" height=\"1440\"/>\n",
       "  </clipPath>\n",
       "</defs>\n",
       "<polyline clip-path=\"url(#clip172)\" style=\"stroke:#000000; stroke-linecap:round; stroke-linejoin:round; stroke-width:2; stroke-opacity:0.1; fill:none\" points=\"213.471,1486.45 213.471,47.2441 \"/>\n",
       "<polyline clip-path=\"url(#clip172)\" style=\"stroke:#000000; stroke-linecap:round; stroke-linejoin:round; stroke-width:2; stroke-opacity:0.1; fill:none\" points=\"629.108,1486.45 629.108,47.2441 \"/>\n",
       "<polyline clip-path=\"url(#clip172)\" style=\"stroke:#000000; stroke-linecap:round; stroke-linejoin:round; stroke-width:2; stroke-opacity:0.1; fill:none\" points=\"1044.75,1486.45 1044.75,47.2441 \"/>\n",
       "<polyline clip-path=\"url(#clip172)\" style=\"stroke:#000000; stroke-linecap:round; stroke-linejoin:round; stroke-width:2; stroke-opacity:0.1; fill:none\" points=\"1460.38,1486.45 1460.38,47.2441 \"/>\n",
       "<polyline clip-path=\"url(#clip172)\" style=\"stroke:#000000; stroke-linecap:round; stroke-linejoin:round; stroke-width:2; stroke-opacity:0.1; fill:none\" points=\"1876.02,1486.45 1876.02,47.2441 \"/>\n",
       "<polyline clip-path=\"url(#clip172)\" style=\"stroke:#000000; stroke-linecap:round; stroke-linejoin:round; stroke-width:2; stroke-opacity:0.1; fill:none\" points=\"2291.66,1486.45 2291.66,47.2441 \"/>\n",
       "<polyline clip-path=\"url(#clip170)\" style=\"stroke:#000000; stroke-linecap:round; stroke-linejoin:round; stroke-width:4; stroke-opacity:1; fill:none\" points=\"193.936,1486.45 2352.76,1486.45 \"/>\n",
       "<polyline clip-path=\"url(#clip170)\" style=\"stroke:#000000; stroke-linecap:round; stroke-linejoin:round; stroke-width:4; stroke-opacity:1; fill:none\" points=\"213.471,1486.45 213.471,1467.55 \"/>\n",
       "<polyline clip-path=\"url(#clip170)\" style=\"stroke:#000000; stroke-linecap:round; stroke-linejoin:round; stroke-width:4; stroke-opacity:1; fill:none\" points=\"629.108,1486.45 629.108,1467.55 \"/>\n",
       "<polyline clip-path=\"url(#clip170)\" style=\"stroke:#000000; stroke-linecap:round; stroke-linejoin:round; stroke-width:4; stroke-opacity:1; fill:none\" points=\"1044.75,1486.45 1044.75,1467.55 \"/>\n",
       "<polyline clip-path=\"url(#clip170)\" style=\"stroke:#000000; stroke-linecap:round; stroke-linejoin:round; stroke-width:4; stroke-opacity:1; fill:none\" points=\"1460.38,1486.45 1460.38,1467.55 \"/>\n",
       "<polyline clip-path=\"url(#clip170)\" style=\"stroke:#000000; stroke-linecap:round; stroke-linejoin:round; stroke-width:4; stroke-opacity:1; fill:none\" points=\"1876.02,1486.45 1876.02,1467.55 \"/>\n",
       "<polyline clip-path=\"url(#clip170)\" style=\"stroke:#000000; stroke-linecap:round; stroke-linejoin:round; stroke-width:4; stroke-opacity:1; fill:none\" points=\"2291.66,1486.45 2291.66,1467.55 \"/>\n",
       "<path clip-path=\"url(#clip170)\" d=\"M213.471 1517.37 Q209.86 1517.37 208.031 1520.93 Q206.226 1524.47 206.226 1531.6 Q206.226 1538.71 208.031 1542.27 Q209.86 1545.82 213.471 1545.82 Q217.105 1545.82 218.911 1542.27 Q220.739 1538.71 220.739 1531.6 Q220.739 1524.47 218.911 1520.93 Q217.105 1517.37 213.471 1517.37 M213.471 1513.66 Q219.281 1513.66 222.337 1518.27 Q225.415 1522.85 225.415 1531.6 Q225.415 1540.33 222.337 1544.94 Q219.281 1549.52 213.471 1549.52 Q207.661 1549.52 204.582 1544.94 Q201.527 1540.33 201.527 1531.6 Q201.527 1522.85 204.582 1518.27 Q207.661 1513.66 213.471 1513.66 Z\" fill=\"#000000\" fill-rule=\"nonzero\" fill-opacity=\"1\" /><path clip-path=\"url(#clip170)\" d=\"M603.796 1544.91 L611.435 1544.91 L611.435 1518.55 L603.125 1520.21 L603.125 1515.95 L611.388 1514.29 L616.064 1514.29 L616.064 1544.91 L623.703 1544.91 L623.703 1548.85 L603.796 1548.85 L603.796 1544.91 Z\" fill=\"#000000\" fill-rule=\"nonzero\" fill-opacity=\"1\" /><path clip-path=\"url(#clip170)\" d=\"M643.147 1517.37 Q639.536 1517.37 637.708 1520.93 Q635.902 1524.47 635.902 1531.6 Q635.902 1538.71 637.708 1542.27 Q639.536 1545.82 643.147 1545.82 Q646.782 1545.82 648.587 1542.27 Q650.416 1538.71 650.416 1531.6 Q650.416 1524.47 648.587 1520.93 Q646.782 1517.37 643.147 1517.37 M643.147 1513.66 Q648.958 1513.66 652.013 1518.27 Q655.092 1522.85 655.092 1531.6 Q655.092 1540.33 652.013 1544.94 Q648.958 1549.52 643.147 1549.52 Q637.337 1549.52 634.259 1544.94 Q631.203 1540.33 631.203 1531.6 Q631.203 1522.85 634.259 1518.27 Q637.337 1513.66 643.147 1513.66 Z\" fill=\"#000000\" fill-rule=\"nonzero\" fill-opacity=\"1\" /><path clip-path=\"url(#clip170)\" d=\"M1023.52 1544.91 L1039.84 1544.91 L1039.84 1548.85 L1017.89 1548.85 L1017.89 1544.91 Q1020.56 1542.16 1025.14 1537.53 Q1029.75 1532.88 1030.93 1531.53 Q1033.17 1529.01 1034.05 1527.27 Q1034.95 1525.51 1034.95 1523.82 Q1034.95 1521.07 1033.01 1519.33 Q1031.09 1517.6 1027.99 1517.6 Q1025.79 1517.6 1023.33 1518.36 Q1020.9 1519.13 1018.13 1520.68 L1018.13 1515.95 Q1020.95 1514.82 1023.4 1514.24 Q1025.86 1513.66 1027.89 1513.66 Q1033.26 1513.66 1036.46 1516.35 Q1039.65 1519.03 1039.65 1523.52 Q1039.65 1525.65 1038.84 1527.57 Q1038.06 1529.47 1035.95 1532.07 Q1035.37 1532.74 1032.27 1535.95 Q1029.17 1539.15 1023.52 1544.91 Z\" fill=\"#000000\" fill-rule=\"nonzero\" fill-opacity=\"1\" /><path clip-path=\"url(#clip170)\" d=\"M1059.65 1517.37 Q1056.04 1517.37 1054.21 1520.93 Q1052.41 1524.47 1052.41 1531.6 Q1052.41 1538.71 1054.21 1542.27 Q1056.04 1545.82 1059.65 1545.82 Q1063.29 1545.82 1065.09 1542.27 Q1066.92 1538.71 1066.92 1531.6 Q1066.92 1524.47 1065.09 1520.93 Q1063.29 1517.37 1059.65 1517.37 M1059.65 1513.66 Q1065.46 1513.66 1068.52 1518.27 Q1071.6 1522.85 1071.6 1531.6 Q1071.6 1540.33 1068.52 1544.94 Q1065.46 1549.52 1059.65 1549.52 Q1053.84 1549.52 1050.76 1544.94 Q1047.71 1540.33 1047.71 1531.6 Q1047.71 1522.85 1050.76 1518.27 Q1053.84 1513.66 1059.65 1513.66 Z\" fill=\"#000000\" fill-rule=\"nonzero\" fill-opacity=\"1\" /><path clip-path=\"url(#clip170)\" d=\"M1449.23 1530.21 Q1452.58 1530.93 1454.46 1533.2 Q1456.35 1535.47 1456.35 1538.8 Q1456.35 1543.92 1452.84 1546.72 Q1449.32 1549.52 1442.84 1549.52 Q1440.66 1549.52 1438.35 1549.08 Q1436.05 1548.66 1433.6 1547.81 L1433.6 1543.29 Q1435.54 1544.43 1437.86 1545.01 Q1440.17 1545.58 1442.7 1545.58 Q1447.1 1545.58 1449.39 1543.85 Q1451.7 1542.11 1451.7 1538.8 Q1451.7 1535.75 1449.55 1534.03 Q1447.42 1532.3 1443.6 1532.3 L1439.57 1532.3 L1439.57 1528.45 L1443.79 1528.45 Q1447.23 1528.45 1449.06 1527.09 Q1450.89 1525.7 1450.89 1523.11 Q1450.89 1520.45 1448.99 1519.03 Q1447.12 1517.6 1443.6 1517.6 Q1441.68 1517.6 1439.48 1518.01 Q1437.28 1518.43 1434.64 1519.31 L1434.64 1515.14 Q1437.3 1514.4 1439.62 1514.03 Q1441.96 1513.66 1444.02 1513.66 Q1449.34 1513.66 1452.44 1516.09 Q1455.54 1518.5 1455.54 1522.62 Q1455.54 1525.49 1453.9 1527.48 Q1452.26 1529.45 1449.23 1530.21 Z\" fill=\"#000000\" fill-rule=\"nonzero\" fill-opacity=\"1\" /><path clip-path=\"url(#clip170)\" d=\"M1475.22 1517.37 Q1471.61 1517.37 1469.78 1520.93 Q1467.98 1524.47 1467.98 1531.6 Q1467.98 1538.71 1469.78 1542.27 Q1471.61 1545.82 1475.22 1545.82 Q1478.85 1545.82 1480.66 1542.27 Q1482.49 1538.71 1482.49 1531.6 Q1482.49 1524.47 1480.66 1520.93 Q1478.85 1517.37 1475.22 1517.37 M1475.22 1513.66 Q1481.03 1513.66 1484.09 1518.27 Q1487.16 1522.85 1487.16 1531.6 Q1487.16 1540.33 1484.09 1544.94 Q1481.03 1549.52 1475.22 1549.52 Q1469.41 1549.52 1466.33 1544.94 Q1463.28 1540.33 1463.28 1531.6 Q1463.28 1522.85 1466.33 1518.27 Q1469.41 1513.66 1475.22 1513.66 Z\" fill=\"#000000\" fill-rule=\"nonzero\" fill-opacity=\"1\" /><path clip-path=\"url(#clip170)\" d=\"M1864.19 1518.36 L1852.39 1536.81 L1864.19 1536.81 L1864.19 1518.36 M1862.96 1514.29 L1868.84 1514.29 L1868.84 1536.81 L1873.77 1536.81 L1873.77 1540.7 L1868.84 1540.7 L1868.84 1548.85 L1864.19 1548.85 L1864.19 1540.7 L1848.59 1540.7 L1848.59 1536.19 L1862.96 1514.29 Z\" fill=\"#000000\" fill-rule=\"nonzero\" fill-opacity=\"1\" /><path clip-path=\"url(#clip170)\" d=\"M1891.51 1517.37 Q1887.89 1517.37 1886.07 1520.93 Q1884.26 1524.47 1884.26 1531.6 Q1884.26 1538.71 1886.07 1542.27 Q1887.89 1545.82 1891.51 1545.82 Q1895.14 1545.82 1896.95 1542.27 Q1898.77 1538.71 1898.77 1531.6 Q1898.77 1524.47 1896.95 1520.93 Q1895.14 1517.37 1891.51 1517.37 M1891.51 1513.66 Q1897.32 1513.66 1900.37 1518.27 Q1903.45 1522.85 1903.45 1531.6 Q1903.45 1540.33 1900.37 1544.94 Q1897.32 1549.52 1891.51 1549.52 Q1885.7 1549.52 1882.62 1544.94 Q1879.56 1540.33 1879.56 1531.6 Q1879.56 1522.85 1882.62 1518.27 Q1885.7 1513.66 1891.51 1513.66 Z\" fill=\"#000000\" fill-rule=\"nonzero\" fill-opacity=\"1\" /><path clip-path=\"url(#clip170)\" d=\"M2266.36 1514.29 L2284.71 1514.29 L2284.71 1518.22 L2270.64 1518.22 L2270.64 1526.7 Q2271.66 1526.35 2272.68 1526.19 Q2273.69 1526 2274.71 1526 Q2280.5 1526 2283.88 1529.17 Q2287.26 1532.34 2287.26 1537.76 Q2287.26 1543.34 2283.79 1546.44 Q2280.31 1549.52 2274 1549.52 Q2271.82 1549.52 2269.55 1549.15 Q2267.31 1548.78 2264.9 1548.04 L2264.9 1543.34 Q2266.98 1544.47 2269.2 1545.03 Q2271.43 1545.58 2273.9 1545.58 Q2277.91 1545.58 2280.25 1543.48 Q2282.58 1541.37 2282.58 1537.76 Q2282.58 1534.15 2280.25 1532.04 Q2277.91 1529.94 2273.9 1529.94 Q2272.03 1529.94 2270.15 1530.35 Q2268.3 1530.77 2266.36 1531.65 L2266.36 1514.29 Z\" fill=\"#000000\" fill-rule=\"nonzero\" fill-opacity=\"1\" /><path clip-path=\"url(#clip170)\" d=\"M2306.47 1517.37 Q2302.86 1517.37 2301.03 1520.93 Q2299.23 1524.47 2299.23 1531.6 Q2299.23 1538.71 2301.03 1542.27 Q2302.86 1545.82 2306.47 1545.82 Q2310.11 1545.82 2311.91 1542.27 Q2313.74 1538.71 2313.74 1531.6 Q2313.74 1524.47 2311.91 1520.93 Q2310.11 1517.37 2306.47 1517.37 M2306.47 1513.66 Q2312.28 1513.66 2315.34 1518.27 Q2318.42 1522.85 2318.42 1531.6 Q2318.42 1540.33 2315.34 1544.94 Q2312.28 1549.52 2306.47 1549.52 Q2300.66 1549.52 2297.58 1544.94 Q2294.53 1540.33 2294.53 1531.6 Q2294.53 1522.85 2297.58 1518.27 Q2300.66 1513.66 2306.47 1513.66 Z\" fill=\"#000000\" fill-rule=\"nonzero\" fill-opacity=\"1\" /><polyline clip-path=\"url(#clip172)\" style=\"stroke:#000000; stroke-linecap:round; stroke-linejoin:round; stroke-width:2; stroke-opacity:0.1; fill:none\" points=\"193.936,1438.28 2352.76,1438.28 \"/>\n",
       "<polyline clip-path=\"url(#clip172)\" style=\"stroke:#000000; stroke-linecap:round; stroke-linejoin:round; stroke-width:2; stroke-opacity:0.1; fill:none\" points=\"193.936,1100.7 2352.76,1100.7 \"/>\n",
       "<polyline clip-path=\"url(#clip172)\" style=\"stroke:#000000; stroke-linecap:round; stroke-linejoin:round; stroke-width:2; stroke-opacity:0.1; fill:none\" points=\"193.936,763.127 2352.76,763.127 \"/>\n",
       "<polyline clip-path=\"url(#clip172)\" style=\"stroke:#000000; stroke-linecap:round; stroke-linejoin:round; stroke-width:2; stroke-opacity:0.1; fill:none\" points=\"193.936,425.552 2352.76,425.552 \"/>\n",
       "<polyline clip-path=\"url(#clip172)\" style=\"stroke:#000000; stroke-linecap:round; stroke-linejoin:round; stroke-width:2; stroke-opacity:0.1; fill:none\" points=\"193.936,87.9763 2352.76,87.9763 \"/>\n",
       "<polyline clip-path=\"url(#clip170)\" style=\"stroke:#000000; stroke-linecap:round; stroke-linejoin:round; stroke-width:4; stroke-opacity:1; fill:none\" points=\"193.936,1486.45 193.936,47.2441 \"/>\n",
       "<polyline clip-path=\"url(#clip170)\" style=\"stroke:#000000; stroke-linecap:round; stroke-linejoin:round; stroke-width:4; stroke-opacity:1; fill:none\" points=\"193.936,1438.28 212.834,1438.28 \"/>\n",
       "<polyline clip-path=\"url(#clip170)\" style=\"stroke:#000000; stroke-linecap:round; stroke-linejoin:round; stroke-width:4; stroke-opacity:1; fill:none\" points=\"193.936,1100.7 212.834,1100.7 \"/>\n",
       "<polyline clip-path=\"url(#clip170)\" style=\"stroke:#000000; stroke-linecap:round; stroke-linejoin:round; stroke-width:4; stroke-opacity:1; fill:none\" points=\"193.936,763.127 212.834,763.127 \"/>\n",
       "<polyline clip-path=\"url(#clip170)\" style=\"stroke:#000000; stroke-linecap:round; stroke-linejoin:round; stroke-width:4; stroke-opacity:1; fill:none\" points=\"193.936,425.552 212.834,425.552 \"/>\n",
       "<polyline clip-path=\"url(#clip170)\" style=\"stroke:#000000; stroke-linecap:round; stroke-linejoin:round; stroke-width:4; stroke-opacity:1; fill:none\" points=\"193.936,87.9763 212.834,87.9763 \"/>\n",
       "<path clip-path=\"url(#clip170)\" d=\"M50.9921 1438.73 L80.6679 1438.73 L80.6679 1442.66 L50.9921 1442.66 L50.9921 1438.73 Z\" fill=\"#000000\" fill-rule=\"nonzero\" fill-opacity=\"1\" /><path clip-path=\"url(#clip170)\" d=\"M91.5706 1451.62 L99.2095 1451.62 L99.2095 1425.26 L90.8993 1426.92 L90.8993 1422.66 L99.1632 1421 L103.839 1421 L103.839 1451.62 L111.478 1451.62 L111.478 1455.56 L91.5706 1455.56 L91.5706 1451.62 Z\" fill=\"#000000\" fill-rule=\"nonzero\" fill-opacity=\"1\" /><path clip-path=\"url(#clip170)\" d=\"M120.922 1449.68 L125.807 1449.68 L125.807 1455.56 L120.922 1455.56 L120.922 1449.68 Z\" fill=\"#000000\" fill-rule=\"nonzero\" fill-opacity=\"1\" /><path clip-path=\"url(#clip170)\" d=\"M145.992 1424.08 Q142.381 1424.08 140.552 1427.64 Q138.746 1431.18 138.746 1438.31 Q138.746 1445.42 140.552 1448.98 Q142.381 1452.53 145.992 1452.53 Q149.626 1452.53 151.431 1448.98 Q153.26 1445.42 153.26 1438.31 Q153.26 1431.18 151.431 1427.64 Q149.626 1424.08 145.992 1424.08 M145.992 1420.37 Q151.802 1420.37 154.857 1424.98 Q157.936 1429.56 157.936 1438.31 Q157.936 1447.04 154.857 1451.65 Q151.802 1456.23 145.992 1456.23 Q140.181 1456.23 137.103 1451.65 Q134.047 1447.04 134.047 1438.31 Q134.047 1429.56 137.103 1424.98 Q140.181 1420.37 145.992 1420.37 Z\" fill=\"#000000\" fill-rule=\"nonzero\" fill-opacity=\"1\" /><path clip-path=\"url(#clip170)\" d=\"M51.9875 1101.15 L81.6633 1101.15 L81.6633 1105.09 L51.9875 1105.09 L51.9875 1101.15 Z\" fill=\"#000000\" fill-rule=\"nonzero\" fill-opacity=\"1\" /><path clip-path=\"url(#clip170)\" d=\"M101.756 1086.5 Q98.1447 1086.5 96.316 1090.07 Q94.5104 1093.61 94.5104 1100.74 Q94.5104 1107.84 96.316 1111.41 Q98.1447 1114.95 101.756 1114.95 Q105.39 1114.95 107.196 1111.41 Q109.024 1107.84 109.024 1100.74 Q109.024 1093.61 107.196 1090.07 Q105.39 1086.5 101.756 1086.5 M101.756 1082.8 Q107.566 1082.8 110.621 1087.4 Q113.7 1091.99 113.7 1100.74 Q113.7 1109.46 110.621 1114.07 Q107.566 1118.65 101.756 1118.65 Q95.9456 1118.65 92.8669 1114.07 Q89.8114 1109.46 89.8114 1100.74 Q89.8114 1091.99 92.8669 1087.4 Q95.9456 1082.8 101.756 1082.8 Z\" fill=\"#000000\" fill-rule=\"nonzero\" fill-opacity=\"1\" /><path clip-path=\"url(#clip170)\" d=\"M121.918 1112.1 L126.802 1112.1 L126.802 1117.98 L121.918 1117.98 L121.918 1112.1 Z\" fill=\"#000000\" fill-rule=\"nonzero\" fill-opacity=\"1\" /><path clip-path=\"url(#clip170)\" d=\"M137.033 1083.42 L155.39 1083.42 L155.39 1087.36 L141.316 1087.36 L141.316 1095.83 Q142.334 1095.48 143.353 1095.32 Q144.371 1095.14 145.39 1095.14 Q151.177 1095.14 154.556 1098.31 Q157.936 1101.48 157.936 1106.89 Q157.936 1112.47 154.464 1115.58 Q150.992 1118.65 144.672 1118.65 Q142.496 1118.65 140.228 1118.28 Q137.982 1117.91 135.575 1117.17 L135.575 1112.47 Q137.658 1113.61 139.881 1114.16 Q142.103 1114.72 144.58 1114.72 Q148.584 1114.72 150.922 1112.61 Q153.26 1110.51 153.26 1106.89 Q153.26 1103.28 150.922 1101.18 Q148.584 1099.07 144.58 1099.07 Q142.705 1099.07 140.83 1099.49 Q138.978 1099.9 137.033 1100.78 L137.033 1083.42 Z\" fill=\"#000000\" fill-rule=\"nonzero\" fill-opacity=\"1\" /><path clip-path=\"url(#clip170)\" d=\"M100.76 748.926 Q97.1493 748.926 95.3206 752.491 Q93.515 756.032 93.515 763.162 Q93.515 770.268 95.3206 773.833 Q97.1493 777.375 100.76 777.375 Q104.395 777.375 106.2 773.833 Q108.029 770.268 108.029 763.162 Q108.029 756.032 106.2 752.491 Q104.395 748.926 100.76 748.926 M100.76 745.222 Q106.571 745.222 109.626 749.829 Q112.705 754.412 112.705 763.162 Q112.705 771.889 109.626 776.495 Q106.571 781.078 100.76 781.078 Q94.9502 781.078 91.8715 776.495 Q88.816 771.889 88.816 763.162 Q88.816 754.412 91.8715 749.829 Q94.9502 745.222 100.76 745.222 Z\" fill=\"#000000\" fill-rule=\"nonzero\" fill-opacity=\"1\" /><path clip-path=\"url(#clip170)\" d=\"M120.922 774.528 L125.807 774.528 L125.807 780.407 L120.922 780.407 L120.922 774.528 Z\" fill=\"#000000\" fill-rule=\"nonzero\" fill-opacity=\"1\" /><path clip-path=\"url(#clip170)\" d=\"M145.992 748.926 Q142.381 748.926 140.552 752.491 Q138.746 756.032 138.746 763.162 Q138.746 770.268 140.552 773.833 Q142.381 777.375 145.992 777.375 Q149.626 777.375 151.431 773.833 Q153.26 770.268 153.26 763.162 Q153.26 756.032 151.431 752.491 Q149.626 748.926 145.992 748.926 M145.992 745.222 Q151.802 745.222 154.857 749.829 Q157.936 754.412 157.936 763.162 Q157.936 771.889 154.857 776.495 Q151.802 781.078 145.992 781.078 Q140.181 781.078 137.103 776.495 Q134.047 771.889 134.047 763.162 Q134.047 754.412 137.103 749.829 Q140.181 745.222 145.992 745.222 Z\" fill=\"#000000\" fill-rule=\"nonzero\" fill-opacity=\"1\" /><path clip-path=\"url(#clip170)\" d=\"M101.756 411.35 Q98.1447 411.35 96.316 414.915 Q94.5104 418.457 94.5104 425.586 Q94.5104 432.693 96.316 436.258 Q98.1447 439.799 101.756 439.799 Q105.39 439.799 107.196 436.258 Q109.024 432.693 109.024 425.586 Q109.024 418.457 107.196 414.915 Q105.39 411.35 101.756 411.35 M101.756 407.647 Q107.566 407.647 110.621 412.253 Q113.7 416.836 113.7 425.586 Q113.7 434.313 110.621 438.92 Q107.566 443.503 101.756 443.503 Q95.9456 443.503 92.8669 438.92 Q89.8114 434.313 89.8114 425.586 Q89.8114 416.836 92.8669 412.253 Q95.9456 407.647 101.756 407.647 Z\" fill=\"#000000\" fill-rule=\"nonzero\" fill-opacity=\"1\" /><path clip-path=\"url(#clip170)\" d=\"M121.918 436.952 L126.802 436.952 L126.802 442.832 L121.918 442.832 L121.918 436.952 Z\" fill=\"#000000\" fill-rule=\"nonzero\" fill-opacity=\"1\" /><path clip-path=\"url(#clip170)\" d=\"M137.033 408.272 L155.39 408.272 L155.39 412.207 L141.316 412.207 L141.316 420.679 Q142.334 420.332 143.353 420.17 Q144.371 419.985 145.39 419.985 Q151.177 419.985 154.556 423.156 Q157.936 426.327 157.936 431.744 Q157.936 437.322 154.464 440.424 Q150.992 443.503 144.672 443.503 Q142.496 443.503 140.228 443.133 Q137.982 442.762 135.575 442.022 L135.575 437.322 Q137.658 438.457 139.881 439.012 Q142.103 439.568 144.58 439.568 Q148.584 439.568 150.922 437.461 Q153.26 435.355 153.26 431.744 Q153.26 428.133 150.922 426.026 Q148.584 423.92 144.58 423.92 Q142.705 423.92 140.83 424.336 Q138.978 424.753 137.033 425.633 L137.033 408.272 Z\" fill=\"#000000\" fill-rule=\"nonzero\" fill-opacity=\"1\" /><path clip-path=\"url(#clip170)\" d=\"M91.5706 101.321 L99.2095 101.321 L99.2095 74.9555 L90.8993 76.6222 L90.8993 72.3629 L99.1632 70.6963 L103.839 70.6963 L103.839 101.321 L111.478 101.321 L111.478 105.256 L91.5706 105.256 L91.5706 101.321 Z\" fill=\"#000000\" fill-rule=\"nonzero\" fill-opacity=\"1\" /><path clip-path=\"url(#clip170)\" d=\"M120.922 99.3767 L125.807 99.3767 L125.807 105.256 L120.922 105.256 L120.922 99.3767 Z\" fill=\"#000000\" fill-rule=\"nonzero\" fill-opacity=\"1\" /><path clip-path=\"url(#clip170)\" d=\"M145.992 73.775 Q142.381 73.775 140.552 77.3398 Q138.746 80.8814 138.746 88.011 Q138.746 95.1174 140.552 98.6822 Q142.381 102.224 145.992 102.224 Q149.626 102.224 151.431 98.6822 Q153.26 95.1174 153.26 88.011 Q153.26 80.8814 151.431 77.3398 Q149.626 73.775 145.992 73.775 M145.992 70.0713 Q151.802 70.0713 154.857 74.6777 Q157.936 79.261 157.936 88.011 Q157.936 96.7378 154.857 101.344 Q151.802 105.928 145.992 105.928 Q140.181 105.928 137.103 101.344 Q134.047 96.7378 134.047 88.011 Q134.047 79.261 137.103 74.6777 Q140.181 70.0713 145.992 70.0713 Z\" fill=\"#000000\" fill-rule=\"nonzero\" fill-opacity=\"1\" /><circle clip-path=\"url(#clip172)\" cx=\"255.035\" cy=\"762.983\" r=\"14.4\" fill=\"#009af9\" fill-rule=\"evenodd\" fill-opacity=\"1\" stroke=\"#000000\" stroke-opacity=\"1\" stroke-width=\"3.2\"/>\n",
       "<circle clip-path=\"url(#clip172)\" cx=\"275.817\" cy=\"763.823\" r=\"14.4\" fill=\"#009af9\" fill-rule=\"evenodd\" fill-opacity=\"1\" stroke=\"#000000\" stroke-opacity=\"1\" stroke-width=\"3.2\"/>\n",
       "<circle clip-path=\"url(#clip172)\" cx=\"296.598\" cy=\"763.224\" r=\"14.4\" fill=\"#009af9\" fill-rule=\"evenodd\" fill-opacity=\"1\" stroke=\"#000000\" stroke-opacity=\"1\" stroke-width=\"3.2\"/>\n",
       "<circle clip-path=\"url(#clip172)\" cx=\"317.38\" cy=\"758.28\" r=\"14.4\" fill=\"#009af9\" fill-rule=\"evenodd\" fill-opacity=\"1\" stroke=\"#000000\" stroke-opacity=\"1\" stroke-width=\"3.2\"/>\n",
       "<circle clip-path=\"url(#clip172)\" cx=\"338.162\" cy=\"764.489\" r=\"14.4\" fill=\"#009af9\" fill-rule=\"evenodd\" fill-opacity=\"1\" stroke=\"#000000\" stroke-opacity=\"1\" stroke-width=\"3.2\"/>\n",
       "<circle clip-path=\"url(#clip172)\" cx=\"358.944\" cy=\"778.258\" r=\"14.4\" fill=\"#009af9\" fill-rule=\"evenodd\" fill-opacity=\"1\" stroke=\"#000000\" stroke-opacity=\"1\" stroke-width=\"3.2\"/>\n",
       "<circle clip-path=\"url(#clip172)\" cx=\"379.726\" cy=\"775.141\" r=\"14.4\" fill=\"#009af9\" fill-rule=\"evenodd\" fill-opacity=\"1\" stroke=\"#000000\" stroke-opacity=\"1\" stroke-width=\"3.2\"/>\n",
       "<circle clip-path=\"url(#clip172)\" cx=\"400.508\" cy=\"750.188\" r=\"14.4\" fill=\"#009af9\" fill-rule=\"evenodd\" fill-opacity=\"1\" stroke=\"#000000\" stroke-opacity=\"1\" stroke-width=\"3.2\"/>\n",
       "<circle clip-path=\"url(#clip172)\" cx=\"421.29\" cy=\"720.458\" r=\"14.4\" fill=\"#009af9\" fill-rule=\"evenodd\" fill-opacity=\"1\" stroke=\"#000000\" stroke-opacity=\"1\" stroke-width=\"3.2\"/>\n",
       "<circle clip-path=\"url(#clip172)\" cx=\"442.071\" cy=\"701.45\" r=\"14.4\" fill=\"#009af9\" fill-rule=\"evenodd\" fill-opacity=\"1\" stroke=\"#000000\" stroke-opacity=\"1\" stroke-width=\"3.2\"/>\n",
       "<circle clip-path=\"url(#clip172)\" cx=\"462.853\" cy=\"695.902\" r=\"14.4\" fill=\"#009af9\" fill-rule=\"evenodd\" fill-opacity=\"1\" stroke=\"#000000\" stroke-opacity=\"1\" stroke-width=\"3.2\"/>\n",
       "<circle clip-path=\"url(#clip172)\" cx=\"483.635\" cy=\"697.486\" r=\"14.4\" fill=\"#009af9\" fill-rule=\"evenodd\" fill-opacity=\"1\" stroke=\"#000000\" stroke-opacity=\"1\" stroke-width=\"3.2\"/>\n",
       "<circle clip-path=\"url(#clip172)\" cx=\"504.417\" cy=\"697.141\" r=\"14.4\" fill=\"#009af9\" fill-rule=\"evenodd\" fill-opacity=\"1\" stroke=\"#000000\" stroke-opacity=\"1\" stroke-width=\"3.2\"/>\n",
       "<circle clip-path=\"url(#clip172)\" cx=\"525.199\" cy=\"686.346\" r=\"14.4\" fill=\"#009af9\" fill-rule=\"evenodd\" fill-opacity=\"1\" stroke=\"#000000\" stroke-opacity=\"1\" stroke-width=\"3.2\"/>\n",
       "<circle clip-path=\"url(#clip172)\" cx=\"545.981\" cy=\"658.457\" r=\"14.4\" fill=\"#009af9\" fill-rule=\"evenodd\" fill-opacity=\"1\" stroke=\"#000000\" stroke-opacity=\"1\" stroke-width=\"3.2\"/>\n",
       "<circle clip-path=\"url(#clip172)\" cx=\"566.763\" cy=\"611.123\" r=\"14.4\" fill=\"#009af9\" fill-rule=\"evenodd\" fill-opacity=\"1\" stroke=\"#000000\" stroke-opacity=\"1\" stroke-width=\"3.2\"/>\n",
       "<circle clip-path=\"url(#clip172)\" cx=\"587.544\" cy=\"551.641\" r=\"14.4\" fill=\"#009af9\" fill-rule=\"evenodd\" fill-opacity=\"1\" stroke=\"#000000\" stroke-opacity=\"1\" stroke-width=\"3.2\"/>\n",
       "<circle clip-path=\"url(#clip172)\" cx=\"608.326\" cy=\"503.862\" r=\"14.4\" fill=\"#009af9\" fill-rule=\"evenodd\" fill-opacity=\"1\" stroke=\"#000000\" stroke-opacity=\"1\" stroke-width=\"3.2\"/>\n",
       "<circle clip-path=\"url(#clip172)\" cx=\"629.108\" cy=\"509.718\" r=\"14.4\" fill=\"#009af9\" fill-rule=\"evenodd\" fill-opacity=\"1\" stroke=\"#000000\" stroke-opacity=\"1\" stroke-width=\"3.2\"/>\n",
       "<circle clip-path=\"url(#clip172)\" cx=\"649.89\" cy=\"613.633\" r=\"14.4\" fill=\"#009af9\" fill-rule=\"evenodd\" fill-opacity=\"1\" stroke=\"#000000\" stroke-opacity=\"1\" stroke-width=\"3.2\"/>\n",
       "<circle clip-path=\"url(#clip172)\" cx=\"670.672\" cy=\"822.85\" r=\"14.4\" fill=\"#009af9\" fill-rule=\"evenodd\" fill-opacity=\"1\" stroke=\"#000000\" stroke-opacity=\"1\" stroke-width=\"3.2\"/>\n",
       "<circle clip-path=\"url(#clip172)\" cx=\"691.454\" cy=\"1061.02\" r=\"14.4\" fill=\"#009af9\" fill-rule=\"evenodd\" fill-opacity=\"1\" stroke=\"#000000\" stroke-opacity=\"1\" stroke-width=\"3.2\"/>\n",
       "<circle clip-path=\"url(#clip172)\" cx=\"712.236\" cy=\"1167.76\" r=\"14.4\" fill=\"#009af9\" fill-rule=\"evenodd\" fill-opacity=\"1\" stroke=\"#000000\" stroke-opacity=\"1\" stroke-width=\"3.2\"/>\n",
       "<circle clip-path=\"url(#clip172)\" cx=\"733.018\" cy=\"999.558\" r=\"14.4\" fill=\"#009af9\" fill-rule=\"evenodd\" fill-opacity=\"1\" stroke=\"#000000\" stroke-opacity=\"1\" stroke-width=\"3.2\"/>\n",
       "<circle clip-path=\"url(#clip172)\" cx=\"753.799\" cy=\"602.673\" r=\"14.4\" fill=\"#009af9\" fill-rule=\"evenodd\" fill-opacity=\"1\" stroke=\"#000000\" stroke-opacity=\"1\" stroke-width=\"3.2\"/>\n",
       "<circle clip-path=\"url(#clip172)\" cx=\"774.581\" cy=\"286.324\" r=\"14.4\" fill=\"#009af9\" fill-rule=\"evenodd\" fill-opacity=\"1\" stroke=\"#000000\" stroke-opacity=\"1\" stroke-width=\"3.2\"/>\n",
       "<circle clip-path=\"url(#clip172)\" cx=\"795.363\" cy=\"403.701\" r=\"14.4\" fill=\"#009af9\" fill-rule=\"evenodd\" fill-opacity=\"1\" stroke=\"#000000\" stroke-opacity=\"1\" stroke-width=\"3.2\"/>\n",
       "<circle clip-path=\"url(#clip172)\" cx=\"816.145\" cy=\"929.418\" r=\"14.4\" fill=\"#009af9\" fill-rule=\"evenodd\" fill-opacity=\"1\" stroke=\"#000000\" stroke-opacity=\"1\" stroke-width=\"3.2\"/>\n",
       "<circle clip-path=\"url(#clip172)\" cx=\"836.927\" cy=\"1320.15\" r=\"14.4\" fill=\"#009af9\" fill-rule=\"evenodd\" fill-opacity=\"1\" stroke=\"#000000\" stroke-opacity=\"1\" stroke-width=\"3.2\"/>\n",
       "<circle clip-path=\"url(#clip172)\" cx=\"857.709\" cy=\"1051.76\" r=\"14.4\" fill=\"#009af9\" fill-rule=\"evenodd\" fill-opacity=\"1\" stroke=\"#000000\" stroke-opacity=\"1\" stroke-width=\"3.2\"/>\n",
       "<circle clip-path=\"url(#clip172)\" cx=\"878.491\" cy=\"375.695\" r=\"14.4\" fill=\"#009af9\" fill-rule=\"evenodd\" fill-opacity=\"1\" stroke=\"#000000\" stroke-opacity=\"1\" stroke-width=\"3.2\"/>\n",
       "<circle clip-path=\"url(#clip172)\" cx=\"899.272\" cy=\"190.191\" r=\"14.4\" fill=\"#009af9\" fill-rule=\"evenodd\" fill-opacity=\"1\" stroke=\"#000000\" stroke-opacity=\"1\" stroke-width=\"3.2\"/>\n",
       "<circle clip-path=\"url(#clip172)\" cx=\"920.054\" cy=\"834.812\" r=\"14.4\" fill=\"#009af9\" fill-rule=\"evenodd\" fill-opacity=\"1\" stroke=\"#000000\" stroke-opacity=\"1\" stroke-width=\"3.2\"/>\n",
       "<circle clip-path=\"url(#clip172)\" cx=\"940.836\" cy=\"1407.26\" r=\"14.4\" fill=\"#009af9\" fill-rule=\"evenodd\" fill-opacity=\"1\" stroke=\"#000000\" stroke-opacity=\"1\" stroke-width=\"3.2\"/>\n",
       "<circle clip-path=\"url(#clip172)\" cx=\"961.618\" cy=\"978.698\" r=\"14.4\" fill=\"#009af9\" fill-rule=\"evenodd\" fill-opacity=\"1\" stroke=\"#000000\" stroke-opacity=\"1\" stroke-width=\"3.2\"/>\n",
       "<circle clip-path=\"url(#clip172)\" cx=\"982.4\" cy=\"173.987\" r=\"14.4\" fill=\"#009af9\" fill-rule=\"evenodd\" fill-opacity=\"1\" stroke=\"#000000\" stroke-opacity=\"1\" stroke-width=\"3.2\"/>\n",
       "<circle clip-path=\"url(#clip172)\" cx=\"1003.18\" cy=\"350.53\" r=\"14.4\" fill=\"#009af9\" fill-rule=\"evenodd\" fill-opacity=\"1\" stroke=\"#000000\" stroke-opacity=\"1\" stroke-width=\"3.2\"/>\n",
       "<circle clip-path=\"url(#clip172)\" cx=\"1023.96\" cy=\"1262.5\" r=\"14.4\" fill=\"#009af9\" fill-rule=\"evenodd\" fill-opacity=\"1\" stroke=\"#000000\" stroke-opacity=\"1\" stroke-width=\"3.2\"/>\n",
       "<circle clip-path=\"url(#clip172)\" cx=\"1044.75\" cy=\"1287.57\" r=\"14.4\" fill=\"#009af9\" fill-rule=\"evenodd\" fill-opacity=\"1\" stroke=\"#000000\" stroke-opacity=\"1\" stroke-width=\"3.2\"/>\n",
       "<circle clip-path=\"url(#clip172)\" cx=\"1065.53\" cy=\"332.52\" r=\"14.4\" fill=\"#009af9\" fill-rule=\"evenodd\" fill-opacity=\"1\" stroke=\"#000000\" stroke-opacity=\"1\" stroke-width=\"3.2\"/>\n",
       "<circle clip-path=\"url(#clip172)\" cx=\"1086.31\" cy=\"188.999\" r=\"14.4\" fill=\"#009af9\" fill-rule=\"evenodd\" fill-opacity=\"1\" stroke=\"#000000\" stroke-opacity=\"1\" stroke-width=\"3.2\"/>\n",
       "<circle clip-path=\"url(#clip172)\" cx=\"1107.09\" cy=\"1169.82\" r=\"14.4\" fill=\"#009af9\" fill-rule=\"evenodd\" fill-opacity=\"1\" stroke=\"#000000\" stroke-opacity=\"1\" stroke-width=\"3.2\"/>\n",
       "<circle clip-path=\"url(#clip172)\" cx=\"1127.87\" cy=\"1341.38\" r=\"14.4\" fill=\"#009af9\" fill-rule=\"evenodd\" fill-opacity=\"1\" stroke=\"#000000\" stroke-opacity=\"1\" stroke-width=\"3.2\"/>\n",
       "<circle clip-path=\"url(#clip172)\" cx=\"1148.65\" cy=\"331.547\" r=\"14.4\" fill=\"#009af9\" fill-rule=\"evenodd\" fill-opacity=\"1\" stroke=\"#000000\" stroke-opacity=\"1\" stroke-width=\"3.2\"/>\n",
       "<circle clip-path=\"url(#clip172)\" cx=\"1169.44\" cy=\"222.52\" r=\"14.4\" fill=\"#009af9\" fill-rule=\"evenodd\" fill-opacity=\"1\" stroke=\"#000000\" stroke-opacity=\"1\" stroke-width=\"3.2\"/>\n",
       "<circle clip-path=\"url(#clip172)\" cx=\"1190.22\" cy=\"1259.56\" r=\"14.4\" fill=\"#009af9\" fill-rule=\"evenodd\" fill-opacity=\"1\" stroke=\"#000000\" stroke-opacity=\"1\" stroke-width=\"3.2\"/>\n",
       "<circle clip-path=\"url(#clip172)\" cx=\"1211\" cy=\"1217.92\" r=\"14.4\" fill=\"#009af9\" fill-rule=\"evenodd\" fill-opacity=\"1\" stroke=\"#000000\" stroke-opacity=\"1\" stroke-width=\"3.2\"/>\n",
       "<circle clip-path=\"url(#clip172)\" cx=\"1231.78\" cy=\"181.872\" r=\"14.4\" fill=\"#009af9\" fill-rule=\"evenodd\" fill-opacity=\"1\" stroke=\"#000000\" stroke-opacity=\"1\" stroke-width=\"3.2\"/>\n",
       "<circle clip-path=\"url(#clip172)\" cx=\"1252.56\" cy=\"451.792\" r=\"14.4\" fill=\"#009af9\" fill-rule=\"evenodd\" fill-opacity=\"1\" stroke=\"#000000\" stroke-opacity=\"1\" stroke-width=\"3.2\"/>\n",
       "<circle clip-path=\"url(#clip172)\" cx=\"1273.35\" cy=\"1417.6\" r=\"14.4\" fill=\"#009af9\" fill-rule=\"evenodd\" fill-opacity=\"1\" stroke=\"#000000\" stroke-opacity=\"1\" stroke-width=\"3.2\"/>\n",
       "<circle clip-path=\"url(#clip172)\" cx=\"1294.13\" cy=\"871.082\" r=\"14.4\" fill=\"#009af9\" fill-rule=\"evenodd\" fill-opacity=\"1\" stroke=\"#000000\" stroke-opacity=\"1\" stroke-width=\"3.2\"/>\n",
       "<circle clip-path=\"url(#clip172)\" cx=\"1314.91\" cy=\"87.9763\" r=\"14.4\" fill=\"#009af9\" fill-rule=\"evenodd\" fill-opacity=\"1\" stroke=\"#000000\" stroke-opacity=\"1\" stroke-width=\"3.2\"/>\n",
       "<circle clip-path=\"url(#clip172)\" cx=\"1335.69\" cy=\"902.16\" r=\"14.4\" fill=\"#009af9\" fill-rule=\"evenodd\" fill-opacity=\"1\" stroke=\"#000000\" stroke-opacity=\"1\" stroke-width=\"3.2\"/>\n",
       "<circle clip-path=\"url(#clip172)\" cx=\"1356.47\" cy=\"1365.14\" r=\"14.4\" fill=\"#009af9\" fill-rule=\"evenodd\" fill-opacity=\"1\" stroke=\"#000000\" stroke-opacity=\"1\" stroke-width=\"3.2\"/>\n",
       "<circle clip-path=\"url(#clip172)\" cx=\"1377.26\" cy=\"376.661\" r=\"14.4\" fill=\"#009af9\" fill-rule=\"evenodd\" fill-opacity=\"1\" stroke=\"#000000\" stroke-opacity=\"1\" stroke-width=\"3.2\"/>\n",
       "<circle clip-path=\"url(#clip172)\" cx=\"1398.04\" cy=\"352.409\" r=\"14.4\" fill=\"#009af9\" fill-rule=\"evenodd\" fill-opacity=\"1\" stroke=\"#000000\" stroke-opacity=\"1\" stroke-width=\"3.2\"/>\n",
       "<circle clip-path=\"url(#clip172)\" cx=\"1418.82\" cy=\"1329.44\" r=\"14.4\" fill=\"#009af9\" fill-rule=\"evenodd\" fill-opacity=\"1\" stroke=\"#000000\" stroke-opacity=\"1\" stroke-width=\"3.2\"/>\n",
       "<circle clip-path=\"url(#clip172)\" cx=\"1439.6\" cy=\"878.469\" r=\"14.4\" fill=\"#009af9\" fill-rule=\"evenodd\" fill-opacity=\"1\" stroke=\"#000000\" stroke-opacity=\"1\" stroke-width=\"3.2\"/>\n",
       "<circle clip-path=\"url(#clip172)\" cx=\"1460.38\" cy=\"158.684\" r=\"14.4\" fill=\"#009af9\" fill-rule=\"evenodd\" fill-opacity=\"1\" stroke=\"#000000\" stroke-opacity=\"1\" stroke-width=\"3.2\"/>\n",
       "<circle clip-path=\"url(#clip172)\" cx=\"1481.16\" cy=\"980.342\" r=\"14.4\" fill=\"#009af9\" fill-rule=\"evenodd\" fill-opacity=\"1\" stroke=\"#000000\" stroke-opacity=\"1\" stroke-width=\"3.2\"/>\n",
       "<circle clip-path=\"url(#clip172)\" cx=\"1501.95\" cy=\"1219.33\" r=\"14.4\" fill=\"#009af9\" fill-rule=\"evenodd\" fill-opacity=\"1\" stroke=\"#000000\" stroke-opacity=\"1\" stroke-width=\"3.2\"/>\n",
       "<circle clip-path=\"url(#clip172)\" cx=\"1522.73\" cy=\"287.626\" r=\"14.4\" fill=\"#009af9\" fill-rule=\"evenodd\" fill-opacity=\"1\" stroke=\"#000000\" stroke-opacity=\"1\" stroke-width=\"3.2\"/>\n",
       "<circle clip-path=\"url(#clip172)\" cx=\"1543.51\" cy=\"617.138\" r=\"14.4\" fill=\"#009af9\" fill-rule=\"evenodd\" fill-opacity=\"1\" stroke=\"#000000\" stroke-opacity=\"1\" stroke-width=\"3.2\"/>\n",
       "<circle clip-path=\"url(#clip172)\" cx=\"1564.29\" cy=\"1307.93\" r=\"14.4\" fill=\"#009af9\" fill-rule=\"evenodd\" fill-opacity=\"1\" stroke=\"#000000\" stroke-opacity=\"1\" stroke-width=\"3.2\"/>\n",
       "<circle clip-path=\"url(#clip172)\" cx=\"1585.07\" cy=\"547.976\" r=\"14.4\" fill=\"#009af9\" fill-rule=\"evenodd\" fill-opacity=\"1\" stroke=\"#000000\" stroke-opacity=\"1\" stroke-width=\"3.2\"/>\n",
       "<circle clip-path=\"url(#clip172)\" cx=\"1605.86\" cy=\"390.075\" r=\"14.4\" fill=\"#009af9\" fill-rule=\"evenodd\" fill-opacity=\"1\" stroke=\"#000000\" stroke-opacity=\"1\" stroke-width=\"3.2\"/>\n",
       "<circle clip-path=\"url(#clip172)\" cx=\"1626.64\" cy=\"1224.03\" r=\"14.4\" fill=\"#009af9\" fill-rule=\"evenodd\" fill-opacity=\"1\" stroke=\"#000000\" stroke-opacity=\"1\" stroke-width=\"3.2\"/>\n",
       "<circle clip-path=\"url(#clip172)\" cx=\"1647.42\" cy=\"789.637\" r=\"14.4\" fill=\"#009af9\" fill-rule=\"evenodd\" fill-opacity=\"1\" stroke=\"#000000\" stroke-opacity=\"1\" stroke-width=\"3.2\"/>\n",
       "<circle clip-path=\"url(#clip172)\" cx=\"1668.2\" cy=\"308.618\" r=\"14.4\" fill=\"#009af9\" fill-rule=\"evenodd\" fill-opacity=\"1\" stroke=\"#000000\" stroke-opacity=\"1\" stroke-width=\"3.2\"/>\n",
       "<circle clip-path=\"url(#clip172)\" cx=\"1688.98\" cy=\"1076.81\" r=\"14.4\" fill=\"#009af9\" fill-rule=\"evenodd\" fill-opacity=\"1\" stroke=\"#000000\" stroke-opacity=\"1\" stroke-width=\"3.2\"/>\n",
       "<circle clip-path=\"url(#clip172)\" cx=\"1709.77\" cy=\"951.49\" r=\"14.4\" fill=\"#009af9\" fill-rule=\"evenodd\" fill-opacity=\"1\" stroke=\"#000000\" stroke-opacity=\"1\" stroke-width=\"3.2\"/>\n",
       "<circle clip-path=\"url(#clip172)\" cx=\"1730.55\" cy=\"321.263\" r=\"14.4\" fill=\"#009af9\" fill-rule=\"evenodd\" fill-opacity=\"1\" stroke=\"#000000\" stroke-opacity=\"1\" stroke-width=\"3.2\"/>\n",
       "<circle clip-path=\"url(#clip172)\" cx=\"1751.33\" cy=\"939.275\" r=\"14.4\" fill=\"#009af9\" fill-rule=\"evenodd\" fill-opacity=\"1\" stroke=\"#000000\" stroke-opacity=\"1\" stroke-width=\"3.2\"/>\n",
       "<circle clip-path=\"url(#clip172)\" cx=\"1772.11\" cy=\"1033.25\" r=\"14.4\" fill=\"#009af9\" fill-rule=\"evenodd\" fill-opacity=\"1\" stroke=\"#000000\" stroke-opacity=\"1\" stroke-width=\"3.2\"/>\n",
       "<circle clip-path=\"url(#clip172)\" cx=\"1792.89\" cy=\"373.407\" r=\"14.4\" fill=\"#009af9\" fill-rule=\"evenodd\" fill-opacity=\"1\" stroke=\"#000000\" stroke-opacity=\"1\" stroke-width=\"3.2\"/>\n",
       "<circle clip-path=\"url(#clip172)\" cx=\"1813.67\" cy=\"842.183\" r=\"14.4\" fill=\"#009af9\" fill-rule=\"evenodd\" fill-opacity=\"1\" stroke=\"#000000\" stroke-opacity=\"1\" stroke-width=\"3.2\"/>\n",
       "<circle clip-path=\"url(#clip172)\" cx=\"1834.46\" cy=\"1057.85\" r=\"14.4\" fill=\"#009af9\" fill-rule=\"evenodd\" fill-opacity=\"1\" stroke=\"#000000\" stroke-opacity=\"1\" stroke-width=\"3.2\"/>\n",
       "<circle clip-path=\"url(#clip172)\" cx=\"1855.24\" cy=\"429.219\" r=\"14.4\" fill=\"#009af9\" fill-rule=\"evenodd\" fill-opacity=\"1\" stroke=\"#000000\" stroke-opacity=\"1\" stroke-width=\"3.2\"/>\n",
       "<circle clip-path=\"url(#clip172)\" cx=\"1876.02\" cy=\"789.771\" r=\"14.4\" fill=\"#009af9\" fill-rule=\"evenodd\" fill-opacity=\"1\" stroke=\"#000000\" stroke-opacity=\"1\" stroke-width=\"3.2\"/>\n",
       "<circle clip-path=\"url(#clip172)\" cx=\"1896.8\" cy=\"1048.45\" r=\"14.4\" fill=\"#009af9\" fill-rule=\"evenodd\" fill-opacity=\"1\" stroke=\"#000000\" stroke-opacity=\"1\" stroke-width=\"3.2\"/>\n",
       "<circle clip-path=\"url(#clip172)\" cx=\"1917.58\" cy=\"472.37\" r=\"14.4\" fill=\"#009af9\" fill-rule=\"evenodd\" fill-opacity=\"1\" stroke=\"#000000\" stroke-opacity=\"1\" stroke-width=\"3.2\"/>\n",
       "<circle clip-path=\"url(#clip172)\" cx=\"1938.37\" cy=\"775.155\" r=\"14.4\" fill=\"#009af9\" fill-rule=\"evenodd\" fill-opacity=\"1\" stroke=\"#000000\" stroke-opacity=\"1\" stroke-width=\"3.2\"/>\n",
       "<circle clip-path=\"url(#clip172)\" cx=\"1959.15\" cy=\"1019.96\" r=\"14.4\" fill=\"#009af9\" fill-rule=\"evenodd\" fill-opacity=\"1\" stroke=\"#000000\" stroke-opacity=\"1\" stroke-width=\"3.2\"/>\n",
       "<circle clip-path=\"url(#clip172)\" cx=\"1979.93\" cy=\"500.089\" r=\"14.4\" fill=\"#009af9\" fill-rule=\"evenodd\" fill-opacity=\"1\" stroke=\"#000000\" stroke-opacity=\"1\" stroke-width=\"3.2\"/>\n",
       "<circle clip-path=\"url(#clip172)\" cx=\"2000.71\" cy=\"788.998\" r=\"14.4\" fill=\"#009af9\" fill-rule=\"evenodd\" fill-opacity=\"1\" stroke=\"#000000\" stroke-opacity=\"1\" stroke-width=\"3.2\"/>\n",
       "<circle clip-path=\"url(#clip172)\" cx=\"2021.49\" cy=\"978.647\" r=\"14.4\" fill=\"#009af9\" fill-rule=\"evenodd\" fill-opacity=\"1\" stroke=\"#000000\" stroke-opacity=\"1\" stroke-width=\"3.2\"/>\n",
       "<circle clip-path=\"url(#clip172)\" cx=\"2042.27\" cy=\"517.643\" r=\"14.4\" fill=\"#009af9\" fill-rule=\"evenodd\" fill-opacity=\"1\" stroke=\"#000000\" stroke-opacity=\"1\" stroke-width=\"3.2\"/>\n",
       "<circle clip-path=\"url(#clip172)\" cx=\"2063.06\" cy=\"822.128\" r=\"14.4\" fill=\"#009af9\" fill-rule=\"evenodd\" fill-opacity=\"1\" stroke=\"#000000\" stroke-opacity=\"1\" stroke-width=\"3.2\"/>\n",
       "<circle clip-path=\"url(#clip172)\" cx=\"2083.84\" cy=\"925.152\" r=\"14.4\" fill=\"#009af9\" fill-rule=\"evenodd\" fill-opacity=\"1\" stroke=\"#000000\" stroke-opacity=\"1\" stroke-width=\"3.2\"/>\n",
       "<circle clip-path=\"url(#clip172)\" cx=\"2104.62\" cy=\"534.837\" r=\"14.4\" fill=\"#009af9\" fill-rule=\"evenodd\" fill-opacity=\"1\" stroke=\"#000000\" stroke-opacity=\"1\" stroke-width=\"3.2\"/>\n",
       "<circle clip-path=\"url(#clip172)\" cx=\"2125.4\" cy=\"864.585\" r=\"14.4\" fill=\"#009af9\" fill-rule=\"evenodd\" fill-opacity=\"1\" stroke=\"#000000\" stroke-opacity=\"1\" stroke-width=\"3.2\"/>\n",
       "<circle clip-path=\"url(#clip172)\" cx=\"2146.18\" cy=\"858.77\" r=\"14.4\" fill=\"#009af9\" fill-rule=\"evenodd\" fill-opacity=\"1\" stroke=\"#000000\" stroke-opacity=\"1\" stroke-width=\"3.2\"/>\n",
       "<circle clip-path=\"url(#clip172)\" cx=\"2166.97\" cy=\"563.378\" r=\"14.4\" fill=\"#009af9\" fill-rule=\"evenodd\" fill-opacity=\"1\" stroke=\"#000000\" stroke-opacity=\"1\" stroke-width=\"3.2\"/>\n",
       "<circle clip-path=\"url(#clip172)\" cx=\"2187.75\" cy=\"903.605\" r=\"14.4\" fill=\"#009af9\" fill-rule=\"evenodd\" fill-opacity=\"1\" stroke=\"#000000\" stroke-opacity=\"1\" stroke-width=\"3.2\"/>\n",
       "<circle clip-path=\"url(#clip172)\" cx=\"2208.53\" cy=\"782.415\" r=\"14.4\" fill=\"#009af9\" fill-rule=\"evenodd\" fill-opacity=\"1\" stroke=\"#000000\" stroke-opacity=\"1\" stroke-width=\"3.2\"/>\n",
       "<circle clip-path=\"url(#clip172)\" cx=\"2229.31\" cy=\"613.15\" r=\"14.4\" fill=\"#009af9\" fill-rule=\"evenodd\" fill-opacity=\"1\" stroke=\"#000000\" stroke-opacity=\"1\" stroke-width=\"3.2\"/>\n",
       "<circle clip-path=\"url(#clip172)\" cx=\"2250.09\" cy=\"923.221\" r=\"14.4\" fill=\"#009af9\" fill-rule=\"evenodd\" fill-opacity=\"1\" stroke=\"#000000\" stroke-opacity=\"1\" stroke-width=\"3.2\"/>\n",
       "<circle clip-path=\"url(#clip172)\" cx=\"2270.88\" cy=\"707.026\" r=\"14.4\" fill=\"#009af9\" fill-rule=\"evenodd\" fill-opacity=\"1\" stroke=\"#000000\" stroke-opacity=\"1\" stroke-width=\"3.2\"/>\n",
       "<circle clip-path=\"url(#clip172)\" cx=\"2291.66\" cy=\"686.305\" r=\"14.4\" fill=\"#009af9\" fill-rule=\"evenodd\" fill-opacity=\"1\" stroke=\"#000000\" stroke-opacity=\"1\" stroke-width=\"3.2\"/>\n",
       "<circle clip-path=\"url(#clip172)\" cx=\"255.035\" cy=\"762.318\" r=\"14.4\" fill=\"#e26f46\" fill-rule=\"evenodd\" fill-opacity=\"1\" stroke=\"#000000\" stroke-opacity=\"1\" stroke-width=\"3.2\"/>\n",
       "<circle clip-path=\"url(#clip172)\" cx=\"275.817\" cy=\"765.269\" r=\"14.4\" fill=\"#e26f46\" fill-rule=\"evenodd\" fill-opacity=\"1\" stroke=\"#000000\" stroke-opacity=\"1\" stroke-width=\"3.2\"/>\n",
       "<circle clip-path=\"url(#clip172)\" cx=\"296.598\" cy=\"764.798\" r=\"14.4\" fill=\"#e26f46\" fill-rule=\"evenodd\" fill-opacity=\"1\" stroke=\"#000000\" stroke-opacity=\"1\" stroke-width=\"3.2\"/>\n",
       "<circle clip-path=\"url(#clip172)\" cx=\"317.38\" cy=\"751.075\" r=\"14.4\" fill=\"#e26f46\" fill-rule=\"evenodd\" fill-opacity=\"1\" stroke=\"#000000\" stroke-opacity=\"1\" stroke-width=\"3.2\"/>\n",
       "<circle clip-path=\"url(#clip172)\" cx=\"338.162\" cy=\"743.633\" r=\"14.4\" fill=\"#e26f46\" fill-rule=\"evenodd\" fill-opacity=\"1\" stroke=\"#000000\" stroke-opacity=\"1\" stroke-width=\"3.2\"/>\n",
       "<circle clip-path=\"url(#clip172)\" cx=\"358.944\" cy=\"772.04\" r=\"14.4\" fill=\"#e26f46\" fill-rule=\"evenodd\" fill-opacity=\"1\" stroke=\"#000000\" stroke-opacity=\"1\" stroke-width=\"3.2\"/>\n",
       "<circle clip-path=\"url(#clip172)\" cx=\"379.726\" cy=\"792.995\" r=\"14.4\" fill=\"#e26f46\" fill-rule=\"evenodd\" fill-opacity=\"1\" stroke=\"#000000\" stroke-opacity=\"1\" stroke-width=\"3.2\"/>\n",
       "<circle clip-path=\"url(#clip172)\" cx=\"400.508\" cy=\"779.825\" r=\"14.4\" fill=\"#e26f46\" fill-rule=\"evenodd\" fill-opacity=\"1\" stroke=\"#000000\" stroke-opacity=\"1\" stroke-width=\"3.2\"/>\n",
       "<circle clip-path=\"url(#clip172)\" cx=\"421.29\" cy=\"743.632\" r=\"14.4\" fill=\"#e26f46\" fill-rule=\"evenodd\" fill-opacity=\"1\" stroke=\"#000000\" stroke-opacity=\"1\" stroke-width=\"3.2\"/>\n",
       "<circle clip-path=\"url(#clip172)\" cx=\"442.071\" cy=\"705.506\" r=\"14.4\" fill=\"#e26f46\" fill-rule=\"evenodd\" fill-opacity=\"1\" stroke=\"#000000\" stroke-opacity=\"1\" stroke-width=\"3.2\"/>\n",
       "<circle clip-path=\"url(#clip172)\" cx=\"462.853\" cy=\"677.086\" r=\"14.4\" fill=\"#e26f46\" fill-rule=\"evenodd\" fill-opacity=\"1\" stroke=\"#000000\" stroke-opacity=\"1\" stroke-width=\"3.2\"/>\n",
       "<circle clip-path=\"url(#clip172)\" cx=\"483.635\" cy=\"657.607\" r=\"14.4\" fill=\"#e26f46\" fill-rule=\"evenodd\" fill-opacity=\"1\" stroke=\"#000000\" stroke-opacity=\"1\" stroke-width=\"3.2\"/>\n",
       "<circle clip-path=\"url(#clip172)\" cx=\"504.417\" cy=\"641.173\" r=\"14.4\" fill=\"#e26f46\" fill-rule=\"evenodd\" fill-opacity=\"1\" stroke=\"#000000\" stroke-opacity=\"1\" stroke-width=\"3.2\"/>\n",
       "<circle clip-path=\"url(#clip172)\" cx=\"525.199\" cy=\"621.925\" r=\"14.4\" fill=\"#e26f46\" fill-rule=\"evenodd\" fill-opacity=\"1\" stroke=\"#000000\" stroke-opacity=\"1\" stroke-width=\"3.2\"/>\n",
       "<circle clip-path=\"url(#clip172)\" cx=\"545.981\" cy=\"597.874\" r=\"14.4\" fill=\"#e26f46\" fill-rule=\"evenodd\" fill-opacity=\"1\" stroke=\"#000000\" stroke-opacity=\"1\" stroke-width=\"3.2\"/>\n",
       "<circle clip-path=\"url(#clip172)\" cx=\"566.763\" cy=\"574.297\" r=\"14.4\" fill=\"#e26f46\" fill-rule=\"evenodd\" fill-opacity=\"1\" stroke=\"#000000\" stroke-opacity=\"1\" stroke-width=\"3.2\"/>\n",
       "<circle clip-path=\"url(#clip172)\" cx=\"587.544\" cy=\"566.424\" r=\"14.4\" fill=\"#e26f46\" fill-rule=\"evenodd\" fill-opacity=\"1\" stroke=\"#000000\" stroke-opacity=\"1\" stroke-width=\"3.2\"/>\n",
       "<circle clip-path=\"url(#clip172)\" cx=\"608.326\" cy=\"596.842\" r=\"14.4\" fill=\"#e26f46\" fill-rule=\"evenodd\" fill-opacity=\"1\" stroke=\"#000000\" stroke-opacity=\"1\" stroke-width=\"3.2\"/>\n",
       "<circle clip-path=\"url(#clip172)\" cx=\"629.108\" cy=\"689.511\" r=\"14.4\" fill=\"#e26f46\" fill-rule=\"evenodd\" fill-opacity=\"1\" stroke=\"#000000\" stroke-opacity=\"1\" stroke-width=\"3.2\"/>\n",
       "<circle clip-path=\"url(#clip172)\" cx=\"649.89\" cy=\"843.716\" r=\"14.4\" fill=\"#e26f46\" fill-rule=\"evenodd\" fill-opacity=\"1\" stroke=\"#000000\" stroke-opacity=\"1\" stroke-width=\"3.2\"/>\n",
       "<circle clip-path=\"url(#clip172)\" cx=\"670.672\" cy=\"1010.45\" r=\"14.4\" fill=\"#e26f46\" fill-rule=\"evenodd\" fill-opacity=\"1\" stroke=\"#000000\" stroke-opacity=\"1\" stroke-width=\"3.2\"/>\n",
       "<circle clip-path=\"url(#clip172)\" cx=\"691.454\" cy=\"1087.82\" r=\"14.4\" fill=\"#e26f46\" fill-rule=\"evenodd\" fill-opacity=\"1\" stroke=\"#000000\" stroke-opacity=\"1\" stroke-width=\"3.2\"/>\n",
       "<circle clip-path=\"url(#clip172)\" cx=\"712.236\" cy=\"976.091\" r=\"14.4\" fill=\"#e26f46\" fill-rule=\"evenodd\" fill-opacity=\"1\" stroke=\"#000000\" stroke-opacity=\"1\" stroke-width=\"3.2\"/>\n",
       "<circle clip-path=\"url(#clip172)\" cx=\"733.018\" cy=\"685.676\" r=\"14.4\" fill=\"#e26f46\" fill-rule=\"evenodd\" fill-opacity=\"1\" stroke=\"#000000\" stroke-opacity=\"1\" stroke-width=\"3.2\"/>\n",
       "<circle clip-path=\"url(#clip172)\" cx=\"753.799\" cy=\"406.095\" r=\"14.4\" fill=\"#e26f46\" fill-rule=\"evenodd\" fill-opacity=\"1\" stroke=\"#000000\" stroke-opacity=\"1\" stroke-width=\"3.2\"/>\n",
       "<circle clip-path=\"url(#clip172)\" cx=\"774.581\" cy=\"409.479\" r=\"14.4\" fill=\"#e26f46\" fill-rule=\"evenodd\" fill-opacity=\"1\" stroke=\"#000000\" stroke-opacity=\"1\" stroke-width=\"3.2\"/>\n",
       "<circle clip-path=\"url(#clip172)\" cx=\"795.363\" cy=\"769.113\" r=\"14.4\" fill=\"#e26f46\" fill-rule=\"evenodd\" fill-opacity=\"1\" stroke=\"#000000\" stroke-opacity=\"1\" stroke-width=\"3.2\"/>\n",
       "<circle clip-path=\"url(#clip172)\" cx=\"816.145\" cy=\"1167.74\" r=\"14.4\" fill=\"#e26f46\" fill-rule=\"evenodd\" fill-opacity=\"1\" stroke=\"#000000\" stroke-opacity=\"1\" stroke-width=\"3.2\"/>\n",
       "<circle clip-path=\"url(#clip172)\" cx=\"836.927\" cy=\"1136.26\" r=\"14.4\" fill=\"#e26f46\" fill-rule=\"evenodd\" fill-opacity=\"1\" stroke=\"#000000\" stroke-opacity=\"1\" stroke-width=\"3.2\"/>\n",
       "<circle clip-path=\"url(#clip172)\" cx=\"857.709\" cy=\"631.896\" r=\"14.4\" fill=\"#e26f46\" fill-rule=\"evenodd\" fill-opacity=\"1\" stroke=\"#000000\" stroke-opacity=\"1\" stroke-width=\"3.2\"/>\n",
       "<circle clip-path=\"url(#clip172)\" cx=\"878.491\" cy=\"257.169\" r=\"14.4\" fill=\"#e26f46\" fill-rule=\"evenodd\" fill-opacity=\"1\" stroke=\"#000000\" stroke-opacity=\"1\" stroke-width=\"3.2\"/>\n",
       "<circle clip-path=\"url(#clip172)\" cx=\"899.272\" cy=\"561.593\" r=\"14.4\" fill=\"#e26f46\" fill-rule=\"evenodd\" fill-opacity=\"1\" stroke=\"#000000\" stroke-opacity=\"1\" stroke-width=\"3.2\"/>\n",
       "<circle clip-path=\"url(#clip172)\" cx=\"920.054\" cy=\"1186.08\" r=\"14.4\" fill=\"#e26f46\" fill-rule=\"evenodd\" fill-opacity=\"1\" stroke=\"#000000\" stroke-opacity=\"1\" stroke-width=\"3.2\"/>\n",
       "<circle clip-path=\"url(#clip172)\" cx=\"940.836\" cy=\"1199.74\" r=\"14.4\" fill=\"#e26f46\" fill-rule=\"evenodd\" fill-opacity=\"1\" stroke=\"#000000\" stroke-opacity=\"1\" stroke-width=\"3.2\"/>\n",
       "<circle clip-path=\"url(#clip172)\" cx=\"961.618\" cy=\"513.267\" r=\"14.4\" fill=\"#e26f46\" fill-rule=\"evenodd\" fill-opacity=\"1\" stroke=\"#000000\" stroke-opacity=\"1\" stroke-width=\"3.2\"/>\n",
       "<circle clip-path=\"url(#clip172)\" cx=\"982.4\" cy=\"206.024\" r=\"14.4\" fill=\"#e26f46\" fill-rule=\"evenodd\" fill-opacity=\"1\" stroke=\"#000000\" stroke-opacity=\"1\" stroke-width=\"3.2\"/>\n",
       "<circle clip-path=\"url(#clip172)\" cx=\"1003.18\" cy=\"843.763\" r=\"14.4\" fill=\"#e26f46\" fill-rule=\"evenodd\" fill-opacity=\"1\" stroke=\"#000000\" stroke-opacity=\"1\" stroke-width=\"3.2\"/>\n",
       "<circle clip-path=\"url(#clip172)\" cx=\"1023.96\" cy=\"1366.31\" r=\"14.4\" fill=\"#e26f46\" fill-rule=\"evenodd\" fill-opacity=\"1\" stroke=\"#000000\" stroke-opacity=\"1\" stroke-width=\"3.2\"/>\n",
       "<circle clip-path=\"url(#clip172)\" cx=\"1044.75\" cy=\"807.98\" r=\"14.4\" fill=\"#e26f46\" fill-rule=\"evenodd\" fill-opacity=\"1\" stroke=\"#000000\" stroke-opacity=\"1\" stroke-width=\"3.2\"/>\n",
       "<circle clip-path=\"url(#clip172)\" cx=\"1065.53\" cy=\"145.714\" r=\"14.4\" fill=\"#e26f46\" fill-rule=\"evenodd\" fill-opacity=\"1\" stroke=\"#000000\" stroke-opacity=\"1\" stroke-width=\"3.2\"/>\n",
       "<circle clip-path=\"url(#clip172)\" cx=\"1086.31\" cy=\"651.745\" r=\"14.4\" fill=\"#e26f46\" fill-rule=\"evenodd\" fill-opacity=\"1\" stroke=\"#000000\" stroke-opacity=\"1\" stroke-width=\"3.2\"/>\n",
       "<circle clip-path=\"url(#clip172)\" cx=\"1107.09\" cy=\"1390.92\" r=\"14.4\" fill=\"#e26f46\" fill-rule=\"evenodd\" fill-opacity=\"1\" stroke=\"#000000\" stroke-opacity=\"1\" stroke-width=\"3.2\"/>\n",
       "<circle clip-path=\"url(#clip172)\" cx=\"1127.87\" cy=\"886.029\" r=\"14.4\" fill=\"#e26f46\" fill-rule=\"evenodd\" fill-opacity=\"1\" stroke=\"#000000\" stroke-opacity=\"1\" stroke-width=\"3.2\"/>\n",
       "<circle clip-path=\"url(#clip172)\" cx=\"1148.65\" cy=\"118.946\" r=\"14.4\" fill=\"#e26f46\" fill-rule=\"evenodd\" fill-opacity=\"1\" stroke=\"#000000\" stroke-opacity=\"1\" stroke-width=\"3.2\"/>\n",
       "<circle clip-path=\"url(#clip172)\" cx=\"1169.44\" cy=\"684.041\" r=\"14.4\" fill=\"#e26f46\" fill-rule=\"evenodd\" fill-opacity=\"1\" stroke=\"#000000\" stroke-opacity=\"1\" stroke-width=\"3.2\"/>\n",
       "<circle clip-path=\"url(#clip172)\" cx=\"1190.22\" cy=\"1427.45\" r=\"14.4\" fill=\"#e26f46\" fill-rule=\"evenodd\" fill-opacity=\"1\" stroke=\"#000000\" stroke-opacity=\"1\" stroke-width=\"3.2\"/>\n",
       "<circle clip-path=\"url(#clip172)\" cx=\"1211\" cy=\"747.405\" r=\"14.4\" fill=\"#e26f46\" fill-rule=\"evenodd\" fill-opacity=\"1\" stroke=\"#000000\" stroke-opacity=\"1\" stroke-width=\"3.2\"/>\n",
       "<circle clip-path=\"url(#clip172)\" cx=\"1231.78\" cy=\"95.3578\" r=\"14.4\" fill=\"#e26f46\" fill-rule=\"evenodd\" fill-opacity=\"1\" stroke=\"#000000\" stroke-opacity=\"1\" stroke-width=\"3.2\"/>\n",
       "<circle clip-path=\"url(#clip172)\" cx=\"1252.56\" cy=\"925.744\" r=\"14.4\" fill=\"#e26f46\" fill-rule=\"evenodd\" fill-opacity=\"1\" stroke=\"#000000\" stroke-opacity=\"1\" stroke-width=\"3.2\"/>\n",
       "<circle clip-path=\"url(#clip172)\" cx=\"1273.35\" cy=\"1395.98\" r=\"14.4\" fill=\"#e26f46\" fill-rule=\"evenodd\" fill-opacity=\"1\" stroke=\"#000000\" stroke-opacity=\"1\" stroke-width=\"3.2\"/>\n",
       "<circle clip-path=\"url(#clip172)\" cx=\"1294.13\" cy=\"421.487\" r=\"14.4\" fill=\"#e26f46\" fill-rule=\"evenodd\" fill-opacity=\"1\" stroke=\"#000000\" stroke-opacity=\"1\" stroke-width=\"3.2\"/>\n",
       "<circle clip-path=\"url(#clip172)\" cx=\"1314.91\" cy=\"233.567\" r=\"14.4\" fill=\"#e26f46\" fill-rule=\"evenodd\" fill-opacity=\"1\" stroke=\"#000000\" stroke-opacity=\"1\" stroke-width=\"3.2\"/>\n",
       "<circle clip-path=\"url(#clip172)\" cx=\"1335.69\" cy=\"1283.36\" r=\"14.4\" fill=\"#e26f46\" fill-rule=\"evenodd\" fill-opacity=\"1\" stroke=\"#000000\" stroke-opacity=\"1\" stroke-width=\"3.2\"/>\n",
       "<circle clip-path=\"url(#clip172)\" cx=\"1356.47\" cy=\"1103.91\" r=\"14.4\" fill=\"#e26f46\" fill-rule=\"evenodd\" fill-opacity=\"1\" stroke=\"#000000\" stroke-opacity=\"1\" stroke-width=\"3.2\"/>\n",
       "<circle clip-path=\"url(#clip172)\" cx=\"1377.26\" cy=\"108.147\" r=\"14.4\" fill=\"#e26f46\" fill-rule=\"evenodd\" fill-opacity=\"1\" stroke=\"#000000\" stroke-opacity=\"1\" stroke-width=\"3.2\"/>\n",
       "<circle clip-path=\"url(#clip172)\" cx=\"1398.04\" cy=\"698.478\" r=\"14.4\" fill=\"#e26f46\" fill-rule=\"evenodd\" fill-opacity=\"1\" stroke=\"#000000\" stroke-opacity=\"1\" stroke-width=\"3.2\"/>\n",
       "<circle clip-path=\"url(#clip172)\" cx=\"1418.82\" cy=\"1445.72\" r=\"14.4\" fill=\"#e26f46\" fill-rule=\"evenodd\" fill-opacity=\"1\" stroke=\"#000000\" stroke-opacity=\"1\" stroke-width=\"3.2\"/>\n",
       "<circle clip-path=\"url(#clip172)\" cx=\"1439.6\" cy=\"512.754\" r=\"14.4\" fill=\"#e26f46\" fill-rule=\"evenodd\" fill-opacity=\"1\" stroke=\"#000000\" stroke-opacity=\"1\" stroke-width=\"3.2\"/>\n",
       "<circle clip-path=\"url(#clip172)\" cx=\"1460.38\" cy=\"207.674\" r=\"14.4\" fill=\"#e26f46\" fill-rule=\"evenodd\" fill-opacity=\"1\" stroke=\"#000000\" stroke-opacity=\"1\" stroke-width=\"3.2\"/>\n",
       "<circle clip-path=\"url(#clip172)\" cx=\"1481.16\" cy=\"1295.08\" r=\"14.4\" fill=\"#e26f46\" fill-rule=\"evenodd\" fill-opacity=\"1\" stroke=\"#000000\" stroke-opacity=\"1\" stroke-width=\"3.2\"/>\n",
       "<circle clip-path=\"url(#clip172)\" cx=\"1501.95\" cy=\"1034.08\" r=\"14.4\" fill=\"#e26f46\" fill-rule=\"evenodd\" fill-opacity=\"1\" stroke=\"#000000\" stroke-opacity=\"1\" stroke-width=\"3.2\"/>\n",
       "<circle clip-path=\"url(#clip172)\" cx=\"1522.73\" cy=\"87.9763\" r=\"14.4\" fill=\"#e26f46\" fill-rule=\"evenodd\" fill-opacity=\"1\" stroke=\"#000000\" stroke-opacity=\"1\" stroke-width=\"3.2\"/>\n",
       "<circle clip-path=\"url(#clip172)\" cx=\"1543.51\" cy=\"877.58\" r=\"14.4\" fill=\"#e26f46\" fill-rule=\"evenodd\" fill-opacity=\"1\" stroke=\"#000000\" stroke-opacity=\"1\" stroke-width=\"3.2\"/>\n",
       "<circle clip-path=\"url(#clip172)\" cx=\"1564.29\" cy=\"1367.61\" r=\"14.4\" fill=\"#e26f46\" fill-rule=\"evenodd\" fill-opacity=\"1\" stroke=\"#000000\" stroke-opacity=\"1\" stroke-width=\"3.2\"/>\n",
       "<circle clip-path=\"url(#clip172)\" cx=\"1585.07\" cy=\"281.867\" r=\"14.4\" fill=\"#e26f46\" fill-rule=\"evenodd\" fill-opacity=\"1\" stroke=\"#000000\" stroke-opacity=\"1\" stroke-width=\"3.2\"/>\n",
       "<circle clip-path=\"url(#clip172)\" cx=\"1605.86\" cy=\"468.755\" r=\"14.4\" fill=\"#e26f46\" fill-rule=\"evenodd\" fill-opacity=\"1\" stroke=\"#000000\" stroke-opacity=\"1\" stroke-width=\"3.2\"/>\n",
       "<circle clip-path=\"url(#clip172)\" cx=\"1626.64\" cy=\"1430.68\" r=\"14.4\" fill=\"#e26f46\" fill-rule=\"evenodd\" fill-opacity=\"1\" stroke=\"#000000\" stroke-opacity=\"1\" stroke-width=\"3.2\"/>\n",
       "<circle clip-path=\"url(#clip172)\" cx=\"1647.42\" cy=\"617.363\" r=\"14.4\" fill=\"#e26f46\" fill-rule=\"evenodd\" fill-opacity=\"1\" stroke=\"#000000\" stroke-opacity=\"1\" stroke-width=\"3.2\"/>\n",
       "<circle clip-path=\"url(#clip172)\" cx=\"1668.2\" cy=\"202.643\" r=\"14.4\" fill=\"#e26f46\" fill-rule=\"evenodd\" fill-opacity=\"1\" stroke=\"#000000\" stroke-opacity=\"1\" stroke-width=\"3.2\"/>\n",
       "<circle clip-path=\"url(#clip172)\" cx=\"1688.98\" cy=\"1290.47\" r=\"14.4\" fill=\"#e26f46\" fill-rule=\"evenodd\" fill-opacity=\"1\" stroke=\"#000000\" stroke-opacity=\"1\" stroke-width=\"3.2\"/>\n",
       "<circle clip-path=\"url(#clip172)\" cx=\"1709.77\" cy=\"938.797\" r=\"14.4\" fill=\"#e26f46\" fill-rule=\"evenodd\" fill-opacity=\"1\" stroke=\"#000000\" stroke-opacity=\"1\" stroke-width=\"3.2\"/>\n",
       "<circle clip-path=\"url(#clip172)\" cx=\"1730.55\" cy=\"113.797\" r=\"14.4\" fill=\"#e26f46\" fill-rule=\"evenodd\" fill-opacity=\"1\" stroke=\"#000000\" stroke-opacity=\"1\" stroke-width=\"3.2\"/>\n",
       "<circle clip-path=\"url(#clip172)\" cx=\"1751.33\" cy=\"1065.44\" r=\"14.4\" fill=\"#e26f46\" fill-rule=\"evenodd\" fill-opacity=\"1\" stroke=\"#000000\" stroke-opacity=\"1\" stroke-width=\"3.2\"/>\n",
       "<circle clip-path=\"url(#clip172)\" cx=\"1772.11\" cy=\"1178.84\" r=\"14.4\" fill=\"#e26f46\" fill-rule=\"evenodd\" fill-opacity=\"1\" stroke=\"#000000\" stroke-opacity=\"1\" stroke-width=\"3.2\"/>\n",
       "<circle clip-path=\"url(#clip172)\" cx=\"1792.89\" cy=\"149.923\" r=\"14.4\" fill=\"#e26f46\" fill-rule=\"evenodd\" fill-opacity=\"1\" stroke=\"#000000\" stroke-opacity=\"1\" stroke-width=\"3.2\"/>\n",
       "<circle clip-path=\"url(#clip172)\" cx=\"1813.67\" cy=\"830.483\" r=\"14.4\" fill=\"#e26f46\" fill-rule=\"evenodd\" fill-opacity=\"1\" stroke=\"#000000\" stroke-opacity=\"1\" stroke-width=\"3.2\"/>\n",
       "<circle clip-path=\"url(#clip172)\" cx=\"1834.46\" cy=\"1307.74\" r=\"14.4\" fill=\"#e26f46\" fill-rule=\"evenodd\" fill-opacity=\"1\" stroke=\"#000000\" stroke-opacity=\"1\" stroke-width=\"3.2\"/>\n",
       "<circle clip-path=\"url(#clip172)\" cx=\"1855.24\" cy=\"251.745\" r=\"14.4\" fill=\"#e26f46\" fill-rule=\"evenodd\" fill-opacity=\"1\" stroke=\"#000000\" stroke-opacity=\"1\" stroke-width=\"3.2\"/>\n",
       "<circle clip-path=\"url(#clip172)\" cx=\"1876.02\" cy=\"644.24\" r=\"14.4\" fill=\"#e26f46\" fill-rule=\"evenodd\" fill-opacity=\"1\" stroke=\"#000000\" stroke-opacity=\"1\" stroke-width=\"3.2\"/>\n",
       "<circle clip-path=\"url(#clip172)\" cx=\"1896.8\" cy=\"1366.56\" r=\"14.4\" fill=\"#e26f46\" fill-rule=\"evenodd\" fill-opacity=\"1\" stroke=\"#000000\" stroke-opacity=\"1\" stroke-width=\"3.2\"/>\n",
       "<circle clip-path=\"url(#clip172)\" cx=\"1917.58\" cy=\"374.425\" r=\"14.4\" fill=\"#e26f46\" fill-rule=\"evenodd\" fill-opacity=\"1\" stroke=\"#000000\" stroke-opacity=\"1\" stroke-width=\"3.2\"/>\n",
       "<circle clip-path=\"url(#clip172)\" cx=\"1938.37\" cy=\"509.458\" r=\"14.4\" fill=\"#e26f46\" fill-rule=\"evenodd\" fill-opacity=\"1\" stroke=\"#000000\" stroke-opacity=\"1\" stroke-width=\"3.2\"/>\n",
       "<circle clip-path=\"url(#clip172)\" cx=\"1959.15\" cy=\"1366.34\" r=\"14.4\" fill=\"#e26f46\" fill-rule=\"evenodd\" fill-opacity=\"1\" stroke=\"#000000\" stroke-opacity=\"1\" stroke-width=\"3.2\"/>\n",
       "<circle clip-path=\"url(#clip172)\" cx=\"1979.93\" cy=\"480.237\" r=\"14.4\" fill=\"#e26f46\" fill-rule=\"evenodd\" fill-opacity=\"1\" stroke=\"#000000\" stroke-opacity=\"1\" stroke-width=\"3.2\"/>\n",
       "<circle clip-path=\"url(#clip172)\" cx=\"2000.71\" cy=\"423.028\" r=\"14.4\" fill=\"#e26f46\" fill-rule=\"evenodd\" fill-opacity=\"1\" stroke=\"#000000\" stroke-opacity=\"1\" stroke-width=\"3.2\"/>\n",
       "<circle clip-path=\"url(#clip172)\" cx=\"2021.49\" cy=\"1345.23\" r=\"14.4\" fill=\"#e26f46\" fill-rule=\"evenodd\" fill-opacity=\"1\" stroke=\"#000000\" stroke-opacity=\"1\" stroke-width=\"3.2\"/>\n",
       "<circle clip-path=\"url(#clip172)\" cx=\"2042.27\" cy=\"557.063\" r=\"14.4\" fill=\"#e26f46\" fill-rule=\"evenodd\" fill-opacity=\"1\" stroke=\"#000000\" stroke-opacity=\"1\" stroke-width=\"3.2\"/>\n",
       "<circle clip-path=\"url(#clip172)\" cx=\"2063.06\" cy=\"382.039\" r=\"14.4\" fill=\"#e26f46\" fill-rule=\"evenodd\" fill-opacity=\"1\" stroke=\"#000000\" stroke-opacity=\"1\" stroke-width=\"3.2\"/>\n",
       "<circle clip-path=\"url(#clip172)\" cx=\"2083.84\" cy=\"1323.56\" r=\"14.4\" fill=\"#e26f46\" fill-rule=\"evenodd\" fill-opacity=\"1\" stroke=\"#000000\" stroke-opacity=\"1\" stroke-width=\"3.2\"/>\n",
       "<circle clip-path=\"url(#clip172)\" cx=\"2104.62\" cy=\"600.671\" r=\"14.4\" fill=\"#e26f46\" fill-rule=\"evenodd\" fill-opacity=\"1\" stroke=\"#000000\" stroke-opacity=\"1\" stroke-width=\"3.2\"/>\n",
       "<circle clip-path=\"url(#clip172)\" cx=\"2125.4\" cy=\"374.325\" r=\"14.4\" fill=\"#e26f46\" fill-rule=\"evenodd\" fill-opacity=\"1\" stroke=\"#000000\" stroke-opacity=\"1\" stroke-width=\"3.2\"/>\n",
       "<circle clip-path=\"url(#clip172)\" cx=\"2146.18\" cy=\"1306.71\" r=\"14.4\" fill=\"#e26f46\" fill-rule=\"evenodd\" fill-opacity=\"1\" stroke=\"#000000\" stroke-opacity=\"1\" stroke-width=\"3.2\"/>\n",
       "<circle clip-path=\"url(#clip172)\" cx=\"2166.97\" cy=\"606.946\" r=\"14.4\" fill=\"#e26f46\" fill-rule=\"evenodd\" fill-opacity=\"1\" stroke=\"#000000\" stroke-opacity=\"1\" stroke-width=\"3.2\"/>\n",
       "<circle clip-path=\"url(#clip172)\" cx=\"2187.75\" cy=\"386.805\" r=\"14.4\" fill=\"#e26f46\" fill-rule=\"evenodd\" fill-opacity=\"1\" stroke=\"#000000\" stroke-opacity=\"1\" stroke-width=\"3.2\"/>\n",
       "<circle clip-path=\"url(#clip172)\" cx=\"2208.53\" cy=\"1295.38\" r=\"14.4\" fill=\"#e26f46\" fill-rule=\"evenodd\" fill-opacity=\"1\" stroke=\"#000000\" stroke-opacity=\"1\" stroke-width=\"3.2\"/>\n",
       "<circle clip-path=\"url(#clip172)\" cx=\"2229.31\" cy=\"584.318\" r=\"14.4\" fill=\"#e26f46\" fill-rule=\"evenodd\" fill-opacity=\"1\" stroke=\"#000000\" stroke-opacity=\"1\" stroke-width=\"3.2\"/>\n",
       "<circle clip-path=\"url(#clip172)\" cx=\"2250.09\" cy=\"424.035\" r=\"14.4\" fill=\"#e26f46\" fill-rule=\"evenodd\" fill-opacity=\"1\" stroke=\"#000000\" stroke-opacity=\"1\" stroke-width=\"3.2\"/>\n",
       "<circle clip-path=\"url(#clip172)\" cx=\"2270.88\" cy=\"1290.95\" r=\"14.4\" fill=\"#e26f46\" fill-rule=\"evenodd\" fill-opacity=\"1\" stroke=\"#000000\" stroke-opacity=\"1\" stroke-width=\"3.2\"/>\n",
       "<circle clip-path=\"url(#clip172)\" cx=\"2291.66\" cy=\"534.829\" r=\"14.4\" fill=\"#e26f46\" fill-rule=\"evenodd\" fill-opacity=\"1\" stroke=\"#000000\" stroke-opacity=\"1\" stroke-width=\"3.2\"/>\n",
       "<path clip-path=\"url(#clip170)\" d=\"M265.897 250.738 L534.209 250.738 L534.209 95.2176 L265.897 95.2176  Z\" fill=\"#ffffff\" fill-rule=\"evenodd\" fill-opacity=\"1\"/>\n",
       "<polyline clip-path=\"url(#clip170)\" style=\"stroke:#000000; stroke-linecap:round; stroke-linejoin:round; stroke-width:4; stroke-opacity:1; fill:none\" points=\"265.897,250.738 534.209,250.738 534.209,95.2176 265.897,95.2176 265.897,250.738 \"/>\n",
       "<circle clip-path=\"url(#clip170)\" cx=\"361.844\" cy=\"147.058\" r=\"20.48\" fill=\"#009af9\" fill-rule=\"evenodd\" fill-opacity=\"1\" stroke=\"#000000\" stroke-opacity=\"1\" stroke-width=\"4.55111\"/>\n",
       "<path clip-path=\"url(#clip170)\" d=\"M471.634 166.745 Q469.829 171.375 468.116 172.787 Q466.403 174.199 463.532 174.199 L460.13 174.199 L460.13 170.634 L462.63 170.634 Q464.389 170.634 465.361 169.8 Q466.333 168.967 467.514 165.865 L468.278 163.921 L457.792 138.412 L462.306 138.412 L470.407 158.689 L478.509 138.412 L483.023 138.412 L471.634 166.745 Z\" fill=\"#000000\" fill-rule=\"nonzero\" fill-opacity=\"1\" /><path clip-path=\"url(#clip170)\" d=\"M490.315 160.402 L497.954 160.402 L497.954 134.037 L489.643 135.703 L489.643 131.444 L497.907 129.778 L502.583 129.778 L502.583 160.402 L510.222 160.402 L510.222 164.338 L490.315 164.338 L490.315 160.402 Z\" fill=\"#000000\" fill-rule=\"nonzero\" fill-opacity=\"1\" /><circle clip-path=\"url(#clip170)\" cx=\"361.844\" cy=\"198.898\" r=\"20.48\" fill=\"#e26f46\" fill-rule=\"evenodd\" fill-opacity=\"1\" stroke=\"#000000\" stroke-opacity=\"1\" stroke-width=\"4.55111\"/>\n",
       "<path clip-path=\"url(#clip170)\" d=\"M471.634 218.585 Q469.829 223.215 468.116 224.627 Q466.403 226.039 463.532 226.039 L460.13 226.039 L460.13 222.474 L462.63 222.474 Q464.389 222.474 465.361 221.64 Q466.333 220.807 467.514 217.705 L468.278 215.761 L457.792 190.252 L462.306 190.252 L470.407 210.529 L478.509 190.252 L483.023 190.252 L471.634 218.585 Z\" fill=\"#000000\" fill-rule=\"nonzero\" fill-opacity=\"1\" /><path clip-path=\"url(#clip170)\" d=\"M493.532 212.242 L509.852 212.242 L509.852 216.178 L487.907 216.178 L487.907 212.242 Q490.569 209.488 495.153 204.858 Q499.759 200.205 500.94 198.863 Q503.185 196.34 504.065 194.604 Q504.967 192.844 504.967 191.155 Q504.967 188.4 503.023 186.664 Q501.102 184.928 498 184.928 Q495.801 184.928 493.347 185.692 Q490.917 186.455 488.139 188.006 L488.139 183.284 Q490.963 182.15 493.417 181.571 Q495.87 180.993 497.907 180.993 Q503.278 180.993 506.472 183.678 Q509.666 186.363 509.666 190.854 Q509.666 192.983 508.856 194.905 Q508.069 196.803 505.963 199.395 Q505.384 200.067 502.282 203.284 Q499.18 206.479 493.532 212.242 Z\" fill=\"#000000\" fill-rule=\"nonzero\" fill-opacity=\"1\" /></svg>\n"
      ]
     },
     "metadata": {},
     "output_type": "display_data"
    }
   ],
   "source": [
    "scatter(1.0:0.5:50.0, real(Z_class_toy1[1:99,5])./maximum(real(Z_class_toy1[1:99,5])))\n",
    "scatter!(1.0:0.5:50.0, real(Z_toy1[1:99,5])./maximum(real(Z_toy1[1:99,5])))"
   ]
  },
  {
   "cell_type": "markdown",
   "metadata": {},
   "source": [
    "Toy2 amplitude vs. cl. sol. injection"
   ]
  },
  {
   "cell_type": "code",
   "execution_count": null,
   "metadata": {},
   "outputs": [
    {
     "ename": "",
     "evalue": "",
     "output_type": "error",
     "traceback": [
      "\u001b[1;31mFailed to start the Kernel. \n",
      "\u001b[1;31mView Jupyter <a href='command:jupyter.viewOutput'>log</a> for further details."
     ]
    }
   ],
   "source": [
    "scatter(1.0:0.5:50.0, real(Z_class_toy2[1:99,5])./maximum(real(Z_class_toy2[1:99,5])))\n",
    "scatter!(1.0:0.5:50.0, real(Z_toy2[1:99,5])./maximum(real(Z_toy2[1:99,5])))"
   ]
  },
  {
   "cell_type": "markdown",
   "metadata": {},
   "source": [
    "Toy2 amplitude with phi measure vs. cl. sol. injection"
   ]
  },
  {
   "cell_type": "code",
   "execution_count": 24,
   "metadata": {},
   "outputs": [
    {
     "data": {
      "image/png": "[encoded data removed]",
      "image/svg+xml": [
       "<?xml version=\"1.0\" encoding=\"utf-8\"?>\n",
       "<svg xmlns=\"http://www.w3.org/2000/svg\" xmlns:xlink=\"http://www.w3.org/1999/xlink\" width=\"600\" height=\"400\" viewBox=\"0 0 2400 1600\">\n",
       "<defs>\n",
       "  <clipPath id=\"clip300\">\n",
       "    <rect x=\"0\" y=\"0\" width=\"2400\" height=\"1600\"/>\n",
       "  </clipPath>\n",
       "</defs>\n",
       "<path clip-path=\"url(#clip300)\" d=\"M0 1600 L2400 1600 L2400 0 L0 0  Z\" fill=\"#ffffff\" fill-rule=\"evenodd\" fill-opacity=\"1\"/>\n",
       "<defs>\n",
       "  <clipPath id=\"clip301\">\n",
       "    <rect x=\"480\" y=\"0\" width=\"1681\" height=\"1600\"/>\n",
       "  </clipPath>\n",
       "</defs>\n",
       "<path clip-path=\"url(#clip300)\" d=\"M193.936 1486.45 L2352.76 1486.45 L2352.76 47.2441 L193.936 47.2441  Z\" fill=\"#ffffff\" fill-rule=\"evenodd\" fill-opacity=\"1\"/>\n",
       "<defs>\n",
       "  <clipPath id=\"clip302\">\n",
       "    <rect x=\"193\" y=\"47\" width=\"2160\" height=\"1440\"/>\n",
       "  </clipPath>\n",
       "</defs>\n",
       "<polyline clip-path=\"url(#clip302)\" style=\"stroke:#000000; stroke-linecap:round; stroke-linejoin:round; stroke-width:2; stroke-opacity:0.1; fill:none\" points=\"213.471,1486.45 213.471,47.2441 \"/>\n",
       "<polyline clip-path=\"url(#clip302)\" style=\"stroke:#000000; stroke-linecap:round; stroke-linejoin:round; stroke-width:2; stroke-opacity:0.1; fill:none\" points=\"629.108,1486.45 629.108,47.2441 \"/>\n",
       "<polyline clip-path=\"url(#clip302)\" style=\"stroke:#000000; stroke-linecap:round; stroke-linejoin:round; stroke-width:2; stroke-opacity:0.1; fill:none\" points=\"1044.75,1486.45 1044.75,47.2441 \"/>\n",
       "<polyline clip-path=\"url(#clip302)\" style=\"stroke:#000000; stroke-linecap:round; stroke-linejoin:round; stroke-width:2; stroke-opacity:0.1; fill:none\" points=\"1460.38,1486.45 1460.38,47.2441 \"/>\n",
       "<polyline clip-path=\"url(#clip302)\" style=\"stroke:#000000; stroke-linecap:round; stroke-linejoin:round; stroke-width:2; stroke-opacity:0.1; fill:none\" points=\"1876.02,1486.45 1876.02,47.2441 \"/>\n",
       "<polyline clip-path=\"url(#clip302)\" style=\"stroke:#000000; stroke-linecap:round; stroke-linejoin:round; stroke-width:2; stroke-opacity:0.1; fill:none\" points=\"2291.66,1486.45 2291.66,47.2441 \"/>\n",
       "<polyline clip-path=\"url(#clip300)\" style=\"stroke:#000000; stroke-linecap:round; stroke-linejoin:round; stroke-width:4; stroke-opacity:1; fill:none\" points=\"193.936,1486.45 2352.76,1486.45 \"/>\n",
       "<polyline clip-path=\"url(#clip300)\" style=\"stroke:#000000; stroke-linecap:round; stroke-linejoin:round; stroke-width:4; stroke-opacity:1; fill:none\" points=\"213.471,1486.45 213.471,1467.55 \"/>\n",
       "<polyline clip-path=\"url(#clip300)\" style=\"stroke:#000000; stroke-linecap:round; stroke-linejoin:round; stroke-width:4; stroke-opacity:1; fill:none\" points=\"629.108,1486.45 629.108,1467.55 \"/>\n",
       "<polyline clip-path=\"url(#clip300)\" style=\"stroke:#000000; stroke-linecap:round; stroke-linejoin:round; stroke-width:4; stroke-opacity:1; fill:none\" points=\"1044.75,1486.45 1044.75,1467.55 \"/>\n",
       "<polyline clip-path=\"url(#clip300)\" style=\"stroke:#000000; stroke-linecap:round; stroke-linejoin:round; stroke-width:4; stroke-opacity:1; fill:none\" points=\"1460.38,1486.45 1460.38,1467.55 \"/>\n",
       "<polyline clip-path=\"url(#clip300)\" style=\"stroke:#000000; stroke-linecap:round; stroke-linejoin:round; stroke-width:4; stroke-opacity:1; fill:none\" points=\"1876.02,1486.45 1876.02,1467.55 \"/>\n",
       "<polyline clip-path=\"url(#clip300)\" style=\"stroke:#000000; stroke-linecap:round; stroke-linejoin:round; stroke-width:4; stroke-opacity:1; fill:none\" points=\"2291.66,1486.45 2291.66,1467.55 \"/>\n",
       "<path clip-path=\"url(#clip300)\" d=\"M213.471 1517.37 Q209.86 1517.37 208.031 1520.93 Q206.226 1524.47 206.226 1531.6 Q206.226 1538.71 208.031 1542.27 Q209.86 1545.82 213.471 1545.82 Q217.105 1545.82 218.911 1542.27 Q220.739 1538.71 220.739 1531.6 Q220.739 1524.47 218.911 1520.93 Q217.105 1517.37 213.471 1517.37 M213.471 1513.66 Q219.281 1513.66 222.337 1518.27 Q225.415 1522.85 225.415 1531.6 Q225.415 1540.33 222.337 1544.94 Q219.281 1549.52 213.471 1549.52 Q207.661 1549.52 204.582 1544.94 Q201.527 1540.33 201.527 1531.6 Q201.527 1522.85 204.582 1518.27 Q207.661 1513.66 213.471 1513.66 Z\" fill=\"#000000\" fill-rule=\"nonzero\" fill-opacity=\"1\" /><path clip-path=\"url(#clip300)\" d=\"M603.796 1544.91 L611.435 1544.91 L611.435 1518.55 L603.125 1520.21 L603.125 1515.95 L611.388 1514.29 L616.064 1514.29 L616.064 1544.91 L623.703 1544.91 L623.703 1548.85 L603.796 1548.85 L603.796 1544.91 Z\" fill=\"#000000\" fill-rule=\"nonzero\" fill-opacity=\"1\" /><path clip-path=\"url(#clip300)\" d=\"M643.147 1517.37 Q639.536 1517.37 637.708 1520.93 Q635.902 1524.47 635.902 1531.6 Q635.902 1538.71 637.708 1542.27 Q639.536 1545.82 643.147 1545.82 Q646.782 1545.82 648.587 1542.27 Q650.416 1538.71 650.416 1531.6 Q650.416 1524.47 648.587 1520.93 Q646.782 1517.37 643.147 1517.37 M643.147 1513.66 Q648.958 1513.66 652.013 1518.27 Q655.092 1522.85 655.092 1531.6 Q655.092 1540.33 652.013 1544.94 Q648.958 1549.52 643.147 1549.52 Q637.337 1549.52 634.259 1544.94 Q631.203 1540.33 631.203 1531.6 Q631.203 1522.85 634.259 1518.27 Q637.337 1513.66 643.147 1513.66 Z\" fill=\"#000000\" fill-rule=\"nonzero\" fill-opacity=\"1\" /><path clip-path=\"url(#clip300)\" d=\"M1023.52 1544.91 L1039.84 1544.91 L1039.84 1548.85 L1017.89 1548.85 L1017.89 1544.91 Q1020.56 1542.16 1025.14 1537.53 Q1029.75 1532.88 1030.93 1531.53 Q1033.17 1529.01 1034.05 1527.27 Q1034.95 1525.51 1034.95 1523.82 Q1034.95 1521.07 1033.01 1519.33 Q1031.09 1517.6 1027.99 1517.6 Q1025.79 1517.6 1023.33 1518.36 Q1020.9 1519.13 1018.13 1520.68 L1018.13 1515.95 Q1020.95 1514.82 1023.4 1514.24 Q1025.86 1513.66 1027.89 1513.66 Q1033.26 1513.66 1036.46 1516.35 Q1039.65 1519.03 1039.65 1523.52 Q1039.65 1525.65 1038.84 1527.57 Q1038.06 1529.47 1035.95 1532.07 Q1035.37 1532.74 1032.27 1535.95 Q1029.17 1539.15 1023.52 1544.91 Z\" fill=\"#000000\" fill-rule=\"nonzero\" fill-opacity=\"1\" /><path clip-path=\"url(#clip300)\" d=\"M1059.65 1517.37 Q1056.04 1517.37 1054.21 1520.93 Q1052.41 1524.47 1052.41 1531.6 Q1052.41 1538.71 1054.21 1542.27 Q1056.04 1545.82 1059.65 1545.82 Q1063.29 1545.82 1065.09 1542.27 Q1066.92 1538.71 1066.92 1531.6 Q1066.92 1524.47 1065.09 1520.93 Q1063.29 1517.37 1059.65 1517.37 M1059.65 1513.66 Q1065.46 1513.66 1068.52 1518.27 Q1071.6 1522.85 1071.6 1531.6 Q1071.6 1540.33 1068.52 1544.94 Q1065.46 1549.52 1059.65 1549.52 Q1053.84 1549.52 1050.76 1544.94 Q1047.71 1540.33 1047.71 1531.6 Q1047.71 1522.85 1050.76 1518.27 Q1053.84 1513.66 1059.65 1513.66 Z\" fill=\"#000000\" fill-rule=\"nonzero\" fill-opacity=\"1\" /><path clip-path=\"url(#clip300)\" d=\"M1449.23 1530.21 Q1452.58 1530.93 1454.46 1533.2 Q1456.35 1535.47 1456.35 1538.8 Q1456.35 1543.92 1452.84 1546.72 Q1449.32 1549.52 1442.84 1549.52 Q1440.66 1549.52 1438.35 1549.08 Q1436.05 1548.66 1433.6 1547.81 L1433.6 1543.29 Q1435.54 1544.43 1437.86 1545.01 Q1440.17 1545.58 1442.7 1545.58 Q1447.1 1545.58 1449.39 1543.85 Q1451.7 1542.11 1451.7 1538.8 Q1451.7 1535.75 1449.55 1534.03 Q1447.42 1532.3 1443.6 1532.3 L1439.57 1532.3 L1439.57 1528.45 L1443.79 1528.45 Q1447.23 1528.45 1449.06 1527.09 Q1450.89 1525.7 1450.89 1523.11 Q1450.89 1520.45 1448.99 1519.03 Q1447.12 1517.6 1443.6 1517.6 Q1441.68 1517.6 1439.48 1518.01 Q1437.28 1518.43 1434.64 1519.31 L1434.64 1515.14 Q1437.3 1514.4 1439.62 1514.03 Q1441.96 1513.66 1444.02 1513.66 Q1449.34 1513.66 1452.44 1516.09 Q1455.54 1518.5 1455.54 1522.62 Q1455.54 1525.49 1453.9 1527.48 Q1452.26 1529.45 1449.23 1530.21 Z\" fill=\"#000000\" fill-rule=\"nonzero\" fill-opacity=\"1\" /><path clip-path=\"url(#clip300)\" d=\"M1475.22 1517.37 Q1471.61 1517.37 1469.78 1520.93 Q1467.98 1524.47 1467.98 1531.6 Q1467.98 1538.71 1469.78 1542.27 Q1471.61 1545.82 1475.22 1545.82 Q1478.85 1545.82 1480.66 1542.27 Q1482.49 1538.71 1482.49 1531.6 Q1482.49 1524.47 1480.66 1520.93 Q1478.85 1517.37 1475.22 1517.37 M1475.22 1513.66 Q1481.03 1513.66 1484.09 1518.27 Q1487.16 1522.85 1487.16 1531.6 Q1487.16 1540.33 1484.09 1544.94 Q1481.03 1549.52 1475.22 1549.52 Q1469.41 1549.52 1466.33 1544.94 Q1463.28 1540.33 1463.28 1531.6 Q1463.28 1522.85 1466.33 1518.27 Q1469.41 1513.66 1475.22 1513.66 Z\" fill=\"#000000\" fill-rule=\"nonzero\" fill-opacity=\"1\" /><path clip-path=\"url(#clip300)\" d=\"M1864.19 1518.36 L1852.39 1536.81 L1864.19 1536.81 L1864.19 1518.36 M1862.96 1514.29 L1868.84 1514.29 L1868.84 1536.81 L1873.77 1536.81 L1873.77 1540.7 L1868.84 1540.7 L1868.84 1548.85 L1864.19 1548.85 L1864.19 1540.7 L1848.59 1540.7 L1848.59 1536.19 L1862.96 1514.29 Z\" fill=\"#000000\" fill-rule=\"nonzero\" fill-opacity=\"1\" /><path clip-path=\"url(#clip300)\" d=\"M1891.51 1517.37 Q1887.89 1517.37 1886.07 1520.93 Q1884.26 1524.47 1884.26 1531.6 Q1884.26 1538.71 1886.07 1542.27 Q1887.89 1545.82 1891.51 1545.82 Q1895.14 1545.82 1896.95 1542.27 Q1898.77 1538.71 1898.77 1531.6 Q1898.77 1524.47 1896.95 1520.93 Q1895.14 1517.37 1891.51 1517.37 M1891.51 1513.66 Q1897.32 1513.66 1900.37 1518.27 Q1903.45 1522.85 1903.45 1531.6 Q1903.45 1540.33 1900.37 1544.94 Q1897.32 1549.52 1891.51 1549.52 Q1885.7 1549.52 1882.62 1544.94 Q1879.56 1540.33 1879.56 1531.6 Q1879.56 1522.85 1882.62 1518.27 Q1885.7 1513.66 1891.51 1513.66 Z\" fill=\"#000000\" fill-rule=\"nonzero\" fill-opacity=\"1\" /><path clip-path=\"url(#clip300)\" d=\"M2266.36 1514.29 L2284.71 1514.29 L2284.71 1518.22 L2270.64 1518.22 L2270.64 1526.7 Q2271.66 1526.35 2272.68 1526.19 Q2273.69 1526 2274.71 1526 Q2280.5 1526 2283.88 1529.17 Q2287.26 1532.34 2287.26 1537.76 Q2287.26 1543.34 2283.79 1546.44 Q2280.31 1549.52 2274 1549.52 Q2271.82 1549.52 2269.55 1549.15 Q2267.31 1548.78 2264.9 1548.04 L2264.9 1543.34 Q2266.98 1544.47 2269.2 1545.03 Q2271.43 1545.58 2273.9 1545.58 Q2277.91 1545.58 2280.25 1543.48 Q2282.58 1541.37 2282.58 1537.76 Q2282.58 1534.15 2280.25 1532.04 Q2277.91 1529.94 2273.9 1529.94 Q2272.03 1529.94 2270.15 1530.35 Q2268.3 1530.77 2266.36 1531.65 L2266.36 1514.29 Z\" fill=\"#000000\" fill-rule=\"nonzero\" fill-opacity=\"1\" /><path clip-path=\"url(#clip300)\" d=\"M2306.47 1517.37 Q2302.86 1517.37 2301.03 1520.93 Q2299.23 1524.47 2299.23 1531.6 Q2299.23 1538.71 2301.03 1542.27 Q2302.86 1545.82 2306.47 1545.82 Q2310.11 1545.82 2311.91 1542.27 Q2313.74 1538.71 2313.74 1531.6 Q2313.74 1524.47 2311.91 1520.93 Q2310.11 1517.37 2306.47 1517.37 M2306.47 1513.66 Q2312.28 1513.66 2315.34 1518.27 Q2318.42 1522.85 2318.42 1531.6 Q2318.42 1540.33 2315.34 1544.94 Q2312.28 1549.52 2306.47 1549.52 Q2300.66 1549.52 2297.58 1544.94 Q2294.53 1540.33 2294.53 1531.6 Q2294.53 1522.85 2297.58 1518.27 Q2300.66 1513.66 2306.47 1513.66 Z\" fill=\"#000000\" fill-rule=\"nonzero\" fill-opacity=\"1\" /><polyline clip-path=\"url(#clip302)\" style=\"stroke:#000000; stroke-linecap:round; stroke-linejoin:round; stroke-width:2; stroke-opacity:0.1; fill:none\" points=\"193.936,1440.72 2352.76,1440.72 \"/>\n",
       "<polyline clip-path=\"url(#clip302)\" style=\"stroke:#000000; stroke-linecap:round; stroke-linejoin:round; stroke-width:2; stroke-opacity:0.1; fill:none\" points=\"193.936,1102.54 2352.76,1102.54 \"/>\n",
       "<polyline clip-path=\"url(#clip302)\" style=\"stroke:#000000; stroke-linecap:round; stroke-linejoin:round; stroke-width:2; stroke-opacity:0.1; fill:none\" points=\"193.936,764.349 2352.76,764.349 \"/>\n",
       "<polyline clip-path=\"url(#clip302)\" style=\"stroke:#000000; stroke-linecap:round; stroke-linejoin:round; stroke-width:2; stroke-opacity:0.1; fill:none\" points=\"193.936,426.163 2352.76,426.163 \"/>\n",
       "<polyline clip-path=\"url(#clip302)\" style=\"stroke:#000000; stroke-linecap:round; stroke-linejoin:round; stroke-width:2; stroke-opacity:0.1; fill:none\" points=\"193.936,87.9763 2352.76,87.9763 \"/>\n",
       "<polyline clip-path=\"url(#clip300)\" style=\"stroke:#000000; stroke-linecap:round; stroke-linejoin:round; stroke-width:4; stroke-opacity:1; fill:none\" points=\"193.936,1486.45 193.936,47.2441 \"/>\n",
       "<polyline clip-path=\"url(#clip300)\" style=\"stroke:#000000; stroke-linecap:round; stroke-linejoin:round; stroke-width:4; stroke-opacity:1; fill:none\" points=\"193.936,1440.72 212.834,1440.72 \"/>\n",
       "<polyline clip-path=\"url(#clip300)\" style=\"stroke:#000000; stroke-linecap:round; stroke-linejoin:round; stroke-width:4; stroke-opacity:1; fill:none\" points=\"193.936,1102.54 212.834,1102.54 \"/>\n",
       "<polyline clip-path=\"url(#clip300)\" style=\"stroke:#000000; stroke-linecap:round; stroke-linejoin:round; stroke-width:4; stroke-opacity:1; fill:none\" points=\"193.936,764.349 212.834,764.349 \"/>\n",
       "<polyline clip-path=\"url(#clip300)\" style=\"stroke:#000000; stroke-linecap:round; stroke-linejoin:round; stroke-width:4; stroke-opacity:1; fill:none\" points=\"193.936,426.163 212.834,426.163 \"/>\n",
       "<polyline clip-path=\"url(#clip300)\" style=\"stroke:#000000; stroke-linecap:round; stroke-linejoin:round; stroke-width:4; stroke-opacity:1; fill:none\" points=\"193.936,87.9763 212.834,87.9763 \"/>\n",
       "<path clip-path=\"url(#clip300)\" d=\"M50.9921 1441.17 L80.6679 1441.17 L80.6679 1445.11 L50.9921 1445.11 L50.9921 1441.17 Z\" fill=\"#000000\" fill-rule=\"nonzero\" fill-opacity=\"1\" /><path clip-path=\"url(#clip300)\" d=\"M91.5706 1454.07 L99.2095 1454.07 L99.2095 1427.7 L90.8993 1429.37 L90.8993 1425.11 L99.1632 1423.44 L103.839 1423.44 L103.839 1454.07 L111.478 1454.07 L111.478 1458 L91.5706 1458 L91.5706 1454.07 Z\" fill=\"#000000\" fill-rule=\"nonzero\" fill-opacity=\"1\" /><path clip-path=\"url(#clip300)\" d=\"M120.922 1452.12 L125.807 1452.12 L125.807 1458 L120.922 1458 L120.922 1452.12 Z\" fill=\"#000000\" fill-rule=\"nonzero\" fill-opacity=\"1\" /><path clip-path=\"url(#clip300)\" d=\"M145.992 1426.52 Q142.381 1426.52 140.552 1430.08 Q138.746 1433.63 138.746 1440.76 Q138.746 1447.86 140.552 1451.43 Q142.381 1454.97 145.992 1454.97 Q149.626 1454.97 151.431 1451.43 Q153.26 1447.86 153.26 1440.76 Q153.26 1433.63 151.431 1430.08 Q149.626 1426.52 145.992 1426.52 M145.992 1422.82 Q151.802 1422.82 154.857 1427.42 Q157.936 1432.01 157.936 1440.76 Q157.936 1449.48 154.857 1454.09 Q151.802 1458.67 145.992 1458.67 Q140.181 1458.67 137.103 1454.09 Q134.047 1449.48 134.047 1440.76 Q134.047 1432.01 137.103 1427.42 Q140.181 1422.82 145.992 1422.82 Z\" fill=\"#000000\" fill-rule=\"nonzero\" fill-opacity=\"1\" /><path clip-path=\"url(#clip300)\" d=\"M51.9875 1102.99 L81.6633 1102.99 L81.6633 1106.92 L51.9875 1106.92 L51.9875 1102.99 Z\" fill=\"#000000\" fill-rule=\"nonzero\" fill-opacity=\"1\" /><path clip-path=\"url(#clip300)\" d=\"M101.756 1088.33 Q98.1447 1088.33 96.316 1091.9 Q94.5104 1095.44 94.5104 1102.57 Q94.5104 1109.68 96.316 1113.24 Q98.1447 1116.78 101.756 1116.78 Q105.39 1116.78 107.196 1113.24 Q109.024 1109.68 109.024 1102.57 Q109.024 1095.44 107.196 1091.9 Q105.39 1088.33 101.756 1088.33 M101.756 1084.63 Q107.566 1084.63 110.621 1089.24 Q113.7 1093.82 113.7 1102.57 Q113.7 1111.3 110.621 1115.9 Q107.566 1120.49 101.756 1120.49 Q95.9456 1120.49 92.8669 1115.9 Q89.8114 1111.3 89.8114 1102.57 Q89.8114 1093.82 92.8669 1089.24 Q95.9456 1084.63 101.756 1084.63 Z\" fill=\"#000000\" fill-rule=\"nonzero\" fill-opacity=\"1\" /><path clip-path=\"url(#clip300)\" d=\"M121.918 1113.94 L126.802 1113.94 L126.802 1119.82 L121.918 1119.82 L121.918 1113.94 Z\" fill=\"#000000\" fill-rule=\"nonzero\" fill-opacity=\"1\" /><path clip-path=\"url(#clip300)\" d=\"M137.033 1085.26 L155.39 1085.26 L155.39 1089.19 L141.316 1089.19 L141.316 1097.66 Q142.334 1097.32 143.353 1097.15 Q144.371 1096.97 145.39 1096.97 Q151.177 1096.97 154.556 1100.14 Q157.936 1103.31 157.936 1108.73 Q157.936 1114.31 154.464 1117.41 Q150.992 1120.49 144.672 1120.49 Q142.496 1120.49 140.228 1120.12 Q137.982 1119.75 135.575 1119 L135.575 1114.31 Q137.658 1115.44 139.881 1116 Q142.103 1116.55 144.58 1116.55 Q148.584 1116.55 150.922 1114.44 Q153.26 1112.34 153.26 1108.73 Q153.26 1105.12 150.922 1103.01 Q148.584 1100.9 144.58 1100.9 Q142.705 1100.9 140.83 1101.32 Q138.978 1101.74 137.033 1102.62 L137.033 1085.26 Z\" fill=\"#000000\" fill-rule=\"nonzero\" fill-opacity=\"1\" /><path clip-path=\"url(#clip300)\" d=\"M100.76 750.147 Q97.1493 750.147 95.3206 753.712 Q93.515 757.254 93.515 764.383 Q93.515 771.49 95.3206 775.055 Q97.1493 778.596 100.76 778.596 Q104.395 778.596 106.2 775.055 Q108.029 771.49 108.029 764.383 Q108.029 757.254 106.2 753.712 Q104.395 750.147 100.76 750.147 M100.76 746.444 Q106.571 746.444 109.626 751.05 Q112.705 755.634 112.705 764.383 Q112.705 773.11 109.626 777.717 Q106.571 782.3 100.76 782.3 Q94.9502 782.3 91.8715 777.717 Q88.816 773.11 88.816 764.383 Q88.816 755.634 91.8715 751.05 Q94.9502 746.444 100.76 746.444 Z\" fill=\"#000000\" fill-rule=\"nonzero\" fill-opacity=\"1\" /><path clip-path=\"url(#clip300)\" d=\"M120.922 775.749 L125.807 775.749 L125.807 781.629 L120.922 781.629 L120.922 775.749 Z\" fill=\"#000000\" fill-rule=\"nonzero\" fill-opacity=\"1\" /><path clip-path=\"url(#clip300)\" d=\"M145.992 750.147 Q142.381 750.147 140.552 753.712 Q138.746 757.254 138.746 764.383 Q138.746 771.49 140.552 775.055 Q142.381 778.596 145.992 778.596 Q149.626 778.596 151.431 775.055 Q153.26 771.49 153.26 764.383 Q153.26 757.254 151.431 753.712 Q149.626 750.147 145.992 750.147 M145.992 746.444 Q151.802 746.444 154.857 751.05 Q157.936 755.634 157.936 764.383 Q157.936 773.11 154.857 777.717 Q151.802 782.3 145.992 782.3 Q140.181 782.3 137.103 777.717 Q134.047 773.11 134.047 764.383 Q134.047 755.634 137.103 751.05 Q140.181 746.444 145.992 746.444 Z\" fill=\"#000000\" fill-rule=\"nonzero\" fill-opacity=\"1\" /><path clip-path=\"url(#clip300)\" d=\"M101.756 411.961 Q98.1447 411.961 96.316 415.526 Q94.5104 419.068 94.5104 426.197 Q94.5104 433.304 96.316 436.868 Q98.1447 440.41 101.756 440.41 Q105.39 440.41 107.196 436.868 Q109.024 433.304 109.024 426.197 Q109.024 419.068 107.196 415.526 Q105.39 411.961 101.756 411.961 M101.756 408.258 Q107.566 408.258 110.621 412.864 Q113.7 417.447 113.7 426.197 Q113.7 434.924 110.621 439.531 Q107.566 444.114 101.756 444.114 Q95.9456 444.114 92.8669 439.531 Q89.8114 434.924 89.8114 426.197 Q89.8114 417.447 92.8669 412.864 Q95.9456 408.258 101.756 408.258 Z\" fill=\"#000000\" fill-rule=\"nonzero\" fill-opacity=\"1\" /><path clip-path=\"url(#clip300)\" d=\"M121.918 437.563 L126.802 437.563 L126.802 443.443 L121.918 443.443 L121.918 437.563 Z\" fill=\"#000000\" fill-rule=\"nonzero\" fill-opacity=\"1\" /><path clip-path=\"url(#clip300)\" d=\"M137.033 408.883 L155.39 408.883 L155.39 412.818 L141.316 412.818 L141.316 421.29 Q142.334 420.943 143.353 420.781 Q144.371 420.595 145.39 420.595 Q151.177 420.595 154.556 423.767 Q157.936 426.938 157.936 432.355 Q157.936 437.933 154.464 441.035 Q150.992 444.114 144.672 444.114 Q142.496 444.114 140.228 443.743 Q137.982 443.373 135.575 442.632 L135.575 437.933 Q137.658 439.068 139.881 439.623 Q142.103 440.179 144.58 440.179 Q148.584 440.179 150.922 438.072 Q153.26 435.966 153.26 432.355 Q153.26 428.744 150.922 426.637 Q148.584 424.531 144.58 424.531 Q142.705 424.531 140.83 424.947 Q138.978 425.364 137.033 426.244 L137.033 408.883 Z\" fill=\"#000000\" fill-rule=\"nonzero\" fill-opacity=\"1\" /><path clip-path=\"url(#clip300)\" d=\"M91.5706 101.321 L99.2095 101.321 L99.2095 74.9555 L90.8993 76.6222 L90.8993 72.3629 L99.1632 70.6963 L103.839 70.6963 L103.839 101.321 L111.478 101.321 L111.478 105.256 L91.5706 105.256 L91.5706 101.321 Z\" fill=\"#000000\" fill-rule=\"nonzero\" fill-opacity=\"1\" /><path clip-path=\"url(#clip300)\" d=\"M120.922 99.3767 L125.807 99.3767 L125.807 105.256 L120.922 105.256 L120.922 99.3767 Z\" fill=\"#000000\" fill-rule=\"nonzero\" fill-opacity=\"1\" /><path clip-path=\"url(#clip300)\" d=\"M145.992 73.775 Q142.381 73.775 140.552 77.3398 Q138.746 80.8814 138.746 88.011 Q138.746 95.1174 140.552 98.6822 Q142.381 102.224 145.992 102.224 Q149.626 102.224 151.431 98.6822 Q153.26 95.1174 153.26 88.011 Q153.26 80.8814 151.431 77.3398 Q149.626 73.775 145.992 73.775 M145.992 70.0713 Q151.802 70.0713 154.857 74.6777 Q157.936 79.261 157.936 88.011 Q157.936 96.7378 154.857 101.344 Q151.802 105.928 145.992 105.928 Q140.181 105.928 137.103 101.344 Q134.047 96.7378 134.047 88.011 Q134.047 79.261 137.103 74.6777 Q140.181 70.0713 145.992 70.0713 Z\" fill=\"#000000\" fill-rule=\"nonzero\" fill-opacity=\"1\" /><circle clip-path=\"url(#clip302)\" cx=\"255.035\" cy=\"764.341\" r=\"14.4\" fill=\"#009af9\" fill-rule=\"evenodd\" fill-opacity=\"1\" stroke=\"#000000\" stroke-opacity=\"1\" stroke-width=\"3.2\"/>\n",
       "<circle clip-path=\"url(#clip302)\" cx=\"275.817\" cy=\"764.246\" r=\"14.4\" fill=\"#009af9\" fill-rule=\"evenodd\" fill-opacity=\"1\" stroke=\"#000000\" stroke-opacity=\"1\" stroke-width=\"3.2\"/>\n",
       "<circle clip-path=\"url(#clip302)\" cx=\"296.598\" cy=\"764.743\" r=\"14.4\" fill=\"#009af9\" fill-rule=\"evenodd\" fill-opacity=\"1\" stroke=\"#000000\" stroke-opacity=\"1\" stroke-width=\"3.2\"/>\n",
       "<circle clip-path=\"url(#clip302)\" cx=\"317.38\" cy=\"765.645\" r=\"14.4\" fill=\"#009af9\" fill-rule=\"evenodd\" fill-opacity=\"1\" stroke=\"#000000\" stroke-opacity=\"1\" stroke-width=\"3.2\"/>\n",
       "<circle clip-path=\"url(#clip302)\" cx=\"338.162\" cy=\"764.799\" r=\"14.4\" fill=\"#009af9\" fill-rule=\"evenodd\" fill-opacity=\"1\" stroke=\"#000000\" stroke-opacity=\"1\" stroke-width=\"3.2\"/>\n",
       "<circle clip-path=\"url(#clip302)\" cx=\"358.944\" cy=\"761.328\" r=\"14.4\" fill=\"#009af9\" fill-rule=\"evenodd\" fill-opacity=\"1\" stroke=\"#000000\" stroke-opacity=\"1\" stroke-width=\"3.2\"/>\n",
       "<circle clip-path=\"url(#clip302)\" cx=\"379.726\" cy=\"755.998\" r=\"14.4\" fill=\"#009af9\" fill-rule=\"evenodd\" fill-opacity=\"1\" stroke=\"#000000\" stroke-opacity=\"1\" stroke-width=\"3.2\"/>\n",
       "<circle clip-path=\"url(#clip302)\" cx=\"400.508\" cy=\"749.62\" r=\"14.4\" fill=\"#009af9\" fill-rule=\"evenodd\" fill-opacity=\"1\" stroke=\"#000000\" stroke-opacity=\"1\" stroke-width=\"3.2\"/>\n",
       "<circle clip-path=\"url(#clip302)\" cx=\"421.29\" cy=\"743.531\" r=\"14.4\" fill=\"#009af9\" fill-rule=\"evenodd\" fill-opacity=\"1\" stroke=\"#000000\" stroke-opacity=\"1\" stroke-width=\"3.2\"/>\n",
       "<circle clip-path=\"url(#clip302)\" cx=\"442.071\" cy=\"742.647\" r=\"14.4\" fill=\"#009af9\" fill-rule=\"evenodd\" fill-opacity=\"1\" stroke=\"#000000\" stroke-opacity=\"1\" stroke-width=\"3.2\"/>\n",
       "<circle clip-path=\"url(#clip302)\" cx=\"462.853\" cy=\"758.105\" r=\"14.4\" fill=\"#009af9\" fill-rule=\"evenodd\" fill-opacity=\"1\" stroke=\"#000000\" stroke-opacity=\"1\" stroke-width=\"3.2\"/>\n",
       "<circle clip-path=\"url(#clip302)\" cx=\"483.635\" cy=\"800.145\" r=\"14.4\" fill=\"#009af9\" fill-rule=\"evenodd\" fill-opacity=\"1\" stroke=\"#000000\" stroke-opacity=\"1\" stroke-width=\"3.2\"/>\n",
       "<circle clip-path=\"url(#clip302)\" cx=\"504.417\" cy=\"851.159\" r=\"14.4\" fill=\"#009af9\" fill-rule=\"evenodd\" fill-opacity=\"1\" stroke=\"#000000\" stroke-opacity=\"1\" stroke-width=\"3.2\"/>\n",
       "<circle clip-path=\"url(#clip302)\" cx=\"525.199\" cy=\"843.201\" r=\"14.4\" fill=\"#009af9\" fill-rule=\"evenodd\" fill-opacity=\"1\" stroke=\"#000000\" stroke-opacity=\"1\" stroke-width=\"3.2\"/>\n",
       "<circle clip-path=\"url(#clip302)\" cx=\"545.981\" cy=\"722.044\" r=\"14.4\" fill=\"#009af9\" fill-rule=\"evenodd\" fill-opacity=\"1\" stroke=\"#000000\" stroke-opacity=\"1\" stroke-width=\"3.2\"/>\n",
       "<circle clip-path=\"url(#clip302)\" cx=\"566.763\" cy=\"601.271\" r=\"14.4\" fill=\"#009af9\" fill-rule=\"evenodd\" fill-opacity=\"1\" stroke=\"#000000\" stroke-opacity=\"1\" stroke-width=\"3.2\"/>\n",
       "<circle clip-path=\"url(#clip302)\" cx=\"587.544\" cy=\"715.178\" r=\"14.4\" fill=\"#009af9\" fill-rule=\"evenodd\" fill-opacity=\"1\" stroke=\"#000000\" stroke-opacity=\"1\" stroke-width=\"3.2\"/>\n",
       "<circle clip-path=\"url(#clip302)\" cx=\"608.326\" cy=\"970.415\" r=\"14.4\" fill=\"#009af9\" fill-rule=\"evenodd\" fill-opacity=\"1\" stroke=\"#000000\" stroke-opacity=\"1\" stroke-width=\"3.2\"/>\n",
       "<circle clip-path=\"url(#clip302)\" cx=\"629.108\" cy=\"870.688\" r=\"14.4\" fill=\"#009af9\" fill-rule=\"evenodd\" fill-opacity=\"1\" stroke=\"#000000\" stroke-opacity=\"1\" stroke-width=\"3.2\"/>\n",
       "<circle clip-path=\"url(#clip302)\" cx=\"649.89\" cy=\"498.641\" r=\"14.4\" fill=\"#009af9\" fill-rule=\"evenodd\" fill-opacity=\"1\" stroke=\"#000000\" stroke-opacity=\"1\" stroke-width=\"3.2\"/>\n",
       "<circle clip-path=\"url(#clip302)\" cx=\"670.672\" cy=\"679.327\" r=\"14.4\" fill=\"#009af9\" fill-rule=\"evenodd\" fill-opacity=\"1\" stroke=\"#000000\" stroke-opacity=\"1\" stroke-width=\"3.2\"/>\n",
       "<circle clip-path=\"url(#clip302)\" cx=\"691.454\" cy=\"1115.67\" r=\"14.4\" fill=\"#009af9\" fill-rule=\"evenodd\" fill-opacity=\"1\" stroke=\"#000000\" stroke-opacity=\"1\" stroke-width=\"3.2\"/>\n",
       "<circle clip-path=\"url(#clip302)\" cx=\"712.236\" cy=\"699.439\" r=\"14.4\" fill=\"#009af9\" fill-rule=\"evenodd\" fill-opacity=\"1\" stroke=\"#000000\" stroke-opacity=\"1\" stroke-width=\"3.2\"/>\n",
       "<circle clip-path=\"url(#clip302)\" cx=\"733.018\" cy=\"394.698\" r=\"14.4\" fill=\"#009af9\" fill-rule=\"evenodd\" fill-opacity=\"1\" stroke=\"#000000\" stroke-opacity=\"1\" stroke-width=\"3.2\"/>\n",
       "<circle clip-path=\"url(#clip302)\" cx=\"753.799\" cy=\"1096.16\" r=\"14.4\" fill=\"#009af9\" fill-rule=\"evenodd\" fill-opacity=\"1\" stroke=\"#000000\" stroke-opacity=\"1\" stroke-width=\"3.2\"/>\n",
       "<circle clip-path=\"url(#clip302)\" cx=\"774.581\" cy=\"916.605\" r=\"14.4\" fill=\"#009af9\" fill-rule=\"evenodd\" fill-opacity=\"1\" stroke=\"#000000\" stroke-opacity=\"1\" stroke-width=\"3.2\"/>\n",
       "<circle clip-path=\"url(#clip302)\" cx=\"795.363\" cy=\"265.097\" r=\"14.4\" fill=\"#009af9\" fill-rule=\"evenodd\" fill-opacity=\"1\" stroke=\"#000000\" stroke-opacity=\"1\" stroke-width=\"3.2\"/>\n",
       "<circle clip-path=\"url(#clip302)\" cx=\"816.145\" cy=\"1069.44\" r=\"14.4\" fill=\"#009af9\" fill-rule=\"evenodd\" fill-opacity=\"1\" stroke=\"#000000\" stroke-opacity=\"1\" stroke-width=\"3.2\"/>\n",
       "<circle clip-path=\"url(#clip302)\" cx=\"836.927\" cy=\"994.887\" r=\"14.4\" fill=\"#009af9\" fill-rule=\"evenodd\" fill-opacity=\"1\" stroke=\"#000000\" stroke-opacity=\"1\" stroke-width=\"3.2\"/>\n",
       "<circle clip-path=\"url(#clip302)\" cx=\"857.709\" cy=\"194.361\" r=\"14.4\" fill=\"#009af9\" fill-rule=\"evenodd\" fill-opacity=\"1\" stroke=\"#000000\" stroke-opacity=\"1\" stroke-width=\"3.2\"/>\n",
       "<circle clip-path=\"url(#clip302)\" cx=\"878.491\" cy=\"1154.85\" r=\"14.4\" fill=\"#009af9\" fill-rule=\"evenodd\" fill-opacity=\"1\" stroke=\"#000000\" stroke-opacity=\"1\" stroke-width=\"3.2\"/>\n",
       "<circle clip-path=\"url(#clip302)\" cx=\"899.272\" cy=\"909.156\" r=\"14.4\" fill=\"#009af9\" fill-rule=\"evenodd\" fill-opacity=\"1\" stroke=\"#000000\" stroke-opacity=\"1\" stroke-width=\"3.2\"/>\n",
       "<circle clip-path=\"url(#clip302)\" cx=\"920.054\" cy=\"186.447\" r=\"14.4\" fill=\"#009af9\" fill-rule=\"evenodd\" fill-opacity=\"1\" stroke=\"#000000\" stroke-opacity=\"1\" stroke-width=\"3.2\"/>\n",
       "<circle clip-path=\"url(#clip302)\" cx=\"940.836\" cy=\"1325.03\" r=\"14.4\" fill=\"#009af9\" fill-rule=\"evenodd\" fill-opacity=\"1\" stroke=\"#000000\" stroke-opacity=\"1\" stroke-width=\"3.2\"/>\n",
       "<circle clip-path=\"url(#clip302)\" cx=\"961.618\" cy=\"649.624\" r=\"14.4\" fill=\"#009af9\" fill-rule=\"evenodd\" fill-opacity=\"1\" stroke=\"#000000\" stroke-opacity=\"1\" stroke-width=\"3.2\"/>\n",
       "<circle clip-path=\"url(#clip302)\" cx=\"982.4\" cy=\"342.13\" r=\"14.4\" fill=\"#009af9\" fill-rule=\"evenodd\" fill-opacity=\"1\" stroke=\"#000000\" stroke-opacity=\"1\" stroke-width=\"3.2\"/>\n",
       "<circle clip-path=\"url(#clip302)\" cx=\"1003.18\" cy=\"1433.12\" r=\"14.4\" fill=\"#009af9\" fill-rule=\"evenodd\" fill-opacity=\"1\" stroke=\"#000000\" stroke-opacity=\"1\" stroke-width=\"3.2\"/>\n",
       "<circle clip-path=\"url(#clip302)\" cx=\"1023.96\" cy=\"298.602\" r=\"14.4\" fill=\"#009af9\" fill-rule=\"evenodd\" fill-opacity=\"1\" stroke=\"#000000\" stroke-opacity=\"1\" stroke-width=\"3.2\"/>\n",
       "<circle clip-path=\"url(#clip302)\" cx=\"1044.75\" cy=\"724.369\" r=\"14.4\" fill=\"#009af9\" fill-rule=\"evenodd\" fill-opacity=\"1\" stroke=\"#000000\" stroke-opacity=\"1\" stroke-width=\"3.2\"/>\n",
       "<circle clip-path=\"url(#clip302)\" cx=\"1065.53\" cy=\"1282.49\" r=\"14.4\" fill=\"#009af9\" fill-rule=\"evenodd\" fill-opacity=\"1\" stroke=\"#000000\" stroke-opacity=\"1\" stroke-width=\"3.2\"/>\n",
       "<circle clip-path=\"url(#clip302)\" cx=\"1086.31\" cy=\"87.9763\" r=\"14.4\" fill=\"#009af9\" fill-rule=\"evenodd\" fill-opacity=\"1\" stroke=\"#000000\" stroke-opacity=\"1\" stroke-width=\"3.2\"/>\n",
       "<circle clip-path=\"url(#clip302)\" cx=\"1107.09\" cy=\"1196.76\" r=\"14.4\" fill=\"#009af9\" fill-rule=\"evenodd\" fill-opacity=\"1\" stroke=\"#000000\" stroke-opacity=\"1\" stroke-width=\"3.2\"/>\n",
       "<circle clip-path=\"url(#clip302)\" cx=\"1127.87\" cy=\"820.742\" r=\"14.4\" fill=\"#009af9\" fill-rule=\"evenodd\" fill-opacity=\"1\" stroke=\"#000000\" stroke-opacity=\"1\" stroke-width=\"3.2\"/>\n",
       "<circle clip-path=\"url(#clip302)\" cx=\"1148.65\" cy=\"260.831\" r=\"14.4\" fill=\"#009af9\" fill-rule=\"evenodd\" fill-opacity=\"1\" stroke=\"#000000\" stroke-opacity=\"1\" stroke-width=\"3.2\"/>\n",
       "<circle clip-path=\"url(#clip302)\" cx=\"1169.44\" cy=\"1428.06\" r=\"14.4\" fill=\"#009af9\" fill-rule=\"evenodd\" fill-opacity=\"1\" stroke=\"#000000\" stroke-opacity=\"1\" stroke-width=\"3.2\"/>\n",
       "<circle clip-path=\"url(#clip302)\" cx=\"1190.22\" cy=\"301.227\" r=\"14.4\" fill=\"#009af9\" fill-rule=\"evenodd\" fill-opacity=\"1\" stroke=\"#000000\" stroke-opacity=\"1\" stroke-width=\"3.2\"/>\n",
       "<circle clip-path=\"url(#clip302)\" cx=\"1211\" cy=\"789.035\" r=\"14.4\" fill=\"#009af9\" fill-rule=\"evenodd\" fill-opacity=\"1\" stroke=\"#000000\" stroke-opacity=\"1\" stroke-width=\"3.2\"/>\n",
       "<circle clip-path=\"url(#clip302)\" cx=\"1231.78\" cy=\"1176.47\" r=\"14.4\" fill=\"#009af9\" fill-rule=\"evenodd\" fill-opacity=\"1\" stroke=\"#000000\" stroke-opacity=\"1\" stroke-width=\"3.2\"/>\n",
       "<circle clip-path=\"url(#clip302)\" cx=\"1252.56\" cy=\"140.491\" r=\"14.4\" fill=\"#009af9\" fill-rule=\"evenodd\" fill-opacity=\"1\" stroke=\"#000000\" stroke-opacity=\"1\" stroke-width=\"3.2\"/>\n",
       "<circle clip-path=\"url(#clip302)\" cx=\"1273.35\" cy=\"1279.55\" r=\"14.4\" fill=\"#009af9\" fill-rule=\"evenodd\" fill-opacity=\"1\" stroke=\"#000000\" stroke-opacity=\"1\" stroke-width=\"3.2\"/>\n",
       "<circle clip-path=\"url(#clip302)\" cx=\"1294.13\" cy=\"607.68\" r=\"14.4\" fill=\"#009af9\" fill-rule=\"evenodd\" fill-opacity=\"1\" stroke=\"#000000\" stroke-opacity=\"1\" stroke-width=\"3.2\"/>\n",
       "<circle clip-path=\"url(#clip302)\" cx=\"1314.91\" cy=\"501.592\" r=\"14.4\" fill=\"#009af9\" fill-rule=\"evenodd\" fill-opacity=\"1\" stroke=\"#000000\" stroke-opacity=\"1\" stroke-width=\"3.2\"/>\n",
       "<circle clip-path=\"url(#clip302)\" cx=\"1335.69\" cy=\"1301.03\" r=\"14.4\" fill=\"#009af9\" fill-rule=\"evenodd\" fill-opacity=\"1\" stroke=\"#000000\" stroke-opacity=\"1\" stroke-width=\"3.2\"/>\n",
       "<circle clip-path=\"url(#clip302)\" cx=\"1356.47\" cy=\"222.311\" r=\"14.4\" fill=\"#009af9\" fill-rule=\"evenodd\" fill-opacity=\"1\" stroke=\"#000000\" stroke-opacity=\"1\" stroke-width=\"3.2\"/>\n",
       "<circle clip-path=\"url(#clip302)\" cx=\"1377.26\" cy=\"1055.96\" r=\"14.4\" fill=\"#009af9\" fill-rule=\"evenodd\" fill-opacity=\"1\" stroke=\"#000000\" stroke-opacity=\"1\" stroke-width=\"3.2\"/>\n",
       "<circle clip-path=\"url(#clip302)\" cx=\"1398.04\" cy=\"846.413\" r=\"14.4\" fill=\"#009af9\" fill-rule=\"evenodd\" fill-opacity=\"1\" stroke=\"#000000\" stroke-opacity=\"1\" stroke-width=\"3.2\"/>\n",
       "<circle clip-path=\"url(#clip302)\" cx=\"1418.82\" cy=\"366.736\" r=\"14.4\" fill=\"#009af9\" fill-rule=\"evenodd\" fill-opacity=\"1\" stroke=\"#000000\" stroke-opacity=\"1\" stroke-width=\"3.2\"/>\n",
       "<circle clip-path=\"url(#clip302)\" cx=\"1439.6\" cy=\"1277.1\" r=\"14.4\" fill=\"#009af9\" fill-rule=\"evenodd\" fill-opacity=\"1\" stroke=\"#000000\" stroke-opacity=\"1\" stroke-width=\"3.2\"/>\n",
       "<circle clip-path=\"url(#clip302)\" cx=\"1460.38\" cy=\"377.237\" r=\"14.4\" fill=\"#009af9\" fill-rule=\"evenodd\" fill-opacity=\"1\" stroke=\"#000000\" stroke-opacity=\"1\" stroke-width=\"3.2\"/>\n",
       "<circle clip-path=\"url(#clip302)\" cx=\"1481.16\" cy=\"857.639\" r=\"14.4\" fill=\"#009af9\" fill-rule=\"evenodd\" fill-opacity=\"1\" stroke=\"#000000\" stroke-opacity=\"1\" stroke-width=\"3.2\"/>\n",
       "<circle clip-path=\"url(#clip302)\" cx=\"1501.95\" cy=\"988.935\" r=\"14.4\" fill=\"#009af9\" fill-rule=\"evenodd\" fill-opacity=\"1\" stroke=\"#000000\" stroke-opacity=\"1\" stroke-width=\"3.2\"/>\n",
       "<circle clip-path=\"url(#clip302)\" cx=\"1522.73\" cy=\"342.811\" r=\"14.4\" fill=\"#009af9\" fill-rule=\"evenodd\" fill-opacity=\"1\" stroke=\"#000000\" stroke-opacity=\"1\" stroke-width=\"3.2\"/>\n",
       "<circle clip-path=\"url(#clip302)\" cx=\"1543.51\" cy=\"1181.64\" r=\"14.4\" fill=\"#009af9\" fill-rule=\"evenodd\" fill-opacity=\"1\" stroke=\"#000000\" stroke-opacity=\"1\" stroke-width=\"3.2\"/>\n",
       "<circle clip-path=\"url(#clip302)\" cx=\"1564.29\" cy=\"536.76\" r=\"14.4\" fill=\"#009af9\" fill-rule=\"evenodd\" fill-opacity=\"1\" stroke=\"#000000\" stroke-opacity=\"1\" stroke-width=\"3.2\"/>\n",
       "<circle clip-path=\"url(#clip302)\" cx=\"1585.07\" cy=\"714.274\" r=\"14.4\" fill=\"#009af9\" fill-rule=\"evenodd\" fill-opacity=\"1\" stroke=\"#000000\" stroke-opacity=\"1\" stroke-width=\"3.2\"/>\n",
       "<circle clip-path=\"url(#clip302)\" cx=\"1605.86\" cy=\"1050.49\" r=\"14.4\" fill=\"#009af9\" fill-rule=\"evenodd\" fill-opacity=\"1\" stroke=\"#000000\" stroke-opacity=\"1\" stroke-width=\"3.2\"/>\n",
       "<circle clip-path=\"url(#clip302)\" cx=\"1626.64\" cy=\"385.198\" r=\"14.4\" fill=\"#009af9\" fill-rule=\"evenodd\" fill-opacity=\"1\" stroke=\"#000000\" stroke-opacity=\"1\" stroke-width=\"3.2\"/>\n",
       "<circle clip-path=\"url(#clip302)\" cx=\"1647.42\" cy=\"1062.98\" r=\"14.4\" fill=\"#009af9\" fill-rule=\"evenodd\" fill-opacity=\"1\" stroke=\"#000000\" stroke-opacity=\"1\" stroke-width=\"3.2\"/>\n",
       "<circle clip-path=\"url(#clip302)\" cx=\"1668.2\" cy=\"671.199\" r=\"14.4\" fill=\"#009af9\" fill-rule=\"evenodd\" fill-opacity=\"1\" stroke=\"#000000\" stroke-opacity=\"1\" stroke-width=\"3.2\"/>\n",
       "<circle clip-path=\"url(#clip302)\" cx=\"1688.98\" cy=\"626.968\" r=\"14.4\" fill=\"#009af9\" fill-rule=\"evenodd\" fill-opacity=\"1\" stroke=\"#000000\" stroke-opacity=\"1\" stroke-width=\"3.2\"/>\n",
       "<circle clip-path=\"url(#clip302)\" cx=\"1709.77\" cy=\"1054.19\" r=\"14.4\" fill=\"#009af9\" fill-rule=\"evenodd\" fill-opacity=\"1\" stroke=\"#000000\" stroke-opacity=\"1\" stroke-width=\"3.2\"/>\n",
       "<circle clip-path=\"url(#clip302)\" cx=\"1730.55\" cy=\"460.688\" r=\"14.4\" fill=\"#009af9\" fill-rule=\"evenodd\" fill-opacity=\"1\" stroke=\"#000000\" stroke-opacity=\"1\" stroke-width=\"3.2\"/>\n",
       "<circle clip-path=\"url(#clip302)\" cx=\"1751.33\" cy=\"948.352\" r=\"14.4\" fill=\"#009af9\" fill-rule=\"evenodd\" fill-opacity=\"1\" stroke=\"#000000\" stroke-opacity=\"1\" stroke-width=\"3.2\"/>\n",
       "<circle clip-path=\"url(#clip302)\" cx=\"1772.11\" cy=\"770.197\" r=\"14.4\" fill=\"#009af9\" fill-rule=\"evenodd\" fill-opacity=\"1\" stroke=\"#000000\" stroke-opacity=\"1\" stroke-width=\"3.2\"/>\n",
       "<circle clip-path=\"url(#clip302)\" cx=\"1792.89\" cy=\"587.212\" r=\"14.4\" fill=\"#009af9\" fill-rule=\"evenodd\" fill-opacity=\"1\" stroke=\"#000000\" stroke-opacity=\"1\" stroke-width=\"3.2\"/>\n",
       "<circle clip-path=\"url(#clip302)\" cx=\"1813.67\" cy=\"1021.08\" r=\"14.4\" fill=\"#009af9\" fill-rule=\"evenodd\" fill-opacity=\"1\" stroke=\"#000000\" stroke-opacity=\"1\" stroke-width=\"3.2\"/>\n",
       "<circle clip-path=\"url(#clip302)\" cx=\"1834.46\" cy=\"546.469\" r=\"14.4\" fill=\"#009af9\" fill-rule=\"evenodd\" fill-opacity=\"1\" stroke=\"#000000\" stroke-opacity=\"1\" stroke-width=\"3.2\"/>\n",
       "<circle clip-path=\"url(#clip302)\" cx=\"1855.24\" cy=\"852.275\" r=\"14.4\" fill=\"#009af9\" fill-rule=\"evenodd\" fill-opacity=\"1\" stroke=\"#000000\" stroke-opacity=\"1\" stroke-width=\"3.2\"/>\n",
       "<circle clip-path=\"url(#clip302)\" cx=\"1876.02\" cy=\"832.763\" r=\"14.4\" fill=\"#009af9\" fill-rule=\"evenodd\" fill-opacity=\"1\" stroke=\"#000000\" stroke-opacity=\"1\" stroke-width=\"3.2\"/>\n",
       "<circle clip-path=\"url(#clip302)\" cx=\"1896.8\" cy=\"583.62\" r=\"14.4\" fill=\"#009af9\" fill-rule=\"evenodd\" fill-opacity=\"1\" stroke=\"#000000\" stroke-opacity=\"1\" stroke-width=\"3.2\"/>\n",
       "<circle clip-path=\"url(#clip302)\" cx=\"1917.58\" cy=\"968.592\" r=\"14.4\" fill=\"#009af9\" fill-rule=\"evenodd\" fill-opacity=\"1\" stroke=\"#000000\" stroke-opacity=\"1\" stroke-width=\"3.2\"/>\n",
       "<circle clip-path=\"url(#clip302)\" cx=\"1938.37\" cy=\"627.281\" r=\"14.4\" fill=\"#009af9\" fill-rule=\"evenodd\" fill-opacity=\"1\" stroke=\"#000000\" stroke-opacity=\"1\" stroke-width=\"3.2\"/>\n",
       "<circle clip-path=\"url(#clip302)\" cx=\"1959.15\" cy=\"781.37\" r=\"14.4\" fill=\"#009af9\" fill-rule=\"evenodd\" fill-opacity=\"1\" stroke=\"#000000\" stroke-opacity=\"1\" stroke-width=\"3.2\"/>\n",
       "<circle clip-path=\"url(#clip302)\" cx=\"1979.93\" cy=\"863.009\" r=\"14.4\" fill=\"#009af9\" fill-rule=\"evenodd\" fill-opacity=\"1\" stroke=\"#000000\" stroke-opacity=\"1\" stroke-width=\"3.2\"/>\n",
       "<circle clip-path=\"url(#clip302)\" cx=\"2000.71\" cy=\"604.139\" r=\"14.4\" fill=\"#009af9\" fill-rule=\"evenodd\" fill-opacity=\"1\" stroke=\"#000000\" stroke-opacity=\"1\" stroke-width=\"3.2\"/>\n",
       "<circle clip-path=\"url(#clip302)\" cx=\"2021.49\" cy=\"910.68\" r=\"14.4\" fill=\"#009af9\" fill-rule=\"evenodd\" fill-opacity=\"1\" stroke=\"#000000\" stroke-opacity=\"1\" stroke-width=\"3.2\"/>\n",
       "<circle clip-path=\"url(#clip302)\" cx=\"2042.27\" cy=\"693.684\" r=\"14.4\" fill=\"#009af9\" fill-rule=\"evenodd\" fill-opacity=\"1\" stroke=\"#000000\" stroke-opacity=\"1\" stroke-width=\"3.2\"/>\n",
       "<circle clip-path=\"url(#clip302)\" cx=\"2063.06\" cy=\"736.661\" r=\"14.4\" fill=\"#009af9\" fill-rule=\"evenodd\" fill-opacity=\"1\" stroke=\"#000000\" stroke-opacity=\"1\" stroke-width=\"3.2\"/>\n",
       "<circle clip-path=\"url(#clip302)\" cx=\"2083.84\" cy=\"868.175\" r=\"14.4\" fill=\"#009af9\" fill-rule=\"evenodd\" fill-opacity=\"1\" stroke=\"#000000\" stroke-opacity=\"1\" stroke-width=\"3.2\"/>\n",
       "<circle clip-path=\"url(#clip302)\" cx=\"2104.62\" cy=\"637.154\" r=\"14.4\" fill=\"#009af9\" fill-rule=\"evenodd\" fill-opacity=\"1\" stroke=\"#000000\" stroke-opacity=\"1\" stroke-width=\"3.2\"/>\n",
       "<circle clip-path=\"url(#clip302)\" cx=\"2125.4\" cy=\"857.699\" r=\"14.4\" fill=\"#009af9\" fill-rule=\"evenodd\" fill-opacity=\"1\" stroke=\"#000000\" stroke-opacity=\"1\" stroke-width=\"3.2\"/>\n",
       "<circle clip-path=\"url(#clip302)\" cx=\"2146.18\" cy=\"741.279\" r=\"14.4\" fill=\"#009af9\" fill-rule=\"evenodd\" fill-opacity=\"1\" stroke=\"#000000\" stroke-opacity=\"1\" stroke-width=\"3.2\"/>\n",
       "<circle clip-path=\"url(#clip302)\" cx=\"2166.97\" cy=\"714.924\" r=\"14.4\" fill=\"#009af9\" fill-rule=\"evenodd\" fill-opacity=\"1\" stroke=\"#000000\" stroke-opacity=\"1\" stroke-width=\"3.2\"/>\n",
       "<circle clip-path=\"url(#clip302)\" cx=\"2187.75\" cy=\"857.122\" r=\"14.4\" fill=\"#009af9\" fill-rule=\"evenodd\" fill-opacity=\"1\" stroke=\"#000000\" stroke-opacity=\"1\" stroke-width=\"3.2\"/>\n",
       "<circle clip-path=\"url(#clip302)\" cx=\"2208.53\" cy=\"672.665\" r=\"14.4\" fill=\"#009af9\" fill-rule=\"evenodd\" fill-opacity=\"1\" stroke=\"#000000\" stroke-opacity=\"1\" stroke-width=\"3.2\"/>\n",
       "<circle clip-path=\"url(#clip302)\" cx=\"2229.31\" cy=\"816.015\" r=\"14.4\" fill=\"#009af9\" fill-rule=\"evenodd\" fill-opacity=\"1\" stroke=\"#000000\" stroke-opacity=\"1\" stroke-width=\"3.2\"/>\n",
       "<circle clip-path=\"url(#clip302)\" cx=\"2250.09\" cy=\"770.123\" r=\"14.4\" fill=\"#009af9\" fill-rule=\"evenodd\" fill-opacity=\"1\" stroke=\"#000000\" stroke-opacity=\"1\" stroke-width=\"3.2\"/>\n",
       "<circle clip-path=\"url(#clip302)\" cx=\"2270.88\" cy=\"710.103\" r=\"14.4\" fill=\"#009af9\" fill-rule=\"evenodd\" fill-opacity=\"1\" stroke=\"#000000\" stroke-opacity=\"1\" stroke-width=\"3.2\"/>\n",
       "<circle clip-path=\"url(#clip302)\" cx=\"2291.66\" cy=\"838.656\" r=\"14.4\" fill=\"#009af9\" fill-rule=\"evenodd\" fill-opacity=\"1\" stroke=\"#000000\" stroke-opacity=\"1\" stroke-width=\"3.2\"/>\n",
       "<circle clip-path=\"url(#clip302)\" cx=\"255.035\" cy=\"764.048\" r=\"14.4\" fill=\"#e26f46\" fill-rule=\"evenodd\" fill-opacity=\"1\" stroke=\"#000000\" stroke-opacity=\"1\" stroke-width=\"3.2\"/>\n",
       "<circle clip-path=\"url(#clip302)\" cx=\"275.817\" cy=\"763.563\" r=\"14.4\" fill=\"#e26f46\" fill-rule=\"evenodd\" fill-opacity=\"1\" stroke=\"#000000\" stroke-opacity=\"1\" stroke-width=\"3.2\"/>\n",
       "<circle clip-path=\"url(#clip302)\" cx=\"296.598\" cy=\"766.44\" r=\"14.4\" fill=\"#e26f46\" fill-rule=\"evenodd\" fill-opacity=\"1\" stroke=\"#000000\" stroke-opacity=\"1\" stroke-width=\"3.2\"/>\n",
       "<circle clip-path=\"url(#clip302)\" cx=\"317.38\" cy=\"766.323\" r=\"14.4\" fill=\"#e26f46\" fill-rule=\"evenodd\" fill-opacity=\"1\" stroke=\"#000000\" stroke-opacity=\"1\" stroke-width=\"3.2\"/>\n",
       "<circle clip-path=\"url(#clip302)\" cx=\"338.162\" cy=\"768.56\" r=\"14.4\" fill=\"#e26f46\" fill-rule=\"evenodd\" fill-opacity=\"1\" stroke=\"#000000\" stroke-opacity=\"1\" stroke-width=\"3.2\"/>\n",
       "<circle clip-path=\"url(#clip302)\" cx=\"358.944\" cy=\"767.221\" r=\"14.4\" fill=\"#e26f46\" fill-rule=\"evenodd\" fill-opacity=\"1\" stroke=\"#000000\" stroke-opacity=\"1\" stroke-width=\"3.2\"/>\n",
       "<circle clip-path=\"url(#clip302)\" cx=\"379.726\" cy=\"763.039\" r=\"14.4\" fill=\"#e26f46\" fill-rule=\"evenodd\" fill-opacity=\"1\" stroke=\"#000000\" stroke-opacity=\"1\" stroke-width=\"3.2\"/>\n",
       "<circle clip-path=\"url(#clip302)\" cx=\"400.508\" cy=\"759.2\" r=\"14.4\" fill=\"#e26f46\" fill-rule=\"evenodd\" fill-opacity=\"1\" stroke=\"#000000\" stroke-opacity=\"1\" stroke-width=\"3.2\"/>\n",
       "<circle clip-path=\"url(#clip302)\" cx=\"421.29\" cy=\"760.178\" r=\"14.4\" fill=\"#e26f46\" fill-rule=\"evenodd\" fill-opacity=\"1\" stroke=\"#000000\" stroke-opacity=\"1\" stroke-width=\"3.2\"/>\n",
       "<circle clip-path=\"url(#clip302)\" cx=\"442.071\" cy=\"772.856\" r=\"14.4\" fill=\"#e26f46\" fill-rule=\"evenodd\" fill-opacity=\"1\" stroke=\"#000000\" stroke-opacity=\"1\" stroke-width=\"3.2\"/>\n",
       "<circle clip-path=\"url(#clip302)\" cx=\"462.853\" cy=\"803.507\" r=\"14.4\" fill=\"#e26f46\" fill-rule=\"evenodd\" fill-opacity=\"1\" stroke=\"#000000\" stroke-opacity=\"1\" stroke-width=\"3.2\"/>\n",
       "<circle clip-path=\"url(#clip302)\" cx=\"483.635\" cy=\"842.774\" r=\"14.4\" fill=\"#e26f46\" fill-rule=\"evenodd\" fill-opacity=\"1\" stroke=\"#000000\" stroke-opacity=\"1\" stroke-width=\"3.2\"/>\n",
       "<circle clip-path=\"url(#clip302)\" cx=\"504.417\" cy=\"847.421\" r=\"14.4\" fill=\"#e26f46\" fill-rule=\"evenodd\" fill-opacity=\"1\" stroke=\"#000000\" stroke-opacity=\"1\" stroke-width=\"3.2\"/>\n",
       "<circle clip-path=\"url(#clip302)\" cx=\"525.199\" cy=\"763.625\" r=\"14.4\" fill=\"#e26f46\" fill-rule=\"evenodd\" fill-opacity=\"1\" stroke=\"#000000\" stroke-opacity=\"1\" stroke-width=\"3.2\"/>\n",
       "<circle clip-path=\"url(#clip302)\" cx=\"545.981\" cy=\"631.704\" r=\"14.4\" fill=\"#e26f46\" fill-rule=\"evenodd\" fill-opacity=\"1\" stroke=\"#000000\" stroke-opacity=\"1\" stroke-width=\"3.2\"/>\n",
       "<circle clip-path=\"url(#clip302)\" cx=\"566.763\" cy=\"639.406\" r=\"14.4\" fill=\"#e26f46\" fill-rule=\"evenodd\" fill-opacity=\"1\" stroke=\"#000000\" stroke-opacity=\"1\" stroke-width=\"3.2\"/>\n",
       "<circle clip-path=\"url(#clip302)\" cx=\"587.544\" cy=\"867.52\" r=\"14.4\" fill=\"#e26f46\" fill-rule=\"evenodd\" fill-opacity=\"1\" stroke=\"#000000\" stroke-opacity=\"1\" stroke-width=\"3.2\"/>\n",
       "<circle clip-path=\"url(#clip302)\" cx=\"608.326\" cy=\"976.612\" r=\"14.4\" fill=\"#e26f46\" fill-rule=\"evenodd\" fill-opacity=\"1\" stroke=\"#000000\" stroke-opacity=\"1\" stroke-width=\"3.2\"/>\n",
       "<circle clip-path=\"url(#clip302)\" cx=\"629.108\" cy=\"671.162\" r=\"14.4\" fill=\"#e26f46\" fill-rule=\"evenodd\" fill-opacity=\"1\" stroke=\"#000000\" stroke-opacity=\"1\" stroke-width=\"3.2\"/>\n",
       "<circle clip-path=\"url(#clip302)\" cx=\"649.89\" cy=\"497.898\" r=\"14.4\" fill=\"#e26f46\" fill-rule=\"evenodd\" fill-opacity=\"1\" stroke=\"#000000\" stroke-opacity=\"1\" stroke-width=\"3.2\"/>\n",
       "<circle clip-path=\"url(#clip302)\" cx=\"670.672\" cy=\"925.781\" r=\"14.4\" fill=\"#e26f46\" fill-rule=\"evenodd\" fill-opacity=\"1\" stroke=\"#000000\" stroke-opacity=\"1\" stroke-width=\"3.2\"/>\n",
       "<circle clip-path=\"url(#clip302)\" cx=\"691.454\" cy=\"1028.98\" r=\"14.4\" fill=\"#e26f46\" fill-rule=\"evenodd\" fill-opacity=\"1\" stroke=\"#000000\" stroke-opacity=\"1\" stroke-width=\"3.2\"/>\n",
       "<circle clip-path=\"url(#clip302)\" cx=\"712.236\" cy=\"451.413\" r=\"14.4\" fill=\"#e26f46\" fill-rule=\"evenodd\" fill-opacity=\"1\" stroke=\"#000000\" stroke-opacity=\"1\" stroke-width=\"3.2\"/>\n",
       "<circle clip-path=\"url(#clip302)\" cx=\"733.018\" cy=\"645.656\" r=\"14.4\" fill=\"#e26f46\" fill-rule=\"evenodd\" fill-opacity=\"1\" stroke=\"#000000\" stroke-opacity=\"1\" stroke-width=\"3.2\"/>\n",
       "<circle clip-path=\"url(#clip302)\" cx=\"753.799\" cy=\"1200.58\" r=\"14.4\" fill=\"#e26f46\" fill-rule=\"evenodd\" fill-opacity=\"1\" stroke=\"#000000\" stroke-opacity=\"1\" stroke-width=\"3.2\"/>\n",
       "<circle clip-path=\"url(#clip302)\" cx=\"774.581\" cy=\"552.594\" r=\"14.4\" fill=\"#e26f46\" fill-rule=\"evenodd\" fill-opacity=\"1\" stroke=\"#000000\" stroke-opacity=\"1\" stroke-width=\"3.2\"/>\n",
       "<circle clip-path=\"url(#clip302)\" cx=\"795.363\" cy=\"469.01\" r=\"14.4\" fill=\"#e26f46\" fill-rule=\"evenodd\" fill-opacity=\"1\" stroke=\"#000000\" stroke-opacity=\"1\" stroke-width=\"3.2\"/>\n",
       "<circle clip-path=\"url(#clip302)\" cx=\"816.145\" cy=\"1273.18\" r=\"14.4\" fill=\"#e26f46\" fill-rule=\"evenodd\" fill-opacity=\"1\" stroke=\"#000000\" stroke-opacity=\"1\" stroke-width=\"3.2\"/>\n",
       "<circle clip-path=\"url(#clip302)\" cx=\"836.927\" cy=\"569.697\" r=\"14.4\" fill=\"#e26f46\" fill-rule=\"evenodd\" fill-opacity=\"1\" stroke=\"#000000\" stroke-opacity=\"1\" stroke-width=\"3.2\"/>\n",
       "<circle clip-path=\"url(#clip302)\" cx=\"857.709\" cy=\"430.874\" r=\"14.4\" fill=\"#e26f46\" fill-rule=\"evenodd\" fill-opacity=\"1\" stroke=\"#000000\" stroke-opacity=\"1\" stroke-width=\"3.2\"/>\n",
       "<circle clip-path=\"url(#clip302)\" cx=\"878.491\" cy=\"1342.27\" r=\"14.4\" fill=\"#e26f46\" fill-rule=\"evenodd\" fill-opacity=\"1\" stroke=\"#000000\" stroke-opacity=\"1\" stroke-width=\"3.2\"/>\n",
       "<circle clip-path=\"url(#clip302)\" cx=\"899.272\" cy=\"445.528\" r=\"14.4\" fill=\"#e26f46\" fill-rule=\"evenodd\" fill-opacity=\"1\" stroke=\"#000000\" stroke-opacity=\"1\" stroke-width=\"3.2\"/>\n",
       "<circle clip-path=\"url(#clip302)\" cx=\"920.054\" cy=\"545.228\" r=\"14.4\" fill=\"#e26f46\" fill-rule=\"evenodd\" fill-opacity=\"1\" stroke=\"#000000\" stroke-opacity=\"1\" stroke-width=\"3.2\"/>\n",
       "<circle clip-path=\"url(#clip302)\" cx=\"940.836\" cy=\"1363.18\" r=\"14.4\" fill=\"#e26f46\" fill-rule=\"evenodd\" fill-opacity=\"1\" stroke=\"#000000\" stroke-opacity=\"1\" stroke-width=\"3.2\"/>\n",
       "<circle clip-path=\"url(#clip302)\" cx=\"961.618\" cy=\"232.953\" r=\"14.4\" fill=\"#e26f46\" fill-rule=\"evenodd\" fill-opacity=\"1\" stroke=\"#000000\" stroke-opacity=\"1\" stroke-width=\"3.2\"/>\n",
       "<circle clip-path=\"url(#clip302)\" cx=\"982.4\" cy=\"838.834\" r=\"14.4\" fill=\"#e26f46\" fill-rule=\"evenodd\" fill-opacity=\"1\" stroke=\"#000000\" stroke-opacity=\"1\" stroke-width=\"3.2\"/>\n",
       "<circle clip-path=\"url(#clip302)\" cx=\"1003.18\" cy=\"1206.03\" r=\"14.4\" fill=\"#e26f46\" fill-rule=\"evenodd\" fill-opacity=\"1\" stroke=\"#000000\" stroke-opacity=\"1\" stroke-width=\"3.2\"/>\n",
       "<circle clip-path=\"url(#clip302)\" cx=\"1023.96\" cy=\"99.2275\" r=\"14.4\" fill=\"#e26f46\" fill-rule=\"evenodd\" fill-opacity=\"1\" stroke=\"#000000\" stroke-opacity=\"1\" stroke-width=\"3.2\"/>\n",
       "<circle clip-path=\"url(#clip302)\" cx=\"1044.75\" cy=\"1223.4\" r=\"14.4\" fill=\"#e26f46\" fill-rule=\"evenodd\" fill-opacity=\"1\" stroke=\"#000000\" stroke-opacity=\"1\" stroke-width=\"3.2\"/>\n",
       "<circle clip-path=\"url(#clip302)\" cx=\"1065.53\" cy=\"802.323\" r=\"14.4\" fill=\"#e26f46\" fill-rule=\"evenodd\" fill-opacity=\"1\" stroke=\"#000000\" stroke-opacity=\"1\" stroke-width=\"3.2\"/>\n",
       "<circle clip-path=\"url(#clip302)\" cx=\"1086.31\" cy=\"250.7\" r=\"14.4\" fill=\"#e26f46\" fill-rule=\"evenodd\" fill-opacity=\"1\" stroke=\"#000000\" stroke-opacity=\"1\" stroke-width=\"3.2\"/>\n",
       "<circle clip-path=\"url(#clip302)\" cx=\"1107.09\" cy=\"1445.72\" r=\"14.4\" fill=\"#e26f46\" fill-rule=\"evenodd\" fill-opacity=\"1\" stroke=\"#000000\" stroke-opacity=\"1\" stroke-width=\"3.2\"/>\n",
       "<circle clip-path=\"url(#clip302)\" cx=\"1127.87\" cy=\"309.866\" r=\"14.4\" fill=\"#e26f46\" fill-rule=\"evenodd\" fill-opacity=\"1\" stroke=\"#000000\" stroke-opacity=\"1\" stroke-width=\"3.2\"/>\n",
       "<circle clip-path=\"url(#clip302)\" cx=\"1148.65\" cy=\"739.388\" r=\"14.4\" fill=\"#e26f46\" fill-rule=\"evenodd\" fill-opacity=\"1\" stroke=\"#000000\" stroke-opacity=\"1\" stroke-width=\"3.2\"/>\n",
       "<circle clip-path=\"url(#clip302)\" cx=\"1169.44\" cy=\"1249.73\" r=\"14.4\" fill=\"#e26f46\" fill-rule=\"evenodd\" fill-opacity=\"1\" stroke=\"#000000\" stroke-opacity=\"1\" stroke-width=\"3.2\"/>\n",
       "<circle clip-path=\"url(#clip302)\" cx=\"1190.22\" cy=\"87.9763\" r=\"14.4\" fill=\"#e26f46\" fill-rule=\"evenodd\" fill-opacity=\"1\" stroke=\"#000000\" stroke-opacity=\"1\" stroke-width=\"3.2\"/>\n",
       "<circle clip-path=\"url(#clip302)\" cx=\"1211\" cy=\"1272.56\" r=\"14.4\" fill=\"#e26f46\" fill-rule=\"evenodd\" fill-opacity=\"1\" stroke=\"#000000\" stroke-opacity=\"1\" stroke-width=\"3.2\"/>\n",
       "<circle clip-path=\"url(#clip302)\" cx=\"1231.78\" cy=\"684.464\" r=\"14.4\" fill=\"#e26f46\" fill-rule=\"evenodd\" fill-opacity=\"1\" stroke=\"#000000\" stroke-opacity=\"1\" stroke-width=\"3.2\"/>\n",
       "<circle clip-path=\"url(#clip302)\" cx=\"1252.56\" cy=\"384.736\" r=\"14.4\" fill=\"#e26f46\" fill-rule=\"evenodd\" fill-opacity=\"1\" stroke=\"#000000\" stroke-opacity=\"1\" stroke-width=\"3.2\"/>\n",
       "<circle clip-path=\"url(#clip302)\" cx=\"1273.35\" cy=\"1405.46\" r=\"14.4\" fill=\"#e26f46\" fill-rule=\"evenodd\" fill-opacity=\"1\" stroke=\"#000000\" stroke-opacity=\"1\" stroke-width=\"3.2\"/>\n",
       "<circle clip-path=\"url(#clip302)\" cx=\"1294.13\" cy=\"191.303\" r=\"14.4\" fill=\"#e26f46\" fill-rule=\"evenodd\" fill-opacity=\"1\" stroke=\"#000000\" stroke-opacity=\"1\" stroke-width=\"3.2\"/>\n",
       "<circle clip-path=\"url(#clip302)\" cx=\"1314.91\" cy=\"993.168\" r=\"14.4\" fill=\"#e26f46\" fill-rule=\"evenodd\" fill-opacity=\"1\" stroke=\"#000000\" stroke-opacity=\"1\" stroke-width=\"3.2\"/>\n",
       "<circle clip-path=\"url(#clip302)\" cx=\"1335.69\" cy=\"978.207\" r=\"14.4\" fill=\"#e26f46\" fill-rule=\"evenodd\" fill-opacity=\"1\" stroke=\"#000000\" stroke-opacity=\"1\" stroke-width=\"3.2\"/>\n",
       "<circle clip-path=\"url(#clip302)\" cx=\"1356.47\" cy=\"222.378\" r=\"14.4\" fill=\"#e26f46\" fill-rule=\"evenodd\" fill-opacity=\"1\" stroke=\"#000000\" stroke-opacity=\"1\" stroke-width=\"3.2\"/>\n",
       "<circle clip-path=\"url(#clip302)\" cx=\"1377.26\" cy=\"1366.42\" r=\"14.4\" fill=\"#e26f46\" fill-rule=\"evenodd\" fill-opacity=\"1\" stroke=\"#000000\" stroke-opacity=\"1\" stroke-width=\"3.2\"/>\n",
       "<circle clip-path=\"url(#clip302)\" cx=\"1398.04\" cy=\"385.384\" r=\"14.4\" fill=\"#e26f46\" fill-rule=\"evenodd\" fill-opacity=\"1\" stroke=\"#000000\" stroke-opacity=\"1\" stroke-width=\"3.2\"/>\n",
       "<circle clip-path=\"url(#clip302)\" cx=\"1418.82\" cy=\"750.389\" r=\"14.4\" fill=\"#e26f46\" fill-rule=\"evenodd\" fill-opacity=\"1\" stroke=\"#000000\" stroke-opacity=\"1\" stroke-width=\"3.2\"/>\n",
       "<circle clip-path=\"url(#clip302)\" cx=\"1439.6\" cy=\"1148.71\" r=\"14.4\" fill=\"#e26f46\" fill-rule=\"evenodd\" fill-opacity=\"1\" stroke=\"#000000\" stroke-opacity=\"1\" stroke-width=\"3.2\"/>\n",
       "<circle clip-path=\"url(#clip302)\" cx=\"1460.38\" cy=\"200.42\" r=\"14.4\" fill=\"#e26f46\" fill-rule=\"evenodd\" fill-opacity=\"1\" stroke=\"#000000\" stroke-opacity=\"1\" stroke-width=\"3.2\"/>\n",
       "<circle clip-path=\"url(#clip302)\" cx=\"1481.16\" cy=\"1244.05\" r=\"14.4\" fill=\"#e26f46\" fill-rule=\"evenodd\" fill-opacity=\"1\" stroke=\"#000000\" stroke-opacity=\"1\" stroke-width=\"3.2\"/>\n",
       "<circle clip-path=\"url(#clip302)\" cx=\"1501.95\" cy=\"584.419\" r=\"14.4\" fill=\"#e26f46\" fill-rule=\"evenodd\" fill-opacity=\"1\" stroke=\"#000000\" stroke-opacity=\"1\" stroke-width=\"3.2\"/>\n",
       "<circle clip-path=\"url(#clip302)\" cx=\"1522.73\" cy=\"576.496\" r=\"14.4\" fill=\"#e26f46\" fill-rule=\"evenodd\" fill-opacity=\"1\" stroke=\"#000000\" stroke-opacity=\"1\" stroke-width=\"3.2\"/>\n",
       "<circle clip-path=\"url(#clip302)\" cx=\"1543.51\" cy=\"1217.49\" r=\"14.4\" fill=\"#e26f46\" fill-rule=\"evenodd\" fill-opacity=\"1\" stroke=\"#000000\" stroke-opacity=\"1\" stroke-width=\"3.2\"/>\n",
       "<circle clip-path=\"url(#clip302)\" cx=\"1564.29\" cy=\"259.846\" r=\"14.4\" fill=\"#e26f46\" fill-rule=\"evenodd\" fill-opacity=\"1\" stroke=\"#000000\" stroke-opacity=\"1\" stroke-width=\"3.2\"/>\n",
       "<circle clip-path=\"url(#clip302)\" cx=\"1585.07\" cy=\"1093.26\" r=\"14.4\" fill=\"#e26f46\" fill-rule=\"evenodd\" fill-opacity=\"1\" stroke=\"#000000\" stroke-opacity=\"1\" stroke-width=\"3.2\"/>\n",
       "<circle clip-path=\"url(#clip302)\" cx=\"1605.86\" cy=\"748.989\" r=\"14.4\" fill=\"#e26f46\" fill-rule=\"evenodd\" fill-opacity=\"1\" stroke=\"#000000\" stroke-opacity=\"1\" stroke-width=\"3.2\"/>\n",
       "<circle clip-path=\"url(#clip302)\" cx=\"1626.64\" cy=\"477.057\" r=\"14.4\" fill=\"#e26f46\" fill-rule=\"evenodd\" fill-opacity=\"1\" stroke=\"#000000\" stroke-opacity=\"1\" stroke-width=\"3.2\"/>\n",
       "<circle clip-path=\"url(#clip302)\" cx=\"1647.42\" cy=\"1215.24\" r=\"14.4\" fill=\"#e26f46\" fill-rule=\"evenodd\" fill-opacity=\"1\" stroke=\"#000000\" stroke-opacity=\"1\" stroke-width=\"3.2\"/>\n",
       "<circle clip-path=\"url(#clip302)\" cx=\"1668.2\" cy=\"360.712\" r=\"14.4\" fill=\"#e26f46\" fill-rule=\"evenodd\" fill-opacity=\"1\" stroke=\"#000000\" stroke-opacity=\"1\" stroke-width=\"3.2\"/>\n",
       "<circle clip-path=\"url(#clip302)\" cx=\"1688.98\" cy=\"946.981\" r=\"14.4\" fill=\"#e26f46\" fill-rule=\"evenodd\" fill-opacity=\"1\" stroke=\"#000000\" stroke-opacity=\"1\" stroke-width=\"3.2\"/>\n",
       "<circle clip-path=\"url(#clip302)\" cx=\"1709.77\" cy=\"871.103\" r=\"14.4\" fill=\"#e26f46\" fill-rule=\"evenodd\" fill-opacity=\"1\" stroke=\"#000000\" stroke-opacity=\"1\" stroke-width=\"3.2\"/>\n",
       "<circle clip-path=\"url(#clip302)\" cx=\"1730.55\" cy=\"434.387\" r=\"14.4\" fill=\"#e26f46\" fill-rule=\"evenodd\" fill-opacity=\"1\" stroke=\"#000000\" stroke-opacity=\"1\" stroke-width=\"3.2\"/>\n",
       "<circle clip-path=\"url(#clip302)\" cx=\"1751.33\" cy=\"1162.84\" r=\"14.4\" fill=\"#e26f46\" fill-rule=\"evenodd\" fill-opacity=\"1\" stroke=\"#000000\" stroke-opacity=\"1\" stroke-width=\"3.2\"/>\n",
       "<circle clip-path=\"url(#clip302)\" cx=\"1772.11\" cy=\"476.972\" r=\"14.4\" fill=\"#e26f46\" fill-rule=\"evenodd\" fill-opacity=\"1\" stroke=\"#000000\" stroke-opacity=\"1\" stroke-width=\"3.2\"/>\n",
       "<circle clip-path=\"url(#clip302)\" cx=\"1792.89\" cy=\"822.158\" r=\"14.4\" fill=\"#e26f46\" fill-rule=\"evenodd\" fill-opacity=\"1\" stroke=\"#000000\" stroke-opacity=\"1\" stroke-width=\"3.2\"/>\n",
       "<circle clip-path=\"url(#clip302)\" cx=\"1813.67\" cy=\"945.604\" r=\"14.4\" fill=\"#e26f46\" fill-rule=\"evenodd\" fill-opacity=\"1\" stroke=\"#000000\" stroke-opacity=\"1\" stroke-width=\"3.2\"/>\n",
       "<circle clip-path=\"url(#clip302)\" cx=\"1834.46\" cy=\"435.011\" r=\"14.4\" fill=\"#e26f46\" fill-rule=\"evenodd\" fill-opacity=\"1\" stroke=\"#000000\" stroke-opacity=\"1\" stroke-width=\"3.2\"/>\n",
       "<circle clip-path=\"url(#clip302)\" cx=\"1855.24\" cy=\"1087.19\" r=\"14.4\" fill=\"#e26f46\" fill-rule=\"evenodd\" fill-opacity=\"1\" stroke=\"#000000\" stroke-opacity=\"1\" stroke-width=\"3.2\"/>\n",
       "<circle clip-path=\"url(#clip302)\" cx=\"1876.02\" cy=\"589.224\" r=\"14.4\" fill=\"#e26f46\" fill-rule=\"evenodd\" fill-opacity=\"1\" stroke=\"#000000\" stroke-opacity=\"1\" stroke-width=\"3.2\"/>\n",
       "<circle clip-path=\"url(#clip302)\" cx=\"1896.8\" cy=\"725.565\" r=\"14.4\" fill=\"#e26f46\" fill-rule=\"evenodd\" fill-opacity=\"1\" stroke=\"#000000\" stroke-opacity=\"1\" stroke-width=\"3.2\"/>\n",
       "<circle clip-path=\"url(#clip302)\" cx=\"1917.58\" cy=\"986.384\" r=\"14.4\" fill=\"#e26f46\" fill-rule=\"evenodd\" fill-opacity=\"1\" stroke=\"#000000\" stroke-opacity=\"1\" stroke-width=\"3.2\"/>\n",
       "<circle clip-path=\"url(#clip302)\" cx=\"1938.37\" cy=\"473.524\" r=\"14.4\" fill=\"#e26f46\" fill-rule=\"evenodd\" fill-opacity=\"1\" stroke=\"#000000\" stroke-opacity=\"1\" stroke-width=\"3.2\"/>\n",
       "<circle clip-path=\"url(#clip302)\" cx=\"1959.15\" cy=\"997.264\" r=\"14.4\" fill=\"#e26f46\" fill-rule=\"evenodd\" fill-opacity=\"1\" stroke=\"#000000\" stroke-opacity=\"1\" stroke-width=\"3.2\"/>\n",
       "<circle clip-path=\"url(#clip302)\" cx=\"1979.93\" cy=\"687.128\" r=\"14.4\" fill=\"#e26f46\" fill-rule=\"evenodd\" fill-opacity=\"1\" stroke=\"#000000\" stroke-opacity=\"1\" stroke-width=\"3.2\"/>\n",
       "<circle clip-path=\"url(#clip302)\" cx=\"2000.71\" cy=\"662.064\" r=\"14.4\" fill=\"#e26f46\" fill-rule=\"evenodd\" fill-opacity=\"1\" stroke=\"#000000\" stroke-opacity=\"1\" stroke-width=\"3.2\"/>\n",
       "<circle clip-path=\"url(#clip302)\" cx=\"2021.49\" cy=\"988.043\" r=\"14.4\" fill=\"#e26f46\" fill-rule=\"evenodd\" fill-opacity=\"1\" stroke=\"#000000\" stroke-opacity=\"1\" stroke-width=\"3.2\"/>\n",
       "<circle clip-path=\"url(#clip302)\" cx=\"2042.27\" cy=\"524.965\" r=\"14.4\" fill=\"#e26f46\" fill-rule=\"evenodd\" fill-opacity=\"1\" stroke=\"#000000\" stroke-opacity=\"1\" stroke-width=\"3.2\"/>\n",
       "<circle clip-path=\"url(#clip302)\" cx=\"2063.06\" cy=\"916.101\" r=\"14.4\" fill=\"#e26f46\" fill-rule=\"evenodd\" fill-opacity=\"1\" stroke=\"#000000\" stroke-opacity=\"1\" stroke-width=\"3.2\"/>\n",
       "<circle clip-path=\"url(#clip302)\" cx=\"2083.84\" cy=\"761.677\" r=\"14.4\" fill=\"#e26f46\" fill-rule=\"evenodd\" fill-opacity=\"1\" stroke=\"#000000\" stroke-opacity=\"1\" stroke-width=\"3.2\"/>\n",
       "<circle clip-path=\"url(#clip302)\" cx=\"2104.62\" cy=\"631.102\" r=\"14.4\" fill=\"#e26f46\" fill-rule=\"evenodd\" fill-opacity=\"1\" stroke=\"#000000\" stroke-opacity=\"1\" stroke-width=\"3.2\"/>\n",
       "<circle clip-path=\"url(#clip302)\" cx=\"2125.4\" cy=\"966.381\" r=\"14.4\" fill=\"#e26f46\" fill-rule=\"evenodd\" fill-opacity=\"1\" stroke=\"#000000\" stroke-opacity=\"1\" stroke-width=\"3.2\"/>\n",
       "<circle clip-path=\"url(#clip302)\" cx=\"2146.18\" cy=\"586.59\" r=\"14.4\" fill=\"#e26f46\" fill-rule=\"evenodd\" fill-opacity=\"1\" stroke=\"#000000\" stroke-opacity=\"1\" stroke-width=\"3.2\"/>\n",
       "<circle clip-path=\"url(#clip302)\" cx=\"2166.97\" cy=\"845.611\" r=\"14.4\" fill=\"#e26f46\" fill-rule=\"evenodd\" fill-opacity=\"1\" stroke=\"#000000\" stroke-opacity=\"1\" stroke-width=\"3.2\"/>\n",
       "<circle clip-path=\"url(#clip302)\" cx=\"2187.75\" cy=\"806.355\" r=\"14.4\" fill=\"#e26f46\" fill-rule=\"evenodd\" fill-opacity=\"1\" stroke=\"#000000\" stroke-opacity=\"1\" stroke-width=\"3.2\"/>\n",
       "<circle clip-path=\"url(#clip302)\" cx=\"2208.53\" cy=\"622.637\" r=\"14.4\" fill=\"#e26f46\" fill-rule=\"evenodd\" fill-opacity=\"1\" stroke=\"#000000\" stroke-opacity=\"1\" stroke-width=\"3.2\"/>\n",
       "<circle clip-path=\"url(#clip302)\" cx=\"2229.31\" cy=\"927.257\" r=\"14.4\" fill=\"#e26f46\" fill-rule=\"evenodd\" fill-opacity=\"1\" stroke=\"#000000\" stroke-opacity=\"1\" stroke-width=\"3.2\"/>\n",
       "<circle clip-path=\"url(#clip302)\" cx=\"2250.09\" cy=\"643.633\" r=\"14.4\" fill=\"#e26f46\" fill-rule=\"evenodd\" fill-opacity=\"1\" stroke=\"#000000\" stroke-opacity=\"1\" stroke-width=\"3.2\"/>\n",
       "<circle clip-path=\"url(#clip302)\" cx=\"2270.88\" cy=\"789.049\" r=\"14.4\" fill=\"#e26f46\" fill-rule=\"evenodd\" fill-opacity=\"1\" stroke=\"#000000\" stroke-opacity=\"1\" stroke-width=\"3.2\"/>\n",
       "<circle clip-path=\"url(#clip302)\" cx=\"2291.66\" cy=\"831.587\" r=\"14.4\" fill=\"#e26f46\" fill-rule=\"evenodd\" fill-opacity=\"1\" stroke=\"#000000\" stroke-opacity=\"1\" stroke-width=\"3.2\"/>\n",
       "<path clip-path=\"url(#clip300)\" d=\"M2012.48 250.738 L2280.8 250.738 L2280.8 95.2176 L2012.48 95.2176  Z\" fill=\"#ffffff\" fill-rule=\"evenodd\" fill-opacity=\"1\"/>\n",
       "<polyline clip-path=\"url(#clip300)\" style=\"stroke:#000000; stroke-linecap:round; stroke-linejoin:round; stroke-width:4; stroke-opacity:1; fill:none\" points=\"2012.48,250.738 2280.8,250.738 2280.8,95.2176 2012.48,95.2176 2012.48,250.738 \"/>\n",
       "<circle clip-path=\"url(#clip300)\" cx=\"2108.43\" cy=\"147.058\" r=\"20.48\" fill=\"#009af9\" fill-rule=\"evenodd\" fill-opacity=\"1\" stroke=\"#000000\" stroke-opacity=\"1\" stroke-width=\"4.55111\"/>\n",
       "<path clip-path=\"url(#clip300)\" d=\"M2218.22 166.745 Q2216.42 171.375 2214.7 172.787 Q2212.99 174.199 2210.12 174.199 L2206.72 174.199 L2206.72 170.634 L2209.22 170.634 Q2210.98 170.634 2211.95 169.8 Q2212.92 168.967 2214.1 165.865 L2214.86 163.921 L2204.38 138.412 L2208.89 138.412 L2216.99 158.689 L2225.1 138.412 L2229.61 138.412 L2218.22 166.745 Z\" fill=\"#000000\" fill-rule=\"nonzero\" fill-opacity=\"1\" /><path clip-path=\"url(#clip300)\" d=\"M2236.9 160.402 L2244.54 160.402 L2244.54 134.037 L2236.23 135.703 L2236.23 131.444 L2244.49 129.778 L2249.17 129.778 L2249.17 160.402 L2256.81 160.402 L2256.81 164.338 L2236.9 164.338 L2236.9 160.402 Z\" fill=\"#000000\" fill-rule=\"nonzero\" fill-opacity=\"1\" /><circle clip-path=\"url(#clip300)\" cx=\"2108.43\" cy=\"198.898\" r=\"20.48\" fill=\"#e26f46\" fill-rule=\"evenodd\" fill-opacity=\"1\" stroke=\"#000000\" stroke-opacity=\"1\" stroke-width=\"4.55111\"/>\n",
       "<path clip-path=\"url(#clip300)\" d=\"M2218.22 218.585 Q2216.42 223.215 2214.7 224.627 Q2212.99 226.039 2210.12 226.039 L2206.72 226.039 L2206.72 222.474 L2209.22 222.474 Q2210.98 222.474 2211.95 221.64 Q2212.92 220.807 2214.1 217.705 L2214.86 215.761 L2204.38 190.252 L2208.89 190.252 L2216.99 210.529 L2225.1 190.252 L2229.61 190.252 L2218.22 218.585 Z\" fill=\"#000000\" fill-rule=\"nonzero\" fill-opacity=\"1\" /><path clip-path=\"url(#clip300)\" d=\"M2240.12 212.242 L2256.44 212.242 L2256.44 216.178 L2234.49 216.178 L2234.49 212.242 Q2237.16 209.488 2241.74 204.858 Q2246.35 200.205 2247.53 198.863 Q2249.77 196.34 2250.65 194.604 Q2251.55 192.844 2251.55 191.155 Q2251.55 188.4 2249.61 186.664 Q2247.69 184.928 2244.59 184.928 Q2242.39 184.928 2239.93 185.692 Q2237.5 186.455 2234.73 188.006 L2234.73 183.284 Q2237.55 182.15 2240 181.571 Q2242.46 180.993 2244.49 180.993 Q2249.86 180.993 2253.06 183.678 Q2256.25 186.363 2256.25 190.854 Q2256.25 192.983 2255.44 194.905 Q2254.66 196.803 2252.55 199.395 Q2251.97 200.067 2248.87 203.284 Q2245.77 206.479 2240.12 212.242 Z\" fill=\"#000000\" fill-rule=\"nonzero\" fill-opacity=\"1\" /></svg>\n"
      ],
      "text/html": [
       "<?xml version=\"1.0\" encoding=\"utf-8\"?>\n",
       "<svg xmlns=\"http://www.w3.org/2000/svg\" xmlns:xlink=\"http://www.w3.org/1999/xlink\" width=\"600\" height=\"400\" viewBox=\"0 0 2400 1600\">\n",
       "<defs>\n",
       "  <clipPath id=\"clip350\">\n",
       "    <rect x=\"0\" y=\"0\" width=\"2400\" height=\"1600\"/>\n",
       "  </clipPath>\n",
       "</defs>\n",
       "<path clip-path=\"url(#clip350)\" d=\"M0 1600 L2400 1600 L2400 0 L0 0  Z\" fill=\"#ffffff\" fill-rule=\"evenodd\" fill-opacity=\"1\"/>\n",
       "<defs>\n",
       "  <clipPath id=\"clip351\">\n",
       "    <rect x=\"480\" y=\"0\" width=\"1681\" height=\"1600\"/>\n",
       "  </clipPath>\n",
       "</defs>\n",
       "<path clip-path=\"url(#clip350)\" d=\"M193.936 1486.45 L2352.76 1486.45 L2352.76 47.2441 L193.936 47.2441  Z\" fill=\"#ffffff\" fill-rule=\"evenodd\" fill-opacity=\"1\"/>\n",
       "<defs>\n",
       "  <clipPath id=\"clip352\">\n",
       "    <rect x=\"193\" y=\"47\" width=\"2160\" height=\"1440\"/>\n",
       "  </clipPath>\n",
       "</defs>\n",
       "<polyline clip-path=\"url(#clip352)\" style=\"stroke:#000000; stroke-linecap:round; stroke-linejoin:round; stroke-width:2; stroke-opacity:0.1; fill:none\" points=\"213.471,1486.45 213.471,47.2441 \"/>\n",
       "<polyline clip-path=\"url(#clip352)\" style=\"stroke:#000000; stroke-linecap:round; stroke-linejoin:round; stroke-width:2; stroke-opacity:0.1; fill:none\" points=\"629.108,1486.45 629.108,47.2441 \"/>\n",
       "<polyline clip-path=\"url(#clip352)\" style=\"stroke:#000000; stroke-linecap:round; stroke-linejoin:round; stroke-width:2; stroke-opacity:0.1; fill:none\" points=\"1044.75,1486.45 1044.75,47.2441 \"/>\n",
       "<polyline clip-path=\"url(#clip352)\" style=\"stroke:#000000; stroke-linecap:round; stroke-linejoin:round; stroke-width:2; stroke-opacity:0.1; fill:none\" points=\"1460.38,1486.45 1460.38,47.2441 \"/>\n",
       "<polyline clip-path=\"url(#clip352)\" style=\"stroke:#000000; stroke-linecap:round; stroke-linejoin:round; stroke-width:2; stroke-opacity:0.1; fill:none\" points=\"1876.02,1486.45 1876.02,47.2441 \"/>\n",
       "<polyline clip-path=\"url(#clip352)\" style=\"stroke:#000000; stroke-linecap:round; stroke-linejoin:round; stroke-width:2; stroke-opacity:0.1; fill:none\" points=\"2291.66,1486.45 2291.66,47.2441 \"/>\n",
       "<polyline clip-path=\"url(#clip350)\" style=\"stroke:#000000; stroke-linecap:round; stroke-linejoin:round; stroke-width:4; stroke-opacity:1; fill:none\" points=\"193.936,1486.45 2352.76,1486.45 \"/>\n",
       "<polyline clip-path=\"url(#clip350)\" style=\"stroke:#000000; stroke-linecap:round; stroke-linejoin:round; stroke-width:4; stroke-opacity:1; fill:none\" points=\"213.471,1486.45 213.471,1467.55 \"/>\n",
       "<polyline clip-path=\"url(#clip350)\" style=\"stroke:#000000; stroke-linecap:round; stroke-linejoin:round; stroke-width:4; stroke-opacity:1; fill:none\" points=\"629.108,1486.45 629.108,1467.55 \"/>\n",
       "<polyline clip-path=\"url(#clip350)\" style=\"stroke:#000000; stroke-linecap:round; stroke-linejoin:round; stroke-width:4; stroke-opacity:1; fill:none\" points=\"1044.75,1486.45 1044.75,1467.55 \"/>\n",
       "<polyline clip-path=\"url(#clip350)\" style=\"stroke:#000000; stroke-linecap:round; stroke-linejoin:round; stroke-width:4; stroke-opacity:1; fill:none\" points=\"1460.38,1486.45 1460.38,1467.55 \"/>\n",
       "<polyline clip-path=\"url(#clip350)\" style=\"stroke:#000000; stroke-linecap:round; stroke-linejoin:round; stroke-width:4; stroke-opacity:1; fill:none\" points=\"1876.02,1486.45 1876.02,1467.55 \"/>\n",
       "<polyline clip-path=\"url(#clip350)\" style=\"stroke:#000000; stroke-linecap:round; stroke-linejoin:round; stroke-width:4; stroke-opacity:1; fill:none\" points=\"2291.66,1486.45 2291.66,1467.55 \"/>\n",
       "<path clip-path=\"url(#clip350)\" d=\"M213.471 1517.37 Q209.86 1517.37 208.031 1520.93 Q206.226 1524.47 206.226 1531.6 Q206.226 1538.71 208.031 1542.27 Q209.86 1545.82 213.471 1545.82 Q217.105 1545.82 218.911 1542.27 Q220.739 1538.71 220.739 1531.6 Q220.739 1524.47 218.911 1520.93 Q217.105 1517.37 213.471 1517.37 M213.471 1513.66 Q219.281 1513.66 222.337 1518.27 Q225.415 1522.85 225.415 1531.6 Q225.415 1540.33 222.337 1544.94 Q219.281 1549.52 213.471 1549.52 Q207.661 1549.52 204.582 1544.94 Q201.527 1540.33 201.527 1531.6 Q201.527 1522.85 204.582 1518.27 Q207.661 1513.66 213.471 1513.66 Z\" fill=\"#000000\" fill-rule=\"nonzero\" fill-opacity=\"1\" /><path clip-path=\"url(#clip350)\" d=\"M603.796 1544.91 L611.435 1544.91 L611.435 1518.55 L603.125 1520.21 L603.125 1515.95 L611.388 1514.29 L616.064 1514.29 L616.064 1544.91 L623.703 1544.91 L623.703 1548.85 L603.796 1548.85 L603.796 1544.91 Z\" fill=\"#000000\" fill-rule=\"nonzero\" fill-opacity=\"1\" /><path clip-path=\"url(#clip350)\" d=\"M643.147 1517.37 Q639.536 1517.37 637.708 1520.93 Q635.902 1524.47 635.902 1531.6 Q635.902 1538.71 637.708 1542.27 Q639.536 1545.82 643.147 1545.82 Q646.782 1545.82 648.587 1542.27 Q650.416 1538.71 650.416 1531.6 Q650.416 1524.47 648.587 1520.93 Q646.782 1517.37 643.147 1517.37 M643.147 1513.66 Q648.958 1513.66 652.013 1518.27 Q655.092 1522.85 655.092 1531.6 Q655.092 1540.33 652.013 1544.94 Q648.958 1549.52 643.147 1549.52 Q637.337 1549.52 634.259 1544.94 Q631.203 1540.33 631.203 1531.6 Q631.203 1522.85 634.259 1518.27 Q637.337 1513.66 643.147 1513.66 Z\" fill=\"#000000\" fill-rule=\"nonzero\" fill-opacity=\"1\" /><path clip-path=\"url(#clip350)\" d=\"M1023.52 1544.91 L1039.84 1544.91 L1039.84 1548.85 L1017.89 1548.85 L1017.89 1544.91 Q1020.56 1542.16 1025.14 1537.53 Q1029.75 1532.88 1030.93 1531.53 Q1033.17 1529.01 1034.05 1527.27 Q1034.95 1525.51 1034.95 1523.82 Q1034.95 1521.07 1033.01 1519.33 Q1031.09 1517.6 1027.99 1517.6 Q1025.79 1517.6 1023.33 1518.36 Q1020.9 1519.13 1018.13 1520.68 L1018.13 1515.95 Q1020.95 1514.82 1023.4 1514.24 Q1025.86 1513.66 1027.89 1513.66 Q1033.26 1513.66 1036.46 1516.35 Q1039.65 1519.03 1039.65 1523.52 Q1039.65 1525.65 1038.84 1527.57 Q1038.06 1529.47 1035.95 1532.07 Q1035.37 1532.74 1032.27 1535.95 Q1029.17 1539.15 1023.52 1544.91 Z\" fill=\"#000000\" fill-rule=\"nonzero\" fill-opacity=\"1\" /><path clip-path=\"url(#clip350)\" d=\"M1059.65 1517.37 Q1056.04 1517.37 1054.21 1520.93 Q1052.41 1524.47 1052.41 1531.6 Q1052.41 1538.71 1054.21 1542.27 Q1056.04 1545.82 1059.65 1545.82 Q1063.29 1545.82 1065.09 1542.27 Q1066.92 1538.71 1066.92 1531.6 Q1066.92 1524.47 1065.09 1520.93 Q1063.29 1517.37 1059.65 1517.37 M1059.65 1513.66 Q1065.46 1513.66 1068.52 1518.27 Q1071.6 1522.85 1071.6 1531.6 Q1071.6 1540.33 1068.52 1544.94 Q1065.46 1549.52 1059.65 1549.52 Q1053.84 1549.52 1050.76 1544.94 Q1047.71 1540.33 1047.71 1531.6 Q1047.71 1522.85 1050.76 1518.27 Q1053.84 1513.66 1059.65 1513.66 Z\" fill=\"#000000\" fill-rule=\"nonzero\" fill-opacity=\"1\" /><path clip-path=\"url(#clip350)\" d=\"M1449.23 1530.21 Q1452.58 1530.93 1454.46 1533.2 Q1456.35 1535.47 1456.35 1538.8 Q1456.35 1543.92 1452.84 1546.72 Q1449.32 1549.52 1442.84 1549.52 Q1440.66 1549.52 1438.35 1549.08 Q1436.05 1548.66 1433.6 1547.81 L1433.6 1543.29 Q1435.54 1544.43 1437.86 1545.01 Q1440.17 1545.58 1442.7 1545.58 Q1447.1 1545.58 1449.39 1543.85 Q1451.7 1542.11 1451.7 1538.8 Q1451.7 1535.75 1449.55 1534.03 Q1447.42 1532.3 1443.6 1532.3 L1439.57 1532.3 L1439.57 1528.45 L1443.79 1528.45 Q1447.23 1528.45 1449.06 1527.09 Q1450.89 1525.7 1450.89 1523.11 Q1450.89 1520.45 1448.99 1519.03 Q1447.12 1517.6 1443.6 1517.6 Q1441.68 1517.6 1439.48 1518.01 Q1437.28 1518.43 1434.64 1519.31 L1434.64 1515.14 Q1437.3 1514.4 1439.62 1514.03 Q1441.96 1513.66 1444.02 1513.66 Q1449.34 1513.66 1452.44 1516.09 Q1455.54 1518.5 1455.54 1522.62 Q1455.54 1525.49 1453.9 1527.48 Q1452.26 1529.45 1449.23 1530.21 Z\" fill=\"#000000\" fill-rule=\"nonzero\" fill-opacity=\"1\" /><path clip-path=\"url(#clip350)\" d=\"M1475.22 1517.37 Q1471.61 1517.37 1469.78 1520.93 Q1467.98 1524.47 1467.98 1531.6 Q1467.98 1538.71 1469.78 1542.27 Q1471.61 1545.82 1475.22 1545.82 Q1478.85 1545.82 1480.66 1542.27 Q1482.49 1538.71 1482.49 1531.6 Q1482.49 1524.47 1480.66 1520.93 Q1478.85 1517.37 1475.22 1517.37 M1475.22 1513.66 Q1481.03 1513.66 1484.09 1518.27 Q1487.16 1522.85 1487.16 1531.6 Q1487.16 1540.33 1484.09 1544.94 Q1481.03 1549.52 1475.22 1549.52 Q1469.41 1549.52 1466.33 1544.94 Q1463.28 1540.33 1463.28 1531.6 Q1463.28 1522.85 1466.33 1518.27 Q1469.41 1513.66 1475.22 1513.66 Z\" fill=\"#000000\" fill-rule=\"nonzero\" fill-opacity=\"1\" /><path clip-path=\"url(#clip350)\" d=\"M1864.19 1518.36 L1852.39 1536.81 L1864.19 1536.81 L1864.19 1518.36 M1862.96 1514.29 L1868.84 1514.29 L1868.84 1536.81 L1873.77 1536.81 L1873.77 1540.7 L1868.84 1540.7 L1868.84 1548.85 L1864.19 1548.85 L1864.19 1540.7 L1848.59 1540.7 L1848.59 1536.19 L1862.96 1514.29 Z\" fill=\"#000000\" fill-rule=\"nonzero\" fill-opacity=\"1\" /><path clip-path=\"url(#clip350)\" d=\"M1891.51 1517.37 Q1887.89 1517.37 1886.07 1520.93 Q1884.26 1524.47 1884.26 1531.6 Q1884.26 1538.71 1886.07 1542.27 Q1887.89 1545.82 1891.51 1545.82 Q1895.14 1545.82 1896.95 1542.27 Q1898.77 1538.71 1898.77 1531.6 Q1898.77 1524.47 1896.95 1520.93 Q1895.14 1517.37 1891.51 1517.37 M1891.51 1513.66 Q1897.32 1513.66 1900.37 1518.27 Q1903.45 1522.85 1903.45 1531.6 Q1903.45 1540.33 1900.37 1544.94 Q1897.32 1549.52 1891.51 1549.52 Q1885.7 1549.52 1882.62 1544.94 Q1879.56 1540.33 1879.56 1531.6 Q1879.56 1522.85 1882.62 1518.27 Q1885.7 1513.66 1891.51 1513.66 Z\" fill=\"#000000\" fill-rule=\"nonzero\" fill-opacity=\"1\" /><path clip-path=\"url(#clip350)\" d=\"M2266.36 1514.29 L2284.71 1514.29 L2284.71 1518.22 L2270.64 1518.22 L2270.64 1526.7 Q2271.66 1526.35 2272.68 1526.19 Q2273.69 1526 2274.71 1526 Q2280.5 1526 2283.88 1529.17 Q2287.26 1532.34 2287.26 1537.76 Q2287.26 1543.34 2283.79 1546.44 Q2280.31 1549.52 2274 1549.52 Q2271.82 1549.52 2269.55 1549.15 Q2267.31 1548.78 2264.9 1548.04 L2264.9 1543.34 Q2266.98 1544.47 2269.2 1545.03 Q2271.43 1545.58 2273.9 1545.58 Q2277.91 1545.58 2280.25 1543.48 Q2282.58 1541.37 2282.58 1537.76 Q2282.58 1534.15 2280.25 1532.04 Q2277.91 1529.94 2273.9 1529.94 Q2272.03 1529.94 2270.15 1530.35 Q2268.3 1530.77 2266.36 1531.65 L2266.36 1514.29 Z\" fill=\"#000000\" fill-rule=\"nonzero\" fill-opacity=\"1\" /><path clip-path=\"url(#clip350)\" d=\"M2306.47 1517.37 Q2302.86 1517.37 2301.03 1520.93 Q2299.23 1524.47 2299.23 1531.6 Q2299.23 1538.71 2301.03 1542.27 Q2302.86 1545.82 2306.47 1545.82 Q2310.11 1545.82 2311.91 1542.27 Q2313.74 1538.71 2313.74 1531.6 Q2313.74 1524.47 2311.91 1520.93 Q2310.11 1517.37 2306.47 1517.37 M2306.47 1513.66 Q2312.28 1513.66 2315.34 1518.27 Q2318.42 1522.85 2318.42 1531.6 Q2318.42 1540.33 2315.34 1544.94 Q2312.28 1549.52 2306.47 1549.52 Q2300.66 1549.52 2297.58 1544.94 Q2294.53 1540.33 2294.53 1531.6 Q2294.53 1522.85 2297.58 1518.27 Q2300.66 1513.66 2306.47 1513.66 Z\" fill=\"#000000\" fill-rule=\"nonzero\" fill-opacity=\"1\" /><polyline clip-path=\"url(#clip352)\" style=\"stroke:#000000; stroke-linecap:round; stroke-linejoin:round; stroke-width:2; stroke-opacity:0.1; fill:none\" points=\"193.936,1440.72 2352.76,1440.72 \"/>\n",
       "<polyline clip-path=\"url(#clip352)\" style=\"stroke:#000000; stroke-linecap:round; stroke-linejoin:round; stroke-width:2; stroke-opacity:0.1; fill:none\" points=\"193.936,1102.54 2352.76,1102.54 \"/>\n",
       "<polyline clip-path=\"url(#clip352)\" style=\"stroke:#000000; stroke-linecap:round; stroke-linejoin:round; stroke-width:2; stroke-opacity:0.1; fill:none\" points=\"193.936,764.349 2352.76,764.349 \"/>\n",
       "<polyline clip-path=\"url(#clip352)\" style=\"stroke:#000000; stroke-linecap:round; stroke-linejoin:round; stroke-width:2; stroke-opacity:0.1; fill:none\" points=\"193.936,426.163 2352.76,426.163 \"/>\n",
       "<polyline clip-path=\"url(#clip352)\" style=\"stroke:#000000; stroke-linecap:round; stroke-linejoin:round; stroke-width:2; stroke-opacity:0.1; fill:none\" points=\"193.936,87.9763 2352.76,87.9763 \"/>\n",
       "<polyline clip-path=\"url(#clip350)\" style=\"stroke:#000000; stroke-linecap:round; stroke-linejoin:round; stroke-width:4; stroke-opacity:1; fill:none\" points=\"193.936,1486.45 193.936,47.2441 \"/>\n",
       "<polyline clip-path=\"url(#clip350)\" style=\"stroke:#000000; stroke-linecap:round; stroke-linejoin:round; stroke-width:4; stroke-opacity:1; fill:none\" points=\"193.936,1440.72 212.834,1440.72 \"/>\n",
       "<polyline clip-path=\"url(#clip350)\" style=\"stroke:#000000; stroke-linecap:round; stroke-linejoin:round; stroke-width:4; stroke-opacity:1; fill:none\" points=\"193.936,1102.54 212.834,1102.54 \"/>\n",
       "<polyline clip-path=\"url(#clip350)\" style=\"stroke:#000000; stroke-linecap:round; stroke-linejoin:round; stroke-width:4; stroke-opacity:1; fill:none\" points=\"193.936,764.349 212.834,764.349 \"/>\n",
       "<polyline clip-path=\"url(#clip350)\" style=\"stroke:#000000; stroke-linecap:round; stroke-linejoin:round; stroke-width:4; stroke-opacity:1; fill:none\" points=\"193.936,426.163 212.834,426.163 \"/>\n",
       "<polyline clip-path=\"url(#clip350)\" style=\"stroke:#000000; stroke-linecap:round; stroke-linejoin:round; stroke-width:4; stroke-opacity:1; fill:none\" points=\"193.936,87.9763 212.834,87.9763 \"/>\n",
       "<path clip-path=\"url(#clip350)\" d=\"M50.9921 1441.17 L80.6679 1441.17 L80.6679 1445.11 L50.9921 1445.11 L50.9921 1441.17 Z\" fill=\"#000000\" fill-rule=\"nonzero\" fill-opacity=\"1\" /><path clip-path=\"url(#clip350)\" d=\"M91.5706 1454.07 L99.2095 1454.07 L99.2095 1427.7 L90.8993 1429.37 L90.8993 1425.11 L99.1632 1423.44 L103.839 1423.44 L103.839 1454.07 L111.478 1454.07 L111.478 1458 L91.5706 1458 L91.5706 1454.07 Z\" fill=\"#000000\" fill-rule=\"nonzero\" fill-opacity=\"1\" /><path clip-path=\"url(#clip350)\" d=\"M120.922 1452.12 L125.807 1452.12 L125.807 1458 L120.922 1458 L120.922 1452.12 Z\" fill=\"#000000\" fill-rule=\"nonzero\" fill-opacity=\"1\" /><path clip-path=\"url(#clip350)\" d=\"M145.992 1426.52 Q142.381 1426.52 140.552 1430.08 Q138.746 1433.63 138.746 1440.76 Q138.746 1447.86 140.552 1451.43 Q142.381 1454.97 145.992 1454.97 Q149.626 1454.97 151.431 1451.43 Q153.26 1447.86 153.26 1440.76 Q153.26 1433.63 151.431 1430.08 Q149.626 1426.52 145.992 1426.52 M145.992 1422.82 Q151.802 1422.82 154.857 1427.42 Q157.936 1432.01 157.936 1440.76 Q157.936 1449.48 154.857 1454.09 Q151.802 1458.67 145.992 1458.67 Q140.181 1458.67 137.103 1454.09 Q134.047 1449.48 134.047 1440.76 Q134.047 1432.01 137.103 1427.42 Q140.181 1422.82 145.992 1422.82 Z\" fill=\"#000000\" fill-rule=\"nonzero\" fill-opacity=\"1\" /><path clip-path=\"url(#clip350)\" d=\"M51.9875 1102.99 L81.6633 1102.99 L81.6633 1106.92 L51.9875 1106.92 L51.9875 1102.99 Z\" fill=\"#000000\" fill-rule=\"nonzero\" fill-opacity=\"1\" /><path clip-path=\"url(#clip350)\" d=\"M101.756 1088.33 Q98.1447 1088.33 96.316 1091.9 Q94.5104 1095.44 94.5104 1102.57 Q94.5104 1109.68 96.316 1113.24 Q98.1447 1116.78 101.756 1116.78 Q105.39 1116.78 107.196 1113.24 Q109.024 1109.68 109.024 1102.57 Q109.024 1095.44 107.196 1091.9 Q105.39 1088.33 101.756 1088.33 M101.756 1084.63 Q107.566 1084.63 110.621 1089.24 Q113.7 1093.82 113.7 1102.57 Q113.7 1111.3 110.621 1115.9 Q107.566 1120.49 101.756 1120.49 Q95.9456 1120.49 92.8669 1115.9 Q89.8114 1111.3 89.8114 1102.57 Q89.8114 1093.82 92.8669 1089.24 Q95.9456 1084.63 101.756 1084.63 Z\" fill=\"#000000\" fill-rule=\"nonzero\" fill-opacity=\"1\" /><path clip-path=\"url(#clip350)\" d=\"M121.918 1113.94 L126.802 1113.94 L126.802 1119.82 L121.918 1119.82 L121.918 1113.94 Z\" fill=\"#000000\" fill-rule=\"nonzero\" fill-opacity=\"1\" /><path clip-path=\"url(#clip350)\" d=\"M137.033 1085.26 L155.39 1085.26 L155.39 1089.19 L141.316 1089.19 L141.316 1097.66 Q142.334 1097.32 143.353 1097.15 Q144.371 1096.97 145.39 1096.97 Q151.177 1096.97 154.556 1100.14 Q157.936 1103.31 157.936 1108.73 Q157.936 1114.31 154.464 1117.41 Q150.992 1120.49 144.672 1120.49 Q142.496 1120.49 140.228 1120.12 Q137.982 1119.75 135.575 1119 L135.575 1114.31 Q137.658 1115.44 139.881 1116 Q142.103 1116.55 144.58 1116.55 Q148.584 1116.55 150.922 1114.44 Q153.26 1112.34 153.26 1108.73 Q153.26 1105.12 150.922 1103.01 Q148.584 1100.9 144.58 1100.9 Q142.705 1100.9 140.83 1101.32 Q138.978 1101.74 137.033 1102.62 L137.033 1085.26 Z\" fill=\"#000000\" fill-rule=\"nonzero\" fill-opacity=\"1\" /><path clip-path=\"url(#clip350)\" d=\"M100.76 750.147 Q97.1493 750.147 95.3206 753.712 Q93.515 757.254 93.515 764.383 Q93.515 771.49 95.3206 775.055 Q97.1493 778.596 100.76 778.596 Q104.395 778.596 106.2 775.055 Q108.029 771.49 108.029 764.383 Q108.029 757.254 106.2 753.712 Q104.395 750.147 100.76 750.147 M100.76 746.444 Q106.571 746.444 109.626 751.05 Q112.705 755.634 112.705 764.383 Q112.705 773.11 109.626 777.717 Q106.571 782.3 100.76 782.3 Q94.9502 782.3 91.8715 777.717 Q88.816 773.11 88.816 764.383 Q88.816 755.634 91.8715 751.05 Q94.9502 746.444 100.76 746.444 Z\" fill=\"#000000\" fill-rule=\"nonzero\" fill-opacity=\"1\" /><path clip-path=\"url(#clip350)\" d=\"M120.922 775.749 L125.807 775.749 L125.807 781.629 L120.922 781.629 L120.922 775.749 Z\" fill=\"#000000\" fill-rule=\"nonzero\" fill-opacity=\"1\" /><path clip-path=\"url(#clip350)\" d=\"M145.992 750.147 Q142.381 750.147 140.552 753.712 Q138.746 757.254 138.746 764.383 Q138.746 771.49 140.552 775.055 Q142.381 778.596 145.992 778.596 Q149.626 778.596 151.431 775.055 Q153.26 771.49 153.26 764.383 Q153.26 757.254 151.431 753.712 Q149.626 750.147 145.992 750.147 M145.992 746.444 Q151.802 746.444 154.857 751.05 Q157.936 755.634 157.936 764.383 Q157.936 773.11 154.857 777.717 Q151.802 782.3 145.992 782.3 Q140.181 782.3 137.103 777.717 Q134.047 773.11 134.047 764.383 Q134.047 755.634 137.103 751.05 Q140.181 746.444 145.992 746.444 Z\" fill=\"#000000\" fill-rule=\"nonzero\" fill-opacity=\"1\" /><path clip-path=\"url(#clip350)\" d=\"M101.756 411.961 Q98.1447 411.961 96.316 415.526 Q94.5104 419.068 94.5104 426.197 Q94.5104 433.304 96.316 436.868 Q98.1447 440.41 101.756 440.41 Q105.39 440.41 107.196 436.868 Q109.024 433.304 109.024 426.197 Q109.024 419.068 107.196 415.526 Q105.39 411.961 101.756 411.961 M101.756 408.258 Q107.566 408.258 110.621 412.864 Q113.7 417.447 113.7 426.197 Q113.7 434.924 110.621 439.531 Q107.566 444.114 101.756 444.114 Q95.9456 444.114 92.8669 439.531 Q89.8114 434.924 89.8114 426.197 Q89.8114 417.447 92.8669 412.864 Q95.9456 408.258 101.756 408.258 Z\" fill=\"#000000\" fill-rule=\"nonzero\" fill-opacity=\"1\" /><path clip-path=\"url(#clip350)\" d=\"M121.918 437.563 L126.802 437.563 L126.802 443.443 L121.918 443.443 L121.918 437.563 Z\" fill=\"#000000\" fill-rule=\"nonzero\" fill-opacity=\"1\" /><path clip-path=\"url(#clip350)\" d=\"M137.033 408.883 L155.39 408.883 L155.39 412.818 L141.316 412.818 L141.316 421.29 Q142.334 420.943 143.353 420.781 Q144.371 420.595 145.39 420.595 Q151.177 420.595 154.556 423.767 Q157.936 426.938 157.936 432.355 Q157.936 437.933 154.464 441.035 Q150.992 444.114 144.672 444.114 Q142.496 444.114 140.228 443.743 Q137.982 443.373 135.575 442.632 L135.575 437.933 Q137.658 439.068 139.881 439.623 Q142.103 440.179 144.58 440.179 Q148.584 440.179 150.922 438.072 Q153.26 435.966 153.26 432.355 Q153.26 428.744 150.922 426.637 Q148.584 424.531 144.58 424.531 Q142.705 424.531 140.83 424.947 Q138.978 425.364 137.033 426.244 L137.033 408.883 Z\" fill=\"#000000\" fill-rule=\"nonzero\" fill-opacity=\"1\" /><path clip-path=\"url(#clip350)\" d=\"M91.5706 101.321 L99.2095 101.321 L99.2095 74.9555 L90.8993 76.6222 L90.8993 72.3629 L99.1632 70.6963 L103.839 70.6963 L103.839 101.321 L111.478 101.321 L111.478 105.256 L91.5706 105.256 L91.5706 101.321 Z\" fill=\"#000000\" fill-rule=\"nonzero\" fill-opacity=\"1\" /><path clip-path=\"url(#clip350)\" d=\"M120.922 99.3767 L125.807 99.3767 L125.807 105.256 L120.922 105.256 L120.922 99.3767 Z\" fill=\"#000000\" fill-rule=\"nonzero\" fill-opacity=\"1\" /><path clip-path=\"url(#clip350)\" d=\"M145.992 73.775 Q142.381 73.775 140.552 77.3398 Q138.746 80.8814 138.746 88.011 Q138.746 95.1174 140.552 98.6822 Q142.381 102.224 145.992 102.224 Q149.626 102.224 151.431 98.6822 Q153.26 95.1174 153.26 88.011 Q153.26 80.8814 151.431 77.3398 Q149.626 73.775 145.992 73.775 M145.992 70.0713 Q151.802 70.0713 154.857 74.6777 Q157.936 79.261 157.936 88.011 Q157.936 96.7378 154.857 101.344 Q151.802 105.928 145.992 105.928 Q140.181 105.928 137.103 101.344 Q134.047 96.7378 134.047 88.011 Q134.047 79.261 137.103 74.6777 Q140.181 70.0713 145.992 70.0713 Z\" fill=\"#000000\" fill-rule=\"nonzero\" fill-opacity=\"1\" /><circle clip-path=\"url(#clip352)\" cx=\"255.035\" cy=\"764.341\" r=\"14.4\" fill=\"#009af9\" fill-rule=\"evenodd\" fill-opacity=\"1\" stroke=\"#000000\" stroke-opacity=\"1\" stroke-width=\"3.2\"/>\n",
       "<circle clip-path=\"url(#clip352)\" cx=\"275.817\" cy=\"764.246\" r=\"14.4\" fill=\"#009af9\" fill-rule=\"evenodd\" fill-opacity=\"1\" stroke=\"#000000\" stroke-opacity=\"1\" stroke-width=\"3.2\"/>\n",
       "<circle clip-path=\"url(#clip352)\" cx=\"296.598\" cy=\"764.743\" r=\"14.4\" fill=\"#009af9\" fill-rule=\"evenodd\" fill-opacity=\"1\" stroke=\"#000000\" stroke-opacity=\"1\" stroke-width=\"3.2\"/>\n",
       "<circle clip-path=\"url(#clip352)\" cx=\"317.38\" cy=\"765.645\" r=\"14.4\" fill=\"#009af9\" fill-rule=\"evenodd\" fill-opacity=\"1\" stroke=\"#000000\" stroke-opacity=\"1\" stroke-width=\"3.2\"/>\n",
       "<circle clip-path=\"url(#clip352)\" cx=\"338.162\" cy=\"764.799\" r=\"14.4\" fill=\"#009af9\" fill-rule=\"evenodd\" fill-opacity=\"1\" stroke=\"#000000\" stroke-opacity=\"1\" stroke-width=\"3.2\"/>\n",
       "<circle clip-path=\"url(#clip352)\" cx=\"358.944\" cy=\"761.328\" r=\"14.4\" fill=\"#009af9\" fill-rule=\"evenodd\" fill-opacity=\"1\" stroke=\"#000000\" stroke-opacity=\"1\" stroke-width=\"3.2\"/>\n",
       "<circle clip-path=\"url(#clip352)\" cx=\"379.726\" cy=\"755.998\" r=\"14.4\" fill=\"#009af9\" fill-rule=\"evenodd\" fill-opacity=\"1\" stroke=\"#000000\" stroke-opacity=\"1\" stroke-width=\"3.2\"/>\n",
       "<circle clip-path=\"url(#clip352)\" cx=\"400.508\" cy=\"749.62\" r=\"14.4\" fill=\"#009af9\" fill-rule=\"evenodd\" fill-opacity=\"1\" stroke=\"#000000\" stroke-opacity=\"1\" stroke-width=\"3.2\"/>\n",
       "<circle clip-path=\"url(#clip352)\" cx=\"421.29\" cy=\"743.531\" r=\"14.4\" fill=\"#009af9\" fill-rule=\"evenodd\" fill-opacity=\"1\" stroke=\"#000000\" stroke-opacity=\"1\" stroke-width=\"3.2\"/>\n",
       "<circle clip-path=\"url(#clip352)\" cx=\"442.071\" cy=\"742.647\" r=\"14.4\" fill=\"#009af9\" fill-rule=\"evenodd\" fill-opacity=\"1\" stroke=\"#000000\" stroke-opacity=\"1\" stroke-width=\"3.2\"/>\n",
       "<circle clip-path=\"url(#clip352)\" cx=\"462.853\" cy=\"758.105\" r=\"14.4\" fill=\"#009af9\" fill-rule=\"evenodd\" fill-opacity=\"1\" stroke=\"#000000\" stroke-opacity=\"1\" stroke-width=\"3.2\"/>\n",
       "<circle clip-path=\"url(#clip352)\" cx=\"483.635\" cy=\"800.145\" r=\"14.4\" fill=\"#009af9\" fill-rule=\"evenodd\" fill-opacity=\"1\" stroke=\"#000000\" stroke-opacity=\"1\" stroke-width=\"3.2\"/>\n",
       "<circle clip-path=\"url(#clip352)\" cx=\"504.417\" cy=\"851.159\" r=\"14.4\" fill=\"#009af9\" fill-rule=\"evenodd\" fill-opacity=\"1\" stroke=\"#000000\" stroke-opacity=\"1\" stroke-width=\"3.2\"/>\n",
       "<circle clip-path=\"url(#clip352)\" cx=\"525.199\" cy=\"843.201\" r=\"14.4\" fill=\"#009af9\" fill-rule=\"evenodd\" fill-opacity=\"1\" stroke=\"#000000\" stroke-opacity=\"1\" stroke-width=\"3.2\"/>\n",
       "<circle clip-path=\"url(#clip352)\" cx=\"545.981\" cy=\"722.044\" r=\"14.4\" fill=\"#009af9\" fill-rule=\"evenodd\" fill-opacity=\"1\" stroke=\"#000000\" stroke-opacity=\"1\" stroke-width=\"3.2\"/>\n",
       "<circle clip-path=\"url(#clip352)\" cx=\"566.763\" cy=\"601.271\" r=\"14.4\" fill=\"#009af9\" fill-rule=\"evenodd\" fill-opacity=\"1\" stroke=\"#000000\" stroke-opacity=\"1\" stroke-width=\"3.2\"/>\n",
       "<circle clip-path=\"url(#clip352)\" cx=\"587.544\" cy=\"715.178\" r=\"14.4\" fill=\"#009af9\" fill-rule=\"evenodd\" fill-opacity=\"1\" stroke=\"#000000\" stroke-opacity=\"1\" stroke-width=\"3.2\"/>\n",
       "<circle clip-path=\"url(#clip352)\" cx=\"608.326\" cy=\"970.415\" r=\"14.4\" fill=\"#009af9\" fill-rule=\"evenodd\" fill-opacity=\"1\" stroke=\"#000000\" stroke-opacity=\"1\" stroke-width=\"3.2\"/>\n",
       "<circle clip-path=\"url(#clip352)\" cx=\"629.108\" cy=\"870.688\" r=\"14.4\" fill=\"#009af9\" fill-rule=\"evenodd\" fill-opacity=\"1\" stroke=\"#000000\" stroke-opacity=\"1\" stroke-width=\"3.2\"/>\n",
       "<circle clip-path=\"url(#clip352)\" cx=\"649.89\" cy=\"498.641\" r=\"14.4\" fill=\"#009af9\" fill-rule=\"evenodd\" fill-opacity=\"1\" stroke=\"#000000\" stroke-opacity=\"1\" stroke-width=\"3.2\"/>\n",
       "<circle clip-path=\"url(#clip352)\" cx=\"670.672\" cy=\"679.327\" r=\"14.4\" fill=\"#009af9\" fill-rule=\"evenodd\" fill-opacity=\"1\" stroke=\"#000000\" stroke-opacity=\"1\" stroke-width=\"3.2\"/>\n",
       "<circle clip-path=\"url(#clip352)\" cx=\"691.454\" cy=\"1115.67\" r=\"14.4\" fill=\"#009af9\" fill-rule=\"evenodd\" fill-opacity=\"1\" stroke=\"#000000\" stroke-opacity=\"1\" stroke-width=\"3.2\"/>\n",
       "<circle clip-path=\"url(#clip352)\" cx=\"712.236\" cy=\"699.439\" r=\"14.4\" fill=\"#009af9\" fill-rule=\"evenodd\" fill-opacity=\"1\" stroke=\"#000000\" stroke-opacity=\"1\" stroke-width=\"3.2\"/>\n",
       "<circle clip-path=\"url(#clip352)\" cx=\"733.018\" cy=\"394.698\" r=\"14.4\" fill=\"#009af9\" fill-rule=\"evenodd\" fill-opacity=\"1\" stroke=\"#000000\" stroke-opacity=\"1\" stroke-width=\"3.2\"/>\n",
       "<circle clip-path=\"url(#clip352)\" cx=\"753.799\" cy=\"1096.16\" r=\"14.4\" fill=\"#009af9\" fill-rule=\"evenodd\" fill-opacity=\"1\" stroke=\"#000000\" stroke-opacity=\"1\" stroke-width=\"3.2\"/>\n",
       "<circle clip-path=\"url(#clip352)\" cx=\"774.581\" cy=\"916.605\" r=\"14.4\" fill=\"#009af9\" fill-rule=\"evenodd\" fill-opacity=\"1\" stroke=\"#000000\" stroke-opacity=\"1\" stroke-width=\"3.2\"/>\n",
       "<circle clip-path=\"url(#clip352)\" cx=\"795.363\" cy=\"265.097\" r=\"14.4\" fill=\"#009af9\" fill-rule=\"evenodd\" fill-opacity=\"1\" stroke=\"#000000\" stroke-opacity=\"1\" stroke-width=\"3.2\"/>\n",
       "<circle clip-path=\"url(#clip352)\" cx=\"816.145\" cy=\"1069.44\" r=\"14.4\" fill=\"#009af9\" fill-rule=\"evenodd\" fill-opacity=\"1\" stroke=\"#000000\" stroke-opacity=\"1\" stroke-width=\"3.2\"/>\n",
       "<circle clip-path=\"url(#clip352)\" cx=\"836.927\" cy=\"994.887\" r=\"14.4\" fill=\"#009af9\" fill-rule=\"evenodd\" fill-opacity=\"1\" stroke=\"#000000\" stroke-opacity=\"1\" stroke-width=\"3.2\"/>\n",
       "<circle clip-path=\"url(#clip352)\" cx=\"857.709\" cy=\"194.361\" r=\"14.4\" fill=\"#009af9\" fill-rule=\"evenodd\" fill-opacity=\"1\" stroke=\"#000000\" stroke-opacity=\"1\" stroke-width=\"3.2\"/>\n",
       "<circle clip-path=\"url(#clip352)\" cx=\"878.491\" cy=\"1154.85\" r=\"14.4\" fill=\"#009af9\" fill-rule=\"evenodd\" fill-opacity=\"1\" stroke=\"#000000\" stroke-opacity=\"1\" stroke-width=\"3.2\"/>\n",
       "<circle clip-path=\"url(#clip352)\" cx=\"899.272\" cy=\"909.156\" r=\"14.4\" fill=\"#009af9\" fill-rule=\"evenodd\" fill-opacity=\"1\" stroke=\"#000000\" stroke-opacity=\"1\" stroke-width=\"3.2\"/>\n",
       "<circle clip-path=\"url(#clip352)\" cx=\"920.054\" cy=\"186.447\" r=\"14.4\" fill=\"#009af9\" fill-rule=\"evenodd\" fill-opacity=\"1\" stroke=\"#000000\" stroke-opacity=\"1\" stroke-width=\"3.2\"/>\n",
       "<circle clip-path=\"url(#clip352)\" cx=\"940.836\" cy=\"1325.03\" r=\"14.4\" fill=\"#009af9\" fill-rule=\"evenodd\" fill-opacity=\"1\" stroke=\"#000000\" stroke-opacity=\"1\" stroke-width=\"3.2\"/>\n",
       "<circle clip-path=\"url(#clip352)\" cx=\"961.618\" cy=\"649.624\" r=\"14.4\" fill=\"#009af9\" fill-rule=\"evenodd\" fill-opacity=\"1\" stroke=\"#000000\" stroke-opacity=\"1\" stroke-width=\"3.2\"/>\n",
       "<circle clip-path=\"url(#clip352)\" cx=\"982.4\" cy=\"342.13\" r=\"14.4\" fill=\"#009af9\" fill-rule=\"evenodd\" fill-opacity=\"1\" stroke=\"#000000\" stroke-opacity=\"1\" stroke-width=\"3.2\"/>\n",
       "<circle clip-path=\"url(#clip352)\" cx=\"1003.18\" cy=\"1433.12\" r=\"14.4\" fill=\"#009af9\" fill-rule=\"evenodd\" fill-opacity=\"1\" stroke=\"#000000\" stroke-opacity=\"1\" stroke-width=\"3.2\"/>\n",
       "<circle clip-path=\"url(#clip352)\" cx=\"1023.96\" cy=\"298.602\" r=\"14.4\" fill=\"#009af9\" fill-rule=\"evenodd\" fill-opacity=\"1\" stroke=\"#000000\" stroke-opacity=\"1\" stroke-width=\"3.2\"/>\n",
       "<circle clip-path=\"url(#clip352)\" cx=\"1044.75\" cy=\"724.369\" r=\"14.4\" fill=\"#009af9\" fill-rule=\"evenodd\" fill-opacity=\"1\" stroke=\"#000000\" stroke-opacity=\"1\" stroke-width=\"3.2\"/>\n",
       "<circle clip-path=\"url(#clip352)\" cx=\"1065.53\" cy=\"1282.49\" r=\"14.4\" fill=\"#009af9\" fill-rule=\"evenodd\" fill-opacity=\"1\" stroke=\"#000000\" stroke-opacity=\"1\" stroke-width=\"3.2\"/>\n",
       "<circle clip-path=\"url(#clip352)\" cx=\"1086.31\" cy=\"87.9763\" r=\"14.4\" fill=\"#009af9\" fill-rule=\"evenodd\" fill-opacity=\"1\" stroke=\"#000000\" stroke-opacity=\"1\" stroke-width=\"3.2\"/>\n",
       "<circle clip-path=\"url(#clip352)\" cx=\"1107.09\" cy=\"1196.76\" r=\"14.4\" fill=\"#009af9\" fill-rule=\"evenodd\" fill-opacity=\"1\" stroke=\"#000000\" stroke-opacity=\"1\" stroke-width=\"3.2\"/>\n",
       "<circle clip-path=\"url(#clip352)\" cx=\"1127.87\" cy=\"820.742\" r=\"14.4\" fill=\"#009af9\" fill-rule=\"evenodd\" fill-opacity=\"1\" stroke=\"#000000\" stroke-opacity=\"1\" stroke-width=\"3.2\"/>\n",
       "<circle clip-path=\"url(#clip352)\" cx=\"1148.65\" cy=\"260.831\" r=\"14.4\" fill=\"#009af9\" fill-rule=\"evenodd\" fill-opacity=\"1\" stroke=\"#000000\" stroke-opacity=\"1\" stroke-width=\"3.2\"/>\n",
       "<circle clip-path=\"url(#clip352)\" cx=\"1169.44\" cy=\"1428.06\" r=\"14.4\" fill=\"#009af9\" fill-rule=\"evenodd\" fill-opacity=\"1\" stroke=\"#000000\" stroke-opacity=\"1\" stroke-width=\"3.2\"/>\n",
       "<circle clip-path=\"url(#clip352)\" cx=\"1190.22\" cy=\"301.227\" r=\"14.4\" fill=\"#009af9\" fill-rule=\"evenodd\" fill-opacity=\"1\" stroke=\"#000000\" stroke-opacity=\"1\" stroke-width=\"3.2\"/>\n",
       "<circle clip-path=\"url(#clip352)\" cx=\"1211\" cy=\"789.035\" r=\"14.4\" fill=\"#009af9\" fill-rule=\"evenodd\" fill-opacity=\"1\" stroke=\"#000000\" stroke-opacity=\"1\" stroke-width=\"3.2\"/>\n",
       "<circle clip-path=\"url(#clip352)\" cx=\"1231.78\" cy=\"1176.47\" r=\"14.4\" fill=\"#009af9\" fill-rule=\"evenodd\" fill-opacity=\"1\" stroke=\"#000000\" stroke-opacity=\"1\" stroke-width=\"3.2\"/>\n",
       "<circle clip-path=\"url(#clip352)\" cx=\"1252.56\" cy=\"140.491\" r=\"14.4\" fill=\"#009af9\" fill-rule=\"evenodd\" fill-opacity=\"1\" stroke=\"#000000\" stroke-opacity=\"1\" stroke-width=\"3.2\"/>\n",
       "<circle clip-path=\"url(#clip352)\" cx=\"1273.35\" cy=\"1279.55\" r=\"14.4\" fill=\"#009af9\" fill-rule=\"evenodd\" fill-opacity=\"1\" stroke=\"#000000\" stroke-opacity=\"1\" stroke-width=\"3.2\"/>\n",
       "<circle clip-path=\"url(#clip352)\" cx=\"1294.13\" cy=\"607.68\" r=\"14.4\" fill=\"#009af9\" fill-rule=\"evenodd\" fill-opacity=\"1\" stroke=\"#000000\" stroke-opacity=\"1\" stroke-width=\"3.2\"/>\n",
       "<circle clip-path=\"url(#clip352)\" cx=\"1314.91\" cy=\"501.592\" r=\"14.4\" fill=\"#009af9\" fill-rule=\"evenodd\" fill-opacity=\"1\" stroke=\"#000000\" stroke-opacity=\"1\" stroke-width=\"3.2\"/>\n",
       "<circle clip-path=\"url(#clip352)\" cx=\"1335.69\" cy=\"1301.03\" r=\"14.4\" fill=\"#009af9\" fill-rule=\"evenodd\" fill-opacity=\"1\" stroke=\"#000000\" stroke-opacity=\"1\" stroke-width=\"3.2\"/>\n",
       "<circle clip-path=\"url(#clip352)\" cx=\"1356.47\" cy=\"222.311\" r=\"14.4\" fill=\"#009af9\" fill-rule=\"evenodd\" fill-opacity=\"1\" stroke=\"#000000\" stroke-opacity=\"1\" stroke-width=\"3.2\"/>\n",
       "<circle clip-path=\"url(#clip352)\" cx=\"1377.26\" cy=\"1055.96\" r=\"14.4\" fill=\"#009af9\" fill-rule=\"evenodd\" fill-opacity=\"1\" stroke=\"#000000\" stroke-opacity=\"1\" stroke-width=\"3.2\"/>\n",
       "<circle clip-path=\"url(#clip352)\" cx=\"1398.04\" cy=\"846.413\" r=\"14.4\" fill=\"#009af9\" fill-rule=\"evenodd\" fill-opacity=\"1\" stroke=\"#000000\" stroke-opacity=\"1\" stroke-width=\"3.2\"/>\n",
       "<circle clip-path=\"url(#clip352)\" cx=\"1418.82\" cy=\"366.736\" r=\"14.4\" fill=\"#009af9\" fill-rule=\"evenodd\" fill-opacity=\"1\" stroke=\"#000000\" stroke-opacity=\"1\" stroke-width=\"3.2\"/>\n",
       "<circle clip-path=\"url(#clip352)\" cx=\"1439.6\" cy=\"1277.1\" r=\"14.4\" fill=\"#009af9\" fill-rule=\"evenodd\" fill-opacity=\"1\" stroke=\"#000000\" stroke-opacity=\"1\" stroke-width=\"3.2\"/>\n",
       "<circle clip-path=\"url(#clip352)\" cx=\"1460.38\" cy=\"377.237\" r=\"14.4\" fill=\"#009af9\" fill-rule=\"evenodd\" fill-opacity=\"1\" stroke=\"#000000\" stroke-opacity=\"1\" stroke-width=\"3.2\"/>\n",
       "<circle clip-path=\"url(#clip352)\" cx=\"1481.16\" cy=\"857.639\" r=\"14.4\" fill=\"#009af9\" fill-rule=\"evenodd\" fill-opacity=\"1\" stroke=\"#000000\" stroke-opacity=\"1\" stroke-width=\"3.2\"/>\n",
       "<circle clip-path=\"url(#clip352)\" cx=\"1501.95\" cy=\"988.935\" r=\"14.4\" fill=\"#009af9\" fill-rule=\"evenodd\" fill-opacity=\"1\" stroke=\"#000000\" stroke-opacity=\"1\" stroke-width=\"3.2\"/>\n",
       "<circle clip-path=\"url(#clip352)\" cx=\"1522.73\" cy=\"342.811\" r=\"14.4\" fill=\"#009af9\" fill-rule=\"evenodd\" fill-opacity=\"1\" stroke=\"#000000\" stroke-opacity=\"1\" stroke-width=\"3.2\"/>\n",
       "<circle clip-path=\"url(#clip352)\" cx=\"1543.51\" cy=\"1181.64\" r=\"14.4\" fill=\"#009af9\" fill-rule=\"evenodd\" fill-opacity=\"1\" stroke=\"#000000\" stroke-opacity=\"1\" stroke-width=\"3.2\"/>\n",
       "<circle clip-path=\"url(#clip352)\" cx=\"1564.29\" cy=\"536.76\" r=\"14.4\" fill=\"#009af9\" fill-rule=\"evenodd\" fill-opacity=\"1\" stroke=\"#000000\" stroke-opacity=\"1\" stroke-width=\"3.2\"/>\n",
       "<circle clip-path=\"url(#clip352)\" cx=\"1585.07\" cy=\"714.274\" r=\"14.4\" fill=\"#009af9\" fill-rule=\"evenodd\" fill-opacity=\"1\" stroke=\"#000000\" stroke-opacity=\"1\" stroke-width=\"3.2\"/>\n",
       "<circle clip-path=\"url(#clip352)\" cx=\"1605.86\" cy=\"1050.49\" r=\"14.4\" fill=\"#009af9\" fill-rule=\"evenodd\" fill-opacity=\"1\" stroke=\"#000000\" stroke-opacity=\"1\" stroke-width=\"3.2\"/>\n",
       "<circle clip-path=\"url(#clip352)\" cx=\"1626.64\" cy=\"385.198\" r=\"14.4\" fill=\"#009af9\" fill-rule=\"evenodd\" fill-opacity=\"1\" stroke=\"#000000\" stroke-opacity=\"1\" stroke-width=\"3.2\"/>\n",
       "<circle clip-path=\"url(#clip352)\" cx=\"1647.42\" cy=\"1062.98\" r=\"14.4\" fill=\"#009af9\" fill-rule=\"evenodd\" fill-opacity=\"1\" stroke=\"#000000\" stroke-opacity=\"1\" stroke-width=\"3.2\"/>\n",
       "<circle clip-path=\"url(#clip352)\" cx=\"1668.2\" cy=\"671.199\" r=\"14.4\" fill=\"#009af9\" fill-rule=\"evenodd\" fill-opacity=\"1\" stroke=\"#000000\" stroke-opacity=\"1\" stroke-width=\"3.2\"/>\n",
       "<circle clip-path=\"url(#clip352)\" cx=\"1688.98\" cy=\"626.968\" r=\"14.4\" fill=\"#009af9\" fill-rule=\"evenodd\" fill-opacity=\"1\" stroke=\"#000000\" stroke-opacity=\"1\" stroke-width=\"3.2\"/>\n",
       "<circle clip-path=\"url(#clip352)\" cx=\"1709.77\" cy=\"1054.19\" r=\"14.4\" fill=\"#009af9\" fill-rule=\"evenodd\" fill-opacity=\"1\" stroke=\"#000000\" stroke-opacity=\"1\" stroke-width=\"3.2\"/>\n",
       "<circle clip-path=\"url(#clip352)\" cx=\"1730.55\" cy=\"460.688\" r=\"14.4\" fill=\"#009af9\" fill-rule=\"evenodd\" fill-opacity=\"1\" stroke=\"#000000\" stroke-opacity=\"1\" stroke-width=\"3.2\"/>\n",
       "<circle clip-path=\"url(#clip352)\" cx=\"1751.33\" cy=\"948.352\" r=\"14.4\" fill=\"#009af9\" fill-rule=\"evenodd\" fill-opacity=\"1\" stroke=\"#000000\" stroke-opacity=\"1\" stroke-width=\"3.2\"/>\n",
       "<circle clip-path=\"url(#clip352)\" cx=\"1772.11\" cy=\"770.197\" r=\"14.4\" fill=\"#009af9\" fill-rule=\"evenodd\" fill-opacity=\"1\" stroke=\"#000000\" stroke-opacity=\"1\" stroke-width=\"3.2\"/>\n",
       "<circle clip-path=\"url(#clip352)\" cx=\"1792.89\" cy=\"587.212\" r=\"14.4\" fill=\"#009af9\" fill-rule=\"evenodd\" fill-opacity=\"1\" stroke=\"#000000\" stroke-opacity=\"1\" stroke-width=\"3.2\"/>\n",
       "<circle clip-path=\"url(#clip352)\" cx=\"1813.67\" cy=\"1021.08\" r=\"14.4\" fill=\"#009af9\" fill-rule=\"evenodd\" fill-opacity=\"1\" stroke=\"#000000\" stroke-opacity=\"1\" stroke-width=\"3.2\"/>\n",
       "<circle clip-path=\"url(#clip352)\" cx=\"1834.46\" cy=\"546.469\" r=\"14.4\" fill=\"#009af9\" fill-rule=\"evenodd\" fill-opacity=\"1\" stroke=\"#000000\" stroke-opacity=\"1\" stroke-width=\"3.2\"/>\n",
       "<circle clip-path=\"url(#clip352)\" cx=\"1855.24\" cy=\"852.275\" r=\"14.4\" fill=\"#009af9\" fill-rule=\"evenodd\" fill-opacity=\"1\" stroke=\"#000000\" stroke-opacity=\"1\" stroke-width=\"3.2\"/>\n",
       "<circle clip-path=\"url(#clip352)\" cx=\"1876.02\" cy=\"832.763\" r=\"14.4\" fill=\"#009af9\" fill-rule=\"evenodd\" fill-opacity=\"1\" stroke=\"#000000\" stroke-opacity=\"1\" stroke-width=\"3.2\"/>\n",
       "<circle clip-path=\"url(#clip352)\" cx=\"1896.8\" cy=\"583.62\" r=\"14.4\" fill=\"#009af9\" fill-rule=\"evenodd\" fill-opacity=\"1\" stroke=\"#000000\" stroke-opacity=\"1\" stroke-width=\"3.2\"/>\n",
       "<circle clip-path=\"url(#clip352)\" cx=\"1917.58\" cy=\"968.592\" r=\"14.4\" fill=\"#009af9\" fill-rule=\"evenodd\" fill-opacity=\"1\" stroke=\"#000000\" stroke-opacity=\"1\" stroke-width=\"3.2\"/>\n",
       "<circle clip-path=\"url(#clip352)\" cx=\"1938.37\" cy=\"627.281\" r=\"14.4\" fill=\"#009af9\" fill-rule=\"evenodd\" fill-opacity=\"1\" stroke=\"#000000\" stroke-opacity=\"1\" stroke-width=\"3.2\"/>\n",
       "<circle clip-path=\"url(#clip352)\" cx=\"1959.15\" cy=\"781.37\" r=\"14.4\" fill=\"#009af9\" fill-rule=\"evenodd\" fill-opacity=\"1\" stroke=\"#000000\" stroke-opacity=\"1\" stroke-width=\"3.2\"/>\n",
       "<circle clip-path=\"url(#clip352)\" cx=\"1979.93\" cy=\"863.009\" r=\"14.4\" fill=\"#009af9\" fill-rule=\"evenodd\" fill-opacity=\"1\" stroke=\"#000000\" stroke-opacity=\"1\" stroke-width=\"3.2\"/>\n",
       "<circle clip-path=\"url(#clip352)\" cx=\"2000.71\" cy=\"604.139\" r=\"14.4\" fill=\"#009af9\" fill-rule=\"evenodd\" fill-opacity=\"1\" stroke=\"#000000\" stroke-opacity=\"1\" stroke-width=\"3.2\"/>\n",
       "<circle clip-path=\"url(#clip352)\" cx=\"2021.49\" cy=\"910.68\" r=\"14.4\" fill=\"#009af9\" fill-rule=\"evenodd\" fill-opacity=\"1\" stroke=\"#000000\" stroke-opacity=\"1\" stroke-width=\"3.2\"/>\n",
       "<circle clip-path=\"url(#clip352)\" cx=\"2042.27\" cy=\"693.684\" r=\"14.4\" fill=\"#009af9\" fill-rule=\"evenodd\" fill-opacity=\"1\" stroke=\"#000000\" stroke-opacity=\"1\" stroke-width=\"3.2\"/>\n",
       "<circle clip-path=\"url(#clip352)\" cx=\"2063.06\" cy=\"736.661\" r=\"14.4\" fill=\"#009af9\" fill-rule=\"evenodd\" fill-opacity=\"1\" stroke=\"#000000\" stroke-opacity=\"1\" stroke-width=\"3.2\"/>\n",
       "<circle clip-path=\"url(#clip352)\" cx=\"2083.84\" cy=\"868.175\" r=\"14.4\" fill=\"#009af9\" fill-rule=\"evenodd\" fill-opacity=\"1\" stroke=\"#000000\" stroke-opacity=\"1\" stroke-width=\"3.2\"/>\n",
       "<circle clip-path=\"url(#clip352)\" cx=\"2104.62\" cy=\"637.154\" r=\"14.4\" fill=\"#009af9\" fill-rule=\"evenodd\" fill-opacity=\"1\" stroke=\"#000000\" stroke-opacity=\"1\" stroke-width=\"3.2\"/>\n",
       "<circle clip-path=\"url(#clip352)\" cx=\"2125.4\" cy=\"857.699\" r=\"14.4\" fill=\"#009af9\" fill-rule=\"evenodd\" fill-opacity=\"1\" stroke=\"#000000\" stroke-opacity=\"1\" stroke-width=\"3.2\"/>\n",
       "<circle clip-path=\"url(#clip352)\" cx=\"2146.18\" cy=\"741.279\" r=\"14.4\" fill=\"#009af9\" fill-rule=\"evenodd\" fill-opacity=\"1\" stroke=\"#000000\" stroke-opacity=\"1\" stroke-width=\"3.2\"/>\n",
       "<circle clip-path=\"url(#clip352)\" cx=\"2166.97\" cy=\"714.924\" r=\"14.4\" fill=\"#009af9\" fill-rule=\"evenodd\" fill-opacity=\"1\" stroke=\"#000000\" stroke-opacity=\"1\" stroke-width=\"3.2\"/>\n",
       "<circle clip-path=\"url(#clip352)\" cx=\"2187.75\" cy=\"857.122\" r=\"14.4\" fill=\"#009af9\" fill-rule=\"evenodd\" fill-opacity=\"1\" stroke=\"#000000\" stroke-opacity=\"1\" stroke-width=\"3.2\"/>\n",
       "<circle clip-path=\"url(#clip352)\" cx=\"2208.53\" cy=\"672.665\" r=\"14.4\" fill=\"#009af9\" fill-rule=\"evenodd\" fill-opacity=\"1\" stroke=\"#000000\" stroke-opacity=\"1\" stroke-width=\"3.2\"/>\n",
       "<circle clip-path=\"url(#clip352)\" cx=\"2229.31\" cy=\"816.015\" r=\"14.4\" fill=\"#009af9\" fill-rule=\"evenodd\" fill-opacity=\"1\" stroke=\"#000000\" stroke-opacity=\"1\" stroke-width=\"3.2\"/>\n",
       "<circle clip-path=\"url(#clip352)\" cx=\"2250.09\" cy=\"770.123\" r=\"14.4\" fill=\"#009af9\" fill-rule=\"evenodd\" fill-opacity=\"1\" stroke=\"#000000\" stroke-opacity=\"1\" stroke-width=\"3.2\"/>\n",
       "<circle clip-path=\"url(#clip352)\" cx=\"2270.88\" cy=\"710.103\" r=\"14.4\" fill=\"#009af9\" fill-rule=\"evenodd\" fill-opacity=\"1\" stroke=\"#000000\" stroke-opacity=\"1\" stroke-width=\"3.2\"/>\n",
       "<circle clip-path=\"url(#clip352)\" cx=\"2291.66\" cy=\"838.656\" r=\"14.4\" fill=\"#009af9\" fill-rule=\"evenodd\" fill-opacity=\"1\" stroke=\"#000000\" stroke-opacity=\"1\" stroke-width=\"3.2\"/>\n",
       "<circle clip-path=\"url(#clip352)\" cx=\"255.035\" cy=\"764.048\" r=\"14.4\" fill=\"#e26f46\" fill-rule=\"evenodd\" fill-opacity=\"1\" stroke=\"#000000\" stroke-opacity=\"1\" stroke-width=\"3.2\"/>\n",
       "<circle clip-path=\"url(#clip352)\" cx=\"275.817\" cy=\"763.563\" r=\"14.4\" fill=\"#e26f46\" fill-rule=\"evenodd\" fill-opacity=\"1\" stroke=\"#000000\" stroke-opacity=\"1\" stroke-width=\"3.2\"/>\n",
       "<circle clip-path=\"url(#clip352)\" cx=\"296.598\" cy=\"766.44\" r=\"14.4\" fill=\"#e26f46\" fill-rule=\"evenodd\" fill-opacity=\"1\" stroke=\"#000000\" stroke-opacity=\"1\" stroke-width=\"3.2\"/>\n",
       "<circle clip-path=\"url(#clip352)\" cx=\"317.38\" cy=\"766.323\" r=\"14.4\" fill=\"#e26f46\" fill-rule=\"evenodd\" fill-opacity=\"1\" stroke=\"#000000\" stroke-opacity=\"1\" stroke-width=\"3.2\"/>\n",
       "<circle clip-path=\"url(#clip352)\" cx=\"338.162\" cy=\"768.56\" r=\"14.4\" fill=\"#e26f46\" fill-rule=\"evenodd\" fill-opacity=\"1\" stroke=\"#000000\" stroke-opacity=\"1\" stroke-width=\"3.2\"/>\n",
       "<circle clip-path=\"url(#clip352)\" cx=\"358.944\" cy=\"767.221\" r=\"14.4\" fill=\"#e26f46\" fill-rule=\"evenodd\" fill-opacity=\"1\" stroke=\"#000000\" stroke-opacity=\"1\" stroke-width=\"3.2\"/>\n",
       "<circle clip-path=\"url(#clip352)\" cx=\"379.726\" cy=\"763.039\" r=\"14.4\" fill=\"#e26f46\" fill-rule=\"evenodd\" fill-opacity=\"1\" stroke=\"#000000\" stroke-opacity=\"1\" stroke-width=\"3.2\"/>\n",
       "<circle clip-path=\"url(#clip352)\" cx=\"400.508\" cy=\"759.2\" r=\"14.4\" fill=\"#e26f46\" fill-rule=\"evenodd\" fill-opacity=\"1\" stroke=\"#000000\" stroke-opacity=\"1\" stroke-width=\"3.2\"/>\n",
       "<circle clip-path=\"url(#clip352)\" cx=\"421.29\" cy=\"760.178\" r=\"14.4\" fill=\"#e26f46\" fill-rule=\"evenodd\" fill-opacity=\"1\" stroke=\"#000000\" stroke-opacity=\"1\" stroke-width=\"3.2\"/>\n",
       "<circle clip-path=\"url(#clip352)\" cx=\"442.071\" cy=\"772.856\" r=\"14.4\" fill=\"#e26f46\" fill-rule=\"evenodd\" fill-opacity=\"1\" stroke=\"#000000\" stroke-opacity=\"1\" stroke-width=\"3.2\"/>\n",
       "<circle clip-path=\"url(#clip352)\" cx=\"462.853\" cy=\"803.507\" r=\"14.4\" fill=\"#e26f46\" fill-rule=\"evenodd\" fill-opacity=\"1\" stroke=\"#000000\" stroke-opacity=\"1\" stroke-width=\"3.2\"/>\n",
       "<circle clip-path=\"url(#clip352)\" cx=\"483.635\" cy=\"842.774\" r=\"14.4\" fill=\"#e26f46\" fill-rule=\"evenodd\" fill-opacity=\"1\" stroke=\"#000000\" stroke-opacity=\"1\" stroke-width=\"3.2\"/>\n",
       "<circle clip-path=\"url(#clip352)\" cx=\"504.417\" cy=\"847.421\" r=\"14.4\" fill=\"#e26f46\" fill-rule=\"evenodd\" fill-opacity=\"1\" stroke=\"#000000\" stroke-opacity=\"1\" stroke-width=\"3.2\"/>\n",
       "<circle clip-path=\"url(#clip352)\" cx=\"525.199\" cy=\"763.625\" r=\"14.4\" fill=\"#e26f46\" fill-rule=\"evenodd\" fill-opacity=\"1\" stroke=\"#000000\" stroke-opacity=\"1\" stroke-width=\"3.2\"/>\n",
       "<circle clip-path=\"url(#clip352)\" cx=\"545.981\" cy=\"631.704\" r=\"14.4\" fill=\"#e26f46\" fill-rule=\"evenodd\" fill-opacity=\"1\" stroke=\"#000000\" stroke-opacity=\"1\" stroke-width=\"3.2\"/>\n",
       "<circle clip-path=\"url(#clip352)\" cx=\"566.763\" cy=\"639.406\" r=\"14.4\" fill=\"#e26f46\" fill-rule=\"evenodd\" fill-opacity=\"1\" stroke=\"#000000\" stroke-opacity=\"1\" stroke-width=\"3.2\"/>\n",
       "<circle clip-path=\"url(#clip352)\" cx=\"587.544\" cy=\"867.52\" r=\"14.4\" fill=\"#e26f46\" fill-rule=\"evenodd\" fill-opacity=\"1\" stroke=\"#000000\" stroke-opacity=\"1\" stroke-width=\"3.2\"/>\n",
       "<circle clip-path=\"url(#clip352)\" cx=\"608.326\" cy=\"976.612\" r=\"14.4\" fill=\"#e26f46\" fill-rule=\"evenodd\" fill-opacity=\"1\" stroke=\"#000000\" stroke-opacity=\"1\" stroke-width=\"3.2\"/>\n",
       "<circle clip-path=\"url(#clip352)\" cx=\"629.108\" cy=\"671.162\" r=\"14.4\" fill=\"#e26f46\" fill-rule=\"evenodd\" fill-opacity=\"1\" stroke=\"#000000\" stroke-opacity=\"1\" stroke-width=\"3.2\"/>\n",
       "<circle clip-path=\"url(#clip352)\" cx=\"649.89\" cy=\"497.898\" r=\"14.4\" fill=\"#e26f46\" fill-rule=\"evenodd\" fill-opacity=\"1\" stroke=\"#000000\" stroke-opacity=\"1\" stroke-width=\"3.2\"/>\n",
       "<circle clip-path=\"url(#clip352)\" cx=\"670.672\" cy=\"925.781\" r=\"14.4\" fill=\"#e26f46\" fill-rule=\"evenodd\" fill-opacity=\"1\" stroke=\"#000000\" stroke-opacity=\"1\" stroke-width=\"3.2\"/>\n",
       "<circle clip-path=\"url(#clip352)\" cx=\"691.454\" cy=\"1028.98\" r=\"14.4\" fill=\"#e26f46\" fill-rule=\"evenodd\" fill-opacity=\"1\" stroke=\"#000000\" stroke-opacity=\"1\" stroke-width=\"3.2\"/>\n",
       "<circle clip-path=\"url(#clip352)\" cx=\"712.236\" cy=\"451.413\" r=\"14.4\" fill=\"#e26f46\" fill-rule=\"evenodd\" fill-opacity=\"1\" stroke=\"#000000\" stroke-opacity=\"1\" stroke-width=\"3.2\"/>\n",
       "<circle clip-path=\"url(#clip352)\" cx=\"733.018\" cy=\"645.656\" r=\"14.4\" fill=\"#e26f46\" fill-rule=\"evenodd\" fill-opacity=\"1\" stroke=\"#000000\" stroke-opacity=\"1\" stroke-width=\"3.2\"/>\n",
       "<circle clip-path=\"url(#clip352)\" cx=\"753.799\" cy=\"1200.58\" r=\"14.4\" fill=\"#e26f46\" fill-rule=\"evenodd\" fill-opacity=\"1\" stroke=\"#000000\" stroke-opacity=\"1\" stroke-width=\"3.2\"/>\n",
       "<circle clip-path=\"url(#clip352)\" cx=\"774.581\" cy=\"552.594\" r=\"14.4\" fill=\"#e26f46\" fill-rule=\"evenodd\" fill-opacity=\"1\" stroke=\"#000000\" stroke-opacity=\"1\" stroke-width=\"3.2\"/>\n",
       "<circle clip-path=\"url(#clip352)\" cx=\"795.363\" cy=\"469.01\" r=\"14.4\" fill=\"#e26f46\" fill-rule=\"evenodd\" fill-opacity=\"1\" stroke=\"#000000\" stroke-opacity=\"1\" stroke-width=\"3.2\"/>\n",
       "<circle clip-path=\"url(#clip352)\" cx=\"816.145\" cy=\"1273.18\" r=\"14.4\" fill=\"#e26f46\" fill-rule=\"evenodd\" fill-opacity=\"1\" stroke=\"#000000\" stroke-opacity=\"1\" stroke-width=\"3.2\"/>\n",
       "<circle clip-path=\"url(#clip352)\" cx=\"836.927\" cy=\"569.697\" r=\"14.4\" fill=\"#e26f46\" fill-rule=\"evenodd\" fill-opacity=\"1\" stroke=\"#000000\" stroke-opacity=\"1\" stroke-width=\"3.2\"/>\n",
       "<circle clip-path=\"url(#clip352)\" cx=\"857.709\" cy=\"430.874\" r=\"14.4\" fill=\"#e26f46\" fill-rule=\"evenodd\" fill-opacity=\"1\" stroke=\"#000000\" stroke-opacity=\"1\" stroke-width=\"3.2\"/>\n",
       "<circle clip-path=\"url(#clip352)\" cx=\"878.491\" cy=\"1342.27\" r=\"14.4\" fill=\"#e26f46\" fill-rule=\"evenodd\" fill-opacity=\"1\" stroke=\"#000000\" stroke-opacity=\"1\" stroke-width=\"3.2\"/>\n",
       "<circle clip-path=\"url(#clip352)\" cx=\"899.272\" cy=\"445.528\" r=\"14.4\" fill=\"#e26f46\" fill-rule=\"evenodd\" fill-opacity=\"1\" stroke=\"#000000\" stroke-opacity=\"1\" stroke-width=\"3.2\"/>\n",
       "<circle clip-path=\"url(#clip352)\" cx=\"920.054\" cy=\"545.228\" r=\"14.4\" fill=\"#e26f46\" fill-rule=\"evenodd\" fill-opacity=\"1\" stroke=\"#000000\" stroke-opacity=\"1\" stroke-width=\"3.2\"/>\n",
       "<circle clip-path=\"url(#clip352)\" cx=\"940.836\" cy=\"1363.18\" r=\"14.4\" fill=\"#e26f46\" fill-rule=\"evenodd\" fill-opacity=\"1\" stroke=\"#000000\" stroke-opacity=\"1\" stroke-width=\"3.2\"/>\n",
       "<circle clip-path=\"url(#clip352)\" cx=\"961.618\" cy=\"232.953\" r=\"14.4\" fill=\"#e26f46\" fill-rule=\"evenodd\" fill-opacity=\"1\" stroke=\"#000000\" stroke-opacity=\"1\" stroke-width=\"3.2\"/>\n",
       "<circle clip-path=\"url(#clip352)\" cx=\"982.4\" cy=\"838.834\" r=\"14.4\" fill=\"#e26f46\" fill-rule=\"evenodd\" fill-opacity=\"1\" stroke=\"#000000\" stroke-opacity=\"1\" stroke-width=\"3.2\"/>\n",
       "<circle clip-path=\"url(#clip352)\" cx=\"1003.18\" cy=\"1206.03\" r=\"14.4\" fill=\"#e26f46\" fill-rule=\"evenodd\" fill-opacity=\"1\" stroke=\"#000000\" stroke-opacity=\"1\" stroke-width=\"3.2\"/>\n",
       "<circle clip-path=\"url(#clip352)\" cx=\"1023.96\" cy=\"99.2275\" r=\"14.4\" fill=\"#e26f46\" fill-rule=\"evenodd\" fill-opacity=\"1\" stroke=\"#000000\" stroke-opacity=\"1\" stroke-width=\"3.2\"/>\n",
       "<circle clip-path=\"url(#clip352)\" cx=\"1044.75\" cy=\"1223.4\" r=\"14.4\" fill=\"#e26f46\" fill-rule=\"evenodd\" fill-opacity=\"1\" stroke=\"#000000\" stroke-opacity=\"1\" stroke-width=\"3.2\"/>\n",
       "<circle clip-path=\"url(#clip352)\" cx=\"1065.53\" cy=\"802.323\" r=\"14.4\" fill=\"#e26f46\" fill-rule=\"evenodd\" fill-opacity=\"1\" stroke=\"#000000\" stroke-opacity=\"1\" stroke-width=\"3.2\"/>\n",
       "<circle clip-path=\"url(#clip352)\" cx=\"1086.31\" cy=\"250.7\" r=\"14.4\" fill=\"#e26f46\" fill-rule=\"evenodd\" fill-opacity=\"1\" stroke=\"#000000\" stroke-opacity=\"1\" stroke-width=\"3.2\"/>\n",
       "<circle clip-path=\"url(#clip352)\" cx=\"1107.09\" cy=\"1445.72\" r=\"14.4\" fill=\"#e26f46\" fill-rule=\"evenodd\" fill-opacity=\"1\" stroke=\"#000000\" stroke-opacity=\"1\" stroke-width=\"3.2\"/>\n",
       "<circle clip-path=\"url(#clip352)\" cx=\"1127.87\" cy=\"309.866\" r=\"14.4\" fill=\"#e26f46\" fill-rule=\"evenodd\" fill-opacity=\"1\" stroke=\"#000000\" stroke-opacity=\"1\" stroke-width=\"3.2\"/>\n",
       "<circle clip-path=\"url(#clip352)\" cx=\"1148.65\" cy=\"739.388\" r=\"14.4\" fill=\"#e26f46\" fill-rule=\"evenodd\" fill-opacity=\"1\" stroke=\"#000000\" stroke-opacity=\"1\" stroke-width=\"3.2\"/>\n",
       "<circle clip-path=\"url(#clip352)\" cx=\"1169.44\" cy=\"1249.73\" r=\"14.4\" fill=\"#e26f46\" fill-rule=\"evenodd\" fill-opacity=\"1\" stroke=\"#000000\" stroke-opacity=\"1\" stroke-width=\"3.2\"/>\n",
       "<circle clip-path=\"url(#clip352)\" cx=\"1190.22\" cy=\"87.9763\" r=\"14.4\" fill=\"#e26f46\" fill-rule=\"evenodd\" fill-opacity=\"1\" stroke=\"#000000\" stroke-opacity=\"1\" stroke-width=\"3.2\"/>\n",
       "<circle clip-path=\"url(#clip352)\" cx=\"1211\" cy=\"1272.56\" r=\"14.4\" fill=\"#e26f46\" fill-rule=\"evenodd\" fill-opacity=\"1\" stroke=\"#000000\" stroke-opacity=\"1\" stroke-width=\"3.2\"/>\n",
       "<circle clip-path=\"url(#clip352)\" cx=\"1231.78\" cy=\"684.464\" r=\"14.4\" fill=\"#e26f46\" fill-rule=\"evenodd\" fill-opacity=\"1\" stroke=\"#000000\" stroke-opacity=\"1\" stroke-width=\"3.2\"/>\n",
       "<circle clip-path=\"url(#clip352)\" cx=\"1252.56\" cy=\"384.736\" r=\"14.4\" fill=\"#e26f46\" fill-rule=\"evenodd\" fill-opacity=\"1\" stroke=\"#000000\" stroke-opacity=\"1\" stroke-width=\"3.2\"/>\n",
       "<circle clip-path=\"url(#clip352)\" cx=\"1273.35\" cy=\"1405.46\" r=\"14.4\" fill=\"#e26f46\" fill-rule=\"evenodd\" fill-opacity=\"1\" stroke=\"#000000\" stroke-opacity=\"1\" stroke-width=\"3.2\"/>\n",
       "<circle clip-path=\"url(#clip352)\" cx=\"1294.13\" cy=\"191.303\" r=\"14.4\" fill=\"#e26f46\" fill-rule=\"evenodd\" fill-opacity=\"1\" stroke=\"#000000\" stroke-opacity=\"1\" stroke-width=\"3.2\"/>\n",
       "<circle clip-path=\"url(#clip352)\" cx=\"1314.91\" cy=\"993.168\" r=\"14.4\" fill=\"#e26f46\" fill-rule=\"evenodd\" fill-opacity=\"1\" stroke=\"#000000\" stroke-opacity=\"1\" stroke-width=\"3.2\"/>\n",
       "<circle clip-path=\"url(#clip352)\" cx=\"1335.69\" cy=\"978.207\" r=\"14.4\" fill=\"#e26f46\" fill-rule=\"evenodd\" fill-opacity=\"1\" stroke=\"#000000\" stroke-opacity=\"1\" stroke-width=\"3.2\"/>\n",
       "<circle clip-path=\"url(#clip352)\" cx=\"1356.47\" cy=\"222.378\" r=\"14.4\" fill=\"#e26f46\" fill-rule=\"evenodd\" fill-opacity=\"1\" stroke=\"#000000\" stroke-opacity=\"1\" stroke-width=\"3.2\"/>\n",
       "<circle clip-path=\"url(#clip352)\" cx=\"1377.26\" cy=\"1366.42\" r=\"14.4\" fill=\"#e26f46\" fill-rule=\"evenodd\" fill-opacity=\"1\" stroke=\"#000000\" stroke-opacity=\"1\" stroke-width=\"3.2\"/>\n",
       "<circle clip-path=\"url(#clip352)\" cx=\"1398.04\" cy=\"385.384\" r=\"14.4\" fill=\"#e26f46\" fill-rule=\"evenodd\" fill-opacity=\"1\" stroke=\"#000000\" stroke-opacity=\"1\" stroke-width=\"3.2\"/>\n",
       "<circle clip-path=\"url(#clip352)\" cx=\"1418.82\" cy=\"750.389\" r=\"14.4\" fill=\"#e26f46\" fill-rule=\"evenodd\" fill-opacity=\"1\" stroke=\"#000000\" stroke-opacity=\"1\" stroke-width=\"3.2\"/>\n",
       "<circle clip-path=\"url(#clip352)\" cx=\"1439.6\" cy=\"1148.71\" r=\"14.4\" fill=\"#e26f46\" fill-rule=\"evenodd\" fill-opacity=\"1\" stroke=\"#000000\" stroke-opacity=\"1\" stroke-width=\"3.2\"/>\n",
       "<circle clip-path=\"url(#clip352)\" cx=\"1460.38\" cy=\"200.42\" r=\"14.4\" fill=\"#e26f46\" fill-rule=\"evenodd\" fill-opacity=\"1\" stroke=\"#000000\" stroke-opacity=\"1\" stroke-width=\"3.2\"/>\n",
       "<circle clip-path=\"url(#clip352)\" cx=\"1481.16\" cy=\"1244.05\" r=\"14.4\" fill=\"#e26f46\" fill-rule=\"evenodd\" fill-opacity=\"1\" stroke=\"#000000\" stroke-opacity=\"1\" stroke-width=\"3.2\"/>\n",
       "<circle clip-path=\"url(#clip352)\" cx=\"1501.95\" cy=\"584.419\" r=\"14.4\" fill=\"#e26f46\" fill-rule=\"evenodd\" fill-opacity=\"1\" stroke=\"#000000\" stroke-opacity=\"1\" stroke-width=\"3.2\"/>\n",
       "<circle clip-path=\"url(#clip352)\" cx=\"1522.73\" cy=\"576.496\" r=\"14.4\" fill=\"#e26f46\" fill-rule=\"evenodd\" fill-opacity=\"1\" stroke=\"#000000\" stroke-opacity=\"1\" stroke-width=\"3.2\"/>\n",
       "<circle clip-path=\"url(#clip352)\" cx=\"1543.51\" cy=\"1217.49\" r=\"14.4\" fill=\"#e26f46\" fill-rule=\"evenodd\" fill-opacity=\"1\" stroke=\"#000000\" stroke-opacity=\"1\" stroke-width=\"3.2\"/>\n",
       "<circle clip-path=\"url(#clip352)\" cx=\"1564.29\" cy=\"259.846\" r=\"14.4\" fill=\"#e26f46\" fill-rule=\"evenodd\" fill-opacity=\"1\" stroke=\"#000000\" stroke-opacity=\"1\" stroke-width=\"3.2\"/>\n",
       "<circle clip-path=\"url(#clip352)\" cx=\"1585.07\" cy=\"1093.26\" r=\"14.4\" fill=\"#e26f46\" fill-rule=\"evenodd\" fill-opacity=\"1\" stroke=\"#000000\" stroke-opacity=\"1\" stroke-width=\"3.2\"/>\n",
       "<circle clip-path=\"url(#clip352)\" cx=\"1605.86\" cy=\"748.989\" r=\"14.4\" fill=\"#e26f46\" fill-rule=\"evenodd\" fill-opacity=\"1\" stroke=\"#000000\" stroke-opacity=\"1\" stroke-width=\"3.2\"/>\n",
       "<circle clip-path=\"url(#clip352)\" cx=\"1626.64\" cy=\"477.057\" r=\"14.4\" fill=\"#e26f46\" fill-rule=\"evenodd\" fill-opacity=\"1\" stroke=\"#000000\" stroke-opacity=\"1\" stroke-width=\"3.2\"/>\n",
       "<circle clip-path=\"url(#clip352)\" cx=\"1647.42\" cy=\"1215.24\" r=\"14.4\" fill=\"#e26f46\" fill-rule=\"evenodd\" fill-opacity=\"1\" stroke=\"#000000\" stroke-opacity=\"1\" stroke-width=\"3.2\"/>\n",
       "<circle clip-path=\"url(#clip352)\" cx=\"1668.2\" cy=\"360.712\" r=\"14.4\" fill=\"#e26f46\" fill-rule=\"evenodd\" fill-opacity=\"1\" stroke=\"#000000\" stroke-opacity=\"1\" stroke-width=\"3.2\"/>\n",
       "<circle clip-path=\"url(#clip352)\" cx=\"1688.98\" cy=\"946.981\" r=\"14.4\" fill=\"#e26f46\" fill-rule=\"evenodd\" fill-opacity=\"1\" stroke=\"#000000\" stroke-opacity=\"1\" stroke-width=\"3.2\"/>\n",
       "<circle clip-path=\"url(#clip352)\" cx=\"1709.77\" cy=\"871.103\" r=\"14.4\" fill=\"#e26f46\" fill-rule=\"evenodd\" fill-opacity=\"1\" stroke=\"#000000\" stroke-opacity=\"1\" stroke-width=\"3.2\"/>\n",
       "<circle clip-path=\"url(#clip352)\" cx=\"1730.55\" cy=\"434.387\" r=\"14.4\" fill=\"#e26f46\" fill-rule=\"evenodd\" fill-opacity=\"1\" stroke=\"#000000\" stroke-opacity=\"1\" stroke-width=\"3.2\"/>\n",
       "<circle clip-path=\"url(#clip352)\" cx=\"1751.33\" cy=\"1162.84\" r=\"14.4\" fill=\"#e26f46\" fill-rule=\"evenodd\" fill-opacity=\"1\" stroke=\"#000000\" stroke-opacity=\"1\" stroke-width=\"3.2\"/>\n",
       "<circle clip-path=\"url(#clip352)\" cx=\"1772.11\" cy=\"476.972\" r=\"14.4\" fill=\"#e26f46\" fill-rule=\"evenodd\" fill-opacity=\"1\" stroke=\"#000000\" stroke-opacity=\"1\" stroke-width=\"3.2\"/>\n",
       "<circle clip-path=\"url(#clip352)\" cx=\"1792.89\" cy=\"822.158\" r=\"14.4\" fill=\"#e26f46\" fill-rule=\"evenodd\" fill-opacity=\"1\" stroke=\"#000000\" stroke-opacity=\"1\" stroke-width=\"3.2\"/>\n",
       "<circle clip-path=\"url(#clip352)\" cx=\"1813.67\" cy=\"945.604\" r=\"14.4\" fill=\"#e26f46\" fill-rule=\"evenodd\" fill-opacity=\"1\" stroke=\"#000000\" stroke-opacity=\"1\" stroke-width=\"3.2\"/>\n",
       "<circle clip-path=\"url(#clip352)\" cx=\"1834.46\" cy=\"435.011\" r=\"14.4\" fill=\"#e26f46\" fill-rule=\"evenodd\" fill-opacity=\"1\" stroke=\"#000000\" stroke-opacity=\"1\" stroke-width=\"3.2\"/>\n",
       "<circle clip-path=\"url(#clip352)\" cx=\"1855.24\" cy=\"1087.19\" r=\"14.4\" fill=\"#e26f46\" fill-rule=\"evenodd\" fill-opacity=\"1\" stroke=\"#000000\" stroke-opacity=\"1\" stroke-width=\"3.2\"/>\n",
       "<circle clip-path=\"url(#clip352)\" cx=\"1876.02\" cy=\"589.224\" r=\"14.4\" fill=\"#e26f46\" fill-rule=\"evenodd\" fill-opacity=\"1\" stroke=\"#000000\" stroke-opacity=\"1\" stroke-width=\"3.2\"/>\n",
       "<circle clip-path=\"url(#clip352)\" cx=\"1896.8\" cy=\"725.565\" r=\"14.4\" fill=\"#e26f46\" fill-rule=\"evenodd\" fill-opacity=\"1\" stroke=\"#000000\" stroke-opacity=\"1\" stroke-width=\"3.2\"/>\n",
       "<circle clip-path=\"url(#clip352)\" cx=\"1917.58\" cy=\"986.384\" r=\"14.4\" fill=\"#e26f46\" fill-rule=\"evenodd\" fill-opacity=\"1\" stroke=\"#000000\" stroke-opacity=\"1\" stroke-width=\"3.2\"/>\n",
       "<circle clip-path=\"url(#clip352)\" cx=\"1938.37\" cy=\"473.524\" r=\"14.4\" fill=\"#e26f46\" fill-rule=\"evenodd\" fill-opacity=\"1\" stroke=\"#000000\" stroke-opacity=\"1\" stroke-width=\"3.2\"/>\n",
       "<circle clip-path=\"url(#clip352)\" cx=\"1959.15\" cy=\"997.264\" r=\"14.4\" fill=\"#e26f46\" fill-rule=\"evenodd\" fill-opacity=\"1\" stroke=\"#000000\" stroke-opacity=\"1\" stroke-width=\"3.2\"/>\n",
       "<circle clip-path=\"url(#clip352)\" cx=\"1979.93\" cy=\"687.128\" r=\"14.4\" fill=\"#e26f46\" fill-rule=\"evenodd\" fill-opacity=\"1\" stroke=\"#000000\" stroke-opacity=\"1\" stroke-width=\"3.2\"/>\n",
       "<circle clip-path=\"url(#clip352)\" cx=\"2000.71\" cy=\"662.064\" r=\"14.4\" fill=\"#e26f46\" fill-rule=\"evenodd\" fill-opacity=\"1\" stroke=\"#000000\" stroke-opacity=\"1\" stroke-width=\"3.2\"/>\n",
       "<circle clip-path=\"url(#clip352)\" cx=\"2021.49\" cy=\"988.043\" r=\"14.4\" fill=\"#e26f46\" fill-rule=\"evenodd\" fill-opacity=\"1\" stroke=\"#000000\" stroke-opacity=\"1\" stroke-width=\"3.2\"/>\n",
       "<circle clip-path=\"url(#clip352)\" cx=\"2042.27\" cy=\"524.965\" r=\"14.4\" fill=\"#e26f46\" fill-rule=\"evenodd\" fill-opacity=\"1\" stroke=\"#000000\" stroke-opacity=\"1\" stroke-width=\"3.2\"/>\n",
       "<circle clip-path=\"url(#clip352)\" cx=\"2063.06\" cy=\"916.101\" r=\"14.4\" fill=\"#e26f46\" fill-rule=\"evenodd\" fill-opacity=\"1\" stroke=\"#000000\" stroke-opacity=\"1\" stroke-width=\"3.2\"/>\n",
       "<circle clip-path=\"url(#clip352)\" cx=\"2083.84\" cy=\"761.677\" r=\"14.4\" fill=\"#e26f46\" fill-rule=\"evenodd\" fill-opacity=\"1\" stroke=\"#000000\" stroke-opacity=\"1\" stroke-width=\"3.2\"/>\n",
       "<circle clip-path=\"url(#clip352)\" cx=\"2104.62\" cy=\"631.102\" r=\"14.4\" fill=\"#e26f46\" fill-rule=\"evenodd\" fill-opacity=\"1\" stroke=\"#000000\" stroke-opacity=\"1\" stroke-width=\"3.2\"/>\n",
       "<circle clip-path=\"url(#clip352)\" cx=\"2125.4\" cy=\"966.381\" r=\"14.4\" fill=\"#e26f46\" fill-rule=\"evenodd\" fill-opacity=\"1\" stroke=\"#000000\" stroke-opacity=\"1\" stroke-width=\"3.2\"/>\n",
       "<circle clip-path=\"url(#clip352)\" cx=\"2146.18\" cy=\"586.59\" r=\"14.4\" fill=\"#e26f46\" fill-rule=\"evenodd\" fill-opacity=\"1\" stroke=\"#000000\" stroke-opacity=\"1\" stroke-width=\"3.2\"/>\n",
       "<circle clip-path=\"url(#clip352)\" cx=\"2166.97\" cy=\"845.611\" r=\"14.4\" fill=\"#e26f46\" fill-rule=\"evenodd\" fill-opacity=\"1\" stroke=\"#000000\" stroke-opacity=\"1\" stroke-width=\"3.2\"/>\n",
       "<circle clip-path=\"url(#clip352)\" cx=\"2187.75\" cy=\"806.355\" r=\"14.4\" fill=\"#e26f46\" fill-rule=\"evenodd\" fill-opacity=\"1\" stroke=\"#000000\" stroke-opacity=\"1\" stroke-width=\"3.2\"/>\n",
       "<circle clip-path=\"url(#clip352)\" cx=\"2208.53\" cy=\"622.637\" r=\"14.4\" fill=\"#e26f46\" fill-rule=\"evenodd\" fill-opacity=\"1\" stroke=\"#000000\" stroke-opacity=\"1\" stroke-width=\"3.2\"/>\n",
       "<circle clip-path=\"url(#clip352)\" cx=\"2229.31\" cy=\"927.257\" r=\"14.4\" fill=\"#e26f46\" fill-rule=\"evenodd\" fill-opacity=\"1\" stroke=\"#000000\" stroke-opacity=\"1\" stroke-width=\"3.2\"/>\n",
       "<circle clip-path=\"url(#clip352)\" cx=\"2250.09\" cy=\"643.633\" r=\"14.4\" fill=\"#e26f46\" fill-rule=\"evenodd\" fill-opacity=\"1\" stroke=\"#000000\" stroke-opacity=\"1\" stroke-width=\"3.2\"/>\n",
       "<circle clip-path=\"url(#clip352)\" cx=\"2270.88\" cy=\"789.049\" r=\"14.4\" fill=\"#e26f46\" fill-rule=\"evenodd\" fill-opacity=\"1\" stroke=\"#000000\" stroke-opacity=\"1\" stroke-width=\"3.2\"/>\n",
       "<circle clip-path=\"url(#clip352)\" cx=\"2291.66\" cy=\"831.587\" r=\"14.4\" fill=\"#e26f46\" fill-rule=\"evenodd\" fill-opacity=\"1\" stroke=\"#000000\" stroke-opacity=\"1\" stroke-width=\"3.2\"/>\n",
       "<path clip-path=\"url(#clip350)\" d=\"M2012.48 250.738 L2280.8 250.738 L2280.8 95.2176 L2012.48 95.2176  Z\" fill=\"#ffffff\" fill-rule=\"evenodd\" fill-opacity=\"1\"/>\n",
       "<polyline clip-path=\"url(#clip350)\" style=\"stroke:#000000; stroke-linecap:round; stroke-linejoin:round; stroke-width:4; stroke-opacity:1; fill:none\" points=\"2012.48,250.738 2280.8,250.738 2280.8,95.2176 2012.48,95.2176 2012.48,250.738 \"/>\n",
       "<circle clip-path=\"url(#clip350)\" cx=\"2108.43\" cy=\"147.058\" r=\"20.48\" fill=\"#009af9\" fill-rule=\"evenodd\" fill-opacity=\"1\" stroke=\"#000000\" stroke-opacity=\"1\" stroke-width=\"4.55111\"/>\n",
       "<path clip-path=\"url(#clip350)\" d=\"M2218.22 166.745 Q2216.42 171.375 2214.7 172.787 Q2212.99 174.199 2210.12 174.199 L2206.72 174.199 L2206.72 170.634 L2209.22 170.634 Q2210.98 170.634 2211.95 169.8 Q2212.92 168.967 2214.1 165.865 L2214.86 163.921 L2204.38 138.412 L2208.89 138.412 L2216.99 158.689 L2225.1 138.412 L2229.61 138.412 L2218.22 166.745 Z\" fill=\"#000000\" fill-rule=\"nonzero\" fill-opacity=\"1\" /><path clip-path=\"url(#clip350)\" d=\"M2236.9 160.402 L2244.54 160.402 L2244.54 134.037 L2236.23 135.703 L2236.23 131.444 L2244.49 129.778 L2249.17 129.778 L2249.17 160.402 L2256.81 160.402 L2256.81 164.338 L2236.9 164.338 L2236.9 160.402 Z\" fill=\"#000000\" fill-rule=\"nonzero\" fill-opacity=\"1\" /><circle clip-path=\"url(#clip350)\" cx=\"2108.43\" cy=\"198.898\" r=\"20.48\" fill=\"#e26f46\" fill-rule=\"evenodd\" fill-opacity=\"1\" stroke=\"#000000\" stroke-opacity=\"1\" stroke-width=\"4.55111\"/>\n",
       "<path clip-path=\"url(#clip350)\" d=\"M2218.22 218.585 Q2216.42 223.215 2214.7 224.627 Q2212.99 226.039 2210.12 226.039 L2206.72 226.039 L2206.72 222.474 L2209.22 222.474 Q2210.98 222.474 2211.95 221.64 Q2212.92 220.807 2214.1 217.705 L2214.86 215.761 L2204.38 190.252 L2208.89 190.252 L2216.99 210.529 L2225.1 190.252 L2229.61 190.252 L2218.22 218.585 Z\" fill=\"#000000\" fill-rule=\"nonzero\" fill-opacity=\"1\" /><path clip-path=\"url(#clip350)\" d=\"M2240.12 212.242 L2256.44 212.242 L2256.44 216.178 L2234.49 216.178 L2234.49 212.242 Q2237.16 209.488 2241.74 204.858 Q2246.35 200.205 2247.53 198.863 Q2249.77 196.34 2250.65 194.604 Q2251.55 192.844 2251.55 191.155 Q2251.55 188.4 2249.61 186.664 Q2247.69 184.928 2244.59 184.928 Q2242.39 184.928 2239.93 185.692 Q2237.5 186.455 2234.73 188.006 L2234.73 183.284 Q2237.55 182.15 2240 181.571 Q2242.46 180.993 2244.49 180.993 Q2249.86 180.993 2253.06 183.678 Q2256.25 186.363 2256.25 190.854 Q2256.25 192.983 2255.44 194.905 Q2254.66 196.803 2252.55 199.395 Q2251.97 200.067 2248.87 203.284 Q2245.77 206.479 2240.12 212.242 Z\" fill=\"#000000\" fill-rule=\"nonzero\" fill-opacity=\"1\" /></svg>\n"
      ]
     },
     "metadata": {},
     "output_type": "display_data"
    }
   ],
   "source": [
    "scatter(1.0:0.5:50.0, real(Z_class_toy2_phi_measure[1:99,5])./maximum(real(Z_class_toy2_phi_measure[1:99,5])))\n",
    "scatter!(1.0:0.5:50.0, real(Z_toy2_phi_measure[1:99,5])./maximum(real(Z_toy2_phi_measure[1:99,5])))"
   ]
  },
  {
   "cell_type": "markdown",
   "metadata": {},
   "source": [
    "## Comparing expectation values"
   ]
  },
  {
   "cell_type": "markdown",
   "metadata": {},
   "source": [
    "Effective amplitude"
   ]
  },
  {
   "cell_type": "code",
   "execution_count": 43,
   "metadata": {},
   "outputs": [
    {
     "name": "stdout",
     "output_type": "stream",
     "text": [
      "<b0> = 22.04874600325662 + 5.05957932143646im\n",
      "<b1> = 12.75604169757879 - 1.0004710505381542im\n",
      "<a1> = 2.5588234845621654 - 1.8300081194158888im\n"
     ]
    }
   ],
   "source": [
    "println(\"<b0> = \", wynn(acc_triang(Zb0, 399))/wynn(acc_triang(Z, 399)))\n",
    "println(\"<b1> = \", wynn(acc_triang(Zb1, 399))/wynn(acc_triang(Z, 399)))\n",
    "println(\"<a1> = \", wynn(acc_triang(Za1, 399))/wynn(acc_triang(Z, 399)))"
   ]
  },
  {
   "cell_type": "markdown",
   "metadata": {},
   "source": [
    "Toy1 amplitude"
   ]
  },
  {
   "cell_type": "code",
   "execution_count": 44,
   "metadata": {},
   "outputs": [
    {
     "name": "stdout",
     "output_type": "stream",
     "text": [
      "<b0> = 35.077747435431206 + 3.119928951601397im\n",
      "<b1> = 17.962736777607947 - 8.031366557056732im\n",
      "<a1> = -23.03387969906239 + 23.154857635705067im\n"
     ]
    }
   ],
   "source": [
    "println(\"<b0> = \", wynn(acc_rect(Zb0_toy1, 399))/wynn(acc_rect(Z_toy1, 399)))\n",
    "println(\"<b1> = \", wynn(acc_rect(Zb1_toy1, 399))/wynn(acc_rect(Z_toy1, 399)))\n",
    "println(\"<a1> = \", wynn(acc_rect(Za1_toy1, 399))/wynn(acc_rect(Z_toy1, 399)))"
   ]
  },
  {
   "cell_type": "markdown",
   "metadata": {},
   "source": [
    "Toy2 amplitude"
   ]
  },
  {
   "cell_type": "code",
   "execution_count": 45,
   "metadata": {},
   "outputs": [
    {
     "name": "stdout",
     "output_type": "stream",
     "text": [
      "<b0> = 52.46237182517805 + 19.268597353356434im\n",
      "<b1> = 7.348847010159507 + 8.678704953817661im\n",
      "<a1> = 4.4283633633292885 - 3.872967375071203im\n"
     ]
    }
   ],
   "source": [
    "println(\"<b0> = \", wynn(acc_rect(Zb0_toy2, 399))/wynn(acc_rect(Z_toy2, 399)))\n",
    "println(\"<b1> = \", wynn(acc_rect(Zb1_toy2, 399))/wynn(acc_rect(Z_toy2, 399)))\n",
    "println(\"<a1> = \", wynn(acc_rect(Za1_toy2, 399))/wynn(acc_rect(Z_toy2, 399)))"
   ]
  },
  {
   "cell_type": "markdown",
   "metadata": {},
   "source": [
    "Toy2 phi measure amplitude"
   ]
  },
  {
   "cell_type": "code",
   "execution_count": 46,
   "metadata": {},
   "outputs": [
    {
     "name": "stdout",
     "output_type": "stream",
     "text": [
      "<b0> = 51.27445422089521 - 27.22689409706731im\n",
      "<b1> = 49.07872028454914 + 21.997355030304217im\n"
     ]
    }
   ],
   "source": [
    "println(\"<b0> = \", wynn(acc_rect(Zb0_toy2_phi_measure, 399))/wynn(acc_rect(Z_toy2_phi_measure, 399)))\n",
    "println(\"<b1> = \", wynn(acc_rect(Zb1_toy2_phi_measure, 399))/wynn(acc_rect(Z_toy2_phi_measure, 399)))\n",
    "#println(\"<a1> = \", wynn(acc_rect(Za1_toy2, 399))/wynn(acc_rect(Z, 399)))"
   ]
  },
  {
   "cell_type": "markdown",
   "metadata": {},
   "source": [
    "# Old bulk slice computations"
   ]
  },
  {
   "cell_type": "code",
   "execution_count": 62,
   "metadata": {},
   "outputs": [],
   "source": [
    "Z = [vegas((x,f) -> f[1] = real(-1/((1 - x[1])^2) * Ampl_1slice(10.0, 1/(1 - x[1]) - 1, 30.0, 0.5*b0, 0.5*b1, 2.0, 4.0, 0.05)), 1, 1, minevals=1e4, maxevals=1e5)[1][1] + im*(\n",
    "vegas((x,f) -> f[1] = imag(-1/((1 - x[1])^2) * Ampl_1slice(10.0, 1/(1 - x[1]) - 1, 30.0, 0.5*b0, 0.5*b1, 2.0, 4.0, 0.05)), 1, 1, minevals=1e4, maxevals=1e5)[1][1]) for b0 in range(1,20,65), b1 in range(1,20,65)]\n",
    "Za = [vegas((x,f) -> f[1] = real(-1/((1 - x[1])^2) * (1/(1 - x[1]) - 1) * Ampl_1slice(10.0, 1/(1 - x[1]) - 1, 30.0, 0.5*b0, 0.5*b1, 2.0, 4.0, 0.05)), 1, 1, minevals=1e4, maxevals=1e5)[1][1] + im*(\n",
    "vegas((x,f) -> f[1] = imag(-1/((1 - x[1])^2) * (1/(1 - x[1]) - 1) * Ampl_1slice(10.0, 1/(1 - x[1]) - 1, 30.0, 0.5*b0, 0.5*b1, 2.0, 4.0, 0.05)), 1, 1, minevals=1e4, maxevals=1e5)[1][1]) for b0 in range(1,20,65), b1 in range(1,20,65)]"
   ]
  },
  {
   "cell_type": "code",
   "execution_count": null,
   "metadata": {},
   "outputs": [],
   "source": [
    "scatter(real(acc(Z,65)))\n",
    "scatter!(real(acc(Za,65)))"
   ]
  },
  {
   "cell_type": "code",
   "execution_count": null,
   "metadata": {},
   "outputs": [],
   "source": [
    "range(1,20,65)"
   ]
  },
  {
   "cell_type": "code",
   "execution_count": null,
   "metadata": {},
   "outputs": [],
   "source": [
    "wynn(acc(Za,60)[3:60])/wynn(acc(Z,60)[3:60])"
   ]
  },
  {
   "cell_type": "markdown",
   "metadata": {},
   "source": [
    "The value gets closer to the classical solution if the spectrum is refined"
   ]
  },
  {
   "cell_type": "code",
   "execution_count": null,
   "metadata": {},
   "outputs": [],
   "source": [
    "scatter(real(acc_rect(Z,60)))\n",
    "scatter!(real(acc_rect(Za,60)))"
   ]
  },
  {
   "cell_type": "code",
   "execution_count": null,
   "metadata": {},
   "outputs": [],
   "source": [
    "wynn(acc_rect(Za,60))/wynn(acc_rect(Z,60))"
   ]
  },
  {
   "cell_type": "code",
   "execution_count": null,
   "metadata": {},
   "outputs": [],
   "source": [
    "acc_rect(Za,60)"
   ]
  },
  {
   "cell_type": "code",
   "execution_count": null,
   "metadata": {},
   "outputs": [],
   "source": [
    "sum(Za)"
   ]
  },
  {
   "cell_type": "code",
   "execution_count": null,
   "metadata": {},
   "outputs": [],
   "source": []
  },
  {
   "cell_type": "code",
   "execution_count": null,
   "metadata": {},
   "outputs": [],
   "source": []
  }
 ],
 "metadata": {
  "kernelspec": {
   "display_name": "Julia 1.10.4",
   "language": "julia",
   "name": "julia-1.10"
  },
  "language_info": {
   "file_extension": ".jl",
   "mimetype": "application/julia",
   "name": "julia",
   "version": "1.10.4"
  },
  "vscode": {
   "interpreter": {
    "hash": "916dbcbb3f70747c44a77c7bcd40155683ae19c65e1c03b4aa3499c5328201f1"
   }
  }
 },
 "nbformat": 4,
 "nbformat_minor": 2
}
